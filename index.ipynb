{
 "cells": [
  {
   "cell_type": "markdown",
   "metadata": {},
   "source": [
    "# **Library Book Recommendation System**\n",
    "---\n",
    "Authors: [Monicah Iwagit](https://github.com/Okodoimonicah), [Bradley Azegele](https://github.com/Azegele), [Emmanuel Kipkorir](), [Belinda Nyamai](), [Femi Kamau](https://github.com/ctrl-Karugu), and [Dennis Kimiri]()"
   ]
  },
  {
   "cell_type": "markdown",
   "metadata": {},
   "source": [
    "## 1. Business Understanding\n",
    "\n",
    "### 1.1 Problem Statement\n",
    ">The tremendous growth and usage of information has led to information overloading where users find it difficult to locate the right information at a specified time. Although there are previous studies conducted on library recommender systems, the datasets used were small compared to the dataset we intend to use hence minimal area coverage. Recommending the right library books is a challenge due to the variety of genres available and the huge collection of books provided. A user finds it difficult to select the most appropriate book that will suit their academic needs, this process consumes a lot of time that the user would have used to sharpen on their desired skills. Additionally, many books in the library are rarely utilized which results in a waste of library resources. Having a personalized recommendation system seeks to predict the preference based on the user’s interest, behavior and information. The application of recommender systems in the university library solves the problem of difficulty in choosing books and improves utilization rate of library resources. "
   ]
  },
  {
   "cell_type": "markdown",
   "metadata": {},
   "source": [
    "## 2. Data Understanding\n",
    "> The goal of the Data Understanding phase is to provide a solid foundation for the subsequent steps, including data preparation, exploratory data analysis, model development, and evaluation."
   ]
  },
  {
   "cell_type": "markdown",
   "metadata": {},
   "source": [
    "#### Load Libraries"
   ]
  },
  {
   "cell_type": "code",
   "execution_count": 1,
   "metadata": {},
   "outputs": [],
   "source": [
    "# Data Manipulation\n",
    "import pandas as pd\n",
    "import numpy as np\n",
    "\n",
    "# Data Visualization\n",
    "import matplotlib.pyplot as plt\n",
    "import seaborn as sns\n",
    "\n",
    "# Miscellaneous\n",
    "import warnings\n",
    "\n",
    "# Settings\n",
    "warnings.filterwarnings('ignore')\n",
    "pd.set_option('display.max_columns', None)\n",
    "pd.set_option('display.max_colwidth', None)"
   ]
  },
  {
   "cell_type": "markdown",
   "metadata": {},
   "source": [
    "### 2.1 Collect Initial Data\n",
    "> The goal of this section is to acquire the necessary data and load it into the notebook.\n",
    "\n",
    "> The data used in this project was sourced from 2 different sources:\n",
    ">   1. The first was source was from Cai-Nicolas Ziegler in a 4-week crawl (August-September [2004]) in the University of Freiburg, Germany. This can be found [here](http://www2.informatik.uni-freiburg.de/~cziegler/BX/). The data obtained are 3 datasets with information on [users](./data/BX-Users.csv), [ratings](./data/BX-Book-Ratings.csv) and [books](./data/BX-Books.csv) from a library.\n",
    ">\n",
    ">   2. The second set of data was sourced from the [Google Books API](https://developers.google.com/books). This data was obtained by using ISBNs in the books dataset from the first source. The script used to extract the data can be found [here](./make_dataset.py). This data was then stored in csv format and can be found [here](./data/books.csv)."
   ]
  },
  {
   "cell_type": "markdown",
   "metadata": {},
   "source": [
    "#### Load Data"
   ]
  },
  {
   "cell_type": "code",
   "execution_count": 2,
   "metadata": {},
   "outputs": [
    {
     "name": "stderr",
     "output_type": "stream",
     "text": [
      "b'Skipping line 6452: expected 8 fields, saw 9\\nSkipping line 43667: expected 8 fields, saw 10\\nSkipping line 51751: expected 8 fields, saw 9\\n'\n",
      "b'Skipping line 92038: expected 8 fields, saw 9\\nSkipping line 104319: expected 8 fields, saw 9\\nSkipping line 121768: expected 8 fields, saw 9\\n'\n",
      "b'Skipping line 144058: expected 8 fields, saw 9\\nSkipping line 150789: expected 8 fields, saw 9\\nSkipping line 157128: expected 8 fields, saw 9\\nSkipping line 180189: expected 8 fields, saw 9\\nSkipping line 185738: expected 8 fields, saw 9\\n'\n",
      "b'Skipping line 209388: expected 8 fields, saw 9\\nSkipping line 220626: expected 8 fields, saw 9\\nSkipping line 227933: expected 8 fields, saw 11\\nSkipping line 228957: expected 8 fields, saw 10\\nSkipping line 245933: expected 8 fields, saw 9\\nSkipping line 251296: expected 8 fields, saw 9\\nSkipping line 259941: expected 8 fields, saw 9\\nSkipping line 261529: expected 8 fields, saw 9\\n'\n"
     ]
    }
   ],
   "source": [
    "# (Source 1)\n",
    "ratings = pd.read_csv(\"data/BX-Book-Ratings.csv\", sep=\";\", error_bad_lines=False, encoding=\"latin-1\")\n",
    "books = pd.read_csv(\"data/BX-Books.csv\", sep=\";\", error_bad_lines=False, encoding=\"latin-1\")\n",
    "users = pd.read_csv(\"data/BX-Users.csv\", sep=\";\", error_bad_lines=False, encoding=\"latin-1\")\n",
    "\n",
    "# (Source 2)\n",
    "books_extra = pd.read_csv(\"data/books.csv\", encoding=\"latin-1\")"
   ]
  },
  {
   "cell_type": "markdown",
   "metadata": {},
   "source": [
    "### 2.2 Describe Data\n",
    "> The goal of this section is to examine the data and document its surface properties."
   ]
  },
  {
   "cell_type": "code",
   "execution_count": 3,
   "metadata": {},
   "outputs": [],
   "source": [
    "# Define class to describe the data \n",
    "class DescribeData():\n",
    "    \"\"\"This class is used to describe the data in a DataFrame.\"\"\"\n",
    "    \n",
    "    def __init__(self, df) -> None:\n",
    "        \n",
    "        # Get the DataFrame\n",
    "        self.df = df\n",
    "        \n",
    "        # Get the datatypes of the columns in the DataFrame\n",
    "        self.datatypes = df.dtypes\n",
    "         \n",
    "        # Get the shape of the DataFrame\n",
    "        self.shape = f\"The shape of the DataFrame is {df.shape}\\n\\nRecords: {df.shape[0]}\\nColumns: {df.shape[1]}\"\n",
    "        \n",
    "        # Get the number of missing values in each column\n",
    "        self.missing = f\"There are a total of {df.isnull().sum().values.sum()} missing values in the DataFrame.\\n\\n{df.isnull().sum()}\"\n",
    "        \n",
    "        # Get the number of duplicate rows\n",
    "        self.duplicates = f\"There are {df.duplicated().sum()} duplicated records in the DataFrame.\""
   ]
  },
  {
   "cell_type": "markdown",
   "metadata": {},
   "source": [
    "#### 2.2.1 `ratings`"
   ]
  },
  {
   "cell_type": "code",
   "execution_count": 4,
   "metadata": {},
   "outputs": [],
   "source": [
    "# Create an instance of the 'DescribeData' class for the 'ratings' DataFrame\n",
    "rt = DescribeData(ratings)"
   ]
  },
  {
   "cell_type": "code",
   "execution_count": 5,
   "metadata": {},
   "outputs": [
    {
     "data": {
      "text/html": [
       "<div>\n",
       "<style scoped>\n",
       "    .dataframe tbody tr th:only-of-type {\n",
       "        vertical-align: middle;\n",
       "    }\n",
       "\n",
       "    .dataframe tbody tr th {\n",
       "        vertical-align: top;\n",
       "    }\n",
       "\n",
       "    .dataframe thead th {\n",
       "        text-align: right;\n",
       "    }\n",
       "</style>\n",
       "<table border=\"1\" class=\"dataframe\">\n",
       "  <thead>\n",
       "    <tr style=\"text-align: right;\">\n",
       "      <th></th>\n",
       "      <th>User-ID</th>\n",
       "      <th>ISBN</th>\n",
       "      <th>Book-Rating</th>\n",
       "    </tr>\n",
       "  </thead>\n",
       "  <tbody>\n",
       "    <tr>\n",
       "      <th>0</th>\n",
       "      <td>276725</td>\n",
       "      <td>034545104X</td>\n",
       "      <td>0</td>\n",
       "    </tr>\n",
       "    <tr>\n",
       "      <th>1</th>\n",
       "      <td>276726</td>\n",
       "      <td>0155061224</td>\n",
       "      <td>5</td>\n",
       "    </tr>\n",
       "    <tr>\n",
       "      <th>2</th>\n",
       "      <td>276727</td>\n",
       "      <td>0446520802</td>\n",
       "      <td>0</td>\n",
       "    </tr>\n",
       "    <tr>\n",
       "      <th>3</th>\n",
       "      <td>276729</td>\n",
       "      <td>052165615X</td>\n",
       "      <td>3</td>\n",
       "    </tr>\n",
       "    <tr>\n",
       "      <th>4</th>\n",
       "      <td>276729</td>\n",
       "      <td>0521795028</td>\n",
       "      <td>6</td>\n",
       "    </tr>\n",
       "  </tbody>\n",
       "</table>\n",
       "</div>"
      ],
      "text/plain": [
       "   User-ID        ISBN  Book-Rating\n",
       "0   276725  034545104X            0\n",
       "1   276726  0155061224            5\n",
       "2   276727  0446520802            0\n",
       "3   276729  052165615X            3\n",
       "4   276729  0521795028            6"
      ]
     },
     "execution_count": 5,
     "metadata": {},
     "output_type": "execute_result"
    }
   ],
   "source": [
    "# Preview the 'ratings' DataFrame\n",
    "rt.df.head()"
   ]
  },
  {
   "cell_type": "code",
   "execution_count": 6,
   "metadata": {},
   "outputs": [
    {
     "name": "stdout",
     "output_type": "stream",
     "text": [
      "<class 'pandas.core.frame.DataFrame'>\n",
      "RangeIndex: 1149780 entries, 0 to 1149779\n",
      "Data columns (total 3 columns):\n",
      " #   Column       Non-Null Count    Dtype \n",
      "---  ------       --------------    ----- \n",
      " 0   User-ID      1149780 non-null  int64 \n",
      " 1   ISBN         1149780 non-null  object\n",
      " 2   Book-Rating  1149780 non-null  int64 \n",
      "dtypes: int64(2), object(1)\n",
      "memory usage: 26.3+ MB\n"
     ]
    }
   ],
   "source": [
    "# Inspect the information about the DataFrame\n",
    "rt.df.info()"
   ]
  },
  {
   "cell_type": "code",
   "execution_count": 7,
   "metadata": {},
   "outputs": [
    {
     "name": "stdout",
     "output_type": "stream",
     "text": [
      "The shape of the DataFrame is (1149780, 3)\n",
      "\n",
      "Records: 1149780\n",
      "Columns: 3\n"
     ]
    }
   ],
   "source": [
    "# Inspect the shape of the DataFrame\n",
    "print(rt.shape)"
   ]
  },
  {
   "cell_type": "code",
   "execution_count": 8,
   "metadata": {},
   "outputs": [
    {
     "name": "stdout",
     "output_type": "stream",
     "text": [
      "User-ID         int64\n",
      "ISBN           object\n",
      "Book-Rating     int64\n",
      "dtype: object\n"
     ]
    }
   ],
   "source": [
    "# Inspect the datatypes of the columns in the DataFrame\n",
    "print(rt.datatypes)"
   ]
  },
  {
   "cell_type": "code",
   "execution_count": 9,
   "metadata": {},
   "outputs": [
    {
     "data": {
      "text/html": [
       "<div>\n",
       "<style scoped>\n",
       "    .dataframe tbody tr th:only-of-type {\n",
       "        vertical-align: middle;\n",
       "    }\n",
       "\n",
       "    .dataframe tbody tr th {\n",
       "        vertical-align: top;\n",
       "    }\n",
       "\n",
       "    .dataframe thead th {\n",
       "        text-align: right;\n",
       "    }\n",
       "</style>\n",
       "<table border=\"1\" class=\"dataframe\">\n",
       "  <thead>\n",
       "    <tr style=\"text-align: right;\">\n",
       "      <th></th>\n",
       "      <th>User-ID</th>\n",
       "      <th>Book-Rating</th>\n",
       "    </tr>\n",
       "  </thead>\n",
       "  <tbody>\n",
       "    <tr>\n",
       "      <th>count</th>\n",
       "      <td>1.149780e+06</td>\n",
       "      <td>1.149780e+06</td>\n",
       "    </tr>\n",
       "    <tr>\n",
       "      <th>mean</th>\n",
       "      <td>1.403864e+05</td>\n",
       "      <td>2.866950e+00</td>\n",
       "    </tr>\n",
       "    <tr>\n",
       "      <th>std</th>\n",
       "      <td>8.056228e+04</td>\n",
       "      <td>3.854184e+00</td>\n",
       "    </tr>\n",
       "    <tr>\n",
       "      <th>min</th>\n",
       "      <td>2.000000e+00</td>\n",
       "      <td>0.000000e+00</td>\n",
       "    </tr>\n",
       "    <tr>\n",
       "      <th>25%</th>\n",
       "      <td>7.034500e+04</td>\n",
       "      <td>0.000000e+00</td>\n",
       "    </tr>\n",
       "    <tr>\n",
       "      <th>50%</th>\n",
       "      <td>1.410100e+05</td>\n",
       "      <td>0.000000e+00</td>\n",
       "    </tr>\n",
       "    <tr>\n",
       "      <th>75%</th>\n",
       "      <td>2.110280e+05</td>\n",
       "      <td>7.000000e+00</td>\n",
       "    </tr>\n",
       "    <tr>\n",
       "      <th>max</th>\n",
       "      <td>2.788540e+05</td>\n",
       "      <td>1.000000e+01</td>\n",
       "    </tr>\n",
       "  </tbody>\n",
       "</table>\n",
       "</div>"
      ],
      "text/plain": [
       "            User-ID   Book-Rating\n",
       "count  1.149780e+06  1.149780e+06\n",
       "mean   1.403864e+05  2.866950e+00\n",
       "std    8.056228e+04  3.854184e+00\n",
       "min    2.000000e+00  0.000000e+00\n",
       "25%    7.034500e+04  0.000000e+00\n",
       "50%    1.410100e+05  0.000000e+00\n",
       "75%    2.110280e+05  7.000000e+00\n",
       "max    2.788540e+05  1.000000e+01"
      ]
     },
     "execution_count": 9,
     "metadata": {},
     "output_type": "execute_result"
    }
   ],
   "source": [
    "# Inspect the summary statistics of the DataFrame\n",
    "rt.df.describe()"
   ]
  },
  {
   "cell_type": "code",
   "execution_count": 10,
   "metadata": {},
   "outputs": [
    {
     "name": "stdout",
     "output_type": "stream",
     "text": [
      "There are a total of 0 missing values in the DataFrame.\n",
      "\n",
      "User-ID        0\n",
      "ISBN           0\n",
      "Book-Rating    0\n",
      "dtype: int64\n"
     ]
    }
   ],
   "source": [
    "# Inspect the number of missing values in each column\n",
    "print(rt.missing)"
   ]
  },
  {
   "cell_type": "code",
   "execution_count": 11,
   "metadata": {},
   "outputs": [
    {
     "name": "stdout",
     "output_type": "stream",
     "text": [
      "There are 0 duplicated records in the DataFrame.\n"
     ]
    }
   ],
   "source": [
    "# Inspect the duplicates in the DataFrame\n",
    "print(rt.duplicates)"
   ]
  },
  {
   "cell_type": "markdown",
   "metadata": {},
   "source": [
    "[**Ratings Dataset**](./data/BX-Book-Ratings.csv)\n",
    "\n",
    ">* Spans **3** columns and **1,149,780** rows.\n",
    "\n",
    ">* Contains **2** unique datatypes: \n",
    ">    * **int64**\n",
    ">    * **object**\n",
    "\n",
    ">* Has no missing values\n",
    "\n",
    ">* Has no duplicates"
   ]
  },
  {
   "cell_type": "markdown",
   "metadata": {},
   "source": [
    "#### 2.2.2 `books` "
   ]
  },
  {
   "cell_type": "code",
   "execution_count": 12,
   "metadata": {},
   "outputs": [],
   "source": [
    "# Instantiate the 'DescribeData' class for the 'books' DataFrame\n",
    "bk = DescribeData(books)"
   ]
  },
  {
   "cell_type": "code",
   "execution_count": 13,
   "metadata": {},
   "outputs": [
    {
     "data": {
      "text/html": [
       "<div>\n",
       "<style scoped>\n",
       "    .dataframe tbody tr th:only-of-type {\n",
       "        vertical-align: middle;\n",
       "    }\n",
       "\n",
       "    .dataframe tbody tr th {\n",
       "        vertical-align: top;\n",
       "    }\n",
       "\n",
       "    .dataframe thead th {\n",
       "        text-align: right;\n",
       "    }\n",
       "</style>\n",
       "<table border=\"1\" class=\"dataframe\">\n",
       "  <thead>\n",
       "    <tr style=\"text-align: right;\">\n",
       "      <th></th>\n",
       "      <th>ISBN</th>\n",
       "      <th>Book-Title</th>\n",
       "      <th>Book-Author</th>\n",
       "      <th>Year-Of-Publication</th>\n",
       "      <th>Publisher</th>\n",
       "      <th>Image-URL-S</th>\n",
       "      <th>Image-URL-M</th>\n",
       "      <th>Image-URL-L</th>\n",
       "    </tr>\n",
       "  </thead>\n",
       "  <tbody>\n",
       "    <tr>\n",
       "      <th>0</th>\n",
       "      <td>0195153448</td>\n",
       "      <td>Classical Mythology</td>\n",
       "      <td>Mark P. O. Morford</td>\n",
       "      <td>2002</td>\n",
       "      <td>Oxford University Press</td>\n",
       "      <td>http://images.amazon.com/images/P/0195153448.01.THUMBZZZ.jpg</td>\n",
       "      <td>http://images.amazon.com/images/P/0195153448.01.MZZZZZZZ.jpg</td>\n",
       "      <td>http://images.amazon.com/images/P/0195153448.01.LZZZZZZZ.jpg</td>\n",
       "    </tr>\n",
       "    <tr>\n",
       "      <th>1</th>\n",
       "      <td>0002005018</td>\n",
       "      <td>Clara Callan</td>\n",
       "      <td>Richard Bruce Wright</td>\n",
       "      <td>2001</td>\n",
       "      <td>HarperFlamingo Canada</td>\n",
       "      <td>http://images.amazon.com/images/P/0002005018.01.THUMBZZZ.jpg</td>\n",
       "      <td>http://images.amazon.com/images/P/0002005018.01.MZZZZZZZ.jpg</td>\n",
       "      <td>http://images.amazon.com/images/P/0002005018.01.LZZZZZZZ.jpg</td>\n",
       "    </tr>\n",
       "    <tr>\n",
       "      <th>2</th>\n",
       "      <td>0060973129</td>\n",
       "      <td>Decision in Normandy</td>\n",
       "      <td>Carlo D'Este</td>\n",
       "      <td>1991</td>\n",
       "      <td>HarperPerennial</td>\n",
       "      <td>http://images.amazon.com/images/P/0060973129.01.THUMBZZZ.jpg</td>\n",
       "      <td>http://images.amazon.com/images/P/0060973129.01.MZZZZZZZ.jpg</td>\n",
       "      <td>http://images.amazon.com/images/P/0060973129.01.LZZZZZZZ.jpg</td>\n",
       "    </tr>\n",
       "    <tr>\n",
       "      <th>3</th>\n",
       "      <td>0374157065</td>\n",
       "      <td>Flu: The Story of the Great Influenza Pandemic of 1918 and the Search for the Virus That Caused It</td>\n",
       "      <td>Gina Bari Kolata</td>\n",
       "      <td>1999</td>\n",
       "      <td>Farrar Straus Giroux</td>\n",
       "      <td>http://images.amazon.com/images/P/0374157065.01.THUMBZZZ.jpg</td>\n",
       "      <td>http://images.amazon.com/images/P/0374157065.01.MZZZZZZZ.jpg</td>\n",
       "      <td>http://images.amazon.com/images/P/0374157065.01.LZZZZZZZ.jpg</td>\n",
       "    </tr>\n",
       "    <tr>\n",
       "      <th>4</th>\n",
       "      <td>0393045218</td>\n",
       "      <td>The Mummies of Urumchi</td>\n",
       "      <td>E. J. W. Barber</td>\n",
       "      <td>1999</td>\n",
       "      <td>W. W. Norton &amp;amp; Company</td>\n",
       "      <td>http://images.amazon.com/images/P/0393045218.01.THUMBZZZ.jpg</td>\n",
       "      <td>http://images.amazon.com/images/P/0393045218.01.MZZZZZZZ.jpg</td>\n",
       "      <td>http://images.amazon.com/images/P/0393045218.01.LZZZZZZZ.jpg</td>\n",
       "    </tr>\n",
       "  </tbody>\n",
       "</table>\n",
       "</div>"
      ],
      "text/plain": [
       "         ISBN  \\\n",
       "0  0195153448   \n",
       "1  0002005018   \n",
       "2  0060973129   \n",
       "3  0374157065   \n",
       "4  0393045218   \n",
       "\n",
       "                                                                                           Book-Title  \\\n",
       "0                                                                                 Classical Mythology   \n",
       "1                                                                                        Clara Callan   \n",
       "2                                                                                Decision in Normandy   \n",
       "3  Flu: The Story of the Great Influenza Pandemic of 1918 and the Search for the Virus That Caused It   \n",
       "4                                                                              The Mummies of Urumchi   \n",
       "\n",
       "            Book-Author Year-Of-Publication                   Publisher  \\\n",
       "0    Mark P. O. Morford                2002     Oxford University Press   \n",
       "1  Richard Bruce Wright                2001       HarperFlamingo Canada   \n",
       "2          Carlo D'Este                1991             HarperPerennial   \n",
       "3      Gina Bari Kolata                1999        Farrar Straus Giroux   \n",
       "4       E. J. W. Barber                1999  W. W. Norton &amp; Company   \n",
       "\n",
       "                                                    Image-URL-S  \\\n",
       "0  http://images.amazon.com/images/P/0195153448.01.THUMBZZZ.jpg   \n",
       "1  http://images.amazon.com/images/P/0002005018.01.THUMBZZZ.jpg   \n",
       "2  http://images.amazon.com/images/P/0060973129.01.THUMBZZZ.jpg   \n",
       "3  http://images.amazon.com/images/P/0374157065.01.THUMBZZZ.jpg   \n",
       "4  http://images.amazon.com/images/P/0393045218.01.THUMBZZZ.jpg   \n",
       "\n",
       "                                                    Image-URL-M  \\\n",
       "0  http://images.amazon.com/images/P/0195153448.01.MZZZZZZZ.jpg   \n",
       "1  http://images.amazon.com/images/P/0002005018.01.MZZZZZZZ.jpg   \n",
       "2  http://images.amazon.com/images/P/0060973129.01.MZZZZZZZ.jpg   \n",
       "3  http://images.amazon.com/images/P/0374157065.01.MZZZZZZZ.jpg   \n",
       "4  http://images.amazon.com/images/P/0393045218.01.MZZZZZZZ.jpg   \n",
       "\n",
       "                                                    Image-URL-L  \n",
       "0  http://images.amazon.com/images/P/0195153448.01.LZZZZZZZ.jpg  \n",
       "1  http://images.amazon.com/images/P/0002005018.01.LZZZZZZZ.jpg  \n",
       "2  http://images.amazon.com/images/P/0060973129.01.LZZZZZZZ.jpg  \n",
       "3  http://images.amazon.com/images/P/0374157065.01.LZZZZZZZ.jpg  \n",
       "4  http://images.amazon.com/images/P/0393045218.01.LZZZZZZZ.jpg  "
      ]
     },
     "execution_count": 13,
     "metadata": {},
     "output_type": "execute_result"
    }
   ],
   "source": [
    "# Preview the 'books' DataFrame\n",
    "bk.df.head()"
   ]
  },
  {
   "cell_type": "code",
   "execution_count": 14,
   "metadata": {},
   "outputs": [
    {
     "name": "stdout",
     "output_type": "stream",
     "text": [
      "<class 'pandas.core.frame.DataFrame'>\n",
      "RangeIndex: 271360 entries, 0 to 271359\n",
      "Data columns (total 8 columns):\n",
      " #   Column               Non-Null Count   Dtype \n",
      "---  ------               --------------   ----- \n",
      " 0   ISBN                 271360 non-null  object\n",
      " 1   Book-Title           271360 non-null  object\n",
      " 2   Book-Author          271359 non-null  object\n",
      " 3   Year-Of-Publication  271360 non-null  object\n",
      " 4   Publisher            271358 non-null  object\n",
      " 5   Image-URL-S          271360 non-null  object\n",
      " 6   Image-URL-M          271360 non-null  object\n",
      " 7   Image-URL-L          271357 non-null  object\n",
      "dtypes: object(8)\n",
      "memory usage: 16.6+ MB\n"
     ]
    }
   ],
   "source": [
    "# Inspect the information about the DataFrame\n",
    "bk.df.info()"
   ]
  },
  {
   "cell_type": "code",
   "execution_count": 15,
   "metadata": {},
   "outputs": [
    {
     "name": "stdout",
     "output_type": "stream",
     "text": [
      "The shape of the DataFrame is (271360, 8)\n",
      "\n",
      "Records: 271360\n",
      "Columns: 8\n"
     ]
    }
   ],
   "source": [
    "# Inspect the shape of the DataFrame\n",
    "print(bk.shape)"
   ]
  },
  {
   "cell_type": "code",
   "execution_count": 16,
   "metadata": {},
   "outputs": [
    {
     "name": "stdout",
     "output_type": "stream",
     "text": [
      "ISBN                   object\n",
      "Book-Title             object\n",
      "Book-Author            object\n",
      "Year-Of-Publication    object\n",
      "Publisher              object\n",
      "Image-URL-S            object\n",
      "Image-URL-M            object\n",
      "Image-URL-L            object\n",
      "dtype: object\n"
     ]
    }
   ],
   "source": [
    "# Inspect the datatypes of the columns in the DataFrame\n",
    "print(bk.datatypes)"
   ]
  },
  {
   "cell_type": "code",
   "execution_count": 17,
   "metadata": {},
   "outputs": [
    {
     "name": "stdout",
     "output_type": "stream",
     "text": [
      "There are a total of 6 missing values in the DataFrame.\n",
      "\n",
      "ISBN                   0\n",
      "Book-Title             0\n",
      "Book-Author            1\n",
      "Year-Of-Publication    0\n",
      "Publisher              2\n",
      "Image-URL-S            0\n",
      "Image-URL-M            0\n",
      "Image-URL-L            3\n",
      "dtype: int64\n"
     ]
    }
   ],
   "source": [
    "# Inspect the missing values in the DataFrame\n",
    "print(bk.missing)"
   ]
  },
  {
   "cell_type": "code",
   "execution_count": 18,
   "metadata": {},
   "outputs": [
    {
     "name": "stdout",
     "output_type": "stream",
     "text": [
      "There are 0 duplicated records in the DataFrame.\n"
     ]
    }
   ],
   "source": [
    "# Inspect the duplicates in the DataFrame\n",
    "print(bk.duplicates)"
   ]
  },
  {
   "cell_type": "markdown",
   "metadata": {},
   "source": [
    "[**Books Dataset**](./data/BX-Books.csv)\n",
    "\n",
    ">* Spans **8** columns and **271,359** rows.\n",
    "\n",
    ">* Contains 1 unique datatype: \n",
    ">   * **object**\n",
    "\n",
    ">* Has **6** missing values:\n",
    ">   * Book-Author: **1** \n",
    ">   * Publisher: **2**\n",
    ">   * Image-URL-L: **3**\n",
    "\n",
    ">* Has no duplicates"
   ]
  },
  {
   "cell_type": "markdown",
   "metadata": {},
   "source": [
    "#### 2.2.3 `users` "
   ]
  },
  {
   "cell_type": "code",
   "execution_count": 19,
   "metadata": {},
   "outputs": [],
   "source": [
    "# Instantiate the 'DescribeData' class for the 'users' DataFrame\n",
    "ur = DescribeData(users)"
   ]
  },
  {
   "cell_type": "code",
   "execution_count": 20,
   "metadata": {},
   "outputs": [
    {
     "data": {
      "text/html": [
       "<div>\n",
       "<style scoped>\n",
       "    .dataframe tbody tr th:only-of-type {\n",
       "        vertical-align: middle;\n",
       "    }\n",
       "\n",
       "    .dataframe tbody tr th {\n",
       "        vertical-align: top;\n",
       "    }\n",
       "\n",
       "    .dataframe thead th {\n",
       "        text-align: right;\n",
       "    }\n",
       "</style>\n",
       "<table border=\"1\" class=\"dataframe\">\n",
       "  <thead>\n",
       "    <tr style=\"text-align: right;\">\n",
       "      <th></th>\n",
       "      <th>User-ID</th>\n",
       "      <th>Location</th>\n",
       "      <th>Age</th>\n",
       "    </tr>\n",
       "  </thead>\n",
       "  <tbody>\n",
       "    <tr>\n",
       "      <th>0</th>\n",
       "      <td>1</td>\n",
       "      <td>nyc, new york, usa</td>\n",
       "      <td>NaN</td>\n",
       "    </tr>\n",
       "    <tr>\n",
       "      <th>1</th>\n",
       "      <td>2</td>\n",
       "      <td>stockton, california, usa</td>\n",
       "      <td>18.0</td>\n",
       "    </tr>\n",
       "    <tr>\n",
       "      <th>2</th>\n",
       "      <td>3</td>\n",
       "      <td>moscow, yukon territory, russia</td>\n",
       "      <td>NaN</td>\n",
       "    </tr>\n",
       "    <tr>\n",
       "      <th>3</th>\n",
       "      <td>4</td>\n",
       "      <td>porto, v.n.gaia, portugal</td>\n",
       "      <td>17.0</td>\n",
       "    </tr>\n",
       "    <tr>\n",
       "      <th>4</th>\n",
       "      <td>5</td>\n",
       "      <td>farnborough, hants, united kingdom</td>\n",
       "      <td>NaN</td>\n",
       "    </tr>\n",
       "  </tbody>\n",
       "</table>\n",
       "</div>"
      ],
      "text/plain": [
       "   User-ID                            Location   Age\n",
       "0        1                  nyc, new york, usa   NaN\n",
       "1        2           stockton, california, usa  18.0\n",
       "2        3     moscow, yukon territory, russia   NaN\n",
       "3        4           porto, v.n.gaia, portugal  17.0\n",
       "4        5  farnborough, hants, united kingdom   NaN"
      ]
     },
     "execution_count": 20,
     "metadata": {},
     "output_type": "execute_result"
    }
   ],
   "source": [
    "# Preview the 'users' DataFrame\n",
    "ur.df.head()"
   ]
  },
  {
   "cell_type": "code",
   "execution_count": 21,
   "metadata": {},
   "outputs": [
    {
     "name": "stdout",
     "output_type": "stream",
     "text": [
      "<class 'pandas.core.frame.DataFrame'>\n",
      "RangeIndex: 278858 entries, 0 to 278857\n",
      "Data columns (total 3 columns):\n",
      " #   Column    Non-Null Count   Dtype  \n",
      "---  ------    --------------   -----  \n",
      " 0   User-ID   278858 non-null  int64  \n",
      " 1   Location  278858 non-null  object \n",
      " 2   Age       168096 non-null  float64\n",
      "dtypes: float64(1), int64(1), object(1)\n",
      "memory usage: 6.4+ MB\n"
     ]
    }
   ],
   "source": [
    "# Inspect the information about the DataFrame\n",
    "ur.df.info()"
   ]
  },
  {
   "cell_type": "code",
   "execution_count": 22,
   "metadata": {},
   "outputs": [
    {
     "name": "stdout",
     "output_type": "stream",
     "text": [
      "The shape of the DataFrame is (278858, 3)\n",
      "\n",
      "Records: 278858\n",
      "Columns: 3\n"
     ]
    }
   ],
   "source": [
    "# Inspect the shape of the DataFrame\n",
    "print(ur.shape)"
   ]
  },
  {
   "cell_type": "code",
   "execution_count": 23,
   "metadata": {},
   "outputs": [
    {
     "name": "stdout",
     "output_type": "stream",
     "text": [
      "User-ID       int64\n",
      "Location     object\n",
      "Age         float64\n",
      "dtype: object\n"
     ]
    }
   ],
   "source": [
    "# Inspect the datatypes of the columns in the DataFrame\n",
    "print(ur.datatypes)"
   ]
  },
  {
   "cell_type": "code",
   "execution_count": 24,
   "metadata": {},
   "outputs": [
    {
     "data": {
      "text/html": [
       "<div>\n",
       "<style scoped>\n",
       "    .dataframe tbody tr th:only-of-type {\n",
       "        vertical-align: middle;\n",
       "    }\n",
       "\n",
       "    .dataframe tbody tr th {\n",
       "        vertical-align: top;\n",
       "    }\n",
       "\n",
       "    .dataframe thead th {\n",
       "        text-align: right;\n",
       "    }\n",
       "</style>\n",
       "<table border=\"1\" class=\"dataframe\">\n",
       "  <thead>\n",
       "    <tr style=\"text-align: right;\">\n",
       "      <th></th>\n",
       "      <th>User-ID</th>\n",
       "      <th>Age</th>\n",
       "    </tr>\n",
       "  </thead>\n",
       "  <tbody>\n",
       "    <tr>\n",
       "      <th>count</th>\n",
       "      <td>278858.00000</td>\n",
       "      <td>168096.000000</td>\n",
       "    </tr>\n",
       "    <tr>\n",
       "      <th>mean</th>\n",
       "      <td>139429.50000</td>\n",
       "      <td>34.751434</td>\n",
       "    </tr>\n",
       "    <tr>\n",
       "      <th>std</th>\n",
       "      <td>80499.51502</td>\n",
       "      <td>14.428097</td>\n",
       "    </tr>\n",
       "    <tr>\n",
       "      <th>min</th>\n",
       "      <td>1.00000</td>\n",
       "      <td>0.000000</td>\n",
       "    </tr>\n",
       "    <tr>\n",
       "      <th>25%</th>\n",
       "      <td>69715.25000</td>\n",
       "      <td>24.000000</td>\n",
       "    </tr>\n",
       "    <tr>\n",
       "      <th>50%</th>\n",
       "      <td>139429.50000</td>\n",
       "      <td>32.000000</td>\n",
       "    </tr>\n",
       "    <tr>\n",
       "      <th>75%</th>\n",
       "      <td>209143.75000</td>\n",
       "      <td>44.000000</td>\n",
       "    </tr>\n",
       "    <tr>\n",
       "      <th>max</th>\n",
       "      <td>278858.00000</td>\n",
       "      <td>244.000000</td>\n",
       "    </tr>\n",
       "  </tbody>\n",
       "</table>\n",
       "</div>"
      ],
      "text/plain": [
       "            User-ID            Age\n",
       "count  278858.00000  168096.000000\n",
       "mean   139429.50000      34.751434\n",
       "std     80499.51502      14.428097\n",
       "min         1.00000       0.000000\n",
       "25%     69715.25000      24.000000\n",
       "50%    139429.50000      32.000000\n",
       "75%    209143.75000      44.000000\n",
       "max    278858.00000     244.000000"
      ]
     },
     "execution_count": 24,
     "metadata": {},
     "output_type": "execute_result"
    }
   ],
   "source": [
    "# Inspect the summary statistics of the DataFrame\n",
    "ur.df.describe()"
   ]
  },
  {
   "cell_type": "code",
   "execution_count": 25,
   "metadata": {},
   "outputs": [
    {
     "name": "stdout",
     "output_type": "stream",
     "text": [
      "There are a total of 110762 missing values in the DataFrame.\n",
      "\n",
      "User-ID          0\n",
      "Location         0\n",
      "Age         110762\n",
      "dtype: int64\n"
     ]
    }
   ],
   "source": [
    "# Inspect the missing values in the DataFrame\n",
    "print(ur.missing)"
   ]
  },
  {
   "cell_type": "code",
   "execution_count": 26,
   "metadata": {},
   "outputs": [
    {
     "name": "stdout",
     "output_type": "stream",
     "text": [
      "There are 0 duplicated records in the DataFrame.\n"
     ]
    }
   ],
   "source": [
    "# Inspect the duplicates in the DataFrame\n",
    "print(ur.duplicates)"
   ]
  },
  {
   "cell_type": "markdown",
   "metadata": {},
   "source": [
    "[**Users Dataset**](./data/BX-Users.csv)\n",
    "\n",
    ">* Spans **3** columns and **278,857** rows.\n",
    "\n",
    ">* Contains **3** unique datatypes:\n",
    ">   * **int64**\n",
    ">   * **float64**\n",
    ">   * **object**\n",
    "\n",
    ">* Has **110762** missing values:\n",
    ">   * Age: **110,762**\n",
    "\n",
    ">* Has no duplicates"
   ]
  },
  {
   "cell_type": "markdown",
   "metadata": {},
   "source": [
    "#### 2.2.4 `books_extra`"
   ]
  },
  {
   "cell_type": "code",
   "execution_count": 27,
   "metadata": {},
   "outputs": [],
   "source": [
    "# Instantiate the 'DescribeData' class for the 'books_extra' DataFrame\n",
    "bk_extra = DescribeData(books_extra)"
   ]
  },
  {
   "cell_type": "code",
   "execution_count": 28,
   "metadata": {},
   "outputs": [
    {
     "data": {
      "text/html": [
       "<div>\n",
       "<style scoped>\n",
       "    .dataframe tbody tr th:only-of-type {\n",
       "        vertical-align: middle;\n",
       "    }\n",
       "\n",
       "    .dataframe tbody tr th {\n",
       "        vertical-align: top;\n",
       "    }\n",
       "\n",
       "    .dataframe thead th {\n",
       "        text-align: right;\n",
       "    }\n",
       "</style>\n",
       "<table border=\"1\" class=\"dataframe\">\n",
       "  <thead>\n",
       "    <tr style=\"text-align: right;\">\n",
       "      <th></th>\n",
       "      <th>authors</th>\n",
       "      <th>published_date</th>\n",
       "      <th>description</th>\n",
       "      <th>isbn_10</th>\n",
       "      <th>isbn_13</th>\n",
       "      <th>page_count</th>\n",
       "      <th>categories</th>\n",
       "      <th>maturity_rating</th>\n",
       "      <th>language</th>\n",
       "      <th>join_isbn_10</th>\n",
       "    </tr>\n",
       "  </thead>\n",
       "  <tbody>\n",
       "    <tr>\n",
       "      <th>0</th>\n",
       "      <td>['Mark P. O. Morford', 'Robert J. Lenardon']</td>\n",
       "      <td>2003</td>\n",
       "      <td>Provides an introduction to classical myths placing the addressed topics within their historical context, discussion of archaeological evidence as support for mythical events, and how these themes have been portrayed in literature, art, music, and film.</td>\n",
       "      <td>0195153448</td>\n",
       "      <td>9780195153446.0</td>\n",
       "      <td>808.0</td>\n",
       "      <td>['Social Science']</td>\n",
       "      <td>NOT_MATURE</td>\n",
       "      <td>en</td>\n",
       "      <td>0195153448</td>\n",
       "    </tr>\n",
       "    <tr>\n",
       "      <th>1</th>\n",
       "      <td>NaN</td>\n",
       "      <td>NaN</td>\n",
       "      <td>NaN</td>\n",
       "      <td>NaN</td>\n",
       "      <td>NaN</td>\n",
       "      <td>NaN</td>\n",
       "      <td>NaN</td>\n",
       "      <td>NaN</td>\n",
       "      <td>NaN</td>\n",
       "      <td>0002005018</td>\n",
       "    </tr>\n",
       "    <tr>\n",
       "      <th>2</th>\n",
       "      <td>[\"Carlo D'Este\"]</td>\n",
       "      <td>1991</td>\n",
       "      <td>Here, for the first time in paperback, is an outstanding military history that offers a dramatic new perspective on the Allied campaign that began with the invasion of the D-Day beaches of Normandy. Nationa advertising in Military History.</td>\n",
       "      <td>IND:30000026059836</td>\n",
       "      <td>NaN</td>\n",
       "      <td>582.0</td>\n",
       "      <td>['1940-1949']</td>\n",
       "      <td>NOT_MATURE</td>\n",
       "      <td>en</td>\n",
       "      <td>0060973129</td>\n",
       "    </tr>\n",
       "    <tr>\n",
       "      <th>3</th>\n",
       "      <td>['Gina Bari Kolata']</td>\n",
       "      <td>1999</td>\n",
       "      <td>Describes the great flu epidemic of 1918, an outbreak that killed some forty million people worldwide, and discusses the efforts of scientists and public health officials to understand and prevent another lethal pandemic</td>\n",
       "      <td>9780374157067</td>\n",
       "      <td>374157065.0</td>\n",
       "      <td>367.0</td>\n",
       "      <td>['Medical']</td>\n",
       "      <td>NOT_MATURE</td>\n",
       "      <td>en</td>\n",
       "      <td>0374157065</td>\n",
       "    </tr>\n",
       "    <tr>\n",
       "      <th>4</th>\n",
       "      <td>['E. J. W. Barber']</td>\n",
       "      <td>1999</td>\n",
       "      <td>A look at the incredibly well-preserved ancient mummies found in Western China describes their clothing and appearance, attempts to reconstruct their culture, and speculates about how Caucasians could have found their way to the feet of the Himalayan mountains.</td>\n",
       "      <td>0393045218</td>\n",
       "      <td>9780393045215.0</td>\n",
       "      <td>240.0</td>\n",
       "      <td>['Design']</td>\n",
       "      <td>NOT_MATURE</td>\n",
       "      <td>en</td>\n",
       "      <td>0393045218</td>\n",
       "    </tr>\n",
       "  </tbody>\n",
       "</table>\n",
       "</div>"
      ],
      "text/plain": [
       "                                        authors published_date  \\\n",
       "0  ['Mark P. O. Morford', 'Robert J. Lenardon']           2003   \n",
       "1                                           NaN            NaN   \n",
       "2                              [\"Carlo D'Este\"]           1991   \n",
       "3                          ['Gina Bari Kolata']           1999   \n",
       "4                           ['E. J. W. Barber']           1999   \n",
       "\n",
       "                                                                                                                                                                                                                                                             description  \\\n",
       "0          Provides an introduction to classical myths placing the addressed topics within their historical context, discussion of archaeological evidence as support for mythical events, and how these themes have been portrayed in literature, art, music, and film.   \n",
       "1                                                                                                                                                                                                                                                                    NaN   \n",
       "2                        Here, for the first time in paperback, is an outstanding military history that offers a dramatic new perspective on the Allied campaign that began with the invasion of the D-Day beaches of Normandy. Nationa advertising in Military History.   \n",
       "3                                           Describes the great flu epidemic of 1918, an outbreak that killed some forty million people worldwide, and discusses the efforts of scientists and public health officials to understand and prevent another lethal pandemic   \n",
       "4  A look at the incredibly well-preserved ancient mummies found in Western China describes their clothing and appearance, attempts to reconstruct their culture, and speculates about how Caucasians could have found their way to the feet of the Himalayan mountains.   \n",
       "\n",
       "              isbn_10          isbn_13  page_count          categories  \\\n",
       "0          0195153448  9780195153446.0       808.0  ['Social Science']   \n",
       "1                 NaN              NaN         NaN                 NaN   \n",
       "2  IND:30000026059836              NaN       582.0       ['1940-1949']   \n",
       "3       9780374157067      374157065.0       367.0         ['Medical']   \n",
       "4          0393045218  9780393045215.0       240.0          ['Design']   \n",
       "\n",
       "  maturity_rating language join_isbn_10  \n",
       "0      NOT_MATURE       en   0195153448  \n",
       "1             NaN      NaN   0002005018  \n",
       "2      NOT_MATURE       en   0060973129  \n",
       "3      NOT_MATURE       en   0374157065  \n",
       "4      NOT_MATURE       en   0393045218  "
      ]
     },
     "execution_count": 28,
     "metadata": {},
     "output_type": "execute_result"
    }
   ],
   "source": [
    "# Preview the 'books_extra' DataFrame\n",
    "bk_extra.df.head()"
   ]
  },
  {
   "cell_type": "code",
   "execution_count": 29,
   "metadata": {},
   "outputs": [
    {
     "name": "stdout",
     "output_type": "stream",
     "text": [
      "<class 'pandas.core.frame.DataFrame'>\n",
      "RangeIndex: 188041 entries, 0 to 188040\n",
      "Data columns (total 10 columns):\n",
      " #   Column           Non-Null Count   Dtype  \n",
      "---  ------           --------------   -----  \n",
      " 0   authors          144197 non-null  object \n",
      " 1   published_date   145394 non-null  object \n",
      " 2   description      125110 non-null  object \n",
      " 3   isbn_10          145436 non-null  object \n",
      " 4   isbn_13          123579 non-null  object \n",
      " 5   page_count       144659 non-null  float64\n",
      " 6   categories       136636 non-null  object \n",
      " 7   maturity_rating  145444 non-null  object \n",
      " 8   language         145444 non-null  object \n",
      " 9   join_isbn_10     188040 non-null  object \n",
      "dtypes: float64(1), object(9)\n",
      "memory usage: 14.3+ MB\n"
     ]
    }
   ],
   "source": [
    "# Inspect the information about the DataFrame\n",
    "bk_extra.df.info()"
   ]
  },
  {
   "cell_type": "code",
   "execution_count": 30,
   "metadata": {},
   "outputs": [
    {
     "name": "stdout",
     "output_type": "stream",
     "text": [
      "The shape of the DataFrame is (188041, 10)\n",
      "\n",
      "Records: 188041\n",
      "Columns: 10\n"
     ]
    }
   ],
   "source": [
    "# Inspect the shape of the DataFrame\n",
    "print(bk_extra.shape)"
   ]
  },
  {
   "cell_type": "code",
   "execution_count": 31,
   "metadata": {},
   "outputs": [
    {
     "name": "stdout",
     "output_type": "stream",
     "text": [
      "authors             object\n",
      "published_date      object\n",
      "description         object\n",
      "isbn_10             object\n",
      "isbn_13             object\n",
      "page_count         float64\n",
      "categories          object\n",
      "maturity_rating     object\n",
      "language            object\n",
      "join_isbn_10        object\n",
      "dtype: object\n"
     ]
    }
   ],
   "source": [
    "# Inspect the datatypes of the columns in the DataFrame\n",
    "print(bk_extra.datatypes)"
   ]
  },
  {
   "cell_type": "code",
   "execution_count": 32,
   "metadata": {},
   "outputs": [
    {
     "data": {
      "text/html": [
       "<div>\n",
       "<style scoped>\n",
       "    .dataframe tbody tr th:only-of-type {\n",
       "        vertical-align: middle;\n",
       "    }\n",
       "\n",
       "    .dataframe tbody tr th {\n",
       "        vertical-align: top;\n",
       "    }\n",
       "\n",
       "    .dataframe thead th {\n",
       "        text-align: right;\n",
       "    }\n",
       "</style>\n",
       "<table border=\"1\" class=\"dataframe\">\n",
       "  <thead>\n",
       "    <tr style=\"text-align: right;\">\n",
       "      <th></th>\n",
       "      <th>page_count</th>\n",
       "    </tr>\n",
       "  </thead>\n",
       "  <tbody>\n",
       "    <tr>\n",
       "      <th>count</th>\n",
       "      <td>144659.000000</td>\n",
       "    </tr>\n",
       "    <tr>\n",
       "      <th>mean</th>\n",
       "      <td>284.554801</td>\n",
       "    </tr>\n",
       "    <tr>\n",
       "      <th>std</th>\n",
       "      <td>176.874521</td>\n",
       "    </tr>\n",
       "    <tr>\n",
       "      <th>min</th>\n",
       "      <td>0.000000</td>\n",
       "    </tr>\n",
       "    <tr>\n",
       "      <th>25%</th>\n",
       "      <td>182.000000</td>\n",
       "    </tr>\n",
       "    <tr>\n",
       "      <th>50%</th>\n",
       "      <td>264.000000</td>\n",
       "    </tr>\n",
       "    <tr>\n",
       "      <th>75%</th>\n",
       "      <td>364.000000</td>\n",
       "    </tr>\n",
       "    <tr>\n",
       "      <th>max</th>\n",
       "      <td>3591.000000</td>\n",
       "    </tr>\n",
       "  </tbody>\n",
       "</table>\n",
       "</div>"
      ],
      "text/plain": [
       "          page_count\n",
       "count  144659.000000\n",
       "mean      284.554801\n",
       "std       176.874521\n",
       "min         0.000000\n",
       "25%       182.000000\n",
       "50%       264.000000\n",
       "75%       364.000000\n",
       "max      3591.000000"
      ]
     },
     "execution_count": 32,
     "metadata": {},
     "output_type": "execute_result"
    }
   ],
   "source": [
    "# Inspect the summary statistics of the DataFrame\n",
    "bk_extra.df.describe()"
   ]
  },
  {
   "cell_type": "code",
   "execution_count": 33,
   "metadata": {},
   "outputs": [
    {
     "name": "stdout",
     "output_type": "stream",
     "text": [
      "There are a total of 436471 missing values in the DataFrame.\n",
      "\n",
      "authors            43844\n",
      "published_date     42647\n",
      "description        62931\n",
      "isbn_10            42605\n",
      "isbn_13            64462\n",
      "page_count         43382\n",
      "categories         51405\n",
      "maturity_rating    42597\n",
      "language           42597\n",
      "join_isbn_10           1\n",
      "dtype: int64\n"
     ]
    }
   ],
   "source": [
    "# Inspect the missing values in the DataFrame\n",
    "print(bk_extra.missing)"
   ]
  },
  {
   "cell_type": "code",
   "execution_count": 34,
   "metadata": {},
   "outputs": [
    {
     "name": "stdout",
     "output_type": "stream",
     "text": [
      "There are 0 duplicated records in the DataFrame.\n"
     ]
    }
   ],
   "source": [
    "# Inspect the duplicates in the DataFrame\n",
    "print(bk_extra.duplicates)"
   ]
  },
  {
   "cell_type": "markdown",
   "metadata": {},
   "source": [
    "[**Books (Extra) Dataset**](./data/books.csv)\n",
    "\n",
    ">* Spans **10** columns and **()** rows.\n",
    "\n",
    ">* Contains **2** unique datatypes:\n",
    ">   * **float64**\n",
    ">   * **object**\n",
    "\n",
    ">* Has **()** missing values:\n",
    "\n",
    ">* Has no duplicates"
   ]
  },
  {
   "cell_type": "markdown",
   "metadata": {},
   "source": [
    "## 3. Data Preparation\n",
    "> The goal of the Data Preparation phase, which is often referred to as “data munging”, prepares the final data set(s) for modeling."
   ]
  },
  {
   "cell_type": "markdown",
   "metadata": {},
   "source": [
    "### 3.1 data selection\n",
    "This involves choosing the relevant data that will be used for a particular analysis or task by either, selecting a subset of columns, filtering rows, sampling, combining datasets, etc"
   ]
  },
  {
   "cell_type": "markdown",
   "metadata": {},
   "source": [
    "* In the **books dataset** we drop 3 columns, the image urls since they won't be needed for our analysis"
   ]
  },
  {
   "cell_type": "code",
   "execution_count": 35,
   "metadata": {},
   "outputs": [],
   "source": [
    "# class for droping columns that are not needed\n",
    "\n",
    "class drop_column:\n",
    "    def __init__(self, data):\n",
    "        self.data = data\n",
    "\n",
    "    def drop_columns(self, columns):\n",
    "        self.data = self.data.drop(columns, axis=1)\n",
    "        return self.data"
   ]
  },
  {
   "cell_type": "code",
   "execution_count": 36,
   "metadata": {},
   "outputs": [
    {
     "data": {
      "text/html": [
       "<div>\n",
       "<style scoped>\n",
       "    .dataframe tbody tr th:only-of-type {\n",
       "        vertical-align: middle;\n",
       "    }\n",
       "\n",
       "    .dataframe tbody tr th {\n",
       "        vertical-align: top;\n",
       "    }\n",
       "\n",
       "    .dataframe thead th {\n",
       "        text-align: right;\n",
       "    }\n",
       "</style>\n",
       "<table border=\"1\" class=\"dataframe\">\n",
       "  <thead>\n",
       "    <tr style=\"text-align: right;\">\n",
       "      <th></th>\n",
       "      <th>ISBN</th>\n",
       "      <th>Book-Title</th>\n",
       "      <th>Book-Author</th>\n",
       "      <th>Year-Of-Publication</th>\n",
       "      <th>Publisher</th>\n",
       "      <th>Image-URL-L</th>\n",
       "    </tr>\n",
       "  </thead>\n",
       "  <tbody>\n",
       "    <tr>\n",
       "      <th>0</th>\n",
       "      <td>0195153448</td>\n",
       "      <td>Classical Mythology</td>\n",
       "      <td>Mark P. O. Morford</td>\n",
       "      <td>2002</td>\n",
       "      <td>Oxford University Press</td>\n",
       "      <td>http://images.amazon.com/images/P/0195153448.01.LZZZZZZZ.jpg</td>\n",
       "    </tr>\n",
       "    <tr>\n",
       "      <th>1</th>\n",
       "      <td>0002005018</td>\n",
       "      <td>Clara Callan</td>\n",
       "      <td>Richard Bruce Wright</td>\n",
       "      <td>2001</td>\n",
       "      <td>HarperFlamingo Canada</td>\n",
       "      <td>http://images.amazon.com/images/P/0002005018.01.LZZZZZZZ.jpg</td>\n",
       "    </tr>\n",
       "    <tr>\n",
       "      <th>2</th>\n",
       "      <td>0060973129</td>\n",
       "      <td>Decision in Normandy</td>\n",
       "      <td>Carlo D'Este</td>\n",
       "      <td>1991</td>\n",
       "      <td>HarperPerennial</td>\n",
       "      <td>http://images.amazon.com/images/P/0060973129.01.LZZZZZZZ.jpg</td>\n",
       "    </tr>\n",
       "    <tr>\n",
       "      <th>3</th>\n",
       "      <td>0374157065</td>\n",
       "      <td>Flu: The Story of the Great Influenza Pandemic of 1918 and the Search for the Virus That Caused It</td>\n",
       "      <td>Gina Bari Kolata</td>\n",
       "      <td>1999</td>\n",
       "      <td>Farrar Straus Giroux</td>\n",
       "      <td>http://images.amazon.com/images/P/0374157065.01.LZZZZZZZ.jpg</td>\n",
       "    </tr>\n",
       "    <tr>\n",
       "      <th>4</th>\n",
       "      <td>0393045218</td>\n",
       "      <td>The Mummies of Urumchi</td>\n",
       "      <td>E. J. W. Barber</td>\n",
       "      <td>1999</td>\n",
       "      <td>W. W. Norton &amp;amp; Company</td>\n",
       "      <td>http://images.amazon.com/images/P/0393045218.01.LZZZZZZZ.jpg</td>\n",
       "    </tr>\n",
       "  </tbody>\n",
       "</table>\n",
       "</div>"
      ],
      "text/plain": [
       "         ISBN  \\\n",
       "0  0195153448   \n",
       "1  0002005018   \n",
       "2  0060973129   \n",
       "3  0374157065   \n",
       "4  0393045218   \n",
       "\n",
       "                                                                                           Book-Title  \\\n",
       "0                                                                                 Classical Mythology   \n",
       "1                                                                                        Clara Callan   \n",
       "2                                                                                Decision in Normandy   \n",
       "3  Flu: The Story of the Great Influenza Pandemic of 1918 and the Search for the Virus That Caused It   \n",
       "4                                                                              The Mummies of Urumchi   \n",
       "\n",
       "            Book-Author Year-Of-Publication                   Publisher  \\\n",
       "0    Mark P. O. Morford                2002     Oxford University Press   \n",
       "1  Richard Bruce Wright                2001       HarperFlamingo Canada   \n",
       "2          Carlo D'Este                1991             HarperPerennial   \n",
       "3      Gina Bari Kolata                1999        Farrar Straus Giroux   \n",
       "4       E. J. W. Barber                1999  W. W. Norton &amp; Company   \n",
       "\n",
       "                                                    Image-URL-L  \n",
       "0  http://images.amazon.com/images/P/0195153448.01.LZZZZZZZ.jpg  \n",
       "1  http://images.amazon.com/images/P/0002005018.01.LZZZZZZZ.jpg  \n",
       "2  http://images.amazon.com/images/P/0060973129.01.LZZZZZZZ.jpg  \n",
       "3  http://images.amazon.com/images/P/0374157065.01.LZZZZZZZ.jpg  \n",
       "4  http://images.amazon.com/images/P/0393045218.01.LZZZZZZZ.jpg  "
      ]
     },
     "execution_count": 36,
     "metadata": {},
     "output_type": "execute_result"
    }
   ],
   "source": [
    "# droping image-urls from the books dataset\n",
    "\n",
    "drop = drop_column(books)\n",
    "books = drop.drop_columns(['Image-URL-S', 'Image-URL-M'])\n",
    "books.head()"
   ]
  },
  {
   "cell_type": "markdown",
   "metadata": {},
   "source": [
    "* we then merge **books** and **extra_books** datasets."
   ]
  },
  {
   "cell_type": "code",
   "execution_count": 37,
   "metadata": {},
   "outputs": [
    {
     "name": "stdout",
     "output_type": "stream",
     "text": [
      "<class 'pandas.core.frame.DataFrame'>\n",
      "Int64Index: 182629 entries, 0 to 182628\n",
      "Data columns (total 16 columns):\n",
      " #   Column               Non-Null Count   Dtype  \n",
      "---  ------               --------------   -----  \n",
      " 0   ISBN                 182629 non-null  object \n",
      " 1   Book-Title           182629 non-null  object \n",
      " 2   Book-Author          182629 non-null  object \n",
      " 3   Year-Of-Publication  182629 non-null  object \n",
      " 4   Publisher            182627 non-null  object \n",
      " 5   Image-URL-L          182628 non-null  object \n",
      " 6   authors              144196 non-null  object \n",
      " 7   published_date       145393 non-null  object \n",
      " 8   description          125109 non-null  object \n",
      " 9   isbn_10              145436 non-null  object \n",
      " 10  isbn_13              123579 non-null  object \n",
      " 11  page_count           144659 non-null  float64\n",
      " 12  categories           136636 non-null  object \n",
      " 13  maturity_rating      145444 non-null  object \n",
      " 14  language             145444 non-null  object \n",
      " 15  join_isbn_10         182629 non-null  object \n",
      "dtypes: float64(1), object(15)\n",
      "memory usage: 23.7+ MB\n"
     ]
    }
   ],
   "source": [
    "# merging the books dataset and books_extra dataset\n",
    "\n",
    "books_data = books.merge(books_extra, left_on='ISBN', right_on='join_isbn_10', how='inner')\n",
    "books_data.info()"
   ]
  },
  {
   "cell_type": "code",
   "execution_count": 38,
   "metadata": {},
   "outputs": [],
   "source": [
    "# data understanding of the new dataset\n",
    "bd = DescribeData(books_data)"
   ]
  },
  {
   "cell_type": "code",
   "execution_count": 39,
   "metadata": {},
   "outputs": [
    {
     "name": "stdout",
     "output_type": "stream",
     "text": [
      "The shape of the DataFrame is (182629, 16)\n",
      "\n",
      "Records: 182629\n",
      "Columns: 16\n"
     ]
    }
   ],
   "source": [
    "# inspecting shape of the dataframe\n",
    "print(bd.shape)"
   ]
  },
  {
   "cell_type": "code",
   "execution_count": 40,
   "metadata": {},
   "outputs": [
    {
     "name": "stdout",
     "output_type": "stream",
     "text": [
      "There are 0 duplicated records in the DataFrame.\n"
     ]
    }
   ],
   "source": [
    "# Inspect the duplicates in the DataFrame\n",
    "print(bd.duplicates)"
   ]
  },
  {
   "cell_type": "code",
   "execution_count": 41,
   "metadata": {},
   "outputs": [
    {
     "name": "stdout",
     "output_type": "stream",
     "text": [
      "There are a total of 387768 missing values in the DataFrame.\n",
      "\n",
      "ISBN                       0\n",
      "Book-Title                 0\n",
      "Book-Author                0\n",
      "Year-Of-Publication        0\n",
      "Publisher                  2\n",
      "Image-URL-L                1\n",
      "authors                38433\n",
      "published_date         37236\n",
      "description            57520\n",
      "isbn_10                37193\n",
      "isbn_13                59050\n",
      "page_count             37970\n",
      "categories             45993\n",
      "maturity_rating        37185\n",
      "language               37185\n",
      "join_isbn_10               0\n",
      "dtype: int64\n"
     ]
    }
   ],
   "source": [
    "# Inspect the missing values in the DataFrame\n",
    "print(bd.missing)"
   ]
  },
  {
   "cell_type": "markdown",
   "metadata": {},
   "source": [
    "* The resulting dataset **books_data** contains 2 unique dtypes:\n",
    "\n",
    "  * **object**\n",
    "  * **float**"
   ]
  },
  {
   "cell_type": "markdown",
   "metadata": {},
   "source": [
    "### 3.2 data cleaning\n",
    "Is the process of identifying and correcting or removing incorrect, incomplete, or improperly formatted data in a dataset.\n",
    "This involves handling missing values, fixing incorrect data, removing duplicates, normalizing data and handling outliers."
   ]
  },
  {
   "cell_type": "markdown",
   "metadata": {},
   "source": [
    "#### 3.2.1 In **ratings**:\n",
    "\n",
    "we check to see that all entries in the book-rating are integers "
   ]
  },
  {
   "cell_type": "code",
   "execution_count": 42,
   "metadata": {},
   "outputs": [],
   "source": [
    "# function to check if all entries in the column are integers\n",
    "\n",
    "def check_int(df, column_name):\n",
    "    \n",
    "    if df[column_name].apply(lambda x: isinstance(x, int)).all():\n",
    "    \n",
    "    \n",
    "      print(\"All entries in the column are integers.\")\n",
    "    \n",
    "    else:\n",
    "        \n",
    "        print(\"Not all entries in the column are integers.\")"
   ]
  },
  {
   "cell_type": "code",
   "execution_count": 43,
   "metadata": {},
   "outputs": [
    {
     "name": "stdout",
     "output_type": "stream",
     "text": [
      "All entries in the column are integers.\n"
     ]
    }
   ],
   "source": [
    "# if entries in book-rating column are integers\n",
    "\n",
    "check_int(ratings, 'Book-Rating')"
   ]
  },
  {
   "cell_type": "code",
   "execution_count": 44,
   "metadata": {},
   "outputs": [
    {
     "name": "stdout",
     "output_type": "stream",
     "text": [
      "All entries in the column are integers.\n"
     ]
    }
   ],
   "source": [
    "# if entries in user-id column are integers\n",
    "\n",
    "check_int(ratings, 'User-ID')"
   ]
  },
  {
   "cell_type": "code",
   "execution_count": 45,
   "metadata": {},
   "outputs": [
    {
     "name": "stdout",
     "output_type": "stream",
     "text": [
      "There are non-alphanumeric characters in the ISBN column.\n"
     ]
    }
   ],
   "source": [
    "# checking whether any of the values in the ISBN column of the ratings dataframe contain any characters \n",
    "# that are not alphabetical or numerical.\n",
    "\n",
    "import  re \n",
    "\n",
    "\n",
    "# Define a regular expression to match non-alphanumeric characters\n",
    "reg = \"[^A-Za-z0-9]\"\n",
    "\n",
    "# Initialize a flag variable\n",
    "flag = 0\n",
    "\n",
    "# Loop through each value in the ISBN column\n",
    "for x in ratings['ISBN']:\n",
    "  # Check if the value contains any non-alphanumeric characters\n",
    "  if re.search(reg, x):\n",
    "    # If any are found, set the flag variable to 1\n",
    "    flag = 1\n",
    "    break\n",
    "\n",
    "# Check the value of the flag variable\n",
    "if flag == 1:\n",
    "    print(\"There are non-alphanumeric characters in the ISBN column.\")\n",
    "else:\n",
    "    print(\"There are no non-alphanumeric characters in the ISBN column.\")    "
   ]
  },
  {
   "cell_type": "markdown",
   "metadata": {},
   "source": [
    "#### 3.2.2 In **users**:\n",
    "\n",
    "The location column has city, state and country separated by commas. We segregate these into 3 different columns so that we can analyse on the basis of the country of different users\n"
   ]
  },
  {
   "cell_type": "code",
   "execution_count": 46,
   "metadata": {},
   "outputs": [
    {
     "name": "stdout",
     "output_type": "stream",
     "text": [
      "4659\n",
      "16044\n"
     ]
    }
   ],
   "source": [
    "#splitting a string into a list\n",
    "list_ = users.Location.str.split(', ')\n",
    "#empty lists to add values\n",
    "city = []\n",
    "state = []\n",
    "country = []\n",
    "count_no_state = 0\n",
    "count_no_country = 0\n",
    "#generating a for loop to add values to the empty lists\n",
    "for i in range(0,len(list_)):\n",
    "    #removing invalid entries in city\n",
    "    if list_[i][0] == ' ' or list_[i][0] == '' or list_[i][0]=='n/a' or list_[i][0] == ',':\n",
    "        city.append('other')\n",
    "    else:\n",
    "        city.append(list_[i][0].lower())\n",
    "    if(len(list_[i])<2):\n",
    "        state.append('other')\n",
    "        country.append('other')\n",
    "        count_no_state += 1\n",
    "        count_no_country += 1\n",
    "    else:\n",
    "        #removing invalid entries in state\n",
    "        if list_[i][1] == ' ' or list_[i][1] == '' or list_[i][1]=='n/a' or list_[i][1] == ',':\n",
    "            state.append('other')\n",
    "            count_no_state += 1\n",
    "        else:\n",
    "            state.append(list_[i][1].lower())\n",
    "        if(len(list_[i])<3):\n",
    "            country.append('other')\n",
    "            count_no_country += 1\n",
    "        else:\n",
    "            #removing invalid entries in country\n",
    "            if list_[i][2] == ''or list_[i][1] == ',' or list_[i][2] == ' ' or list_[i][2] == 'n/a':\n",
    "                country.append('other')\n",
    "                count_no_country += 1\n",
    "            else:\n",
    "                country.append(list_[i][2].lower())\n",
    "#dropping the location column from users\n",
    "users = users.drop('Location',axis=1)\n",
    "#handling cases where city/state from the lists is already given\n",
    "temp = []\n",
    "for ent in city:\n",
    "    c = ent.split('/')\n",
    "    temp.append(c[0])\n",
    "#creating a dataframe for city, state and country\n",
    "df_city = pd.DataFrame(temp,columns=['City'])\n",
    "df_state = pd.DataFrame(state,columns=['State'])\n",
    "df_country = pd.DataFrame(country,columns=['Country'])\n",
    "#adding the new dataframes to the original users dataframe\n",
    "users = pd.concat([users, df_city], axis=1)\n",
    "users = pd.concat([users, df_state], axis=1)\n",
    "users = pd.concat([users, df_country], axis=1)\n",
    "#printing the number of countries that do not have values\n",
    "print(count_no_country)\n",
    "#printing the states which didnt have any values\n",
    "print(count_no_state)"
   ]
  },
  {
   "cell_type": "code",
   "execution_count": 47,
   "metadata": {},
   "outputs": [
    {
     "data": {
      "text/html": [
       "<div>\n",
       "<style scoped>\n",
       "    .dataframe tbody tr th:only-of-type {\n",
       "        vertical-align: middle;\n",
       "    }\n",
       "\n",
       "    .dataframe tbody tr th {\n",
       "        vertical-align: top;\n",
       "    }\n",
       "\n",
       "    .dataframe thead th {\n",
       "        text-align: right;\n",
       "    }\n",
       "</style>\n",
       "<table border=\"1\" class=\"dataframe\">\n",
       "  <thead>\n",
       "    <tr style=\"text-align: right;\">\n",
       "      <th></th>\n",
       "      <th>User-ID</th>\n",
       "      <th>Age</th>\n",
       "      <th>City</th>\n",
       "      <th>State</th>\n",
       "      <th>Country</th>\n",
       "    </tr>\n",
       "  </thead>\n",
       "  <tbody>\n",
       "    <tr>\n",
       "      <th>0</th>\n",
       "      <td>1</td>\n",
       "      <td>NaN</td>\n",
       "      <td>nyc</td>\n",
       "      <td>new york</td>\n",
       "      <td>usa</td>\n",
       "    </tr>\n",
       "    <tr>\n",
       "      <th>1</th>\n",
       "      <td>2</td>\n",
       "      <td>18.0</td>\n",
       "      <td>stockton</td>\n",
       "      <td>california</td>\n",
       "      <td>usa</td>\n",
       "    </tr>\n",
       "    <tr>\n",
       "      <th>2</th>\n",
       "      <td>3</td>\n",
       "      <td>NaN</td>\n",
       "      <td>moscow</td>\n",
       "      <td>yukon territory</td>\n",
       "      <td>russia</td>\n",
       "    </tr>\n",
       "    <tr>\n",
       "      <th>3</th>\n",
       "      <td>4</td>\n",
       "      <td>17.0</td>\n",
       "      <td>porto</td>\n",
       "      <td>v.n.gaia</td>\n",
       "      <td>portugal</td>\n",
       "    </tr>\n",
       "    <tr>\n",
       "      <th>4</th>\n",
       "      <td>5</td>\n",
       "      <td>NaN</td>\n",
       "      <td>farnborough</td>\n",
       "      <td>hants</td>\n",
       "      <td>united kingdom</td>\n",
       "    </tr>\n",
       "  </tbody>\n",
       "</table>\n",
       "</div>"
      ],
      "text/plain": [
       "   User-ID   Age         City            State         Country\n",
       "0        1   NaN          nyc         new york             usa\n",
       "1        2  18.0     stockton       california             usa\n",
       "2        3   NaN       moscow  yukon territory          russia\n",
       "3        4  17.0        porto         v.n.gaia        portugal\n",
       "4        5   NaN  farnborough            hants  united kingdom"
      ]
     },
     "execution_count": 47,
     "metadata": {},
     "output_type": "execute_result"
    }
   ],
   "source": [
    "# preview users\n",
    "\n",
    "users.head()"
   ]
  },
  {
   "cell_type": "code",
   "execution_count": 48,
   "metadata": {},
   "outputs": [
    {
     "name": "stdout",
     "output_type": "stream",
     "text": [
      "[nan, 0.0, 1.0, 2.0, 3.0, 4.0, 5.0, 6.0, 7.0, 8.0, 9.0, 10.0, 11.0, 12.0, 13.0, 14.0, 15.0, 16.0, 17.0, 18.0, 19.0, 20.0, 21.0, 22.0, 23.0, 24.0, 25.0, 26.0, 27.0, 28.0, 29.0, 30.0, 31.0, 32.0, 33.0, 34.0, 35.0, 36.0, 37.0, 38.0, 39.0, 40.0, 41.0, 42.0, 43.0, 44.0, 45.0, 46.0, 47.0, 48.0, 49.0, 50.0, 51.0, 52.0, 53.0, 54.0, 55.0, 56.0, 57.0, 58.0, 59.0, 60.0, 61.0, 62.0, 63.0, 64.0, 65.0, 66.0, 67.0, 68.0, 69.0, 70.0, 71.0, 72.0, 73.0, 74.0, 75.0, 76.0, 77.0, 78.0, 79.0, 80.0, 81.0, 82.0, 83.0, 84.0, 85.0, 86.0, 87.0, 88.0, 89.0, 90.0, 91.0, 92.0, 93.0, 94.0, 95.0, 96.0, 97.0, 98.0, 99.0, 100.0, 101.0, 102.0, 103.0, 104.0, 105.0, 106.0, 107.0, 108.0, 109.0, 110.0, 111.0, 113.0, 114.0, 115.0, 116.0, 118.0, 119.0, 123.0, 124.0, 127.0, 128.0, 132.0, 133.0, 136.0, 137.0, 138.0, 140.0, 141.0, 143.0, 146.0, 147.0, 148.0, 151.0, 152.0, 156.0, 157.0, 159.0, 162.0, 168.0, 172.0, 175.0, 183.0, 186.0, 189.0, 199.0, 200.0, 201.0, 204.0, 207.0, 208.0, 209.0, 210.0, 212.0, 219.0, 220.0, 223.0, 226.0, 228.0, 229.0, 230.0, 231.0, 237.0, 239.0, 244.0]\n"
     ]
    }
   ],
   "source": [
    "# unique values in age \n",
    "print(sorted(users['Age'].unique()))"
   ]
  },
  {
   "cell_type": "code",
   "execution_count": 49,
   "metadata": {},
   "outputs": [
    {
     "data": {
      "image/png": "[encoded data removed]",
      "text/plain": [
       "<Figure size 432x288 with 1 Axes>"
      ]
     },
     "metadata": {
      "needs_background": "light"
     },
     "output_type": "display_data"
    }
   ],
   "source": [
    "# Create a density plot to show the distribution of ages\n",
    "sns.kdeplot(users['Age'])\n",
    "\n",
    "# Add a title and labels to the x and y axes\n",
    "plt.title('Distribution of users ages')\n",
    "plt.xlabel('Age')\n",
    "plt.ylabel('Density')\n",
    "\n",
    "# Show the plot\n",
    "plt.show()"
   ]
  },
  {
   "cell_type": "markdown",
   "metadata": {},
   "source": [
    "* For our book recommendation system, users with ages less than 10 and above 80 are not the appropriate target for our system and we assume that they will not be able to access a library or use the recommendation system."
   ]
  },
  {
   "cell_type": "markdown",
   "metadata": {},
   "source": [
    "* Looking at the distribution plot the age is skewed to the right and has outliers. Replacing the missing age values and values less than 10 and greater than 80 witih the median will be the robust approach since it's not sensitive to extreme values compared to using the mean. "
   ]
  },
  {
   "cell_type": "code",
   "execution_count": 50,
   "metadata": {},
   "outputs": [
    {
     "data": {
      "text/plain": [
       "110762"
      ]
     },
     "execution_count": 50,
     "metadata": {},
     "output_type": "execute_result"
    }
   ],
   "source": [
    "# checking for null values\n",
    "users['Age'].isnull().sum()"
   ]
  },
  {
   "cell_type": "code",
   "execution_count": 51,
   "metadata": {},
   "outputs": [],
   "source": [
    "# Select rows where the age column is greater than 10 and less than 80\n",
    "users_filtered = users[(users['Age'] > 10) & (users['Age'] < 80)]"
   ]
  },
  {
   "cell_type": "code",
   "execution_count": 52,
   "metadata": {},
   "outputs": [
    {
     "data": {
      "text/plain": [
       "32.0"
      ]
     },
     "execution_count": 52,
     "metadata": {},
     "output_type": "execute_result"
    }
   ],
   "source": [
    "median = users_filtered['Age'].median()\n",
    "median"
   ]
  },
  {
   "cell_type": "code",
   "execution_count": 53,
   "metadata": {},
   "outputs": [],
   "source": [
    "# Replace the entries less than 10 or greater than 80 with the median\n",
    "users.loc[(users['Age'] < 10) | (users['Age'] > 80), 'Age'] = median"
   ]
  },
  {
   "cell_type": "code",
   "execution_count": 54,
   "metadata": {},
   "outputs": [],
   "source": [
    "# Replace missing values in the \"age\" column with the median age\n",
    "users['Age'] = users['Age'].fillna(median)"
   ]
  },
  {
   "cell_type": "code",
   "execution_count": 55,
   "metadata": {},
   "outputs": [
    {
     "data": {
      "text/plain": [
       "0"
      ]
     },
     "execution_count": 55,
     "metadata": {},
     "output_type": "execute_result"
    }
   ],
   "source": [
    "# checking for null values\n",
    "users['Age'].isnull().sum()"
   ]
  },
  {
   "cell_type": "markdown",
   "metadata": {},
   "source": [
    "### 3.2.3 **books_data** (merged books and extra_books)"
   ]
  },
  {
   "cell_type": "code",
   "execution_count": 56,
   "metadata": {},
   "outputs": [],
   "source": [
    "# define class for data cleaning\n",
    "class DataCleaning:\n",
    "    def __init__(self, data):\n",
    "        self.data = data\n",
    "        \n",
    "    def drop_null_rows(self):\n",
    "        \"\"\"Drops rows with null values.\"\"\"\n",
    "        self.data = self.data.dropna()\n",
    "        return self.data\n",
    "\n",
    "    def drop_duplicate_rows(self):\n",
    "        \"\"\"Drops duplicate rows.\"\"\"\n",
    "        self.data = self.data.drop_duplicates()\n",
    "        return self.data\n",
    "\n",
    "    def handle_missing_values(self, column, method, value=None):\n",
    "        \"\"\"Handles missing values in a specified column.\n",
    "        \n",
    "        The method parameter take one of the following:\n",
    "        \"drop\": Drops rows with missing values in the specified column.\n",
    "        \"fill\": Fills missing values with the specified value.\n",
    "        \"interpolate\": Interpolates missing values using linear interpolation.\n",
    "        \"\"\"\n",
    "        if method == \"drop\":\n",
    "            self.data = self.data.dropna(subset=[column])\n",
    "        elif method == \"fill\":\n",
    "            self.data[column] = self.data[column].fillna(value)\n",
    "        elif method == \"interpolate\":\n",
    "            self.data[column] = self.data[column].interpolate()\n",
    "        else:\n",
    "            raise ValueError(\"Invalid value for method parameter. Valid values are 'drop', 'fill', and 'interpolate'.\")\n",
    "        return self.data\n",
    "\n",
    "    def convert_column_data_type(self, column, data_type):\n",
    "        \"\"\"Converts the data type of a specified column.\"\"\"\n",
    "        self.data[column] = self.data[column].astype(data_type)\n",
    "        return self.data"
   ]
  },
  {
   "cell_type": "code",
   "execution_count": 57,
   "metadata": {},
   "outputs": [],
   "source": [
    "data_cleaning = DataCleaning(books_data)"
   ]
  },
  {
   "cell_type": "code",
   "execution_count": 58,
   "metadata": {},
   "outputs": [],
   "source": [
    "# dropping columns that will not be needed for our analysis\n",
    "books_data.drop(columns=['isbn_10', 'isbn_13', 'join_isbn_10'], axis=1, inplace=True)"
   ]
  },
  {
   "cell_type": "code",
   "execution_count": 59,
   "metadata": {},
   "outputs": [
    {
     "data": {
      "text/html": [
       "<div>\n",
       "<style scoped>\n",
       "    .dataframe tbody tr th:only-of-type {\n",
       "        vertical-align: middle;\n",
       "    }\n",
       "\n",
       "    .dataframe tbody tr th {\n",
       "        vertical-align: top;\n",
       "    }\n",
       "\n",
       "    .dataframe thead th {\n",
       "        text-align: right;\n",
       "    }\n",
       "</style>\n",
       "<table border=\"1\" class=\"dataframe\">\n",
       "  <thead>\n",
       "    <tr style=\"text-align: right;\">\n",
       "      <th></th>\n",
       "      <th>ISBN</th>\n",
       "      <th>Book-Title</th>\n",
       "      <th>Book-Author</th>\n",
       "      <th>Year-Of-Publication</th>\n",
       "      <th>Publisher</th>\n",
       "      <th>Image-URL-L</th>\n",
       "      <th>authors</th>\n",
       "      <th>published_date</th>\n",
       "      <th>description</th>\n",
       "      <th>page_count</th>\n",
       "      <th>categories</th>\n",
       "      <th>maturity_rating</th>\n",
       "      <th>language</th>\n",
       "    </tr>\n",
       "  </thead>\n",
       "  <tbody>\n",
       "    <tr>\n",
       "      <th>0</th>\n",
       "      <td>0195153448</td>\n",
       "      <td>Classical Mythology</td>\n",
       "      <td>Mark P. O. Morford</td>\n",
       "      <td>2002</td>\n",
       "      <td>Oxford University Press</td>\n",
       "      <td>http://images.amazon.com/images/P/0195153448.01.LZZZZZZZ.jpg</td>\n",
       "      <td>['Mark P. O. Morford', 'Robert J. Lenardon']</td>\n",
       "      <td>2003</td>\n",
       "      <td>Provides an introduction to classical myths placing the addressed topics within their historical context, discussion of archaeological evidence as support for mythical events, and how these themes have been portrayed in literature, art, music, and film.</td>\n",
       "      <td>808.0</td>\n",
       "      <td>['Social Science']</td>\n",
       "      <td>NOT_MATURE</td>\n",
       "      <td>en</td>\n",
       "    </tr>\n",
       "    <tr>\n",
       "      <th>2</th>\n",
       "      <td>0060973129</td>\n",
       "      <td>Decision in Normandy</td>\n",
       "      <td>Carlo D'Este</td>\n",
       "      <td>1991</td>\n",
       "      <td>HarperPerennial</td>\n",
       "      <td>http://images.amazon.com/images/P/0060973129.01.LZZZZZZZ.jpg</td>\n",
       "      <td>[\"Carlo D'Este\"]</td>\n",
       "      <td>1991</td>\n",
       "      <td>Here, for the first time in paperback, is an outstanding military history that offers a dramatic new perspective on the Allied campaign that began with the invasion of the D-Day beaches of Normandy. Nationa advertising in Military History.</td>\n",
       "      <td>582.0</td>\n",
       "      <td>['1940-1949']</td>\n",
       "      <td>NOT_MATURE</td>\n",
       "      <td>en</td>\n",
       "    </tr>\n",
       "    <tr>\n",
       "      <th>3</th>\n",
       "      <td>0374157065</td>\n",
       "      <td>Flu: The Story of the Great Influenza Pandemic of 1918 and the Search for the Virus That Caused It</td>\n",
       "      <td>Gina Bari Kolata</td>\n",
       "      <td>1999</td>\n",
       "      <td>Farrar Straus Giroux</td>\n",
       "      <td>http://images.amazon.com/images/P/0374157065.01.LZZZZZZZ.jpg</td>\n",
       "      <td>['Gina Bari Kolata']</td>\n",
       "      <td>1999</td>\n",
       "      <td>Describes the great flu epidemic of 1918, an outbreak that killed some forty million people worldwide, and discusses the efforts of scientists and public health officials to understand and prevent another lethal pandemic</td>\n",
       "      <td>367.0</td>\n",
       "      <td>['Medical']</td>\n",
       "      <td>NOT_MATURE</td>\n",
       "      <td>en</td>\n",
       "    </tr>\n",
       "    <tr>\n",
       "      <th>4</th>\n",
       "      <td>0393045218</td>\n",
       "      <td>The Mummies of Urumchi</td>\n",
       "      <td>E. J. W. Barber</td>\n",
       "      <td>1999</td>\n",
       "      <td>W. W. Norton &amp;amp; Company</td>\n",
       "      <td>http://images.amazon.com/images/P/0393045218.01.LZZZZZZZ.jpg</td>\n",
       "      <td>['E. J. W. Barber']</td>\n",
       "      <td>1999</td>\n",
       "      <td>A look at the incredibly well-preserved ancient mummies found in Western China describes their clothing and appearance, attempts to reconstruct their culture, and speculates about how Caucasians could have found their way to the feet of the Himalayan mountains.</td>\n",
       "      <td>240.0</td>\n",
       "      <td>['Design']</td>\n",
       "      <td>NOT_MATURE</td>\n",
       "      <td>en</td>\n",
       "    </tr>\n",
       "    <tr>\n",
       "      <th>5</th>\n",
       "      <td>0399135782</td>\n",
       "      <td>The Kitchen God's Wife</td>\n",
       "      <td>Amy Tan</td>\n",
       "      <td>1991</td>\n",
       "      <td>Putnam Pub Group</td>\n",
       "      <td>http://images.amazon.com/images/P/0399135782.01.LZZZZZZZ.jpg</td>\n",
       "      <td>['Amy Tan']</td>\n",
       "      <td>1991</td>\n",
       "      <td>A Chinese immigrant who is convinced she is dying threatens to celebrate the Chinese New Year by unburdening herself of everybody's hidden truths, thus prompting a series of comic misunderstandings</td>\n",
       "      <td>428.0</td>\n",
       "      <td>['Fiction']</td>\n",
       "      <td>NOT_MATURE</td>\n",
       "      <td>en</td>\n",
       "    </tr>\n",
       "  </tbody>\n",
       "</table>\n",
       "</div>"
      ],
      "text/plain": [
       "         ISBN  \\\n",
       "0  0195153448   \n",
       "2  0060973129   \n",
       "3  0374157065   \n",
       "4  0393045218   \n",
       "5  0399135782   \n",
       "\n",
       "                                                                                           Book-Title  \\\n",
       "0                                                                                 Classical Mythology   \n",
       "2                                                                                Decision in Normandy   \n",
       "3  Flu: The Story of the Great Influenza Pandemic of 1918 and the Search for the Virus That Caused It   \n",
       "4                                                                              The Mummies of Urumchi   \n",
       "5                                                                              The Kitchen God's Wife   \n",
       "\n",
       "          Book-Author Year-Of-Publication                   Publisher  \\\n",
       "0  Mark P. O. Morford                2002     Oxford University Press   \n",
       "2        Carlo D'Este                1991             HarperPerennial   \n",
       "3    Gina Bari Kolata                1999        Farrar Straus Giroux   \n",
       "4     E. J. W. Barber                1999  W. W. Norton &amp; Company   \n",
       "5             Amy Tan                1991            Putnam Pub Group   \n",
       "\n",
       "                                                    Image-URL-L  \\\n",
       "0  http://images.amazon.com/images/P/0195153448.01.LZZZZZZZ.jpg   \n",
       "2  http://images.amazon.com/images/P/0060973129.01.LZZZZZZZ.jpg   \n",
       "3  http://images.amazon.com/images/P/0374157065.01.LZZZZZZZ.jpg   \n",
       "4  http://images.amazon.com/images/P/0393045218.01.LZZZZZZZ.jpg   \n",
       "5  http://images.amazon.com/images/P/0399135782.01.LZZZZZZZ.jpg   \n",
       "\n",
       "                                        authors published_date  \\\n",
       "0  ['Mark P. O. Morford', 'Robert J. Lenardon']           2003   \n",
       "2                              [\"Carlo D'Este\"]           1991   \n",
       "3                          ['Gina Bari Kolata']           1999   \n",
       "4                           ['E. J. W. Barber']           1999   \n",
       "5                                   ['Amy Tan']           1991   \n",
       "\n",
       "                                                                                                                                                                                                                                                             description  \\\n",
       "0          Provides an introduction to classical myths placing the addressed topics within their historical context, discussion of archaeological evidence as support for mythical events, and how these themes have been portrayed in literature, art, music, and film.   \n",
       "2                        Here, for the first time in paperback, is an outstanding military history that offers a dramatic new perspective on the Allied campaign that began with the invasion of the D-Day beaches of Normandy. Nationa advertising in Military History.   \n",
       "3                                           Describes the great flu epidemic of 1918, an outbreak that killed some forty million people worldwide, and discusses the efforts of scientists and public health officials to understand and prevent another lethal pandemic   \n",
       "4  A look at the incredibly well-preserved ancient mummies found in Western China describes their clothing and appearance, attempts to reconstruct their culture, and speculates about how Caucasians could have found their way to the feet of the Himalayan mountains.   \n",
       "5                                                                  A Chinese immigrant who is convinced she is dying threatens to celebrate the Chinese New Year by unburdening herself of everybody's hidden truths, thus prompting a series of comic misunderstandings   \n",
       "\n",
       "   page_count          categories maturity_rating language  \n",
       "0       808.0  ['Social Science']      NOT_MATURE       en  \n",
       "2       582.0       ['1940-1949']      NOT_MATURE       en  \n",
       "3       367.0         ['Medical']      NOT_MATURE       en  \n",
       "4       240.0          ['Design']      NOT_MATURE       en  \n",
       "5       428.0         ['Fiction']      NOT_MATURE       en  "
      ]
     },
     "execution_count": 59,
     "metadata": {},
     "output_type": "execute_result"
    }
   ],
   "source": [
    "# Drop rows with null values in the \"description\" column\n",
    "\n",
    "books_data = data_cleaning.handle_missing_values(column=\"description\", method=\"drop\")\n",
    "books_data.head()"
   ]
  },
  {
   "cell_type": "markdown",
   "metadata": {},
   "source": [
    "* we drop all entries with no description, because it is a crutial feature that will be used in our recommendation system."
   ]
  },
  {
   "cell_type": "code",
   "execution_count": 60,
   "metadata": {},
   "outputs": [
    {
     "data": {
      "text/plain": [
       "ISBN                      0\n",
       "Book-Title                0\n",
       "Book-Author               0\n",
       "Year-Of-Publication       0\n",
       "Publisher                 1\n",
       "Image-URL-L               1\n",
       "authors                 885\n",
       "published_date           13\n",
       "description               0\n",
       "page_count              323\n",
       "categories             2552\n",
       "maturity_rating           0\n",
       "language                  0\n",
       "dtype: int64"
      ]
     },
     "execution_count": 60,
     "metadata": {},
     "output_type": "execute_result"
    }
   ],
   "source": [
    "# Inspect the missing values in the DataFrame\n",
    "books_data.isna().sum()"
   ]
  },
  {
   "cell_type": "code",
   "execution_count": 61,
   "metadata": {},
   "outputs": [
    {
     "data": {
      "text/plain": [
       "array([2002, 1991, 1999, 2000, 1996, 1988, 2004, 1998, 1994, 2001, 1997,\n",
       "       2003, 1993, 1983, 1979, 1995, 1982, 1992, 1986, 1978, 1987, 1981,\n",
       "       1990, 1989, 1961, 1958, 1984, 1977, 1985, 1980, 1975, 1965, 1941,\n",
       "       0, 1970, 1976, 1962, 1971, 1960, 1974, 1920, 1973, 1972, 1959,\n",
       "       1953, 1951, 1964, 1968, 1969, 1954, 1950, 1967, 2005, 1957, 1956,\n",
       "       1940, 1937, 1963, 1966, 1955, 1952, 1946, 1930, 1925, 1948, 1947,\n",
       "       1945, 1942, 1939, 2030, 1949, 1932, 1929, 1923, 1927, 1936, 1931,\n",
       "       1938, 1914, 1910, 1943, 1933, 1911, 1902, 2038, 2010, 1901, 1921,\n",
       "       '2002', '1993', '1991', '2001', '1999', '1990', '0', '1995',\n",
       "       '1987', '1978', '1985', '1969', '1994', '1989', '1992', '2004',\n",
       "       '2000', '1979', '1976', '2003', '1975', '1997', '1996', '1973',\n",
       "       '1998', '1984', '1983', '1971', '2006', '1980', '1988', '1977',\n",
       "       '1981', '1974', '1968', '1982', '1961', '1986', '1970', '1960',\n",
       "       '1967', '1966', '1964', '1955', '1951', '1965', '1959', '1972',\n",
       "       '1954', '1956', '1962', '1952', '1957', '2005', '1930', '1963',\n",
       "       '1950', '1944', 'DK Publishing Inc', '1940', '1942', '1953'],\n",
       "      dtype=object)"
      ]
     },
     "execution_count": 61,
     "metadata": {},
     "output_type": "execute_result"
    }
   ],
   "source": [
    "#unique year of publication\n",
    "books_data['Year-Of-Publication'].unique()"
   ]
  },
  {
   "cell_type": "code",
   "execution_count": 62,
   "metadata": {},
   "outputs": [
    {
     "data": {
      "text/html": [
       "<div>\n",
       "<style scoped>\n",
       "    .dataframe tbody tr th:only-of-type {\n",
       "        vertical-align: middle;\n",
       "    }\n",
       "\n",
       "    .dataframe tbody tr th {\n",
       "        vertical-align: top;\n",
       "    }\n",
       "\n",
       "    .dataframe thead th {\n",
       "        text-align: right;\n",
       "    }\n",
       "</style>\n",
       "<table border=\"1\" class=\"dataframe\">\n",
       "  <thead>\n",
       "    <tr style=\"text-align: right;\">\n",
       "      <th></th>\n",
       "      <th>ISBN</th>\n",
       "      <th>Book-Title</th>\n",
       "      <th>Book-Author</th>\n",
       "      <th>Year-Of-Publication</th>\n",
       "      <th>Publisher</th>\n",
       "      <th>Image-URL-L</th>\n",
       "      <th>authors</th>\n",
       "      <th>published_date</th>\n",
       "      <th>description</th>\n",
       "      <th>page_count</th>\n",
       "      <th>categories</th>\n",
       "      <th>maturity_rating</th>\n",
       "      <th>language</th>\n",
       "    </tr>\n",
       "  </thead>\n",
       "  <tbody>\n",
       "    <tr>\n",
       "      <th>177764</th>\n",
       "      <td>078946697X</td>\n",
       "      <td>DK Readers: Creating the X-Men, How It All Began (Level 4: Proficient Readers)\\\";Michael Teitelbaum\"</td>\n",
       "      <td>2000</td>\n",
       "      <td>DK Publishing Inc</td>\n",
       "      <td>http://images.amazon.com/images/P/078946697X.01.THUMBZZZ.jpg</td>\n",
       "      <td>NaN</td>\n",
       "      <td>['Michael Teitelbaum']</td>\n",
       "      <td>2000</td>\n",
       "      <td>Provides information on such original characters from the X-men comic strip as Professor X, Iceman, Angel, Magneto, and Beast.</td>\n",
       "      <td>48.0</td>\n",
       "      <td>['Juvenile Fiction']</td>\n",
       "      <td>NOT_MATURE</td>\n",
       "      <td>en</td>\n",
       "    </tr>\n",
       "  </tbody>\n",
       "</table>\n",
       "</div>"
      ],
      "text/plain": [
       "              ISBN  \\\n",
       "177764  078946697X   \n",
       "\n",
       "                                                                                                  Book-Title  \\\n",
       "177764  DK Readers: Creating the X-Men, How It All Began (Level 4: Proficient Readers)\\\";Michael Teitelbaum\"   \n",
       "\n",
       "       Book-Author Year-Of-Publication  \\\n",
       "177764        2000   DK Publishing Inc   \n",
       "\n",
       "                                                           Publisher  \\\n",
       "177764  http://images.amazon.com/images/P/078946697X.01.THUMBZZZ.jpg   \n",
       "\n",
       "       Image-URL-L                 authors published_date  \\\n",
       "177764         NaN  ['Michael Teitelbaum']           2000   \n",
       "\n",
       "                                                                                                                           description  \\\n",
       "177764  Provides information on such original characters from the X-men comic strip as Professor X, Iceman, Angel, Magneto, and Beast.   \n",
       "\n",
       "        page_count            categories maturity_rating language  \n",
       "177764        48.0  ['Juvenile Fiction']      NOT_MATURE       en  "
      ]
     },
     "execution_count": 62,
     "metadata": {},
     "output_type": "execute_result"
    }
   ],
   "source": [
    "#inspecting the row having year of publication as author \n",
    "books_data.loc[books_data['Year-Of-Publication'] == 'DK Publishing Inc',:]"
   ]
  },
  {
   "cell_type": "code",
   "execution_count": 63,
   "metadata": {},
   "outputs": [],
   "source": [
    "#correcting the book author and year of publication\n",
    "books_data.loc[177764, 'Publisher'] = 'DK Publishing Inc'\n",
    "books_data.loc[177764, 'Year-Of-Publication'] = 2000\n",
    "books_data.loc[177764, 'Book-Title'] = 'DK Readers: Creating the X-Men, How Comic Books Come to Life (Level 4: Proficient Readers)'\n",
    "books_data.loc[177764, 'Book-Author'] = 'James Buckley'"
   ]
  },
  {
   "cell_type": "code",
   "execution_count": 64,
   "metadata": {},
   "outputs": [
    {
     "data": {
      "text/plain": [
       "array([2002, 1991, 1999, 2000, 1996, 1988, 2004, 1998, 1994, 2001, 1997,\n",
       "       2003, 1993, 1983, 1979, 1995, 1982, 1992, 1986, 1978, 1987, 1981,\n",
       "       1990, 1989, 1961, 1958, 1984, 1977, 1985, 1980, 1975, 1965, 1941,\n",
       "       0, 1970, 1976, 1962, 1971, 1960, 1974, 1920, 1973, 1972, 1959,\n",
       "       1953, 1951, 1964, 1968, 1969, 1954, 1950, 1967, 2005, 1957, 1956,\n",
       "       1940, 1937, 1963, 1966, 1955, 1952, 1946, 1930, 1925, 1948, 1947,\n",
       "       1945, 1942, 1939, 2030, 1949, 1932, 1929, 1923, 1927, 1936, 1931,\n",
       "       1938, 1914, 1910, 1943, 1933, 1911, 1902, 2038, 2010, 1901, 1921,\n",
       "       '2002', '1993', '1991', '2001', '1999', '1990', '0', '1995',\n",
       "       '1987', '1978', '1985', '1969', '1994', '1989', '1992', '2004',\n",
       "       '2000', '1979', '1976', '2003', '1975', '1997', '1996', '1973',\n",
       "       '1998', '1984', '1983', '1971', '2006', '1980', '1988', '1977',\n",
       "       '1981', '1974', '1968', '1982', '1961', '1986', '1970', '1960',\n",
       "       '1967', '1966', '1964', '1955', '1951', '1965', '1959', '1972',\n",
       "       '1954', '1956', '1962', '1952', '1957', '2005', '1930', '1963',\n",
       "       '1950', '1944', '1940', '1942', '1953'], dtype=object)"
      ]
     },
     "execution_count": 64,
     "metadata": {},
     "output_type": "execute_result"
    }
   ],
   "source": [
    "# preview\n",
    "books_data['Year-Of-Publication'].unique()"
   ]
  },
  {
   "cell_type": "code",
   "execution_count": 65,
   "metadata": {},
   "outputs": [
    {
     "data": {
      "text/plain": [
       "(125109, 13)"
      ]
     },
     "execution_count": 65,
     "metadata": {},
     "output_type": "execute_result"
    }
   ],
   "source": [
    "books_data.shape"
   ]
  },
  {
   "cell_type": "markdown",
   "metadata": {},
   "source": [
    "* from above we see that the data type of the year of publication are not consistently integers. "
   ]
  },
  {
   "cell_type": "code",
   "execution_count": 66,
   "metadata": {},
   "outputs": [
    {
     "data": {
      "text/plain": [
       "array([2002, 1991, 1999, 2000, 1996, 1988, 2004, 1998, 1994, 2001, 1997,\n",
       "       2003, 1993, 1983, 1979, 1995, 1982, 1992, 1986, 1978, 1987, 1981,\n",
       "       1990, 1989, 1961, 1958, 1984, 1977, 1985, 1980, 1975, 1965, 1941,\n",
       "          0, 1970, 1976, 1962, 1971, 1960, 1974, 1920, 1973, 1972, 1959,\n",
       "       1953, 1951, 1964, 1968, 1969, 1954, 1950, 1967, 2005, 1957, 1956,\n",
       "       1940, 1937, 1963, 1966, 1955, 1952, 1946, 1930, 1925, 1948, 1947,\n",
       "       1945, 1942, 1939, 2030, 1949, 1932, 1929, 1923, 1927, 1936, 1931,\n",
       "       1938, 1914, 1910, 1943, 1933, 1911, 1902, 2038, 2010, 1901, 1921,\n",
       "       2006, 1944])"
      ]
     },
     "execution_count": 66,
     "metadata": {},
     "output_type": "execute_result"
    }
   ],
   "source": [
    "# converting Year-Of-Publication to integers\n",
    "books_data = data_cleaning.convert_column_data_type('Year-Of-Publication', int)\n",
    "books_data['Year-Of-Publication'].unique()"
   ]
  },
  {
   "cell_type": "code",
   "execution_count": 67,
   "metadata": {},
   "outputs": [
    {
     "data": {
      "text/html": [
       "<div>\n",
       "<style scoped>\n",
       "    .dataframe tbody tr th:only-of-type {\n",
       "        vertical-align: middle;\n",
       "    }\n",
       "\n",
       "    .dataframe tbody tr th {\n",
       "        vertical-align: top;\n",
       "    }\n",
       "\n",
       "    .dataframe thead th {\n",
       "        text-align: right;\n",
       "    }\n",
       "</style>\n",
       "<table border=\"1\" class=\"dataframe\">\n",
       "  <thead>\n",
       "    <tr style=\"text-align: right;\">\n",
       "      <th></th>\n",
       "      <th>ISBN</th>\n",
       "      <th>Book-Title</th>\n",
       "      <th>Book-Author</th>\n",
       "      <th>Year-Of-Publication</th>\n",
       "      <th>Publisher</th>\n",
       "      <th>Image-URL-L</th>\n",
       "      <th>authors</th>\n",
       "      <th>published_date</th>\n",
       "      <th>description</th>\n",
       "      <th>page_count</th>\n",
       "      <th>categories</th>\n",
       "      <th>maturity_rating</th>\n",
       "      <th>language</th>\n",
       "    </tr>\n",
       "  </thead>\n",
       "  <tbody>\n",
       "    <tr>\n",
       "      <th>502</th>\n",
       "      <td>8845229041</td>\n",
       "      <td>Biblioteca Universale Rizzoli: Sulla Sponda Del Fiume Piedra</td>\n",
       "      <td>P Coelho</td>\n",
       "      <td>0</td>\n",
       "      <td>Fabbri - RCS Libri</td>\n",
       "      <td>http://images.amazon.com/images/P/8845229041.01.LZZZZZZZ.jpg</td>\n",
       "      <td>['Paulo Coelho']</td>\n",
       "      <td>1996</td>\n",
       "      <td>Pilar ritrova a Madrid l'amico dell'infanzia. Questi ha girato il mondo ed ÃÂ¨ poi entrato in seminario, dove si dice abbia fatto miracoli. Pilar ÃÂ¨ una donna passionale, ma delusa dalla vita. Con l'amico d'infanzia compie un viaggio di sei giorni durante il quale la donna ritrova se stessa attraverso una riflessione mistico-iniziatica. I due si recano a Lourdes dove cementeranno il loro amore alla luce di una fede che esalta i valori della missione nel mondo.</td>\n",
       "      <td>216.0</td>\n",
       "      <td>['Fiction']</td>\n",
       "      <td>NOT_MATURE</td>\n",
       "      <td>it</td>\n",
       "    </tr>\n",
       "    <tr>\n",
       "      <th>606</th>\n",
       "      <td>0590021117</td>\n",
       "      <td>Little House On the Prairie</td>\n",
       "      <td>Laura Ingall Wilder</td>\n",
       "      <td>0</td>\n",
       "      <td>Scholastic Inc</td>\n",
       "      <td>http://images.amazon.com/images/P/0590021117.01.LZZZZZZZ.jpg</td>\n",
       "      <td>['Laura Ingalls Wilder']</td>\n",
       "      <td>1953</td>\n",
       "      <td>A family travels from the big woods of Wisconsin, to a new home on the praire, where they build a house, meet neighboring Indians, build a well, and fight a praire fire.</td>\n",
       "      <td>221.0</td>\n",
       "      <td>['Families']</td>\n",
       "      <td>NOT_MATURE</td>\n",
       "      <td>en</td>\n",
       "    </tr>\n",
       "    <tr>\n",
       "      <th>688</th>\n",
       "      <td>2070362388</td>\n",
       "      <td>Ravage</td>\n",
       "      <td>Rene Barjavel</td>\n",
       "      <td>0</td>\n",
       "      <td>Gallimard French</td>\n",
       "      <td>http://images.amazon.com/images/P/2070362388.01.LZZZZZZZ.jpg</td>\n",
       "      <td>['RenÃÂ© Barjavel']</td>\n",
       "      <td>1972</td>\n",
       "      <td>De l'autre cÃÂ´tÃÂ© de la Seine une coulÃÂ©e de quintessence enflammÃÂ©e atteint, dans les sous-sols de la caserne de Chaillot, ancien TrocadÃÂ©ro, le dÃÂ©pÃÂ´t de munitions et le laboratoire de recherches des poudres. Une formidable explosion entrouvre la colline. Des pans de murs, des colonnes, des rochers, des tonnes de dÃÂ©bris montent au-dessus du fleuve, retombent sur la foule agenouillÃÂ©e qui rÃÂ¢le son adoration et sa peur fendent les crÃÂ¢nes, arrachent les membres, brisent les os. Un ÃÂ©norme bloc de terre et de ciment aplatit d'un seul coup la moitiÃÂ© des fidÃÂ¨les de la paroisse du Gros-Caillou. En haut de la Tour, un jet de flammes arrache l'ostensoir des mains du prÃÂªtre ÃÂ©pouvantÃÂ©.</td>\n",
       "      <td>313.0</td>\n",
       "      <td>['Fiction']</td>\n",
       "      <td>NOT_MATURE</td>\n",
       "      <td>fr</td>\n",
       "    </tr>\n",
       "    <tr>\n",
       "      <th>692</th>\n",
       "      <td>2266033689</td>\n",
       "      <td>Le Diable Au Corps</td>\n",
       "      <td>Raymond Radiguet</td>\n",
       "      <td>0</td>\n",
       "      <td>Presses Pocket French</td>\n",
       "      <td>http://images.amazon.com/images/P/2266033689.01.LZZZZZZZ.jpg</td>\n",
       "      <td>['Raymond Radiguet']</td>\n",
       "      <td>1990</td>\n",
       "      <td>Pendant la premiÃÂ¨re guerre mondiale, FranÃÂ§ois, un lycÃÂ©en, fait la connaissance de Marthe, une jeune femme de dix-huit ans. Celle-ci est fiancÃÂ©e ÃÂ  Jacques, un soldat qui se bat sur le front. Au mÃÂ©pris des commÃÂ©rages, FranÃÂ§ois et Marthe vont devenir amants. Mais FranÃÂ§ois n'est-il pas trop jeune pour s'engager dans une telle liaison ?</td>\n",
       "      <td>206.0</td>\n",
       "      <td>NaN</td>\n",
       "      <td>NOT_MATURE</td>\n",
       "      <td>fr</td>\n",
       "    </tr>\n",
       "    <tr>\n",
       "      <th>757</th>\n",
       "      <td>0718144538</td>\n",
       "      <td>Shattered Uk</td>\n",
       "      <td>Dick Francis</td>\n",
       "      <td>0</td>\n",
       "      <td>Michael Joseph Ltd</td>\n",
       "      <td>http://images.amazon.com/images/P/0718144538.01.LZZZZZZZ.jpg</td>\n",
       "      <td>['Dick Francis']</td>\n",
       "      <td>2000</td>\n",
       "      <td>Gerard Logan finds that when his jockey friend dies following a fall at the Cheltenham races, he is involved in a desperate search for a stolen video tape which embroils him in more life-threatening hazards than does his work as a widely-acclaimed glass-blower.</td>\n",
       "      <td>271.0</td>\n",
       "      <td>['Detective and mystery stories']</td>\n",
       "      <td>NOT_MATURE</td>\n",
       "      <td>en</td>\n",
       "    </tr>\n",
       "    <tr>\n",
       "      <th>...</th>\n",
       "      <td>...</td>\n",
       "      <td>...</td>\n",
       "      <td>...</td>\n",
       "      <td>...</td>\n",
       "      <td>...</td>\n",
       "      <td>...</td>\n",
       "      <td>...</td>\n",
       "      <td>...</td>\n",
       "      <td>...</td>\n",
       "      <td>...</td>\n",
       "      <td>...</td>\n",
       "      <td>...</td>\n",
       "      <td>...</td>\n",
       "    </tr>\n",
       "    <tr>\n",
       "      <th>181740</th>\n",
       "      <td>076070712X</td>\n",
       "      <td>Encyclopedia of the Worlds Religions</td>\n",
       "      <td>R D Zaehner</td>\n",
       "      <td>0</td>\n",
       "      <td>Barnes Noble Books</td>\n",
       "      <td>http://images.amazon.com/images/P/076070712X.01.LZZZZZZZ.jpg</td>\n",
       "      <td>['Robert Charles Zaehner']</td>\n",
       "      <td>1997</td>\n",
       "      <td>Covers many world religions such as Judaism, Christianity, Islam, Zoroastrianism, Hinduism, Jainism, Buddhism, Shinto, Confucianism, Taoism, Sikhism, Dialectical meterialism, etc.</td>\n",
       "      <td>472.0</td>\n",
       "      <td>['Religions']</td>\n",
       "      <td>NOT_MATURE</td>\n",
       "      <td>en</td>\n",
       "    </tr>\n",
       "    <tr>\n",
       "      <th>182263</th>\n",
       "      <td>225303956x</td>\n",
       "      <td>Adieu Volodia</td>\n",
       "      <td>Simone Signoret</td>\n",
       "      <td>0</td>\n",
       "      <td>Livre De Poche French</td>\n",
       "      <td>http://images.amazon.com/images/P/225303956X.01.LZZZZZZZ.jpg</td>\n",
       "      <td>['Simone Signoret']</td>\n",
       "      <td>1985</td>\n",
       "      <td>Au 58, rue de la Mare, dans le XXe arrondissement de Paris, vivent les Guttman et les Roginski. Fuyant l'horreur des pogroms, les deux couples sont venus, l'un d'Ukraine en 1919, l'autre de Pologne en 1921 et ont eu chacun un enfant : Maurice et Elsa. Ils sont travailleurs, chaleureux. Ils veulent oublier, s'intÃ©grer et leur naturalisation les fait pleurer de joie. La vie est belle ! TrÃ¨s vite, pourtant, la montÃ©e sournoise de l'antisÃ©mitisme fait planer une \" drÃ´le \" de peur et crÃ©e des problÃ¨mes de travail. Les annÃ©es passent cependant avec des joies et des peines, mais l'histoire est en marche vers le cauchemar. Adieu Volodia. Une large fresque de la France de 1925 Ã  1945, avec ses faits divers, ses assassinats politiques, son Front populaire... Un merveilleux roman avec de nombreux personnages inoubliables, rempli d'anecdotes cocasses, d'humour, de peintures justes, d'Ã©motions, de violences et de peurs, d'amour et de tendresse.</td>\n",
       "      <td>604.0</td>\n",
       "      <td>['French language materials']</td>\n",
       "      <td>NOT_MATURE</td>\n",
       "      <td>fr</td>\n",
       "    </tr>\n",
       "    <tr>\n",
       "      <th>182271</th>\n",
       "      <td>2253016055</td>\n",
       "      <td>Ainsi Soit-elle</td>\n",
       "      <td>B Groult</td>\n",
       "      <td>0</td>\n",
       "      <td>Livre de Poche</td>\n",
       "      <td>http://images.amazon.com/images/P/2253016055.01.LZZZZZZZ.jpg</td>\n",
       "      <td>['BenoÃ®te Groult']</td>\n",
       "      <td>1975</td>\n",
       "      <td>On a longtemps pris la parole de l'homme pour la vÃ©ritÃ© universelle et la plus haute expression de l'intelligence, comme l'organe viril constituait la plus noble expression de la sexualitÃ©. Il faut que les femmes crient aujourd'hui.- Et que les autres femmes - et les hommes - aient envie d'entendre ce cri. Qui n'est pas un cri de haine, Ã  peine un cri de colÃ¨re, car alors il devrait se retourner contre elles-mÃªmes. Mais un cri de vie. Il faut enfin guÃ©rir d'Ãªtre femme. Non pas d'Ãªtre nÃ©e femme mais d'avoir Ã©tÃ© Ã©levÃ©e femme dans un univers d'hommes, d'avoir vÃ©cu chaque Ã©tape et chaque acte de notre vie avec les yeux des hommes et les critÃ¨res des hommes. Et ce n'est pas en continuant Ã  Ã©couter ce qu'ils disent, eux, en notre nom ou pour notre bien, que nous pourrons guÃ©rir. B. G.</td>\n",
       "      <td>219.0</td>\n",
       "      <td>['Fiction']</td>\n",
       "      <td>NOT_MATURE</td>\n",
       "      <td>fr</td>\n",
       "    </tr>\n",
       "    <tr>\n",
       "      <th>182275</th>\n",
       "      <td>225303956X</td>\n",
       "      <td>Adieu Volodia</td>\n",
       "      <td>Simone Signoret</td>\n",
       "      <td>0</td>\n",
       "      <td>Livre De Poche French</td>\n",
       "      <td>http://images.amazon.com/images/P/225303956X.01.LZZZZZZZ.jpg</td>\n",
       "      <td>['Simone Signoret']</td>\n",
       "      <td>1985</td>\n",
       "      <td>Au 58, rue de la Mare, dans le XXe arrondissement de Paris, vivent les Guttman et les Roginski. Fuyant l'horreur des pogroms, les deux couples sont venus, l'un d'Ukraine en 1919, l'autre de Pologne en 1921 et ont eu chacun un enfant : Maurice et Elsa. Ils sont travailleurs, chaleureux. Ils veulent oublier, s'intÃ©grer et leur naturalisation les fait pleurer de joie. La vie est belle ! TrÃ¨s vite, pourtant, la montÃ©e sournoise de l'antisÃ©mitisme fait planer une \" drÃ´le \" de peur et crÃ©e des problÃ¨mes de travail. Les annÃ©es passent cependant avec des joies et des peines, mais l'histoire est en marche vers le cauchemar. Adieu Volodia. Une large fresque de la France de 1925 Ã  1945, avec ses faits divers, ses assassinats politiques, son Front populaire... Un merveilleux roman avec de nombreux personnages inoubliables, rempli d'anecdotes cocasses, d'humour, de peintures justes, d'Ã©motions, de violences et de peurs, d'amour et de tendresse.</td>\n",
       "      <td>604.0</td>\n",
       "      <td>['French language materials']</td>\n",
       "      <td>NOT_MATURE</td>\n",
       "      <td>fr</td>\n",
       "    </tr>\n",
       "    <tr>\n",
       "      <th>182543</th>\n",
       "      <td>3518367412</td>\n",
       "      <td>Tod In Rom</td>\n",
       "      <td>Koeppen</td>\n",
       "      <td>0</td>\n",
       "      <td>Distribooks Int'l+inc</td>\n",
       "      <td>http://images.amazon.com/images/P/3518367412.01.LZZZZZZZ.jpg</td>\n",
       "      <td>['Wolfgang Koeppen']</td>\n",
       "      <td>1975</td>\n",
       "      <td>Der Tod in Rom, aus der Distanz eines ironischen Geistes und zugleich mit der ganzen Kraft des Moralisten geschrieben, ist die Geschichte einer Handvoll Menschen, die nach dein Krieg in Rom zusammentreffen: Opfer, TÃ¤ter, Vorbereiter und Nachgeborene des Schreckens. Wolfgang Koeppen beschreibt in diesem Zeitroman die verborgenen Krankheiten der deutschen Seele: ein Werk voll beklemmender, faszinierender und befreiender Lebenseinsichten.</td>\n",
       "      <td>186.0</td>\n",
       "      <td>['Fascism']</td>\n",
       "      <td>NOT_MATURE</td>\n",
       "      <td>de</td>\n",
       "    </tr>\n",
       "  </tbody>\n",
       "</table>\n",
       "<p>1438 rows × 13 columns</p>\n",
       "</div>"
      ],
      "text/plain": [
       "              ISBN  \\\n",
       "502     8845229041   \n",
       "606     0590021117   \n",
       "688     2070362388   \n",
       "692     2266033689   \n",
       "757     0718144538   \n",
       "...            ...   \n",
       "181740  076070712X   \n",
       "182263  225303956x   \n",
       "182271  2253016055   \n",
       "182275  225303956X   \n",
       "182543  3518367412   \n",
       "\n",
       "                                                          Book-Title  \\\n",
       "502     Biblioteca Universale Rizzoli: Sulla Sponda Del Fiume Piedra   \n",
       "606                                      Little House On the Prairie   \n",
       "688                                                           Ravage   \n",
       "692                                               Le Diable Au Corps   \n",
       "757                                                     Shattered Uk   \n",
       "...                                                              ...   \n",
       "181740                          Encyclopedia of the Worlds Religions   \n",
       "182263                                                 Adieu Volodia   \n",
       "182271                                               Ainsi Soit-elle   \n",
       "182275                                                 Adieu Volodia   \n",
       "182543                                                    Tod In Rom   \n",
       "\n",
       "                Book-Author  Year-Of-Publication              Publisher  \\\n",
       "502                P Coelho                    0     Fabbri - RCS Libri   \n",
       "606     Laura Ingall Wilder                    0         Scholastic Inc   \n",
       "688           Rene Barjavel                    0       Gallimard French   \n",
       "692        Raymond Radiguet                    0  Presses Pocket French   \n",
       "757            Dick Francis                    0     Michael Joseph Ltd   \n",
       "...                     ...                  ...                    ...   \n",
       "181740          R D Zaehner                    0     Barnes Noble Books   \n",
       "182263      Simone Signoret                    0  Livre De Poche French   \n",
       "182271             B Groult                    0         Livre de Poche   \n",
       "182275      Simone Signoret                    0  Livre De Poche French   \n",
       "182543              Koeppen                    0  Distribooks Int'l+inc   \n",
       "\n",
       "                                                         Image-URL-L  \\\n",
       "502     http://images.amazon.com/images/P/8845229041.01.LZZZZZZZ.jpg   \n",
       "606     http://images.amazon.com/images/P/0590021117.01.LZZZZZZZ.jpg   \n",
       "688     http://images.amazon.com/images/P/2070362388.01.LZZZZZZZ.jpg   \n",
       "692     http://images.amazon.com/images/P/2266033689.01.LZZZZZZZ.jpg   \n",
       "757     http://images.amazon.com/images/P/0718144538.01.LZZZZZZZ.jpg   \n",
       "...                                                              ...   \n",
       "181740  http://images.amazon.com/images/P/076070712X.01.LZZZZZZZ.jpg   \n",
       "182263  http://images.amazon.com/images/P/225303956X.01.LZZZZZZZ.jpg   \n",
       "182271  http://images.amazon.com/images/P/2253016055.01.LZZZZZZZ.jpg   \n",
       "182275  http://images.amazon.com/images/P/225303956X.01.LZZZZZZZ.jpg   \n",
       "182543  http://images.amazon.com/images/P/3518367412.01.LZZZZZZZ.jpg   \n",
       "\n",
       "                           authors published_date  \\\n",
       "502               ['Paulo Coelho']           1996   \n",
       "606       ['Laura Ingalls Wilder']           1953   \n",
       "688           ['RenÃÂ© Barjavel']           1972   \n",
       "692           ['Raymond Radiguet']           1990   \n",
       "757               ['Dick Francis']           2000   \n",
       "...                            ...            ...   \n",
       "181740  ['Robert Charles Zaehner']           1997   \n",
       "182263         ['Simone Signoret']           1985   \n",
       "182271         ['BenoÃ®te Groult']           1975   \n",
       "182275         ['Simone Signoret']           1985   \n",
       "182543        ['Wolfgang Koeppen']           1975   \n",
       "\n",
       "                                                                                                                                                                                                                                                                                                                                                                                                                                                                                                                                                                                                                                                                                                                                                                                                                                                                                                                                                                                        description  \\\n",
       "502                                                                                                                                                                                                                                                                                                                                                                                                                                                                                                             Pilar ritrova a Madrid l'amico dell'infanzia. Questi ha girato il mondo ed ÃÂ¨ poi entrato in seminario, dove si dice abbia fatto miracoli. Pilar ÃÂ¨ una donna passionale, ma delusa dalla vita. Con l'amico d'infanzia compie un viaggio di sei giorni durante il quale la donna ritrova se stessa attraverso una riflessione mistico-iniziatica. I due si recano a Lourdes dove cementeranno il loro amore alla luce di una fede che esalta i valori della missione nel mondo.   \n",
       "606                                                                                                                                                                                                                                                                                                                                                                                                                                                                                                                                                                                                                                                                                                                                                                                                                       A family travels from the big woods of Wisconsin, to a new home on the praire, where they build a house, meet neighboring Indians, build a well, and fight a praire fire.   \n",
       "688                                                                                                                                                                                                                                        De l'autre cÃÂ´tÃÂ© de la Seine une coulÃÂ©e de quintessence enflammÃÂ©e atteint, dans les sous-sols de la caserne de Chaillot, ancien TrocadÃÂ©ro, le dÃÂ©pÃÂ´t de munitions et le laboratoire de recherches des poudres. Une formidable explosion entrouvre la colline. Des pans de murs, des colonnes, des rochers, des tonnes de dÃÂ©bris montent au-dessus du fleuve, retombent sur la foule agenouillÃÂ©e qui rÃÂ¢le son adoration et sa peur fendent les crÃÂ¢nes, arrachent les membres, brisent les os. Un ÃÂ©norme bloc de terre et de ciment aplatit d'un seul coup la moitiÃÂ© des fidÃÂ¨les de la paroisse du Gros-Caillou. En haut de la Tour, un jet de flammes arrache l'ostensoir des mains du prÃÂªtre ÃÂ©pouvantÃÂ©.   \n",
       "692                                                                                                                                                                                                                                                                                                                                                                                                                                                                                                                                                                                                                        Pendant la premiÃÂ¨re guerre mondiale, FranÃÂ§ois, un lycÃÂ©en, fait la connaissance de Marthe, une jeune femme de dix-huit ans. Celle-ci est fiancÃÂ©e ÃÂ  Jacques, un soldat qui se bat sur le front. Au mÃÂ©pris des commÃÂ©rages, FranÃÂ§ois et Marthe vont devenir amants. Mais FranÃÂ§ois n'est-il pas trop jeune pour s'engager dans une telle liaison ?   \n",
       "757                                                                                                                                                                                                                                                                                                                                                                                                                                                                                                                                                                                                                                                                                                                           Gerard Logan finds that when his jockey friend dies following a fall at the Cheltenham races, he is involved in a desperate search for a stolen video tape which embroils him in more life-threatening hazards than does his work as a widely-acclaimed glass-blower.   \n",
       "...                                                                                                                                                                                                                                                                                                                                                                                                                                                                                                                                                                                                                                                                                                                                                                                                                                                                                                                                                                                             ...   \n",
       "181740                                                                                                                                                                                                                                                                                                                                                                                                                                                                                                                                                                                                                                                                                                                                                                                                          Covers many world religions such as Judaism, Christianity, Islam, Zoroastrianism, Hinduism, Jainism, Buddhism, Shinto, Confucianism, Taoism, Sikhism, Dialectical meterialism, etc.   \n",
       "182263  Au 58, rue de la Mare, dans le XXe arrondissement de Paris, vivent les Guttman et les Roginski. Fuyant l'horreur des pogroms, les deux couples sont venus, l'un d'Ukraine en 1919, l'autre de Pologne en 1921 et ont eu chacun un enfant : Maurice et Elsa. Ils sont travailleurs, chaleureux. Ils veulent oublier, s'intÃ©grer et leur naturalisation les fait pleurer de joie. La vie est belle ! TrÃ¨s vite, pourtant, la montÃ©e sournoise de l'antisÃ©mitisme fait planer une \" drÃ´le \" de peur et crÃ©e des problÃ¨mes de travail. Les annÃ©es passent cependant avec des joies et des peines, mais l'histoire est en marche vers le cauchemar. Adieu Volodia. Une large fresque de la France de 1925 Ã  1945, avec ses faits divers, ses assassinats politiques, son Front populaire... Un merveilleux roman avec de nombreux personnages inoubliables, rempli d'anecdotes cocasses, d'humour, de peintures justes, d'Ã©motions, de violences et de peurs, d'amour et de tendresse.   \n",
       "182271                                                                                                                                                    On a longtemps pris la parole de l'homme pour la vÃ©ritÃ© universelle et la plus haute expression de l'intelligence, comme l'organe viril constituait la plus noble expression de la sexualitÃ©. Il faut que les femmes crient aujourd'hui.- Et que les autres femmes - et les hommes - aient envie d'entendre ce cri. Qui n'est pas un cri de haine, Ã  peine un cri de colÃ¨re, car alors il devrait se retourner contre elles-mÃªmes. Mais un cri de vie. Il faut enfin guÃ©rir d'Ãªtre femme. Non pas d'Ãªtre nÃ©e femme mais d'avoir Ã©tÃ© Ã©levÃ©e femme dans un univers d'hommes, d'avoir vÃ©cu chaque Ã©tape et chaque acte de notre vie avec les yeux des hommes et les critÃ¨res des hommes. Et ce n'est pas en continuant Ã  Ã©couter ce qu'ils disent, eux, en notre nom ou pour notre bien, que nous pourrons guÃ©rir. B. G.   \n",
       "182275  Au 58, rue de la Mare, dans le XXe arrondissement de Paris, vivent les Guttman et les Roginski. Fuyant l'horreur des pogroms, les deux couples sont venus, l'un d'Ukraine en 1919, l'autre de Pologne en 1921 et ont eu chacun un enfant : Maurice et Elsa. Ils sont travailleurs, chaleureux. Ils veulent oublier, s'intÃ©grer et leur naturalisation les fait pleurer de joie. La vie est belle ! TrÃ¨s vite, pourtant, la montÃ©e sournoise de l'antisÃ©mitisme fait planer une \" drÃ´le \" de peur et crÃ©e des problÃ¨mes de travail. Les annÃ©es passent cependant avec des joies et des peines, mais l'histoire est en marche vers le cauchemar. Adieu Volodia. Une large fresque de la France de 1925 Ã  1945, avec ses faits divers, ses assassinats politiques, son Front populaire... Un merveilleux roman avec de nombreux personnages inoubliables, rempli d'anecdotes cocasses, d'humour, de peintures justes, d'Ã©motions, de violences et de peurs, d'amour et de tendresse.   \n",
       "182543                                                                                                                                                                                                                                                                                                                                                                                                                                                                                                                                     Der Tod in Rom, aus der Distanz eines ironischen Geistes und zugleich mit der ganzen Kraft des Moralisten geschrieben, ist die Geschichte einer Handvoll Menschen, die nach dein Krieg in Rom zusammentreffen: Opfer, TÃ¤ter, Vorbereiter und Nachgeborene des Schreckens. Wolfgang Koeppen beschreibt in diesem Zeitroman die verborgenen Krankheiten der deutschen Seele: ein Werk voll beklemmender, faszinierender und befreiender Lebenseinsichten.   \n",
       "\n",
       "        page_count                         categories maturity_rating language  \n",
       "502          216.0                        ['Fiction']      NOT_MATURE       it  \n",
       "606          221.0                       ['Families']      NOT_MATURE       en  \n",
       "688          313.0                        ['Fiction']      NOT_MATURE       fr  \n",
       "692          206.0                                NaN      NOT_MATURE       fr  \n",
       "757          271.0  ['Detective and mystery stories']      NOT_MATURE       en  \n",
       "...            ...                                ...             ...      ...  \n",
       "181740       472.0                      ['Religions']      NOT_MATURE       en  \n",
       "182263       604.0      ['French language materials']      NOT_MATURE       fr  \n",
       "182271       219.0                        ['Fiction']      NOT_MATURE       fr  \n",
       "182275       604.0      ['French language materials']      NOT_MATURE       fr  \n",
       "182543       186.0                        ['Fascism']      NOT_MATURE       de  \n",
       "\n",
       "[1438 rows x 13 columns]"
      ]
     },
     "execution_count": 67,
     "metadata": {},
     "output_type": "execute_result"
    }
   ],
   "source": [
    "# checking on rows with year of publication as 0\n",
    "books_data.loc[books_data['Year-Of-Publication'] == 0]\n"
   ]
  },
  {
   "cell_type": "markdown",
   "metadata": {},
   "source": [
    "* we have a total of 1438 rows that lack the Year-Of-Publication, but looking at the published date we can obtain the Year-Of-Publication."
   ]
  },
  {
   "cell_type": "code",
   "execution_count": 68,
   "metadata": {},
   "outputs": [],
   "source": [
    "#def replace_year_of_publication(data):\n",
    "    # Extract the year from the \"published-date\" column and convert it to an integer\n",
    "    #data[\"published-year\"] = pd.to_datetime(data[\"published_date\"]).dt.year.astype(int)\n",
    "    \n",
    "    # Replace values where the \"Year-Of-Publication\" is 0 with the corresponding value in the \"published-data\" column\n",
    "    #data[\"Year-Of-Publication\"] = data[\"Year-Of-Publication\"].mask(data[\"Year-Of-Publication\"] == 0, data[\"published-year\"])\n",
    "\n",
    "# Replace the values where the \"Year-Of-Publication\" is 0\n",
    "#replace_year_of_publication(books_data)\n"
   ]
  },
  {
   "cell_type": "code",
   "execution_count": 69,
   "metadata": {},
   "outputs": [
    {
     "data": {
      "text/plain": [
       "array([2002, 1991, 1999, 2000, 1996, 1988, 2004, 1998, 1994, 2001, 1997,\n",
       "       2003, 1993, 1983, 1979, 1995, 1982, 1992, 1986, 1978, 1987, 1981,\n",
       "       1990, 1989, 1961, 1958, 1984, 1977, 1985, 1980, 1975, 1965, 1941,\n",
       "          0, 1970, 1976, 1962, 1971, 1960, 1974, 1920, 1973, 1972, 1959,\n",
       "       1953, 1951, 1964, 1968, 1969, 1954, 1950, 1967, 2005, 1957, 1956,\n",
       "       1940, 1937, 1963, 1966, 1955, 1952, 1946, 1930, 1925, 1948, 1947,\n",
       "       1945, 1942, 1939, 2030, 1949, 1932, 1929, 1923, 1927, 1936, 1931,\n",
       "       1938, 1914, 1910, 1943, 1933, 1911, 1902, 2038, 2010, 1901, 1921,\n",
       "       2006, 1944])"
      ]
     },
     "execution_count": 69,
     "metadata": {},
     "output_type": "execute_result"
    }
   ],
   "source": [
    "books_data['Year-Of-Publication'].unique()"
   ]
  },
  {
   "cell_type": "code",
   "execution_count": 70,
   "metadata": {},
   "outputs": [
    {
     "data": {
      "text/html": [
       "<div>\n",
       "<style scoped>\n",
       "    .dataframe tbody tr th:only-of-type {\n",
       "        vertical-align: middle;\n",
       "    }\n",
       "\n",
       "    .dataframe tbody tr th {\n",
       "        vertical-align: top;\n",
       "    }\n",
       "\n",
       "    .dataframe thead th {\n",
       "        text-align: right;\n",
       "    }\n",
       "</style>\n",
       "<table border=\"1\" class=\"dataframe\">\n",
       "  <thead>\n",
       "    <tr style=\"text-align: right;\">\n",
       "      <th></th>\n",
       "      <th>ISBN</th>\n",
       "      <th>Book-Title</th>\n",
       "      <th>Book-Author</th>\n",
       "      <th>Year-Of-Publication</th>\n",
       "      <th>Publisher</th>\n",
       "      <th>Image-URL-L</th>\n",
       "      <th>authors</th>\n",
       "      <th>published_date</th>\n",
       "      <th>description</th>\n",
       "      <th>page_count</th>\n",
       "      <th>categories</th>\n",
       "      <th>maturity_rating</th>\n",
       "      <th>language</th>\n",
       "    </tr>\n",
       "  </thead>\n",
       "  <tbody>\n",
       "    <tr>\n",
       "      <th>120762</th>\n",
       "      <td>1931696993</td>\n",
       "      <td>Finders Keepers</td>\n",
       "      <td>Linnea Sinclair</td>\n",
       "      <td>2001</td>\n",
       "      <td>NaN</td>\n",
       "      <td>http://images.amazon.com/images/P/1931696993.01.LZZZZZZZ.jpg</td>\n",
       "      <td>['Linnea Sinclair']</td>\n",
       "      <td>2001-10</td>\n",
       "      <td>Be careful what you wish for. You might get it... Her ship's in shambles, her boyfriend's dumped her and she's frankly out of funds. Captain Trilby Elliot hopes her luck has changed when a high-tech fightercraft crash lands at her repair site. Finders keepers. She can sell the ship as salvage, pocket the profits. Except for one small problem: the pilot, Rhis, is still alive and intent on commandeering her ship. And another much larger problem: someone very powerful and very important wants Trilby Elliot dead.</td>\n",
       "      <td>354.0</td>\n",
       "      <td>['Fiction']</td>\n",
       "      <td>NOT_MATURE</td>\n",
       "      <td>en</td>\n",
       "    </tr>\n",
       "  </tbody>\n",
       "</table>\n",
       "</div>"
      ],
      "text/plain": [
       "              ISBN       Book-Title      Book-Author  Year-Of-Publication  \\\n",
       "120762  1931696993  Finders Keepers  Linnea Sinclair                 2001   \n",
       "\n",
       "       Publisher  \\\n",
       "120762       NaN   \n",
       "\n",
       "                                                         Image-URL-L  \\\n",
       "120762  http://images.amazon.com/images/P/1931696993.01.LZZZZZZZ.jpg   \n",
       "\n",
       "                    authors published_date  \\\n",
       "120762  ['Linnea Sinclair']        2001-10   \n",
       "\n",
       "                                                                                                                                                                                                                                                                                                                                                                                                                                                                                                                               description  \\\n",
       "120762  Be careful what you wish for. You might get it... Her ship's in shambles, her boyfriend's dumped her and she's frankly out of funds. Captain Trilby Elliot hopes her luck has changed when a high-tech fightercraft crash lands at her repair site. Finders keepers. She can sell the ship as salvage, pocket the profits. Except for one small problem: the pilot, Rhis, is still alive and intent on commandeering her ship. And another much larger problem: someone very powerful and very important wants Trilby Elliot dead.   \n",
       "\n",
       "        page_count   categories maturity_rating language  \n",
       "120762       354.0  ['Fiction']      NOT_MATURE       en  "
      ]
     },
     "execution_count": 70,
     "metadata": {},
     "output_type": "execute_result"
    }
   ],
   "source": [
    "# Checking for missing values in publisher column\n",
    "\n",
    "books_data.loc[books_data['Publisher'].isnull(),:]"
   ]
  },
  {
   "cell_type": "markdown",
   "metadata": {},
   "source": [
    "* Publisher column has one entry with NaN. To deal with this we do a websearch using the isbn number and book title to obtain the publisher."
   ]
  },
  {
   "cell_type": "code",
   "execution_count": 71,
   "metadata": {},
   "outputs": [],
   "source": [
    "# inputting the correct publisher on the row with NaN\n",
    "\n",
    "books_data.loc[120762, 'Publisher'] = 'Novelbooks Incorporated'"
   ]
  },
  {
   "cell_type": "code",
   "execution_count": 72,
   "metadata": {},
   "outputs": [
    {
     "name": "stdout",
     "output_type": "stream",
     "text": [
      "<class 'pandas.core.frame.DataFrame'>\n",
      "Int64Index: 125109 entries, 0 to 182628\n",
      "Data columns (total 13 columns):\n",
      " #   Column               Non-Null Count   Dtype  \n",
      "---  ------               --------------   -----  \n",
      " 0   ISBN                 125109 non-null  object \n",
      " 1   Book-Title           125109 non-null  object \n",
      " 2   Book-Author          125109 non-null  object \n",
      " 3   Year-Of-Publication  125109 non-null  int32  \n",
      " 4   Publisher            125109 non-null  object \n",
      " 5   Image-URL-L          125108 non-null  object \n",
      " 6   authors              124224 non-null  object \n",
      " 7   published_date       125096 non-null  object \n",
      " 8   description          125109 non-null  object \n",
      " 9   page_count           124786 non-null  float64\n",
      " 10  categories           122557 non-null  object \n",
      " 11  maturity_rating      125109 non-null  object \n",
      " 12  language             125109 non-null  object \n",
      "dtypes: float64(1), int32(1), object(11)\n",
      "memory usage: 17.9+ MB\n"
     ]
    }
   ],
   "source": [
    "books_data.info()"
   ]
  },
  {
   "cell_type": "code",
   "execution_count": 73,
   "metadata": {},
   "outputs": [
    {
     "data": {
      "text/html": [
       "<div>\n",
       "<style scoped>\n",
       "    .dataframe tbody tr th:only-of-type {\n",
       "        vertical-align: middle;\n",
       "    }\n",
       "\n",
       "    .dataframe tbody tr th {\n",
       "        vertical-align: top;\n",
       "    }\n",
       "\n",
       "    .dataframe thead th {\n",
       "        text-align: right;\n",
       "    }\n",
       "</style>\n",
       "<table border=\"1\" class=\"dataframe\">\n",
       "  <thead>\n",
       "    <tr style=\"text-align: right;\">\n",
       "      <th></th>\n",
       "      <th>ISBN</th>\n",
       "      <th>Book-Title</th>\n",
       "      <th>Book-Author</th>\n",
       "      <th>Year-Of-Publication</th>\n",
       "      <th>Publisher</th>\n",
       "      <th>Image-URL-L</th>\n",
       "      <th>authors</th>\n",
       "      <th>published_date</th>\n",
       "      <th>description</th>\n",
       "      <th>page_count</th>\n",
       "      <th>categories</th>\n",
       "      <th>maturity_rating</th>\n",
       "      <th>language</th>\n",
       "    </tr>\n",
       "  </thead>\n",
       "  <tbody>\n",
       "    <tr>\n",
       "      <th>0</th>\n",
       "      <td>0195153448</td>\n",
       "      <td>Classical Mythology</td>\n",
       "      <td>Mark P. O. Morford</td>\n",
       "      <td>2002</td>\n",
       "      <td>Oxford University Press</td>\n",
       "      <td>http://images.amazon.com/images/P/0195153448.01.LZZZZZZZ.jpg</td>\n",
       "      <td>Mark P. O. Morford', 'Robert J. Lenardon</td>\n",
       "      <td>2003</td>\n",
       "      <td>Provides an introduction to classical myths placing the addressed topics within their historical context, discussion of archaeological evidence as support for mythical events, and how these themes have been portrayed in literature, art, music, and film.</td>\n",
       "      <td>808.0</td>\n",
       "      <td>['Social Science']</td>\n",
       "      <td>NOT_MATURE</td>\n",
       "      <td>en</td>\n",
       "    </tr>\n",
       "    <tr>\n",
       "      <th>2</th>\n",
       "      <td>0060973129</td>\n",
       "      <td>Decision in Normandy</td>\n",
       "      <td>Carlo D'Este</td>\n",
       "      <td>1991</td>\n",
       "      <td>HarperPerennial</td>\n",
       "      <td>http://images.amazon.com/images/P/0060973129.01.LZZZZZZZ.jpg</td>\n",
       "      <td>\"Carlo D'Este\"</td>\n",
       "      <td>1991</td>\n",
       "      <td>Here, for the first time in paperback, is an outstanding military history that offers a dramatic new perspective on the Allied campaign that began with the invasion of the D-Day beaches of Normandy. Nationa advertising in Military History.</td>\n",
       "      <td>582.0</td>\n",
       "      <td>['1940-1949']</td>\n",
       "      <td>NOT_MATURE</td>\n",
       "      <td>en</td>\n",
       "    </tr>\n",
       "    <tr>\n",
       "      <th>3</th>\n",
       "      <td>0374157065</td>\n",
       "      <td>Flu: The Story of the Great Influenza Pandemic of 1918 and the Search for the Virus That Caused It</td>\n",
       "      <td>Gina Bari Kolata</td>\n",
       "      <td>1999</td>\n",
       "      <td>Farrar Straus Giroux</td>\n",
       "      <td>http://images.amazon.com/images/P/0374157065.01.LZZZZZZZ.jpg</td>\n",
       "      <td>Gina Bari Kolata</td>\n",
       "      <td>1999</td>\n",
       "      <td>Describes the great flu epidemic of 1918, an outbreak that killed some forty million people worldwide, and discusses the efforts of scientists and public health officials to understand and prevent another lethal pandemic</td>\n",
       "      <td>367.0</td>\n",
       "      <td>['Medical']</td>\n",
       "      <td>NOT_MATURE</td>\n",
       "      <td>en</td>\n",
       "    </tr>\n",
       "    <tr>\n",
       "      <th>4</th>\n",
       "      <td>0393045218</td>\n",
       "      <td>The Mummies of Urumchi</td>\n",
       "      <td>E. J. W. Barber</td>\n",
       "      <td>1999</td>\n",
       "      <td>W. W. Norton &amp;amp; Company</td>\n",
       "      <td>http://images.amazon.com/images/P/0393045218.01.LZZZZZZZ.jpg</td>\n",
       "      <td>E. J. W. Barber</td>\n",
       "      <td>1999</td>\n",
       "      <td>A look at the incredibly well-preserved ancient mummies found in Western China describes their clothing and appearance, attempts to reconstruct their culture, and speculates about how Caucasians could have found their way to the feet of the Himalayan mountains.</td>\n",
       "      <td>240.0</td>\n",
       "      <td>['Design']</td>\n",
       "      <td>NOT_MATURE</td>\n",
       "      <td>en</td>\n",
       "    </tr>\n",
       "    <tr>\n",
       "      <th>5</th>\n",
       "      <td>0399135782</td>\n",
       "      <td>The Kitchen God's Wife</td>\n",
       "      <td>Amy Tan</td>\n",
       "      <td>1991</td>\n",
       "      <td>Putnam Pub Group</td>\n",
       "      <td>http://images.amazon.com/images/P/0399135782.01.LZZZZZZZ.jpg</td>\n",
       "      <td>Amy Tan</td>\n",
       "      <td>1991</td>\n",
       "      <td>A Chinese immigrant who is convinced she is dying threatens to celebrate the Chinese New Year by unburdening herself of everybody's hidden truths, thus prompting a series of comic misunderstandings</td>\n",
       "      <td>428.0</td>\n",
       "      <td>['Fiction']</td>\n",
       "      <td>NOT_MATURE</td>\n",
       "      <td>en</td>\n",
       "    </tr>\n",
       "  </tbody>\n",
       "</table>\n",
       "</div>"
      ],
      "text/plain": [
       "         ISBN  \\\n",
       "0  0195153448   \n",
       "2  0060973129   \n",
       "3  0374157065   \n",
       "4  0393045218   \n",
       "5  0399135782   \n",
       "\n",
       "                                                                                           Book-Title  \\\n",
       "0                                                                                 Classical Mythology   \n",
       "2                                                                                Decision in Normandy   \n",
       "3  Flu: The Story of the Great Influenza Pandemic of 1918 and the Search for the Virus That Caused It   \n",
       "4                                                                              The Mummies of Urumchi   \n",
       "5                                                                              The Kitchen God's Wife   \n",
       "\n",
       "          Book-Author  Year-Of-Publication                   Publisher  \\\n",
       "0  Mark P. O. Morford                 2002     Oxford University Press   \n",
       "2        Carlo D'Este                 1991             HarperPerennial   \n",
       "3    Gina Bari Kolata                 1999        Farrar Straus Giroux   \n",
       "4     E. J. W. Barber                 1999  W. W. Norton &amp; Company   \n",
       "5             Amy Tan                 1991            Putnam Pub Group   \n",
       "\n",
       "                                                    Image-URL-L  \\\n",
       "0  http://images.amazon.com/images/P/0195153448.01.LZZZZZZZ.jpg   \n",
       "2  http://images.amazon.com/images/P/0060973129.01.LZZZZZZZ.jpg   \n",
       "3  http://images.amazon.com/images/P/0374157065.01.LZZZZZZZ.jpg   \n",
       "4  http://images.amazon.com/images/P/0393045218.01.LZZZZZZZ.jpg   \n",
       "5  http://images.amazon.com/images/P/0399135782.01.LZZZZZZZ.jpg   \n",
       "\n",
       "                                    authors published_date  \\\n",
       "0  Mark P. O. Morford', 'Robert J. Lenardon           2003   \n",
       "2                            \"Carlo D'Este\"           1991   \n",
       "3                          Gina Bari Kolata           1999   \n",
       "4                           E. J. W. Barber           1999   \n",
       "5                                   Amy Tan           1991   \n",
       "\n",
       "                                                                                                                                                                                                                                                             description  \\\n",
       "0          Provides an introduction to classical myths placing the addressed topics within their historical context, discussion of archaeological evidence as support for mythical events, and how these themes have been portrayed in literature, art, music, and film.   \n",
       "2                        Here, for the first time in paperback, is an outstanding military history that offers a dramatic new perspective on the Allied campaign that began with the invasion of the D-Day beaches of Normandy. Nationa advertising in Military History.   \n",
       "3                                           Describes the great flu epidemic of 1918, an outbreak that killed some forty million people worldwide, and discusses the efforts of scientists and public health officials to understand and prevent another lethal pandemic   \n",
       "4  A look at the incredibly well-preserved ancient mummies found in Western China describes their clothing and appearance, attempts to reconstruct their culture, and speculates about how Caucasians could have found their way to the feet of the Himalayan mountains.   \n",
       "5                                                                  A Chinese immigrant who is convinced she is dying threatens to celebrate the Chinese New Year by unburdening herself of everybody's hidden truths, thus prompting a series of comic misunderstandings   \n",
       "\n",
       "   page_count          categories maturity_rating language  \n",
       "0       808.0  ['Social Science']      NOT_MATURE       en  \n",
       "2       582.0       ['1940-1949']      NOT_MATURE       en  \n",
       "3       367.0         ['Medical']      NOT_MATURE       en  \n",
       "4       240.0          ['Design']      NOT_MATURE       en  \n",
       "5       428.0         ['Fiction']      NOT_MATURE       en  "
      ]
     },
     "execution_count": 73,
     "metadata": {},
     "output_type": "execute_result"
    }
   ],
   "source": [
    "# In the authors column we have the authors names in a list\n",
    "# Remove the brackets and quotation marks from the 'authors' column\n",
    "books_data['authors'] = books_data['authors'].str.strip('[]')\n",
    "books_data['authors'] = books_data['authors'].str.strip(\"''\")\n",
    "\n",
    "# preview data set\n",
    "books_data.head()"
   ]
  },
  {
   "cell_type": "code",
   "execution_count": 74,
   "metadata": {},
   "outputs": [
    {
     "data": {
      "text/plain": [
       "885"
      ]
     },
     "execution_count": 74,
     "metadata": {},
     "output_type": "execute_result"
    }
   ],
   "source": [
    "# checking for missing data in authors\n",
    "books_data['authors'].isna().sum()"
   ]
  },
  {
   "cell_type": "markdown",
   "metadata": {},
   "source": [
    "* we use the book_author column to replace the 885 missing values in the aurthors column"
   ]
  },
  {
   "cell_type": "code",
   "execution_count": 75,
   "metadata": {},
   "outputs": [],
   "source": [
    "# fuction to handle missing data in authors column\n",
    "def replace_missing_values(df):\n",
    "    # Create a boolean mask indicating which rows in the \"authors\" column have missing values\n",
    "    mask = df['authors'].isnull()\n",
    "    \n",
    "    # Get the index values for the rows where the value in the \"authors\" column is missing\n",
    "    indexes = df.loc[mask, 'authors'].index\n",
    "    \n",
    "    # Use the index values to select the corresponding values in the \"book_authors\" column\n",
    "    # and assign these values to the \"authors\" column for the rows where the value is missing\n",
    "    df.loc[indexes, 'authors'] = df.loc[indexes, 'Book-Author']"
   ]
  },
  {
   "cell_type": "code",
   "execution_count": 76,
   "metadata": {},
   "outputs": [],
   "source": [
    "# replacing missing authors with corresponding book-author\n",
    "replace_missing_values(books_data)"
   ]
  },
  {
   "cell_type": "code",
   "execution_count": 77,
   "metadata": {},
   "outputs": [
    {
     "data": {
      "text/plain": [
       "0"
      ]
     },
     "execution_count": 77,
     "metadata": {},
     "output_type": "execute_result"
    }
   ],
   "source": [
    "# rechecking for missing values in authors\n",
    "books_data['authors'].isna().sum()"
   ]
  },
  {
   "cell_type": "code",
   "execution_count": 78,
   "metadata": {},
   "outputs": [],
   "source": [
    "# drop book-author column\n",
    "books_data.drop('Book-Author', axis=1, inplace=True)"
   ]
  },
  {
   "cell_type": "markdown",
   "metadata": {},
   "source": [
    "* The category column has the categories in list. correct this by removing the brackets and quotations"
   ]
  },
  {
   "cell_type": "code",
   "execution_count": 79,
   "metadata": {},
   "outputs": [
    {
     "data": {
      "text/html": [
       "<div>\n",
       "<style scoped>\n",
       "    .dataframe tbody tr th:only-of-type {\n",
       "        vertical-align: middle;\n",
       "    }\n",
       "\n",
       "    .dataframe tbody tr th {\n",
       "        vertical-align: top;\n",
       "    }\n",
       "\n",
       "    .dataframe thead th {\n",
       "        text-align: right;\n",
       "    }\n",
       "</style>\n",
       "<table border=\"1\" class=\"dataframe\">\n",
       "  <thead>\n",
       "    <tr style=\"text-align: right;\">\n",
       "      <th></th>\n",
       "      <th>ISBN</th>\n",
       "      <th>Book-Title</th>\n",
       "      <th>Year-Of-Publication</th>\n",
       "      <th>Publisher</th>\n",
       "      <th>Image-URL-L</th>\n",
       "      <th>authors</th>\n",
       "      <th>published_date</th>\n",
       "      <th>description</th>\n",
       "      <th>page_count</th>\n",
       "      <th>categories</th>\n",
       "      <th>maturity_rating</th>\n",
       "      <th>language</th>\n",
       "    </tr>\n",
       "  </thead>\n",
       "  <tbody>\n",
       "    <tr>\n",
       "      <th>0</th>\n",
       "      <td>0195153448</td>\n",
       "      <td>Classical Mythology</td>\n",
       "      <td>2002</td>\n",
       "      <td>Oxford University Press</td>\n",
       "      <td>http://images.amazon.com/images/P/0195153448.01.LZZZZZZZ.jpg</td>\n",
       "      <td>Mark P. O. Morford', 'Robert J. Lenardon</td>\n",
       "      <td>2003</td>\n",
       "      <td>Provides an introduction to classical myths placing the addressed topics within their historical context, discussion of archaeological evidence as support for mythical events, and how these themes have been portrayed in literature, art, music, and film.</td>\n",
       "      <td>808.0</td>\n",
       "      <td>Social Science</td>\n",
       "      <td>NOT_MATURE</td>\n",
       "      <td>en</td>\n",
       "    </tr>\n",
       "    <tr>\n",
       "      <th>2</th>\n",
       "      <td>0060973129</td>\n",
       "      <td>Decision in Normandy</td>\n",
       "      <td>1991</td>\n",
       "      <td>HarperPerennial</td>\n",
       "      <td>http://images.amazon.com/images/P/0060973129.01.LZZZZZZZ.jpg</td>\n",
       "      <td>\"Carlo D'Este\"</td>\n",
       "      <td>1991</td>\n",
       "      <td>Here, for the first time in paperback, is an outstanding military history that offers a dramatic new perspective on the Allied campaign that began with the invasion of the D-Day beaches of Normandy. Nationa advertising in Military History.</td>\n",
       "      <td>582.0</td>\n",
       "      <td>1940-1949</td>\n",
       "      <td>NOT_MATURE</td>\n",
       "      <td>en</td>\n",
       "    </tr>\n",
       "    <tr>\n",
       "      <th>3</th>\n",
       "      <td>0374157065</td>\n",
       "      <td>Flu: The Story of the Great Influenza Pandemic of 1918 and the Search for the Virus That Caused It</td>\n",
       "      <td>1999</td>\n",
       "      <td>Farrar Straus Giroux</td>\n",
       "      <td>http://images.amazon.com/images/P/0374157065.01.LZZZZZZZ.jpg</td>\n",
       "      <td>Gina Bari Kolata</td>\n",
       "      <td>1999</td>\n",
       "      <td>Describes the great flu epidemic of 1918, an outbreak that killed some forty million people worldwide, and discusses the efforts of scientists and public health officials to understand and prevent another lethal pandemic</td>\n",
       "      <td>367.0</td>\n",
       "      <td>Medical</td>\n",
       "      <td>NOT_MATURE</td>\n",
       "      <td>en</td>\n",
       "    </tr>\n",
       "    <tr>\n",
       "      <th>4</th>\n",
       "      <td>0393045218</td>\n",
       "      <td>The Mummies of Urumchi</td>\n",
       "      <td>1999</td>\n",
       "      <td>W. W. Norton &amp;amp; Company</td>\n",
       "      <td>http://images.amazon.com/images/P/0393045218.01.LZZZZZZZ.jpg</td>\n",
       "      <td>E. J. W. Barber</td>\n",
       "      <td>1999</td>\n",
       "      <td>A look at the incredibly well-preserved ancient mummies found in Western China describes their clothing and appearance, attempts to reconstruct their culture, and speculates about how Caucasians could have found their way to the feet of the Himalayan mountains.</td>\n",
       "      <td>240.0</td>\n",
       "      <td>Design</td>\n",
       "      <td>NOT_MATURE</td>\n",
       "      <td>en</td>\n",
       "    </tr>\n",
       "    <tr>\n",
       "      <th>5</th>\n",
       "      <td>0399135782</td>\n",
       "      <td>The Kitchen God's Wife</td>\n",
       "      <td>1991</td>\n",
       "      <td>Putnam Pub Group</td>\n",
       "      <td>http://images.amazon.com/images/P/0399135782.01.LZZZZZZZ.jpg</td>\n",
       "      <td>Amy Tan</td>\n",
       "      <td>1991</td>\n",
       "      <td>A Chinese immigrant who is convinced she is dying threatens to celebrate the Chinese New Year by unburdening herself of everybody's hidden truths, thus prompting a series of comic misunderstandings</td>\n",
       "      <td>428.0</td>\n",
       "      <td>Fiction</td>\n",
       "      <td>NOT_MATURE</td>\n",
       "      <td>en</td>\n",
       "    </tr>\n",
       "  </tbody>\n",
       "</table>\n",
       "</div>"
      ],
      "text/plain": [
       "         ISBN  \\\n",
       "0  0195153448   \n",
       "2  0060973129   \n",
       "3  0374157065   \n",
       "4  0393045218   \n",
       "5  0399135782   \n",
       "\n",
       "                                                                                           Book-Title  \\\n",
       "0                                                                                 Classical Mythology   \n",
       "2                                                                                Decision in Normandy   \n",
       "3  Flu: The Story of the Great Influenza Pandemic of 1918 and the Search for the Virus That Caused It   \n",
       "4                                                                              The Mummies of Urumchi   \n",
       "5                                                                              The Kitchen God's Wife   \n",
       "\n",
       "   Year-Of-Publication                   Publisher  \\\n",
       "0                 2002     Oxford University Press   \n",
       "2                 1991             HarperPerennial   \n",
       "3                 1999        Farrar Straus Giroux   \n",
       "4                 1999  W. W. Norton &amp; Company   \n",
       "5                 1991            Putnam Pub Group   \n",
       "\n",
       "                                                    Image-URL-L  \\\n",
       "0  http://images.amazon.com/images/P/0195153448.01.LZZZZZZZ.jpg   \n",
       "2  http://images.amazon.com/images/P/0060973129.01.LZZZZZZZ.jpg   \n",
       "3  http://images.amazon.com/images/P/0374157065.01.LZZZZZZZ.jpg   \n",
       "4  http://images.amazon.com/images/P/0393045218.01.LZZZZZZZ.jpg   \n",
       "5  http://images.amazon.com/images/P/0399135782.01.LZZZZZZZ.jpg   \n",
       "\n",
       "                                    authors published_date  \\\n",
       "0  Mark P. O. Morford', 'Robert J. Lenardon           2003   \n",
       "2                            \"Carlo D'Este\"           1991   \n",
       "3                          Gina Bari Kolata           1999   \n",
       "4                           E. J. W. Barber           1999   \n",
       "5                                   Amy Tan           1991   \n",
       "\n",
       "                                                                                                                                                                                                                                                             description  \\\n",
       "0          Provides an introduction to classical myths placing the addressed topics within their historical context, discussion of archaeological evidence as support for mythical events, and how these themes have been portrayed in literature, art, music, and film.   \n",
       "2                        Here, for the first time in paperback, is an outstanding military history that offers a dramatic new perspective on the Allied campaign that began with the invasion of the D-Day beaches of Normandy. Nationa advertising in Military History.   \n",
       "3                                           Describes the great flu epidemic of 1918, an outbreak that killed some forty million people worldwide, and discusses the efforts of scientists and public health officials to understand and prevent another lethal pandemic   \n",
       "4  A look at the incredibly well-preserved ancient mummies found in Western China describes their clothing and appearance, attempts to reconstruct their culture, and speculates about how Caucasians could have found their way to the feet of the Himalayan mountains.   \n",
       "5                                                                  A Chinese immigrant who is convinced she is dying threatens to celebrate the Chinese New Year by unburdening herself of everybody's hidden truths, thus prompting a series of comic misunderstandings   \n",
       "\n",
       "   page_count      categories maturity_rating language  \n",
       "0       808.0  Social Science      NOT_MATURE       en  \n",
       "2       582.0       1940-1949      NOT_MATURE       en  \n",
       "3       367.0         Medical      NOT_MATURE       en  \n",
       "4       240.0          Design      NOT_MATURE       en  \n",
       "5       428.0         Fiction      NOT_MATURE       en  "
      ]
     },
     "execution_count": 79,
     "metadata": {},
     "output_type": "execute_result"
    }
   ],
   "source": [
    "# In the categories column we have the categories names in a list\n",
    "# Remove the brackets and quotation marks from the 'categories' column\n",
    "books_data['categories'] = books_data['categories'].str.strip('[]')\n",
    "books_data['categories'] = books_data['categories'].str.strip(\"''\")\n",
    "\n",
    "# preview data set\n",
    "books_data.head()"
   ]
  },
  {
   "cell_type": "markdown",
   "metadata": {},
   "source": [
    "* we have page_count as float, convert it to an integer\n",
    "* replace missing values with a placeholder, -1"
   ]
  },
  {
   "cell_type": "code",
   "execution_count": 80,
   "metadata": {},
   "outputs": [
    {
     "data": {
      "text/html": [
       "<div>\n",
       "<style scoped>\n",
       "    .dataframe tbody tr th:only-of-type {\n",
       "        vertical-align: middle;\n",
       "    }\n",
       "\n",
       "    .dataframe tbody tr th {\n",
       "        vertical-align: top;\n",
       "    }\n",
       "\n",
       "    .dataframe thead th {\n",
       "        text-align: right;\n",
       "    }\n",
       "</style>\n",
       "<table border=\"1\" class=\"dataframe\">\n",
       "  <thead>\n",
       "    <tr style=\"text-align: right;\">\n",
       "      <th></th>\n",
       "      <th>ISBN</th>\n",
       "      <th>Book-Title</th>\n",
       "      <th>Year-Of-Publication</th>\n",
       "      <th>Publisher</th>\n",
       "      <th>Image-URL-L</th>\n",
       "      <th>authors</th>\n",
       "      <th>published_date</th>\n",
       "      <th>description</th>\n",
       "      <th>page_count</th>\n",
       "      <th>categories</th>\n",
       "      <th>maturity_rating</th>\n",
       "      <th>language</th>\n",
       "    </tr>\n",
       "  </thead>\n",
       "  <tbody>\n",
       "    <tr>\n",
       "      <th>0</th>\n",
       "      <td>0195153448</td>\n",
       "      <td>Classical Mythology</td>\n",
       "      <td>2002</td>\n",
       "      <td>Oxford University Press</td>\n",
       "      <td>http://images.amazon.com/images/P/0195153448.01.LZZZZZZZ.jpg</td>\n",
       "      <td>Mark P. O. Morford', 'Robert J. Lenardon</td>\n",
       "      <td>2003</td>\n",
       "      <td>Provides an introduction to classical myths placing the addressed topics within their historical context, discussion of archaeological evidence as support for mythical events, and how these themes have been portrayed in literature, art, music, and film.</td>\n",
       "      <td>808</td>\n",
       "      <td>Social Science</td>\n",
       "      <td>NOT_MATURE</td>\n",
       "      <td>en</td>\n",
       "    </tr>\n",
       "    <tr>\n",
       "      <th>2</th>\n",
       "      <td>0060973129</td>\n",
       "      <td>Decision in Normandy</td>\n",
       "      <td>1991</td>\n",
       "      <td>HarperPerennial</td>\n",
       "      <td>http://images.amazon.com/images/P/0060973129.01.LZZZZZZZ.jpg</td>\n",
       "      <td>\"Carlo D'Este\"</td>\n",
       "      <td>1991</td>\n",
       "      <td>Here, for the first time in paperback, is an outstanding military history that offers a dramatic new perspective on the Allied campaign that began with the invasion of the D-Day beaches of Normandy. Nationa advertising in Military History.</td>\n",
       "      <td>582</td>\n",
       "      <td>1940-1949</td>\n",
       "      <td>NOT_MATURE</td>\n",
       "      <td>en</td>\n",
       "    </tr>\n",
       "    <tr>\n",
       "      <th>3</th>\n",
       "      <td>0374157065</td>\n",
       "      <td>Flu: The Story of the Great Influenza Pandemic of 1918 and the Search for the Virus That Caused It</td>\n",
       "      <td>1999</td>\n",
       "      <td>Farrar Straus Giroux</td>\n",
       "      <td>http://images.amazon.com/images/P/0374157065.01.LZZZZZZZ.jpg</td>\n",
       "      <td>Gina Bari Kolata</td>\n",
       "      <td>1999</td>\n",
       "      <td>Describes the great flu epidemic of 1918, an outbreak that killed some forty million people worldwide, and discusses the efforts of scientists and public health officials to understand and prevent another lethal pandemic</td>\n",
       "      <td>367</td>\n",
       "      <td>Medical</td>\n",
       "      <td>NOT_MATURE</td>\n",
       "      <td>en</td>\n",
       "    </tr>\n",
       "    <tr>\n",
       "      <th>4</th>\n",
       "      <td>0393045218</td>\n",
       "      <td>The Mummies of Urumchi</td>\n",
       "      <td>1999</td>\n",
       "      <td>W. W. Norton &amp;amp; Company</td>\n",
       "      <td>http://images.amazon.com/images/P/0393045218.01.LZZZZZZZ.jpg</td>\n",
       "      <td>E. J. W. Barber</td>\n",
       "      <td>1999</td>\n",
       "      <td>A look at the incredibly well-preserved ancient mummies found in Western China describes their clothing and appearance, attempts to reconstruct their culture, and speculates about how Caucasians could have found their way to the feet of the Himalayan mountains.</td>\n",
       "      <td>240</td>\n",
       "      <td>Design</td>\n",
       "      <td>NOT_MATURE</td>\n",
       "      <td>en</td>\n",
       "    </tr>\n",
       "    <tr>\n",
       "      <th>5</th>\n",
       "      <td>0399135782</td>\n",
       "      <td>The Kitchen God's Wife</td>\n",
       "      <td>1991</td>\n",
       "      <td>Putnam Pub Group</td>\n",
       "      <td>http://images.amazon.com/images/P/0399135782.01.LZZZZZZZ.jpg</td>\n",
       "      <td>Amy Tan</td>\n",
       "      <td>1991</td>\n",
       "      <td>A Chinese immigrant who is convinced she is dying threatens to celebrate the Chinese New Year by unburdening herself of everybody's hidden truths, thus prompting a series of comic misunderstandings</td>\n",
       "      <td>428</td>\n",
       "      <td>Fiction</td>\n",
       "      <td>NOT_MATURE</td>\n",
       "      <td>en</td>\n",
       "    </tr>\n",
       "  </tbody>\n",
       "</table>\n",
       "</div>"
      ],
      "text/plain": [
       "         ISBN  \\\n",
       "0  0195153448   \n",
       "2  0060973129   \n",
       "3  0374157065   \n",
       "4  0393045218   \n",
       "5  0399135782   \n",
       "\n",
       "                                                                                           Book-Title  \\\n",
       "0                                                                                 Classical Mythology   \n",
       "2                                                                                Decision in Normandy   \n",
       "3  Flu: The Story of the Great Influenza Pandemic of 1918 and the Search for the Virus That Caused It   \n",
       "4                                                                              The Mummies of Urumchi   \n",
       "5                                                                              The Kitchen God's Wife   \n",
       "\n",
       "   Year-Of-Publication                   Publisher  \\\n",
       "0                 2002     Oxford University Press   \n",
       "2                 1991             HarperPerennial   \n",
       "3                 1999        Farrar Straus Giroux   \n",
       "4                 1999  W. W. Norton &amp; Company   \n",
       "5                 1991            Putnam Pub Group   \n",
       "\n",
       "                                                    Image-URL-L  \\\n",
       "0  http://images.amazon.com/images/P/0195153448.01.LZZZZZZZ.jpg   \n",
       "2  http://images.amazon.com/images/P/0060973129.01.LZZZZZZZ.jpg   \n",
       "3  http://images.amazon.com/images/P/0374157065.01.LZZZZZZZ.jpg   \n",
       "4  http://images.amazon.com/images/P/0393045218.01.LZZZZZZZ.jpg   \n",
       "5  http://images.amazon.com/images/P/0399135782.01.LZZZZZZZ.jpg   \n",
       "\n",
       "                                    authors published_date  \\\n",
       "0  Mark P. O. Morford', 'Robert J. Lenardon           2003   \n",
       "2                            \"Carlo D'Este\"           1991   \n",
       "3                          Gina Bari Kolata           1999   \n",
       "4                           E. J. W. Barber           1999   \n",
       "5                                   Amy Tan           1991   \n",
       "\n",
       "                                                                                                                                                                                                                                                             description  \\\n",
       "0          Provides an introduction to classical myths placing the addressed topics within their historical context, discussion of archaeological evidence as support for mythical events, and how these themes have been portrayed in literature, art, music, and film.   \n",
       "2                        Here, for the first time in paperback, is an outstanding military history that offers a dramatic new perspective on the Allied campaign that began with the invasion of the D-Day beaches of Normandy. Nationa advertising in Military History.   \n",
       "3                                           Describes the great flu epidemic of 1918, an outbreak that killed some forty million people worldwide, and discusses the efforts of scientists and public health officials to understand and prevent another lethal pandemic   \n",
       "4  A look at the incredibly well-preserved ancient mummies found in Western China describes their clothing and appearance, attempts to reconstruct their culture, and speculates about how Caucasians could have found their way to the feet of the Himalayan mountains.   \n",
       "5                                                                  A Chinese immigrant who is convinced she is dying threatens to celebrate the Chinese New Year by unburdening herself of everybody's hidden truths, thus prompting a series of comic misunderstandings   \n",
       "\n",
       "   page_count      categories maturity_rating language  \n",
       "0         808  Social Science      NOT_MATURE       en  \n",
       "2         582       1940-1949      NOT_MATURE       en  \n",
       "3         367         Medical      NOT_MATURE       en  \n",
       "4         240          Design      NOT_MATURE       en  \n",
       "5         428         Fiction      NOT_MATURE       en  "
      ]
     },
     "execution_count": 80,
     "metadata": {},
     "output_type": "execute_result"
    }
   ],
   "source": [
    "# Convert the 'page_count' to numeric data type\n",
    "books_data['page_count'] = pd.to_numeric(books_data['page_count'], errors='coerce')\n",
    "\n",
    "# Replace any NaN values with a placeholder value\n",
    "books_data['page_count'].fillna(-1, inplace=True)\n",
    "\n",
    "# Convert the 'float_column' to integer data type\n",
    "books_data['page_count'] = books_data['page_count'].round().astype(int)\n",
    "\n",
    "# preview data set\n",
    "books_data.head()"
   ]
  },
  {
   "cell_type": "code",
   "execution_count": 81,
   "metadata": {
    "scrolled": false
   },
   "outputs": [
    {
     "data": {
      "text/html": [
       "<div>\n",
       "<style scoped>\n",
       "    .dataframe tbody tr th:only-of-type {\n",
       "        vertical-align: middle;\n",
       "    }\n",
       "\n",
       "    .dataframe tbody tr th {\n",
       "        vertical-align: top;\n",
       "    }\n",
       "\n",
       "    .dataframe thead th {\n",
       "        text-align: right;\n",
       "    }\n",
       "</style>\n",
       "<table border=\"1\" class=\"dataframe\">\n",
       "  <thead>\n",
       "    <tr style=\"text-align: right;\">\n",
       "      <th></th>\n",
       "      <th>ISBN</th>\n",
       "      <th>Book-Title</th>\n",
       "      <th>Year-Of-Publication</th>\n",
       "      <th>Publisher</th>\n",
       "      <th>Image-URL-L</th>\n",
       "      <th>authors</th>\n",
       "      <th>published_date</th>\n",
       "      <th>description</th>\n",
       "      <th>page_count</th>\n",
       "      <th>categories</th>\n",
       "      <th>maturity_rating</th>\n",
       "      <th>language</th>\n",
       "    </tr>\n",
       "  </thead>\n",
       "  <tbody>\n",
       "    <tr>\n",
       "      <th>41</th>\n",
       "      <td>055321215X</td>\n",
       "      <td>Pride and Prejudice</td>\n",
       "      <td>1983</td>\n",
       "      <td>Bantam</td>\n",
       "      <td>http://images.amazon.com/images/P/055321215X.01.LZZZZZZZ.jpg</td>\n",
       "      <td>Jane Austen</td>\n",
       "      <td>1983-12-01</td>\n",
       "      <td>\"It is a truth universally acknowledged, that a single man in possession of a good fortune must be in want of a wife.\" So begins Pride and Prejudice, Jane Austen's perfect comedy of manners--one of the most popular novels of all time--that features splendidly civilized sparring between the proud Mr. Darcy and the prejudiced Elizabeth Bennet as they play out their spirited courtship in a series of eighteenth-century drawing-room intrigues. \"Pride and Prejudice seems as vital today as ever,\" writes Anna Quindlen in her introduction to this Modern Library edition. \"It is a pure joy to read.\" Eudora Welty agrees: \"The gaiety is unextinguished, the irony has kept its bite, the reasoning is still sweet, the sparkle undiminished. [It is] irresistible and as nearly flawless as any fiction could be.\" This volume is the companion to the BBC television series, a lavish production aired on the Arts and Entertainment Network.</td>\n",
       "      <td>-1</td>\n",
       "      <td>NaN</td>\n",
       "      <td>NOT_MATURE</td>\n",
       "      <td>en</td>\n",
       "    </tr>\n",
       "    <tr>\n",
       "      <th>279</th>\n",
       "      <td>0394586239</td>\n",
       "      <td>Possession: A Romance</td>\n",
       "      <td>1990</td>\n",
       "      <td>Random House Inc</td>\n",
       "      <td>http://images.amazon.com/images/P/0394586239.01.LZZZZZZZ.jpg</td>\n",
       "      <td>Antonia Susan Byatt</td>\n",
       "      <td>2004</td>\n",
       "      <td>In 1986 two young English scholars stumble upon a remarkable discovery: a hitherto unsuspected relationship between the Browningesque 19th century poet Randolph Henry Ash, and his contemporary Christabel LaMotte. Their research reveals uncanny parallels with their own lives and culminates in the exhumation of a poet's corpse.</td>\n",
       "      <td>-1</td>\n",
       "      <td>Biographers</td>\n",
       "      <td>NOT_MATURE</td>\n",
       "      <td>en</td>\n",
       "    </tr>\n",
       "    <tr>\n",
       "      <th>2502</th>\n",
       "      <td>0671705997</td>\n",
       "      <td>Easy to Kill</td>\n",
       "      <td>1991</td>\n",
       "      <td>Pocket Books</td>\n",
       "      <td>http://images.amazon.com/images/P/0671705997.01.LZZZZZZZ.jpg</td>\n",
       "      <td>Agatha Christie</td>\n",
       "      <td>1990-12</td>\n",
       "      <td>An elderly lady suspected of murder in the sleepy village of Wychwood dies--another victim of an unseen hand. Since too many accidents and unexplained deaths have occurred, even for a town with a history of witchcraft, policeman Luke Fitzwilliam vows to discover the reason--and finds a very cunning killer.</td>\n",
       "      <td>-1</td>\n",
       "      <td>NaN</td>\n",
       "      <td>NOT_MATURE</td>\n",
       "      <td>en</td>\n",
       "    </tr>\n",
       "    <tr>\n",
       "      <th>2693</th>\n",
       "      <td>0671743562</td>\n",
       "      <td>Dreams of the Raven (Star Trek, No 34)</td>\n",
       "      <td>1991</td>\n",
       "      <td>Star Trek</td>\n",
       "      <td>http://images.amazon.com/images/P/0671743562.01.LZZZZZZZ.jpg</td>\n",
       "      <td>Carmen Carter</td>\n",
       "      <td>1991-09-01</td>\n",
       "      <td>Captain Kirk and the crew of the Enterprise struggle against an unknown deadly enemy after a mysterious attack cripples the starship and leaves Dr. McCoy without a memory</td>\n",
       "      <td>-1</td>\n",
       "      <td>Fiction</td>\n",
       "      <td>NOT_MATURE</td>\n",
       "      <td>en</td>\n",
       "    </tr>\n",
       "    <tr>\n",
       "      <th>4654</th>\n",
       "      <td>0425043231</td>\n",
       "      <td>Man in a High Castle</td>\n",
       "      <td>1979</td>\n",
       "      <td>Berkley Publishing Group</td>\n",
       "      <td>http://images.amazon.com/images/P/0425043231.01.LZZZZZZZ.jpg</td>\n",
       "      <td>Philip K. Dick</td>\n",
       "      <td>1979-05-15</td>\n",
       "      <td>It's America in 1962. Slavery is legal once again. the few Jews who still survive hide under assumed names. In San Francisco the I Ching is as common as the Yellow Pages. All because some 20 years earlier the United States lost a war--and is now occupied jointly by Nazi Germany and Japan. This harrowing, Hugo Award-winning novel is the work that established Philip K. Dick as an innovator in science fiction while breaking the barrier between science fiction and the serious novel of ideas. In it Dick offers a haunting vision of history as a nightmare from which it may just be possible to awake.</td>\n",
       "      <td>-1</td>\n",
       "      <td>NaN</td>\n",
       "      <td>NOT_MATURE</td>\n",
       "      <td>en</td>\n",
       "    </tr>\n",
       "    <tr>\n",
       "      <th>...</th>\n",
       "      <td>...</td>\n",
       "      <td>...</td>\n",
       "      <td>...</td>\n",
       "      <td>...</td>\n",
       "      <td>...</td>\n",
       "      <td>...</td>\n",
       "      <td>...</td>\n",
       "      <td>...</td>\n",
       "      <td>...</td>\n",
       "      <td>...</td>\n",
       "      <td>...</td>\n",
       "      <td>...</td>\n",
       "    </tr>\n",
       "    <tr>\n",
       "      <th>180426</th>\n",
       "      <td>0671479849</td>\n",
       "      <td>The Carpetbaggers</td>\n",
       "      <td>1983</td>\n",
       "      <td>Pocket</td>\n",
       "      <td>http://images.amazon.com/images/P/0671479849.01.LZZZZZZZ.jpg</td>\n",
       "      <td>Harold Robbins</td>\n",
       "      <td>1983-08-02</td>\n",
       "      <td>This legendary masterpiece--the most successful of Robbins's many books--tells a story of money and power, sex and death, and is available once again in an exciting new package. Reissue.</td>\n",
       "      <td>-1</td>\n",
       "      <td>NaN</td>\n",
       "      <td>NOT_MATURE</td>\n",
       "      <td>en</td>\n",
       "    </tr>\n",
       "    <tr>\n",
       "      <th>180689</th>\n",
       "      <td>0449215776</td>\n",
       "      <td>This Rough Magic</td>\n",
       "      <td>1989</td>\n",
       "      <td>Fawcett Books</td>\n",
       "      <td>http://images.amazon.com/images/P/0449215776.01.LZZZZZZZ.jpg</td>\n",
       "      <td>Mary Stewart</td>\n",
       "      <td>1987-11-01</td>\n",
       "      <td>Lucy becomes entangled in a mystery when her desire to meet John Gale the actor is hindered by his son</td>\n",
       "      <td>-1</td>\n",
       "      <td>Fiction</td>\n",
       "      <td>NOT_MATURE</td>\n",
       "      <td>en</td>\n",
       "    </tr>\n",
       "    <tr>\n",
       "      <th>180754</th>\n",
       "      <td>1840151005</td>\n",
       "      <td>\\Titanic\\\" Survivor: The Memoirs of Violet Jessop, Stewardess\"</td>\n",
       "      <td>1999</td>\n",
       "      <td>Sutton Publishing Ltd</td>\n",
       "      <td>http://images.amazon.com/images/P/1840151005.01.LZZZZZZZ.jpg</td>\n",
       "      <td>Violet Jessop', 'John Maxtone-Graham</td>\n",
       "      <td>1999-03</td>\n",
       "      <td>This is a unique eye-witness account of the most written about disaster of the 20th century. Joining the Royal Mail Line in 1908, Violet Jessop spent her entire career at sea, travelling on more than 200 voyages. She was a stewardess for the first-class passengers on the Titanic when it sank on its maiden voyage in April 1912 after hitting an iceberg. Her description of the sinking is chilling as she sees to the needs of the passengers before finding a warm coat for herself. Four years later, she was a wartime nurse aboard the hospital ship Britannic when it struck a mine and sank to the bottom of the Aegean.</td>\n",
       "      <td>-1</td>\n",
       "      <td>NaN</td>\n",
       "      <td>NOT_MATURE</td>\n",
       "      <td>en</td>\n",
       "    </tr>\n",
       "    <tr>\n",
       "      <th>181148</th>\n",
       "      <td>0439227003</td>\n",
       "      <td>Captain Underpants Boxed Set (Four Books and a Whoopee Cushion)</td>\n",
       "      <td>2000</td>\n",
       "      <td>Blue Sky Press (AZ)</td>\n",
       "      <td>http://images.amazon.com/images/P/0439227003.01.LZZZZZZZ.jpg</td>\n",
       "      <td>Dav Pilkey</td>\n",
       "      <td>2000-11-01</td>\n",
       "      <td>This boxed set showcases the first four books of this best-selling chapter book series about the Waistband Warrior, and includes a special Captain Underpants Whoopee Cushion. All of the characters from the first four books are featured in Pilkey's new art for the case. Illustrations. Consumable.</td>\n",
       "      <td>-1</td>\n",
       "      <td>Juvenile Fiction</td>\n",
       "      <td>NOT_MATURE</td>\n",
       "      <td>en</td>\n",
       "    </tr>\n",
       "    <tr>\n",
       "      <th>182395</th>\n",
       "      <td>034530635X</td>\n",
       "      <td>Elvis, What Happened?</td>\n",
       "      <td>1988</td>\n",
       "      <td>Ballantine Books</td>\n",
       "      <td>http://images.amazon.com/images/P/034530635X.01.LZZZZZZZ.jpg</td>\n",
       "      <td>Steve Dunleavy</td>\n",
       "      <td>1982-02-01</td>\n",
       "      <td>A devoted son. A generous friend. A model Army recruit. A gifted entertainer. A beloved hero to millions. This is the Elvis Presly the world knew -- and cherished. Brooding. Violent. Obsessed with death. Strung out. Sexually driven. This is the other side of Elvis -- according to the three men who lived with him through it all -- a man who: * Chamed a beautiful young fan into joining him on a drug binge for two that nearly killed her * Took a group of friends on a 3 A.M. visit to a mortuary to look at corpses and talk about embalming * Hurled a pool cue at a party guest who interrupts his game, injuring her breast * Talked with his bodyguard about a \"hit\" on the man he felt stole his wife Steve Dunleavy has woven together the experiences of three Presley bodyguards who were there partying with him, womanizing with him, worrying with him -- tasting the pleasure and the pains of life with the most fabulous star in showbiz history!</td>\n",
       "      <td>-1</td>\n",
       "      <td>Music</td>\n",
       "      <td>NOT_MATURE</td>\n",
       "      <td>en</td>\n",
       "    </tr>\n",
       "  </tbody>\n",
       "</table>\n",
       "<p>323 rows × 12 columns</p>\n",
       "</div>"
      ],
      "text/plain": [
       "              ISBN  \\\n",
       "41      055321215X   \n",
       "279     0394586239   \n",
       "2502    0671705997   \n",
       "2693    0671743562   \n",
       "4654    0425043231   \n",
       "...            ...   \n",
       "180426  0671479849   \n",
       "180689  0449215776   \n",
       "180754  1840151005   \n",
       "181148  0439227003   \n",
       "182395  034530635X   \n",
       "\n",
       "                                                             Book-Title  \\\n",
       "41                                                  Pride and Prejudice   \n",
       "279                                               Possession: A Romance   \n",
       "2502                                                       Easy to Kill   \n",
       "2693                             Dreams of the Raven (Star Trek, No 34)   \n",
       "4654                                               Man in a High Castle   \n",
       "...                                                                 ...   \n",
       "180426                                                The Carpetbaggers   \n",
       "180689                                                 This Rough Magic   \n",
       "180754   \\Titanic\\\" Survivor: The Memoirs of Violet Jessop, Stewardess\"   \n",
       "181148  Captain Underpants Boxed Set (Four Books and a Whoopee Cushion)   \n",
       "182395                                            Elvis, What Happened?   \n",
       "\n",
       "        Year-Of-Publication                 Publisher  \\\n",
       "41                     1983                    Bantam   \n",
       "279                    1990          Random House Inc   \n",
       "2502                   1991              Pocket Books   \n",
       "2693                   1991                 Star Trek   \n",
       "4654                   1979  Berkley Publishing Group   \n",
       "...                     ...                       ...   \n",
       "180426                 1983                    Pocket   \n",
       "180689                 1989             Fawcett Books   \n",
       "180754                 1999     Sutton Publishing Ltd   \n",
       "181148                 2000       Blue Sky Press (AZ)   \n",
       "182395                 1988          Ballantine Books   \n",
       "\n",
       "                                                         Image-URL-L  \\\n",
       "41      http://images.amazon.com/images/P/055321215X.01.LZZZZZZZ.jpg   \n",
       "279     http://images.amazon.com/images/P/0394586239.01.LZZZZZZZ.jpg   \n",
       "2502    http://images.amazon.com/images/P/0671705997.01.LZZZZZZZ.jpg   \n",
       "2693    http://images.amazon.com/images/P/0671743562.01.LZZZZZZZ.jpg   \n",
       "4654    http://images.amazon.com/images/P/0425043231.01.LZZZZZZZ.jpg   \n",
       "...                                                              ...   \n",
       "180426  http://images.amazon.com/images/P/0671479849.01.LZZZZZZZ.jpg   \n",
       "180689  http://images.amazon.com/images/P/0449215776.01.LZZZZZZZ.jpg   \n",
       "180754  http://images.amazon.com/images/P/1840151005.01.LZZZZZZZ.jpg   \n",
       "181148  http://images.amazon.com/images/P/0439227003.01.LZZZZZZZ.jpg   \n",
       "182395  http://images.amazon.com/images/P/034530635X.01.LZZZZZZZ.jpg   \n",
       "\n",
       "                                     authors published_date  \\\n",
       "41                               Jane Austen     1983-12-01   \n",
       "279                      Antonia Susan Byatt           2004   \n",
       "2502                         Agatha Christie        1990-12   \n",
       "2693                           Carmen Carter     1991-09-01   \n",
       "4654                          Philip K. Dick     1979-05-15   \n",
       "...                                      ...            ...   \n",
       "180426                        Harold Robbins     1983-08-02   \n",
       "180689                          Mary Stewart     1987-11-01   \n",
       "180754  Violet Jessop', 'John Maxtone-Graham        1999-03   \n",
       "181148                            Dav Pilkey     2000-11-01   \n",
       "182395                        Steve Dunleavy     1982-02-01   \n",
       "\n",
       "                                                                                                                                                                                                                                                                                                                                                                                                                                                                                                                                                                                                                                                                                                                                                                                                                                                                                                                                                                           description  \\\n",
       "41                      \"It is a truth universally acknowledged, that a single man in possession of a good fortune must be in want of a wife.\" So begins Pride and Prejudice, Jane Austen's perfect comedy of manners--one of the most popular novels of all time--that features splendidly civilized sparring between the proud Mr. Darcy and the prejudiced Elizabeth Bennet as they play out their spirited courtship in a series of eighteenth-century drawing-room intrigues. \"Pride and Prejudice seems as vital today as ever,\" writes Anna Quindlen in her introduction to this Modern Library edition. \"It is a pure joy to read.\" Eudora Welty agrees: \"The gaiety is unextinguished, the irony has kept its bite, the reasoning is still sweet, the sparkle undiminished. [It is] irresistible and as nearly flawless as any fiction could be.\" This volume is the companion to the BBC television series, a lavish production aired on the Arts and Entertainment Network.   \n",
       "279                                                                                                                                                                                                                                                                                                                                                                                                                                                                                                                                                                                                                                            In 1986 two young English scholars stumble upon a remarkable discovery: a hitherto unsuspected relationship between the Browningesque 19th century poet Randolph Henry Ash, and his contemporary Christabel LaMotte. Their research reveals uncanny parallels with their own lives and culminates in the exhumation of a poet's corpse.   \n",
       "2502                                                                                                                                                                                                                                                                                                                                                                                                                                                                                                                                                                                                                                                               An elderly lady suspected of murder in the sleepy village of Wychwood dies--another victim of an unseen hand. Since too many accidents and unexplained deaths have occurred, even for a town with a history of witchcraft, policeman Luke Fitzwilliam vows to discover the reason--and finds a very cunning killer.   \n",
       "2693                                                                                                                                                                                                                                                                                                                                                                                                                                                                                                                                                                                                                                                                                                                                                                                                        Captain Kirk and the crew of the Enterprise struggle against an unknown deadly enemy after a mysterious attack cripples the starship and leaves Dr. McCoy without a memory   \n",
       "4654                                                                                                                                                                                                                                                                                                                                                           It's America in 1962. Slavery is legal once again. the few Jews who still survive hide under assumed names. In San Francisco the I Ching is as common as the Yellow Pages. All because some 20 years earlier the United States lost a war--and is now occupied jointly by Nazi Germany and Japan. This harrowing, Hugo Award-winning novel is the work that established Philip K. Dick as an innovator in science fiction while breaking the barrier between science fiction and the serious novel of ideas. In it Dick offers a haunting vision of history as a nightmare from which it may just be possible to awake.   \n",
       "...                                                                                                                                                                                                                                                                                                                                                                                                                                                                                                                                                                                                                                                                                                                                                                                                                                                                                                                                                                                ...   \n",
       "180426                                                                                                                                                                                                                                                                                                                                                                                                                                                                                                                                                                                                                                                                                                                                                                                      This legendary masterpiece--the most successful of Robbins's many books--tells a story of money and power, sex and death, and is available once again in an exciting new package. Reissue.   \n",
       "180689                                                                                                                                                                                                                                                                                                                                                                                                                                                                                                                                                                                                                                                                                                                                                                                                                                                                          Lucy becomes entangled in a mystery when her desire to meet John Gale the actor is hindered by his son   \n",
       "180754                                                                                                                                                                                                                                                                                                                                        This is a unique eye-witness account of the most written about disaster of the 20th century. Joining the Royal Mail Line in 1908, Violet Jessop spent her entire career at sea, travelling on more than 200 voyages. She was a stewardess for the first-class passengers on the Titanic when it sank on its maiden voyage in April 1912 after hitting an iceberg. Her description of the sinking is chilling as she sees to the needs of the passengers before finding a warm coat for herself. Four years later, she was a wartime nurse aboard the hospital ship Britannic when it struck a mine and sank to the bottom of the Aegean.   \n",
       "181148                                                                                                                                                                                                                                                                                                                                                                                                                                                                                                                                                                                                                                                                        This boxed set showcases the first four books of this best-selling chapter book series about the Waistband Warrior, and includes a special Captain Underpants Whoopee Cushion. All of the characters from the first four books are featured in Pilkey's new art for the case. Illustrations. Consumable.   \n",
       "182395  A devoted son. A generous friend. A model Army recruit. A gifted entertainer. A beloved hero to millions. This is the Elvis Presly the world knew -- and cherished. Brooding. Violent. Obsessed with death. Strung out. Sexually driven. This is the other side of Elvis -- according to the three men who lived with him through it all -- a man who: * Chamed a beautiful young fan into joining him on a drug binge for two that nearly killed her * Took a group of friends on a 3 A.M. visit to a mortuary to look at corpses and talk about embalming * Hurled a pool cue at a party guest who interrupts his game, injuring her breast * Talked with his bodyguard about a \"hit\" on the man he felt stole his wife Steve Dunleavy has woven together the experiences of three Presley bodyguards who were there partying with him, womanizing with him, worrying with him -- tasting the pleasure and the pains of life with the most fabulous star in showbiz history!   \n",
       "\n",
       "        page_count        categories maturity_rating language  \n",
       "41              -1               NaN      NOT_MATURE       en  \n",
       "279             -1       Biographers      NOT_MATURE       en  \n",
       "2502            -1               NaN      NOT_MATURE       en  \n",
       "2693            -1           Fiction      NOT_MATURE       en  \n",
       "4654            -1               NaN      NOT_MATURE       en  \n",
       "...            ...               ...             ...      ...  \n",
       "180426          -1               NaN      NOT_MATURE       en  \n",
       "180689          -1           Fiction      NOT_MATURE       en  \n",
       "180754          -1               NaN      NOT_MATURE       en  \n",
       "181148          -1  Juvenile Fiction      NOT_MATURE       en  \n",
       "182395          -1             Music      NOT_MATURE       en  \n",
       "\n",
       "[323 rows x 12 columns]"
      ]
     },
     "execution_count": 81,
     "metadata": {},
     "output_type": "execute_result"
    }
   ],
   "source": [
    "#inspecting page_count entries with missing data with the placeholder -1\n",
    "books_data.loc[books_data['page_count'] == -1,:]"
   ]
  },
  {
   "cell_type": "markdown",
   "metadata": {},
   "source": [
    "* There are 323 missing values in page_count."
   ]
  },
  {
   "cell_type": "code",
   "execution_count": 82,
   "metadata": {},
   "outputs": [
    {
     "data": {
      "text/plain": [
       "ISBN                      0\n",
       "Book-Title                0\n",
       "Year-Of-Publication       0\n",
       "Publisher                 0\n",
       "Image-URL-L               1\n",
       "authors                   0\n",
       "published_date           13\n",
       "description               0\n",
       "page_count                0\n",
       "categories             2552\n",
       "maturity_rating           0\n",
       "language                  0\n",
       "dtype: int64"
      ]
     },
     "execution_count": 82,
     "metadata": {},
     "output_type": "execute_result"
    }
   ],
   "source": [
    "books_data.isna().sum()"
   ]
  },
  {
   "cell_type": "code",
   "execution_count": 83,
   "metadata": {},
   "outputs": [],
   "source": [
    "# function to convert column names to lower case\n",
    "def lowercase_column_names(df):\n",
    "    # Get a list of the column names, and convert each one to lower case\n",
    "    lowercase_columns = [x.lower() for x in df.columns]\n",
    "    \n",
    "    # Replace the existing column names with the lower case version\n",
    "    df.columns = lowercase_columns"
   ]
  },
  {
   "cell_type": "code",
   "execution_count": 84,
   "metadata": {},
   "outputs": [],
   "source": [
    "# Convert the column names to lower case\n",
    "lowercase_column_names(books_data)\n"
   ]
  },
  {
   "cell_type": "code",
   "execution_count": 85,
   "metadata": {},
   "outputs": [
    {
     "data": {
      "text/html": [
       "<div>\n",
       "<style scoped>\n",
       "    .dataframe tbody tr th:only-of-type {\n",
       "        vertical-align: middle;\n",
       "    }\n",
       "\n",
       "    .dataframe tbody tr th {\n",
       "        vertical-align: top;\n",
       "    }\n",
       "\n",
       "    .dataframe thead th {\n",
       "        text-align: right;\n",
       "    }\n",
       "</style>\n",
       "<table border=\"1\" class=\"dataframe\">\n",
       "  <thead>\n",
       "    <tr style=\"text-align: right;\">\n",
       "      <th></th>\n",
       "      <th>isbn</th>\n",
       "      <th>book-title</th>\n",
       "      <th>year-of-publication</th>\n",
       "      <th>publisher</th>\n",
       "      <th>image-url-l</th>\n",
       "      <th>authors</th>\n",
       "      <th>published_date</th>\n",
       "      <th>description</th>\n",
       "      <th>page_count</th>\n",
       "      <th>categories</th>\n",
       "      <th>maturity_rating</th>\n",
       "      <th>language</th>\n",
       "    </tr>\n",
       "  </thead>\n",
       "  <tbody>\n",
       "    <tr>\n",
       "      <th>0</th>\n",
       "      <td>0195153448</td>\n",
       "      <td>Classical Mythology</td>\n",
       "      <td>2002</td>\n",
       "      <td>Oxford University Press</td>\n",
       "      <td>http://images.amazon.com/images/P/0195153448.01.LZZZZZZZ.jpg</td>\n",
       "      <td>Mark P. O. Morford', 'Robert J. Lenardon</td>\n",
       "      <td>2003</td>\n",
       "      <td>Provides an introduction to classical myths placing the addressed topics within their historical context, discussion of archaeological evidence as support for mythical events, and how these themes have been portrayed in literature, art, music, and film.</td>\n",
       "      <td>808</td>\n",
       "      <td>Social Science</td>\n",
       "      <td>NOT_MATURE</td>\n",
       "      <td>en</td>\n",
       "    </tr>\n",
       "    <tr>\n",
       "      <th>2</th>\n",
       "      <td>0060973129</td>\n",
       "      <td>Decision in Normandy</td>\n",
       "      <td>1991</td>\n",
       "      <td>HarperPerennial</td>\n",
       "      <td>http://images.amazon.com/images/P/0060973129.01.LZZZZZZZ.jpg</td>\n",
       "      <td>\"Carlo D'Este\"</td>\n",
       "      <td>1991</td>\n",
       "      <td>Here, for the first time in paperback, is an outstanding military history that offers a dramatic new perspective on the Allied campaign that began with the invasion of the D-Day beaches of Normandy. Nationa advertising in Military History.</td>\n",
       "      <td>582</td>\n",
       "      <td>1940-1949</td>\n",
       "      <td>NOT_MATURE</td>\n",
       "      <td>en</td>\n",
       "    </tr>\n",
       "    <tr>\n",
       "      <th>3</th>\n",
       "      <td>0374157065</td>\n",
       "      <td>Flu: The Story of the Great Influenza Pandemic of 1918 and the Search for the Virus That Caused It</td>\n",
       "      <td>1999</td>\n",
       "      <td>Farrar Straus Giroux</td>\n",
       "      <td>http://images.amazon.com/images/P/0374157065.01.LZZZZZZZ.jpg</td>\n",
       "      <td>Gina Bari Kolata</td>\n",
       "      <td>1999</td>\n",
       "      <td>Describes the great flu epidemic of 1918, an outbreak that killed some forty million people worldwide, and discusses the efforts of scientists and public health officials to understand and prevent another lethal pandemic</td>\n",
       "      <td>367</td>\n",
       "      <td>Medical</td>\n",
       "      <td>NOT_MATURE</td>\n",
       "      <td>en</td>\n",
       "    </tr>\n",
       "    <tr>\n",
       "      <th>4</th>\n",
       "      <td>0393045218</td>\n",
       "      <td>The Mummies of Urumchi</td>\n",
       "      <td>1999</td>\n",
       "      <td>W. W. Norton &amp;amp; Company</td>\n",
       "      <td>http://images.amazon.com/images/P/0393045218.01.LZZZZZZZ.jpg</td>\n",
       "      <td>E. J. W. Barber</td>\n",
       "      <td>1999</td>\n",
       "      <td>A look at the incredibly well-preserved ancient mummies found in Western China describes their clothing and appearance, attempts to reconstruct their culture, and speculates about how Caucasians could have found their way to the feet of the Himalayan mountains.</td>\n",
       "      <td>240</td>\n",
       "      <td>Design</td>\n",
       "      <td>NOT_MATURE</td>\n",
       "      <td>en</td>\n",
       "    </tr>\n",
       "    <tr>\n",
       "      <th>5</th>\n",
       "      <td>0399135782</td>\n",
       "      <td>The Kitchen God's Wife</td>\n",
       "      <td>1991</td>\n",
       "      <td>Putnam Pub Group</td>\n",
       "      <td>http://images.amazon.com/images/P/0399135782.01.LZZZZZZZ.jpg</td>\n",
       "      <td>Amy Tan</td>\n",
       "      <td>1991</td>\n",
       "      <td>A Chinese immigrant who is convinced she is dying threatens to celebrate the Chinese New Year by unburdening herself of everybody's hidden truths, thus prompting a series of comic misunderstandings</td>\n",
       "      <td>428</td>\n",
       "      <td>Fiction</td>\n",
       "      <td>NOT_MATURE</td>\n",
       "      <td>en</td>\n",
       "    </tr>\n",
       "  </tbody>\n",
       "</table>\n",
       "</div>"
      ],
      "text/plain": [
       "         isbn  \\\n",
       "0  0195153448   \n",
       "2  0060973129   \n",
       "3  0374157065   \n",
       "4  0393045218   \n",
       "5  0399135782   \n",
       "\n",
       "                                                                                           book-title  \\\n",
       "0                                                                                 Classical Mythology   \n",
       "2                                                                                Decision in Normandy   \n",
       "3  Flu: The Story of the Great Influenza Pandemic of 1918 and the Search for the Virus That Caused It   \n",
       "4                                                                              The Mummies of Urumchi   \n",
       "5                                                                              The Kitchen God's Wife   \n",
       "\n",
       "   year-of-publication                   publisher  \\\n",
       "0                 2002     Oxford University Press   \n",
       "2                 1991             HarperPerennial   \n",
       "3                 1999        Farrar Straus Giroux   \n",
       "4                 1999  W. W. Norton &amp; Company   \n",
       "5                 1991            Putnam Pub Group   \n",
       "\n",
       "                                                    image-url-l  \\\n",
       "0  http://images.amazon.com/images/P/0195153448.01.LZZZZZZZ.jpg   \n",
       "2  http://images.amazon.com/images/P/0060973129.01.LZZZZZZZ.jpg   \n",
       "3  http://images.amazon.com/images/P/0374157065.01.LZZZZZZZ.jpg   \n",
       "4  http://images.amazon.com/images/P/0393045218.01.LZZZZZZZ.jpg   \n",
       "5  http://images.amazon.com/images/P/0399135782.01.LZZZZZZZ.jpg   \n",
       "\n",
       "                                    authors published_date  \\\n",
       "0  Mark P. O. Morford', 'Robert J. Lenardon           2003   \n",
       "2                            \"Carlo D'Este\"           1991   \n",
       "3                          Gina Bari Kolata           1999   \n",
       "4                           E. J. W. Barber           1999   \n",
       "5                                   Amy Tan           1991   \n",
       "\n",
       "                                                                                                                                                                                                                                                             description  \\\n",
       "0          Provides an introduction to classical myths placing the addressed topics within their historical context, discussion of archaeological evidence as support for mythical events, and how these themes have been portrayed in literature, art, music, and film.   \n",
       "2                        Here, for the first time in paperback, is an outstanding military history that offers a dramatic new perspective on the Allied campaign that began with the invasion of the D-Day beaches of Normandy. Nationa advertising in Military History.   \n",
       "3                                           Describes the great flu epidemic of 1918, an outbreak that killed some forty million people worldwide, and discusses the efforts of scientists and public health officials to understand and prevent another lethal pandemic   \n",
       "4  A look at the incredibly well-preserved ancient mummies found in Western China describes their clothing and appearance, attempts to reconstruct their culture, and speculates about how Caucasians could have found their way to the feet of the Himalayan mountains.   \n",
       "5                                                                  A Chinese immigrant who is convinced she is dying threatens to celebrate the Chinese New Year by unburdening herself of everybody's hidden truths, thus prompting a series of comic misunderstandings   \n",
       "\n",
       "   page_count      categories maturity_rating language  \n",
       "0         808  Social Science      NOT_MATURE       en  \n",
       "2         582       1940-1949      NOT_MATURE       en  \n",
       "3         367         Medical      NOT_MATURE       en  \n",
       "4         240          Design      NOT_MATURE       en  \n",
       "5         428         Fiction      NOT_MATURE       en  "
      ]
     },
     "execution_count": 85,
     "metadata": {},
     "output_type": "execute_result"
    }
   ],
   "source": [
    "books_data.head()"
   ]
  },
  {
   "cell_type": "code",
   "execution_count": null,
   "metadata": {},
   "outputs": [],
   "source": []
  }
 ],
 "metadata": {
  "kernelspec": {
   "display_name": "Python 3",
   "language": "python",
   "name": "python3"
  },
  "language_info": {
   "codemirror_mode": {
    "name": "ipython",
    "version": 3
   },
   "file_extension": ".py",
   "mimetype": "text/x-python",
   "name": "python",
   "nbconvert_exporter": "python",
   "pygments_lexer": "ipython3",
   "version": "3.8.5"
  },
  "vscode": {
   "interpreter": {
    "hash": "eb9a1cfcb3fcd794ed604d243aad9cded6da2afc9012065f3a897ba0af729602"
   }
  }
 },
 "nbformat": 4,
 "nbformat_minor": 2
}
