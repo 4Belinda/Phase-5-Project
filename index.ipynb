{
 "cells": [
  {
   "cell_type": "markdown",
   "metadata": {},
   "source": [
    "# **Library Book Recommendation System**\n",
    "---\n",
    "Authors: [Monicah Iwagit](https://github.com/Okodoimonicah), [Bradley Azegele](https://github.com/Azegele), [Emmanuel Kipkorir](), [Belinda Nyamai](), [Femi Kamau](https://github.com/ctrl-Karugu), and [Dennis Kimiri]()"
   ]
  },
  {
   "cell_type": "markdown",
   "metadata": {},
   "source": [
    "## 1. Business Understanding\n",
    "\n",
    "### 1.1 Problem Statement\n",
    ">The tremendous growth and usage of information has led to information overloading where users find it difficult to locate the right information at a specified time. Although there are previous studies conducted on library recommender systems, the datasets used were small compared to the dataset we intend to use hence minimal area coverage. Recommending the right library books is a challenge due to the variety of genres available and the huge collection of books provided. A user finds it difficult to select the most appropriate book that will suit their academic needs, this process consumes a lot of time that the user would have used to sharpen on their desired skills. Additionally, many books in the library are rarely utilized which results in a waste of library resources. Having a personalized recommendation system seeks to predict the preference based on the user’s interest, behavior and information. The application of recommender systems in the university library solves the problem of difficulty in choosing books and improves utilization rate of library resources. "
   ]
  },
  {
   "cell_type": "markdown",
   "metadata": {},
   "source": [
    "## 2. Data Understanding\n",
    "> The goal of the Data Understanding phase is to provide a solid foundation for the subsequent steps, including data preparation, exploratory data analysis, model development, and evaluation."
   ]
  },
  {
   "cell_type": "markdown",
   "metadata": {},
   "source": [
    "#### Load Libraries"
   ]
  },
  {
   "cell_type": "code",
   "execution_count": 1,
   "metadata": {},
   "outputs": [],
   "source": [
    "# Data Manipulation\n",
    "import pandas as pd\n",
    "import numpy as np\n",
    "\n",
    "# Data Visualization\n",
    "import matplotlib.pyplot as plt\n",
    "import seaborn as sns\n",
    "\n",
    "# Miscellaneous\n",
    "import warnings\n",
    "\n",
    "# Settings\n",
    "warnings.filterwarnings('ignore')\n",
    "pd.set_option('display.max_columns', None)\n",
    "pd.set_option('display.max_colwidth', None)"
   ]
  },
  {
   "cell_type": "markdown",
   "metadata": {},
   "source": [
    "### 2.1 Collect Initial Data\n",
    "> The goal of this section is to acquire the necessary data and load it into the notebook.\n",
    "\n",
    "> The data used in this project was sourced from 2 different sources:\n",
    ">   1. The first was source was from Cai-Nicolas Ziegler in a 4-week crawl (August-September [2004]) in the University of Freiburg, Germany. This can be found [here](http://www2.informatik.uni-freiburg.de/~cziegler/BX/). The data obtained are 3 datasets with information on [users](./data/BX-Users.csv), [ratings](./data/BX-Book-Ratings.csv) and [books](./data/BX-Books.csv) from a library.\n",
    ">\n",
    ">   2. The second set of data was sourced from the [Google Books API](https://developers.google.com/books). This data was obtained by using ISBNs in the books dataset from the first source. The script used to extract the data can be found [here](./make_dataset.py). This data was then stored in csv format and can be found [here](./data/books.csv)."
   ]
  },
  {
   "cell_type": "markdown",
   "metadata": {},
   "source": [
    "#### Load Data"
   ]
  },
  {
   "cell_type": "code",
   "execution_count": 2,
   "metadata": {},
   "outputs": [
    {
     "name": "stderr",
     "output_type": "stream",
     "text": [
      "b'Skipping line 6452: expected 8 fields, saw 9\\nSkipping line 43667: expected 8 fields, saw 10\\nSkipping line 51751: expected 8 fields, saw 9\\n'\n",
      "b'Skipping line 92038: expected 8 fields, saw 9\\nSkipping line 104319: expected 8 fields, saw 9\\nSkipping line 121768: expected 8 fields, saw 9\\n'\n",
      "b'Skipping line 144058: expected 8 fields, saw 9\\nSkipping line 150789: expected 8 fields, saw 9\\nSkipping line 157128: expected 8 fields, saw 9\\nSkipping line 180189: expected 8 fields, saw 9\\nSkipping line 185738: expected 8 fields, saw 9\\n'\n",
      "b'Skipping line 209388: expected 8 fields, saw 9\\nSkipping line 220626: expected 8 fields, saw 9\\nSkipping line 227933: expected 8 fields, saw 11\\nSkipping line 228957: expected 8 fields, saw 10\\nSkipping line 245933: expected 8 fields, saw 9\\nSkipping line 251296: expected 8 fields, saw 9\\nSkipping line 259941: expected 8 fields, saw 9\\nSkipping line 261529: expected 8 fields, saw 9\\n'\n"
     ]
    }
   ],
   "source": [
    "# (Source 1)\n",
    "ratings = pd.read_csv(\"data/BX-Book-Ratings.csv\", sep=\";\", error_bad_lines=False, encoding=\"latin-1\")\n",
    "books = pd.read_csv(\"data/BX-Books.csv\", sep=\";\", error_bad_lines=False, encoding=\"latin-1\")\n",
    "users = pd.read_csv(\"data/BX-Users.csv\", sep=\";\", error_bad_lines=False, encoding=\"latin-1\")\n",
    "\n",
    "# (Source 2)\n",
    "books_extra = pd.read_csv(\"data/books.csv\", encoding=\"latin-1\")"
   ]
  },
  {
   "cell_type": "markdown",
   "metadata": {},
   "source": [
    "### 2.2 Describe Data\n",
    "> The goal of this section is to examine the data and document its surface properties."
   ]
  },
  {
   "cell_type": "code",
   "execution_count": 3,
   "metadata": {},
   "outputs": [],
   "source": [
    "# Define class to describe the data \n",
    "class DescribeData():\n",
    "    \"\"\"This class is used to describe the data in a DataFrame.\"\"\"\n",
    "    \n",
    "    def __init__(self, df) -> None:\n",
    "        \n",
    "        # Get the DataFrame\n",
    "        self.df = df\n",
    "        \n",
    "        # Get the datatypes of the columns in the DataFrame\n",
    "        self.datatypes = df.dtypes\n",
    "         \n",
    "        # Get the shape of the DataFrame\n",
    "        self.shape = f\"The shape of the DataFrame is {df.shape}\\n\\nRecords: {df.shape[0]}\\nColumns: {df.shape[1]}\"\n",
    "        \n",
    "        # Get the number of missing values in each column\n",
    "        self.missing = f\"There are a total of {df.isnull().sum().values.sum()} missing values in the DataFrame.\\n\\n{df.isnull().sum()}\"\n",
    "        \n",
    "        # Get the number of duplicate rows\n",
    "        self.duplicates = f\"There are {df.duplicated().sum()} duplicated records in the DataFrame.\""
   ]
  },
  {
   "cell_type": "markdown",
   "metadata": {},
   "source": [
    "#### 2.2.1 `ratings`"
   ]
  },
  {
   "cell_type": "code",
   "execution_count": 4,
   "metadata": {},
   "outputs": [],
   "source": [
    "# Create an instance of the 'DescribeData' class for the 'ratings' DataFrame\n",
    "rt = DescribeData(ratings)"
   ]
  },
  {
   "cell_type": "code",
   "execution_count": 5,
   "metadata": {},
   "outputs": [
    {
     "data": {
      "text/html": [
       "<div>\n",
       "<style scoped>\n",
       "    .dataframe tbody tr th:only-of-type {\n",
       "        vertical-align: middle;\n",
       "    }\n",
       "\n",
       "    .dataframe tbody tr th {\n",
       "        vertical-align: top;\n",
       "    }\n",
       "\n",
       "    .dataframe thead th {\n",
       "        text-align: right;\n",
       "    }\n",
       "</style>\n",
       "<table border=\"1\" class=\"dataframe\">\n",
       "  <thead>\n",
       "    <tr style=\"text-align: right;\">\n",
       "      <th></th>\n",
       "      <th>User-ID</th>\n",
       "      <th>ISBN</th>\n",
       "      <th>Book-Rating</th>\n",
       "    </tr>\n",
       "  </thead>\n",
       "  <tbody>\n",
       "    <tr>\n",
       "      <th>0</th>\n",
       "      <td>276725</td>\n",
       "      <td>034545104X</td>\n",
       "      <td>0</td>\n",
       "    </tr>\n",
       "    <tr>\n",
       "      <th>1</th>\n",
       "      <td>276726</td>\n",
       "      <td>0155061224</td>\n",
       "      <td>5</td>\n",
       "    </tr>\n",
       "    <tr>\n",
       "      <th>2</th>\n",
       "      <td>276727</td>\n",
       "      <td>0446520802</td>\n",
       "      <td>0</td>\n",
       "    </tr>\n",
       "    <tr>\n",
       "      <th>3</th>\n",
       "      <td>276729</td>\n",
       "      <td>052165615X</td>\n",
       "      <td>3</td>\n",
       "    </tr>\n",
       "    <tr>\n",
       "      <th>4</th>\n",
       "      <td>276729</td>\n",
       "      <td>0521795028</td>\n",
       "      <td>6</td>\n",
       "    </tr>\n",
       "  </tbody>\n",
       "</table>\n",
       "</div>"
      ],
      "text/plain": [
       "   User-ID        ISBN  Book-Rating\n",
       "0   276725  034545104X            0\n",
       "1   276726  0155061224            5\n",
       "2   276727  0446520802            0\n",
       "3   276729  052165615X            3\n",
       "4   276729  0521795028            6"
      ]
     },
     "execution_count": 5,
     "metadata": {},
     "output_type": "execute_result"
    }
   ],
   "source": [
    "# Preview the 'ratings' DataFrame\n",
    "rt.df.head()"
   ]
  },
  {
   "cell_type": "code",
   "execution_count": 6,
   "metadata": {},
   "outputs": [
    {
     "name": "stdout",
     "output_type": "stream",
     "text": [
      "<class 'pandas.core.frame.DataFrame'>\n",
      "RangeIndex: 1149780 entries, 0 to 1149779\n",
      "Data columns (total 3 columns):\n",
      " #   Column       Non-Null Count    Dtype \n",
      "---  ------       --------------    ----- \n",
      " 0   User-ID      1149780 non-null  int64 \n",
      " 1   ISBN         1149780 non-null  object\n",
      " 2   Book-Rating  1149780 non-null  int64 \n",
      "dtypes: int64(2), object(1)\n",
      "memory usage: 26.3+ MB\n"
     ]
    }
   ],
   "source": [
    "# Inspect the information about the DataFrame\n",
    "rt.df.info()"
   ]
  },
  {
   "cell_type": "code",
   "execution_count": 7,
   "metadata": {},
   "outputs": [
    {
     "name": "stdout",
     "output_type": "stream",
     "text": [
      "The shape of the DataFrame is (1149780, 3)\n",
      "\n",
      "Records: 1149780\n",
      "Columns: 3\n"
     ]
    }
   ],
   "source": [
    "# Inspect the shape of the DataFrame\n",
    "print(rt.shape)"
   ]
  },
  {
   "cell_type": "code",
   "execution_count": 8,
   "metadata": {},
   "outputs": [
    {
     "name": "stdout",
     "output_type": "stream",
     "text": [
      "User-ID         int64\n",
      "ISBN           object\n",
      "Book-Rating     int64\n",
      "dtype: object\n"
     ]
    }
   ],
   "source": [
    "# Inspect the datatypes of the columns in the DataFrame\n",
    "print(rt.datatypes)"
   ]
  },
  {
   "cell_type": "code",
   "execution_count": 9,
   "metadata": {},
   "outputs": [
    {
     "data": {
      "text/html": [
       "<div>\n",
       "<style scoped>\n",
       "    .dataframe tbody tr th:only-of-type {\n",
       "        vertical-align: middle;\n",
       "    }\n",
       "\n",
       "    .dataframe tbody tr th {\n",
       "        vertical-align: top;\n",
       "    }\n",
       "\n",
       "    .dataframe thead th {\n",
       "        text-align: right;\n",
       "    }\n",
       "</style>\n",
       "<table border=\"1\" class=\"dataframe\">\n",
       "  <thead>\n",
       "    <tr style=\"text-align: right;\">\n",
       "      <th></th>\n",
       "      <th>User-ID</th>\n",
       "      <th>Book-Rating</th>\n",
       "    </tr>\n",
       "  </thead>\n",
       "  <tbody>\n",
       "    <tr>\n",
       "      <th>count</th>\n",
       "      <td>1.149780e+06</td>\n",
       "      <td>1.149780e+06</td>\n",
       "    </tr>\n",
       "    <tr>\n",
       "      <th>mean</th>\n",
       "      <td>1.403864e+05</td>\n",
       "      <td>2.866950e+00</td>\n",
       "    </tr>\n",
       "    <tr>\n",
       "      <th>std</th>\n",
       "      <td>8.056228e+04</td>\n",
       "      <td>3.854184e+00</td>\n",
       "    </tr>\n",
       "    <tr>\n",
       "      <th>min</th>\n",
       "      <td>2.000000e+00</td>\n",
       "      <td>0.000000e+00</td>\n",
       "    </tr>\n",
       "    <tr>\n",
       "      <th>25%</th>\n",
       "      <td>7.034500e+04</td>\n",
       "      <td>0.000000e+00</td>\n",
       "    </tr>\n",
       "    <tr>\n",
       "      <th>50%</th>\n",
       "      <td>1.410100e+05</td>\n",
       "      <td>0.000000e+00</td>\n",
       "    </tr>\n",
       "    <tr>\n",
       "      <th>75%</th>\n",
       "      <td>2.110280e+05</td>\n",
       "      <td>7.000000e+00</td>\n",
       "    </tr>\n",
       "    <tr>\n",
       "      <th>max</th>\n",
       "      <td>2.788540e+05</td>\n",
       "      <td>1.000000e+01</td>\n",
       "    </tr>\n",
       "  </tbody>\n",
       "</table>\n",
       "</div>"
      ],
      "text/plain": [
       "            User-ID   Book-Rating\n",
       "count  1.149780e+06  1.149780e+06\n",
       "mean   1.403864e+05  2.866950e+00\n",
       "std    8.056228e+04  3.854184e+00\n",
       "min    2.000000e+00  0.000000e+00\n",
       "25%    7.034500e+04  0.000000e+00\n",
       "50%    1.410100e+05  0.000000e+00\n",
       "75%    2.110280e+05  7.000000e+00\n",
       "max    2.788540e+05  1.000000e+01"
      ]
     },
     "execution_count": 9,
     "metadata": {},
     "output_type": "execute_result"
    }
   ],
   "source": [
    "# Inspect the summary statistics of the DataFrame\n",
    "rt.df.describe()"
   ]
  },
  {
   "cell_type": "code",
   "execution_count": 10,
   "metadata": {},
   "outputs": [
    {
     "name": "stdout",
     "output_type": "stream",
     "text": [
      "There are a total of 0 missing values in the DataFrame.\n",
      "\n",
      "User-ID        0\n",
      "ISBN           0\n",
      "Book-Rating    0\n",
      "dtype: int64\n"
     ]
    }
   ],
   "source": [
    "# Inspect the number of missing values in each column\n",
    "print(rt.missing)"
   ]
  },
  {
   "cell_type": "code",
   "execution_count": 11,
   "metadata": {},
   "outputs": [
    {
     "name": "stdout",
     "output_type": "stream",
     "text": [
      "There are 0 duplicated records in the DataFrame.\n"
     ]
    }
   ],
   "source": [
    "# Inspect the duplicates in the DataFrame\n",
    "print(rt.duplicates)"
   ]
  },
  {
   "cell_type": "markdown",
   "metadata": {},
   "source": [
    "[**Ratings Dataset**](./data/BX-Book-Ratings.csv)\n",
    "\n",
    ">* Spans **3** columns and **1,149,780** rows.\n",
    "\n",
    ">* Contains **2** unique datatypes: \n",
    ">    * **int64**\n",
    ">    * **object**\n",
    "\n",
    ">* Has no missing values\n",
    "\n",
    ">* Has no duplicates"
   ]
  },
  {
   "cell_type": "markdown",
   "metadata": {},
   "source": [
    "#### 2.2.2 `books` "
   ]
  },
  {
   "cell_type": "code",
   "execution_count": 12,
   "metadata": {},
   "outputs": [],
   "source": [
    "# Instantiate the 'DescribeData' class for the 'books' DataFrame\n",
    "bk = DescribeData(books)"
   ]
  },
  {
   "cell_type": "code",
   "execution_count": 13,
   "metadata": {},
   "outputs": [
    {
     "data": {
      "text/html": [
       "<div>\n",
       "<style scoped>\n",
       "    .dataframe tbody tr th:only-of-type {\n",
       "        vertical-align: middle;\n",
       "    }\n",
       "\n",
       "    .dataframe tbody tr th {\n",
       "        vertical-align: top;\n",
       "    }\n",
       "\n",
       "    .dataframe thead th {\n",
       "        text-align: right;\n",
       "    }\n",
       "</style>\n",
       "<table border=\"1\" class=\"dataframe\">\n",
       "  <thead>\n",
       "    <tr style=\"text-align: right;\">\n",
       "      <th></th>\n",
       "      <th>ISBN</th>\n",
       "      <th>Book-Title</th>\n",
       "      <th>Book-Author</th>\n",
       "      <th>Year-Of-Publication</th>\n",
       "      <th>Publisher</th>\n",
       "      <th>Image-URL-S</th>\n",
       "      <th>Image-URL-M</th>\n",
       "      <th>Image-URL-L</th>\n",
       "    </tr>\n",
       "  </thead>\n",
       "  <tbody>\n",
       "    <tr>\n",
       "      <th>0</th>\n",
       "      <td>0195153448</td>\n",
       "      <td>Classical Mythology</td>\n",
       "      <td>Mark P. O. Morford</td>\n",
       "      <td>2002</td>\n",
       "      <td>Oxford University Press</td>\n",
       "      <td>http://images.amazon.com/images/P/0195153448.01.THUMBZZZ.jpg</td>\n",
       "      <td>http://images.amazon.com/images/P/0195153448.01.MZZZZZZZ.jpg</td>\n",
       "      <td>http://images.amazon.com/images/P/0195153448.01.LZZZZZZZ.jpg</td>\n",
       "    </tr>\n",
       "    <tr>\n",
       "      <th>1</th>\n",
       "      <td>0002005018</td>\n",
       "      <td>Clara Callan</td>\n",
       "      <td>Richard Bruce Wright</td>\n",
       "      <td>2001</td>\n",
       "      <td>HarperFlamingo Canada</td>\n",
       "      <td>http://images.amazon.com/images/P/0002005018.01.THUMBZZZ.jpg</td>\n",
       "      <td>http://images.amazon.com/images/P/0002005018.01.MZZZZZZZ.jpg</td>\n",
       "      <td>http://images.amazon.com/images/P/0002005018.01.LZZZZZZZ.jpg</td>\n",
       "    </tr>\n",
       "    <tr>\n",
       "      <th>2</th>\n",
       "      <td>0060973129</td>\n",
       "      <td>Decision in Normandy</td>\n",
       "      <td>Carlo D'Este</td>\n",
       "      <td>1991</td>\n",
       "      <td>HarperPerennial</td>\n",
       "      <td>http://images.amazon.com/images/P/0060973129.01.THUMBZZZ.jpg</td>\n",
       "      <td>http://images.amazon.com/images/P/0060973129.01.MZZZZZZZ.jpg</td>\n",
       "      <td>http://images.amazon.com/images/P/0060973129.01.LZZZZZZZ.jpg</td>\n",
       "    </tr>\n",
       "    <tr>\n",
       "      <th>3</th>\n",
       "      <td>0374157065</td>\n",
       "      <td>Flu: The Story of the Great Influenza Pandemic of 1918 and the Search for the Virus That Caused It</td>\n",
       "      <td>Gina Bari Kolata</td>\n",
       "      <td>1999</td>\n",
       "      <td>Farrar Straus Giroux</td>\n",
       "      <td>http://images.amazon.com/images/P/0374157065.01.THUMBZZZ.jpg</td>\n",
       "      <td>http://images.amazon.com/images/P/0374157065.01.MZZZZZZZ.jpg</td>\n",
       "      <td>http://images.amazon.com/images/P/0374157065.01.LZZZZZZZ.jpg</td>\n",
       "    </tr>\n",
       "    <tr>\n",
       "      <th>4</th>\n",
       "      <td>0393045218</td>\n",
       "      <td>The Mummies of Urumchi</td>\n",
       "      <td>E. J. W. Barber</td>\n",
       "      <td>1999</td>\n",
       "      <td>W. W. Norton &amp;amp; Company</td>\n",
       "      <td>http://images.amazon.com/images/P/0393045218.01.THUMBZZZ.jpg</td>\n",
       "      <td>http://images.amazon.com/images/P/0393045218.01.MZZZZZZZ.jpg</td>\n",
       "      <td>http://images.amazon.com/images/P/0393045218.01.LZZZZZZZ.jpg</td>\n",
       "    </tr>\n",
       "  </tbody>\n",
       "</table>\n",
       "</div>"
      ],
      "text/plain": [
       "         ISBN  \\\n",
       "0  0195153448   \n",
       "1  0002005018   \n",
       "2  0060973129   \n",
       "3  0374157065   \n",
       "4  0393045218   \n",
       "\n",
       "                                                                                           Book-Title  \\\n",
       "0                                                                                 Classical Mythology   \n",
       "1                                                                                        Clara Callan   \n",
       "2                                                                                Decision in Normandy   \n",
       "3  Flu: The Story of the Great Influenza Pandemic of 1918 and the Search for the Virus That Caused It   \n",
       "4                                                                              The Mummies of Urumchi   \n",
       "\n",
       "            Book-Author Year-Of-Publication                   Publisher  \\\n",
       "0    Mark P. O. Morford                2002     Oxford University Press   \n",
       "1  Richard Bruce Wright                2001       HarperFlamingo Canada   \n",
       "2          Carlo D'Este                1991             HarperPerennial   \n",
       "3      Gina Bari Kolata                1999        Farrar Straus Giroux   \n",
       "4       E. J. W. Barber                1999  W. W. Norton &amp; Company   \n",
       "\n",
       "                                                    Image-URL-S  \\\n",
       "0  http://images.amazon.com/images/P/0195153448.01.THUMBZZZ.jpg   \n",
       "1  http://images.amazon.com/images/P/0002005018.01.THUMBZZZ.jpg   \n",
       "2  http://images.amazon.com/images/P/0060973129.01.THUMBZZZ.jpg   \n",
       "3  http://images.amazon.com/images/P/0374157065.01.THUMBZZZ.jpg   \n",
       "4  http://images.amazon.com/images/P/0393045218.01.THUMBZZZ.jpg   \n",
       "\n",
       "                                                    Image-URL-M  \\\n",
       "0  http://images.amazon.com/images/P/0195153448.01.MZZZZZZZ.jpg   \n",
       "1  http://images.amazon.com/images/P/0002005018.01.MZZZZZZZ.jpg   \n",
       "2  http://images.amazon.com/images/P/0060973129.01.MZZZZZZZ.jpg   \n",
       "3  http://images.amazon.com/images/P/0374157065.01.MZZZZZZZ.jpg   \n",
       "4  http://images.amazon.com/images/P/0393045218.01.MZZZZZZZ.jpg   \n",
       "\n",
       "                                                    Image-URL-L  \n",
       "0  http://images.amazon.com/images/P/0195153448.01.LZZZZZZZ.jpg  \n",
       "1  http://images.amazon.com/images/P/0002005018.01.LZZZZZZZ.jpg  \n",
       "2  http://images.amazon.com/images/P/0060973129.01.LZZZZZZZ.jpg  \n",
       "3  http://images.amazon.com/images/P/0374157065.01.LZZZZZZZ.jpg  \n",
       "4  http://images.amazon.com/images/P/0393045218.01.LZZZZZZZ.jpg  "
      ]
     },
     "execution_count": 13,
     "metadata": {},
     "output_type": "execute_result"
    }
   ],
   "source": [
    "# Preview the 'books' DataFrame\n",
    "bk.df.head()"
   ]
  },
  {
   "cell_type": "code",
   "execution_count": 14,
   "metadata": {},
   "outputs": [
    {
     "name": "stdout",
     "output_type": "stream",
     "text": [
      "<class 'pandas.core.frame.DataFrame'>\n",
      "RangeIndex: 271360 entries, 0 to 271359\n",
      "Data columns (total 8 columns):\n",
      " #   Column               Non-Null Count   Dtype \n",
      "---  ------               --------------   ----- \n",
      " 0   ISBN                 271360 non-null  object\n",
      " 1   Book-Title           271360 non-null  object\n",
      " 2   Book-Author          271359 non-null  object\n",
      " 3   Year-Of-Publication  271360 non-null  object\n",
      " 4   Publisher            271358 non-null  object\n",
      " 5   Image-URL-S          271360 non-null  object\n",
      " 6   Image-URL-M          271360 non-null  object\n",
      " 7   Image-URL-L          271357 non-null  object\n",
      "dtypes: object(8)\n",
      "memory usage: 16.6+ MB\n"
     ]
    }
   ],
   "source": [
    "# Inspect the information about the DataFrame\n",
    "bk.df.info()"
   ]
  },
  {
   "cell_type": "code",
   "execution_count": 15,
   "metadata": {},
   "outputs": [
    {
     "name": "stdout",
     "output_type": "stream",
     "text": [
      "The shape of the DataFrame is (271360, 8)\n",
      "\n",
      "Records: 271360\n",
      "Columns: 8\n"
     ]
    }
   ],
   "source": [
    "# Inspect the shape of the DataFrame\n",
    "print(bk.shape)"
   ]
  },
  {
   "cell_type": "code",
   "execution_count": 16,
   "metadata": {},
   "outputs": [
    {
     "name": "stdout",
     "output_type": "stream",
     "text": [
      "ISBN                   object\n",
      "Book-Title             object\n",
      "Book-Author            object\n",
      "Year-Of-Publication    object\n",
      "Publisher              object\n",
      "Image-URL-S            object\n",
      "Image-URL-M            object\n",
      "Image-URL-L            object\n",
      "dtype: object\n"
     ]
    }
   ],
   "source": [
    "# Inspect the datatypes of the columns in the DataFrame\n",
    "print(bk.datatypes)"
   ]
  },
  {
   "cell_type": "code",
   "execution_count": 17,
   "metadata": {},
   "outputs": [
    {
     "name": "stdout",
     "output_type": "stream",
     "text": [
      "There are a total of 6 missing values in the DataFrame.\n",
      "\n",
      "ISBN                   0\n",
      "Book-Title             0\n",
      "Book-Author            1\n",
      "Year-Of-Publication    0\n",
      "Publisher              2\n",
      "Image-URL-S            0\n",
      "Image-URL-M            0\n",
      "Image-URL-L            3\n",
      "dtype: int64\n"
     ]
    }
   ],
   "source": [
    "# Inspect the missing values in the DataFrame\n",
    "print(bk.missing)"
   ]
  },
  {
   "cell_type": "code",
   "execution_count": 18,
   "metadata": {},
   "outputs": [
    {
     "name": "stdout",
     "output_type": "stream",
     "text": [
      "There are 0 duplicated records in the DataFrame.\n"
     ]
    }
   ],
   "source": [
    "# Inspect the duplicates in the DataFrame\n",
    "print(bk.duplicates)"
   ]
  },
  {
   "cell_type": "markdown",
   "metadata": {},
   "source": [
    "[**Books Dataset**](./data/BX-Books.csv)\n",
    "\n",
    ">* Spans **8** columns and **271,359** rows.\n",
    "\n",
    ">* Contains 1 unique datatype: \n",
    ">   * **object**\n",
    "\n",
    ">* Has **6** missing values:\n",
    ">   * Book-Author: **1** \n",
    ">   * Publisher: **2**\n",
    ">   * Image-URL-L: **3**\n",
    "\n",
    ">* Has no duplicates"
   ]
  },
  {
   "cell_type": "markdown",
   "metadata": {},
   "source": [
    "#### 2.2.3 `users` "
   ]
  },
  {
   "cell_type": "code",
   "execution_count": 19,
   "metadata": {},
   "outputs": [],
   "source": [
    "# Instantiate the 'DescribeData' class for the 'users' DataFrame\n",
    "ur = DescribeData(users)"
   ]
  },
  {
   "cell_type": "code",
   "execution_count": 20,
   "metadata": {},
   "outputs": [
    {
     "data": {
      "text/html": [
       "<div>\n",
       "<style scoped>\n",
       "    .dataframe tbody tr th:only-of-type {\n",
       "        vertical-align: middle;\n",
       "    }\n",
       "\n",
       "    .dataframe tbody tr th {\n",
       "        vertical-align: top;\n",
       "    }\n",
       "\n",
       "    .dataframe thead th {\n",
       "        text-align: right;\n",
       "    }\n",
       "</style>\n",
       "<table border=\"1\" class=\"dataframe\">\n",
       "  <thead>\n",
       "    <tr style=\"text-align: right;\">\n",
       "      <th></th>\n",
       "      <th>User-ID</th>\n",
       "      <th>Location</th>\n",
       "      <th>Age</th>\n",
       "    </tr>\n",
       "  </thead>\n",
       "  <tbody>\n",
       "    <tr>\n",
       "      <th>0</th>\n",
       "      <td>1</td>\n",
       "      <td>nyc, new york, usa</td>\n",
       "      <td>NaN</td>\n",
       "    </tr>\n",
       "    <tr>\n",
       "      <th>1</th>\n",
       "      <td>2</td>\n",
       "      <td>stockton, california, usa</td>\n",
       "      <td>18.0</td>\n",
       "    </tr>\n",
       "    <tr>\n",
       "      <th>2</th>\n",
       "      <td>3</td>\n",
       "      <td>moscow, yukon territory, russia</td>\n",
       "      <td>NaN</td>\n",
       "    </tr>\n",
       "    <tr>\n",
       "      <th>3</th>\n",
       "      <td>4</td>\n",
       "      <td>porto, v.n.gaia, portugal</td>\n",
       "      <td>17.0</td>\n",
       "    </tr>\n",
       "    <tr>\n",
       "      <th>4</th>\n",
       "      <td>5</td>\n",
       "      <td>farnborough, hants, united kingdom</td>\n",
       "      <td>NaN</td>\n",
       "    </tr>\n",
       "  </tbody>\n",
       "</table>\n",
       "</div>"
      ],
      "text/plain": [
       "   User-ID                            Location   Age\n",
       "0        1                  nyc, new york, usa   NaN\n",
       "1        2           stockton, california, usa  18.0\n",
       "2        3     moscow, yukon territory, russia   NaN\n",
       "3        4           porto, v.n.gaia, portugal  17.0\n",
       "4        5  farnborough, hants, united kingdom   NaN"
      ]
     },
     "execution_count": 20,
     "metadata": {},
     "output_type": "execute_result"
    }
   ],
   "source": [
    "# Preview the 'users' DataFrame\n",
    "ur.df.head()"
   ]
  },
  {
   "cell_type": "code",
   "execution_count": 21,
   "metadata": {},
   "outputs": [
    {
     "name": "stdout",
     "output_type": "stream",
     "text": [
      "<class 'pandas.core.frame.DataFrame'>\n",
      "RangeIndex: 278858 entries, 0 to 278857\n",
      "Data columns (total 3 columns):\n",
      " #   Column    Non-Null Count   Dtype  \n",
      "---  ------    --------------   -----  \n",
      " 0   User-ID   278858 non-null  int64  \n",
      " 1   Location  278858 non-null  object \n",
      " 2   Age       168096 non-null  float64\n",
      "dtypes: float64(1), int64(1), object(1)\n",
      "memory usage: 6.4+ MB\n"
     ]
    }
   ],
   "source": [
    "# Inspect the information about the DataFrame\n",
    "ur.df.info()"
   ]
  },
  {
   "cell_type": "code",
   "execution_count": 22,
   "metadata": {},
   "outputs": [
    {
     "name": "stdout",
     "output_type": "stream",
     "text": [
      "The shape of the DataFrame is (278858, 3)\n",
      "\n",
      "Records: 278858\n",
      "Columns: 3\n"
     ]
    }
   ],
   "source": [
    "# Inspect the shape of the DataFrame\n",
    "print(ur.shape)"
   ]
  },
  {
   "cell_type": "code",
   "execution_count": 23,
   "metadata": {},
   "outputs": [
    {
     "name": "stdout",
     "output_type": "stream",
     "text": [
      "User-ID       int64\n",
      "Location     object\n",
      "Age         float64\n",
      "dtype: object\n"
     ]
    }
   ],
   "source": [
    "# Inspect the datatypes of the columns in the DataFrame\n",
    "print(ur.datatypes)"
   ]
  },
  {
   "cell_type": "code",
   "execution_count": 24,
   "metadata": {},
   "outputs": [
    {
     "data": {
      "text/html": [
       "<div>\n",
       "<style scoped>\n",
       "    .dataframe tbody tr th:only-of-type {\n",
       "        vertical-align: middle;\n",
       "    }\n",
       "\n",
       "    .dataframe tbody tr th {\n",
       "        vertical-align: top;\n",
       "    }\n",
       "\n",
       "    .dataframe thead th {\n",
       "        text-align: right;\n",
       "    }\n",
       "</style>\n",
       "<table border=\"1\" class=\"dataframe\">\n",
       "  <thead>\n",
       "    <tr style=\"text-align: right;\">\n",
       "      <th></th>\n",
       "      <th>User-ID</th>\n",
       "      <th>Age</th>\n",
       "    </tr>\n",
       "  </thead>\n",
       "  <tbody>\n",
       "    <tr>\n",
       "      <th>count</th>\n",
       "      <td>278858.00000</td>\n",
       "      <td>168096.000000</td>\n",
       "    </tr>\n",
       "    <tr>\n",
       "      <th>mean</th>\n",
       "      <td>139429.50000</td>\n",
       "      <td>34.751434</td>\n",
       "    </tr>\n",
       "    <tr>\n",
       "      <th>std</th>\n",
       "      <td>80499.51502</td>\n",
       "      <td>14.428097</td>\n",
       "    </tr>\n",
       "    <tr>\n",
       "      <th>min</th>\n",
       "      <td>1.00000</td>\n",
       "      <td>0.000000</td>\n",
       "    </tr>\n",
       "    <tr>\n",
       "      <th>25%</th>\n",
       "      <td>69715.25000</td>\n",
       "      <td>24.000000</td>\n",
       "    </tr>\n",
       "    <tr>\n",
       "      <th>50%</th>\n",
       "      <td>139429.50000</td>\n",
       "      <td>32.000000</td>\n",
       "    </tr>\n",
       "    <tr>\n",
       "      <th>75%</th>\n",
       "      <td>209143.75000</td>\n",
       "      <td>44.000000</td>\n",
       "    </tr>\n",
       "    <tr>\n",
       "      <th>max</th>\n",
       "      <td>278858.00000</td>\n",
       "      <td>244.000000</td>\n",
       "    </tr>\n",
       "  </tbody>\n",
       "</table>\n",
       "</div>"
      ],
      "text/plain": [
       "            User-ID            Age\n",
       "count  278858.00000  168096.000000\n",
       "mean   139429.50000      34.751434\n",
       "std     80499.51502      14.428097\n",
       "min         1.00000       0.000000\n",
       "25%     69715.25000      24.000000\n",
       "50%    139429.50000      32.000000\n",
       "75%    209143.75000      44.000000\n",
       "max    278858.00000     244.000000"
      ]
     },
     "execution_count": 24,
     "metadata": {},
     "output_type": "execute_result"
    }
   ],
   "source": [
    "# Inspect the summary statistics of the DataFrame\n",
    "ur.df.describe()"
   ]
  },
  {
   "cell_type": "code",
   "execution_count": 25,
   "metadata": {},
   "outputs": [
    {
     "name": "stdout",
     "output_type": "stream",
     "text": [
      "There are a total of 110762 missing values in the DataFrame.\n",
      "\n",
      "User-ID          0\n",
      "Location         0\n",
      "Age         110762\n",
      "dtype: int64\n"
     ]
    }
   ],
   "source": [
    "# Inspect the missing values in the DataFrame\n",
    "print(ur.missing)"
   ]
  },
  {
   "cell_type": "code",
   "execution_count": 26,
   "metadata": {},
   "outputs": [
    {
     "name": "stdout",
     "output_type": "stream",
     "text": [
      "There are 0 duplicated records in the DataFrame.\n"
     ]
    }
   ],
   "source": [
    "# Inspect the duplicates in the DataFrame\n",
    "print(ur.duplicates)"
   ]
  },
  {
   "cell_type": "markdown",
   "metadata": {},
   "source": [
    "[**Users Dataset**](./data/BX-Users.csv)\n",
    "\n",
    ">* Spans **3** columns and **278,857** rows.\n",
    "\n",
    ">* Contains **3** unique datatypes:\n",
    ">   * **int64**\n",
    ">   * **float64**\n",
    ">   * **object**\n",
    "\n",
    ">* Has **110762** missing values:\n",
    ">   * Age: **110,762**\n",
    "\n",
    ">* Has no duplicates"
   ]
  },
  {
   "cell_type": "markdown",
   "metadata": {},
   "source": [
    "#### 2.2.4 `books_extra`"
   ]
  },
  {
   "cell_type": "code",
   "execution_count": 27,
   "metadata": {},
   "outputs": [],
   "source": [
    "# Instantiate the 'DescribeData' class for the 'books_extra' DataFrame\n",
    "bk_extra = DescribeData(books_extra)"
   ]
  },
  {
   "cell_type": "code",
   "execution_count": 28,
   "metadata": {},
   "outputs": [
    {
     "data": {
      "text/html": [
       "<div>\n",
       "<style scoped>\n",
       "    .dataframe tbody tr th:only-of-type {\n",
       "        vertical-align: middle;\n",
       "    }\n",
       "\n",
       "    .dataframe tbody tr th {\n",
       "        vertical-align: top;\n",
       "    }\n",
       "\n",
       "    .dataframe thead th {\n",
       "        text-align: right;\n",
       "    }\n",
       "</style>\n",
       "<table border=\"1\" class=\"dataframe\">\n",
       "  <thead>\n",
       "    <tr style=\"text-align: right;\">\n",
       "      <th></th>\n",
       "      <th>authors</th>\n",
       "      <th>published_date</th>\n",
       "      <th>description</th>\n",
       "      <th>isbn_10</th>\n",
       "      <th>isbn_13</th>\n",
       "      <th>page_count</th>\n",
       "      <th>categories</th>\n",
       "      <th>maturity_rating</th>\n",
       "      <th>language</th>\n",
       "      <th>join_isbn_10</th>\n",
       "    </tr>\n",
       "  </thead>\n",
       "  <tbody>\n",
       "    <tr>\n",
       "      <th>0</th>\n",
       "      <td>['Mark P. O. Morford', 'Robert J. Lenardon']</td>\n",
       "      <td>2003</td>\n",
       "      <td>Provides an introduction to classical myths placing the addressed topics within their historical context, discussion of archaeological evidence as support for mythical events, and how these themes have been portrayed in literature, art, music, and film.</td>\n",
       "      <td>0195153448</td>\n",
       "      <td>9780195153446.0</td>\n",
       "      <td>808.0</td>\n",
       "      <td>['Social Science']</td>\n",
       "      <td>NOT_MATURE</td>\n",
       "      <td>en</td>\n",
       "      <td>0195153448</td>\n",
       "    </tr>\n",
       "    <tr>\n",
       "      <th>1</th>\n",
       "      <td>NaN</td>\n",
       "      <td>NaN</td>\n",
       "      <td>NaN</td>\n",
       "      <td>NaN</td>\n",
       "      <td>NaN</td>\n",
       "      <td>NaN</td>\n",
       "      <td>NaN</td>\n",
       "      <td>NaN</td>\n",
       "      <td>NaN</td>\n",
       "      <td>0002005018</td>\n",
       "    </tr>\n",
       "    <tr>\n",
       "      <th>2</th>\n",
       "      <td>[\"Carlo D'Este\"]</td>\n",
       "      <td>1991</td>\n",
       "      <td>Here, for the first time in paperback, is an outstanding military history that offers a dramatic new perspective on the Allied campaign that began with the invasion of the D-Day beaches of Normandy. Nationa advertising in Military History.</td>\n",
       "      <td>IND:30000026059836</td>\n",
       "      <td>NaN</td>\n",
       "      <td>582.0</td>\n",
       "      <td>['1940-1949']</td>\n",
       "      <td>NOT_MATURE</td>\n",
       "      <td>en</td>\n",
       "      <td>0060973129</td>\n",
       "    </tr>\n",
       "    <tr>\n",
       "      <th>3</th>\n",
       "      <td>['Gina Bari Kolata']</td>\n",
       "      <td>1999</td>\n",
       "      <td>Describes the great flu epidemic of 1918, an outbreak that killed some forty million people worldwide, and discusses the efforts of scientists and public health officials to understand and prevent another lethal pandemic</td>\n",
       "      <td>9780374157067</td>\n",
       "      <td>374157065.0</td>\n",
       "      <td>367.0</td>\n",
       "      <td>['Medical']</td>\n",
       "      <td>NOT_MATURE</td>\n",
       "      <td>en</td>\n",
       "      <td>0374157065</td>\n",
       "    </tr>\n",
       "    <tr>\n",
       "      <th>4</th>\n",
       "      <td>['E. J. W. Barber']</td>\n",
       "      <td>1999</td>\n",
       "      <td>A look at the incredibly well-preserved ancient mummies found in Western China describes their clothing and appearance, attempts to reconstruct their culture, and speculates about how Caucasians could have found their way to the feet of the Himalayan mountains.</td>\n",
       "      <td>0393045218</td>\n",
       "      <td>9780393045215.0</td>\n",
       "      <td>240.0</td>\n",
       "      <td>['Design']</td>\n",
       "      <td>NOT_MATURE</td>\n",
       "      <td>en</td>\n",
       "      <td>0393045218</td>\n",
       "    </tr>\n",
       "  </tbody>\n",
       "</table>\n",
       "</div>"
      ],
      "text/plain": [
       "                                        authors published_date  \\\n",
       "0  ['Mark P. O. Morford', 'Robert J. Lenardon']           2003   \n",
       "1                                           NaN            NaN   \n",
       "2                              [\"Carlo D'Este\"]           1991   \n",
       "3                          ['Gina Bari Kolata']           1999   \n",
       "4                           ['E. J. W. Barber']           1999   \n",
       "\n",
       "                                                                                                                                                                                                                                                             description  \\\n",
       "0          Provides an introduction to classical myths placing the addressed topics within their historical context, discussion of archaeological evidence as support for mythical events, and how these themes have been portrayed in literature, art, music, and film.   \n",
       "1                                                                                                                                                                                                                                                                    NaN   \n",
       "2                        Here, for the first time in paperback, is an outstanding military history that offers a dramatic new perspective on the Allied campaign that began with the invasion of the D-Day beaches of Normandy. Nationa advertising in Military History.   \n",
       "3                                           Describes the great flu epidemic of 1918, an outbreak that killed some forty million people worldwide, and discusses the efforts of scientists and public health officials to understand and prevent another lethal pandemic   \n",
       "4  A look at the incredibly well-preserved ancient mummies found in Western China describes their clothing and appearance, attempts to reconstruct their culture, and speculates about how Caucasians could have found their way to the feet of the Himalayan mountains.   \n",
       "\n",
       "              isbn_10          isbn_13  page_count          categories  \\\n",
       "0          0195153448  9780195153446.0       808.0  ['Social Science']   \n",
       "1                 NaN              NaN         NaN                 NaN   \n",
       "2  IND:30000026059836              NaN       582.0       ['1940-1949']   \n",
       "3       9780374157067      374157065.0       367.0         ['Medical']   \n",
       "4          0393045218  9780393045215.0       240.0          ['Design']   \n",
       "\n",
       "  maturity_rating language join_isbn_10  \n",
       "0      NOT_MATURE       en   0195153448  \n",
       "1             NaN      NaN   0002005018  \n",
       "2      NOT_MATURE       en   0060973129  \n",
       "3      NOT_MATURE       en   0374157065  \n",
       "4      NOT_MATURE       en   0393045218  "
      ]
     },
     "execution_count": 28,
     "metadata": {},
     "output_type": "execute_result"
    }
   ],
   "source": [
    "# Preview the 'books_extra' DataFrame\n",
    "bk_extra.df.head()"
   ]
  },
  {
   "cell_type": "code",
   "execution_count": 29,
   "metadata": {},
   "outputs": [
    {
     "name": "stdout",
     "output_type": "stream",
     "text": [
      "<class 'pandas.core.frame.DataFrame'>\n",
      "RangeIndex: 188041 entries, 0 to 188040\n",
      "Data columns (total 10 columns):\n",
      " #   Column           Non-Null Count   Dtype  \n",
      "---  ------           --------------   -----  \n",
      " 0   authors          144197 non-null  object \n",
      " 1   published_date   145394 non-null  object \n",
      " 2   description      125110 non-null  object \n",
      " 3   isbn_10          145436 non-null  object \n",
      " 4   isbn_13          123579 non-null  object \n",
      " 5   page_count       144659 non-null  float64\n",
      " 6   categories       136636 non-null  object \n",
      " 7   maturity_rating  145444 non-null  object \n",
      " 8   language         145444 non-null  object \n",
      " 9   join_isbn_10     188040 non-null  object \n",
      "dtypes: float64(1), object(9)\n",
      "memory usage: 14.3+ MB\n"
     ]
    }
   ],
   "source": [
    "# Inspect the information about the DataFrame\n",
    "bk_extra.df.info()"
   ]
  },
  {
   "cell_type": "code",
   "execution_count": 30,
   "metadata": {},
   "outputs": [
    {
     "name": "stdout",
     "output_type": "stream",
     "text": [
      "The shape of the DataFrame is (188041, 10)\n",
      "\n",
      "Records: 188041\n",
      "Columns: 10\n"
     ]
    }
   ],
   "source": [
    "# Inspect the shape of the DataFrame\n",
    "print(bk_extra.shape)"
   ]
  },
  {
   "cell_type": "code",
   "execution_count": 31,
   "metadata": {},
   "outputs": [
    {
     "name": "stdout",
     "output_type": "stream",
     "text": [
      "authors             object\n",
      "published_date      object\n",
      "description         object\n",
      "isbn_10             object\n",
      "isbn_13             object\n",
      "page_count         float64\n",
      "categories          object\n",
      "maturity_rating     object\n",
      "language            object\n",
      "join_isbn_10        object\n",
      "dtype: object\n"
     ]
    }
   ],
   "source": [
    "# Inspect the datatypes of the columns in the DataFrame\n",
    "print(bk_extra.datatypes)"
   ]
  },
  {
   "cell_type": "code",
   "execution_count": 32,
   "metadata": {},
   "outputs": [
    {
     "data": {
      "text/html": [
       "<div>\n",
       "<style scoped>\n",
       "    .dataframe tbody tr th:only-of-type {\n",
       "        vertical-align: middle;\n",
       "    }\n",
       "\n",
       "    .dataframe tbody tr th {\n",
       "        vertical-align: top;\n",
       "    }\n",
       "\n",
       "    .dataframe thead th {\n",
       "        text-align: right;\n",
       "    }\n",
       "</style>\n",
       "<table border=\"1\" class=\"dataframe\">\n",
       "  <thead>\n",
       "    <tr style=\"text-align: right;\">\n",
       "      <th></th>\n",
       "      <th>page_count</th>\n",
       "    </tr>\n",
       "  </thead>\n",
       "  <tbody>\n",
       "    <tr>\n",
       "      <th>count</th>\n",
       "      <td>144659.000000</td>\n",
       "    </tr>\n",
       "    <tr>\n",
       "      <th>mean</th>\n",
       "      <td>284.554801</td>\n",
       "    </tr>\n",
       "    <tr>\n",
       "      <th>std</th>\n",
       "      <td>176.874521</td>\n",
       "    </tr>\n",
       "    <tr>\n",
       "      <th>min</th>\n",
       "      <td>0.000000</td>\n",
       "    </tr>\n",
       "    <tr>\n",
       "      <th>25%</th>\n",
       "      <td>182.000000</td>\n",
       "    </tr>\n",
       "    <tr>\n",
       "      <th>50%</th>\n",
       "      <td>264.000000</td>\n",
       "    </tr>\n",
       "    <tr>\n",
       "      <th>75%</th>\n",
       "      <td>364.000000</td>\n",
       "    </tr>\n",
       "    <tr>\n",
       "      <th>max</th>\n",
       "      <td>3591.000000</td>\n",
       "    </tr>\n",
       "  </tbody>\n",
       "</table>\n",
       "</div>"
      ],
      "text/plain": [
       "          page_count\n",
       "count  144659.000000\n",
       "mean      284.554801\n",
       "std       176.874521\n",
       "min         0.000000\n",
       "25%       182.000000\n",
       "50%       264.000000\n",
       "75%       364.000000\n",
       "max      3591.000000"
      ]
     },
     "execution_count": 32,
     "metadata": {},
     "output_type": "execute_result"
    }
   ],
   "source": [
    "# Inspect the summary statistics of the DataFrame\n",
    "bk_extra.df.describe()"
   ]
  },
  {
   "cell_type": "code",
   "execution_count": 33,
   "metadata": {},
   "outputs": [
    {
     "name": "stdout",
     "output_type": "stream",
     "text": [
      "There are a total of 436471 missing values in the DataFrame.\n",
      "\n",
      "authors            43844\n",
      "published_date     42647\n",
      "description        62931\n",
      "isbn_10            42605\n",
      "isbn_13            64462\n",
      "page_count         43382\n",
      "categories         51405\n",
      "maturity_rating    42597\n",
      "language           42597\n",
      "join_isbn_10           1\n",
      "dtype: int64\n"
     ]
    }
   ],
   "source": [
    "# Inspect the missing values in the DataFrame\n",
    "print(bk_extra.missing)"
   ]
  },
  {
   "cell_type": "code",
   "execution_count": 34,
   "metadata": {},
   "outputs": [
    {
     "name": "stdout",
     "output_type": "stream",
     "text": [
      "There are 0 duplicated records in the DataFrame.\n"
     ]
    }
   ],
   "source": [
    "# Inspect the duplicates in the DataFrame\n",
    "print(bk_extra.duplicates)"
   ]
  },
  {
   "cell_type": "markdown",
   "metadata": {},
   "source": [
    "[**Books (Extra) Dataset**](./data/books.csv)\n",
    "\n",
    ">* Spans **10** columns and **()** rows.\n",
    "\n",
    ">* Contains **2** unique datatypes:\n",
    ">   * **float64**\n",
    ">   * **object**\n",
    "\n",
    ">* Has **()** missing values:\n",
    "\n",
    ">* Has no duplicates"
   ]
  },
  {
   "cell_type": "markdown",
   "metadata": {},
   "source": [
    "## 3. Data Preparation\n",
    "> The goal of the Data Preparation phase, which is often referred to as “data munging”, prepares the final data set(s) for modeling."
   ]
  },
  {
   "cell_type": "markdown",
   "metadata": {},
   "source": [
<<<<<<< HEAD
    "### 3.1 data selection\n",
    "This involves choosing the relevant data that will be used for a particular analysis or task by either, selecting a subset of columns, filtering rows, sampling, combining datasets, etc"
   ]
  },
  {
   "cell_type": "markdown",
   "metadata": {},
   "source": [
    "* In the **books dataset** we drop 3 columns, the image urls since they won't be needed for our analysis"
=======
    "## Users Dataset"
>>>>>>> d0f8729cab551846110b5d564cd8c1227553e163
   ]
  },
  {
   "cell_type": "code",
   "execution_count": 35,
   "metadata": {},
<<<<<<< HEAD
   "outputs": [],
   "source": [
    "# class for droping columns that are not needed\n",
    "\n",
    "class drop_column:\n",
    "    def __init__(self, data):\n",
    "        self.data = data\n",
    "\n",
    "    def drop_columns(self, columns):\n",
    "        self.data = self.data.drop(columns, axis=1)\n",
    "        return self.data"
   ]
  },
  {
   "cell_type": "code",
   "execution_count": 36,
   "metadata": {},
   "outputs": [
    {
     "data": {
      "text/html": [
       "<div>\n",
       "<style scoped>\n",
       "    .dataframe tbody tr th:only-of-type {\n",
       "        vertical-align: middle;\n",
       "    }\n",
       "\n",
       "    .dataframe tbody tr th {\n",
       "        vertical-align: top;\n",
       "    }\n",
       "\n",
       "    .dataframe thead th {\n",
       "        text-align: right;\n",
       "    }\n",
       "</style>\n",
       "<table border=\"1\" class=\"dataframe\">\n",
       "  <thead>\n",
       "    <tr style=\"text-align: right;\">\n",
       "      <th></th>\n",
       "      <th>ISBN</th>\n",
       "      <th>Book-Title</th>\n",
       "      <th>Book-Author</th>\n",
       "      <th>Year-Of-Publication</th>\n",
       "      <th>Publisher</th>\n",
       "      <th>Image-URL-L</th>\n",
       "    </tr>\n",
       "  </thead>\n",
       "  <tbody>\n",
       "    <tr>\n",
       "      <th>0</th>\n",
       "      <td>0195153448</td>\n",
       "      <td>Classical Mythology</td>\n",
       "      <td>Mark P. O. Morford</td>\n",
       "      <td>2002</td>\n",
       "      <td>Oxford University Press</td>\n",
       "      <td>http://images.amazon.com/images/P/0195153448.01.LZZZZZZZ.jpg</td>\n",
       "    </tr>\n",
       "    <tr>\n",
       "      <th>1</th>\n",
       "      <td>0002005018</td>\n",
       "      <td>Clara Callan</td>\n",
       "      <td>Richard Bruce Wright</td>\n",
       "      <td>2001</td>\n",
       "      <td>HarperFlamingo Canada</td>\n",
       "      <td>http://images.amazon.com/images/P/0002005018.01.LZZZZZZZ.jpg</td>\n",
       "    </tr>\n",
       "    <tr>\n",
       "      <th>2</th>\n",
       "      <td>0060973129</td>\n",
       "      <td>Decision in Normandy</td>\n",
       "      <td>Carlo D'Este</td>\n",
       "      <td>1991</td>\n",
       "      <td>HarperPerennial</td>\n",
       "      <td>http://images.amazon.com/images/P/0060973129.01.LZZZZZZZ.jpg</td>\n",
       "    </tr>\n",
       "    <tr>\n",
       "      <th>3</th>\n",
       "      <td>0374157065</td>\n",
       "      <td>Flu: The Story of the Great Influenza Pandemic of 1918 and the Search for the Virus That Caused It</td>\n",
       "      <td>Gina Bari Kolata</td>\n",
       "      <td>1999</td>\n",
       "      <td>Farrar Straus Giroux</td>\n",
       "      <td>http://images.amazon.com/images/P/0374157065.01.LZZZZZZZ.jpg</td>\n",
       "    </tr>\n",
       "    <tr>\n",
       "      <th>4</th>\n",
       "      <td>0393045218</td>\n",
       "      <td>The Mummies of Urumchi</td>\n",
       "      <td>E. J. W. Barber</td>\n",
       "      <td>1999</td>\n",
       "      <td>W. W. Norton &amp;amp; Company</td>\n",
       "      <td>http://images.amazon.com/images/P/0393045218.01.LZZZZZZZ.jpg</td>\n",
       "    </tr>\n",
       "  </tbody>\n",
       "</table>\n",
       "</div>"
      ],
      "text/plain": [
       "         ISBN  \\\n",
       "0  0195153448   \n",
       "1  0002005018   \n",
       "2  0060973129   \n",
       "3  0374157065   \n",
       "4  0393045218   \n",
       "\n",
       "                                                                                           Book-Title  \\\n",
       "0                                                                                 Classical Mythology   \n",
       "1                                                                                        Clara Callan   \n",
       "2                                                                                Decision in Normandy   \n",
       "3  Flu: The Story of the Great Influenza Pandemic of 1918 and the Search for the Virus That Caused It   \n",
       "4                                                                              The Mummies of Urumchi   \n",
       "\n",
       "            Book-Author Year-Of-Publication                   Publisher  \\\n",
       "0    Mark P. O. Morford                2002     Oxford University Press   \n",
       "1  Richard Bruce Wright                2001       HarperFlamingo Canada   \n",
       "2          Carlo D'Este                1991             HarperPerennial   \n",
       "3      Gina Bari Kolata                1999        Farrar Straus Giroux   \n",
       "4       E. J. W. Barber                1999  W. W. Norton &amp; Company   \n",
       "\n",
       "                                                    Image-URL-L  \n",
       "0  http://images.amazon.com/images/P/0195153448.01.LZZZZZZZ.jpg  \n",
       "1  http://images.amazon.com/images/P/0002005018.01.LZZZZZZZ.jpg  \n",
       "2  http://images.amazon.com/images/P/0060973129.01.LZZZZZZZ.jpg  \n",
       "3  http://images.amazon.com/images/P/0374157065.01.LZZZZZZZ.jpg  \n",
       "4  http://images.amazon.com/images/P/0393045218.01.LZZZZZZZ.jpg  "
      ]
     },
     "execution_count": 36,
     "metadata": {},
     "output_type": "execute_result"
    }
   ],
   "source": [
    "# droping image-urls from the books dataset\n",
    "\n",
    "drop = drop_column(books)\n",
    "books = drop.drop_columns(['Image-URL-S', 'Image-URL-M'])\n",
    "books.head()"
   ]
  },
  {
   "cell_type": "markdown",
   "metadata": {},
   "source": [
    "* we then merge **books** and **extra_books** datasets."
   ]
  },
  {
   "cell_type": "code",
   "execution_count": 37,
   "metadata": {},
   "outputs": [
    {
     "name": "stdout",
     "output_type": "stream",
     "text": [
      "<class 'pandas.core.frame.DataFrame'>\n",
      "Int64Index: 182629 entries, 0 to 182628\n",
      "Data columns (total 16 columns):\n",
      " #   Column               Non-Null Count   Dtype  \n",
      "---  ------               --------------   -----  \n",
      " 0   ISBN                 182629 non-null  object \n",
      " 1   Book-Title           182629 non-null  object \n",
      " 2   Book-Author          182629 non-null  object \n",
      " 3   Year-Of-Publication  182629 non-null  object \n",
      " 4   Publisher            182627 non-null  object \n",
      " 5   Image-URL-L          182628 non-null  object \n",
      " 6   authors              144196 non-null  object \n",
      " 7   published_date       145393 non-null  object \n",
      " 8   description          125109 non-null  object \n",
      " 9   isbn_10              145436 non-null  object \n",
      " 10  isbn_13              123579 non-null  object \n",
      " 11  page_count           144659 non-null  float64\n",
      " 12  categories           136636 non-null  object \n",
      " 13  maturity_rating      145444 non-null  object \n",
      " 14  language             145444 non-null  object \n",
      " 15  join_isbn_10         182629 non-null  object \n",
      "dtypes: float64(1), object(15)\n",
      "memory usage: 23.7+ MB\n"
     ]
    }
   ],
   "source": [
    "# merging the books dataset and books_extra dataset\n",
    "\n",
    "books_data = books.merge(books_extra, left_on='ISBN', right_on='join_isbn_10', how='inner')\n",
    "books_data.info()"
   ]
  },
  {
   "cell_type": "code",
   "execution_count": 38,
   "metadata": {},
   "outputs": [],
   "source": [
    "# data understanding of the new dataset\n",
    "bd = DescribeData(books_data)"
   ]
  },
  {
   "cell_type": "code",
   "execution_count": 39,
   "metadata": {},
   "outputs": [
    {
     "name": "stdout",
     "output_type": "stream",
     "text": [
      "The shape of the DataFrame is (182629, 16)\n",
      "\n",
      "Records: 182629\n",
      "Columns: 16\n"
     ]
    }
   ],
   "source": [
    "# inspecting shape of the dataframe\n",
    "print(bd.shape)"
   ]
  },
  {
   "cell_type": "code",
   "execution_count": 40,
   "metadata": {},
   "outputs": [
    {
     "name": "stdout",
     "output_type": "stream",
     "text": [
      "There are 0 duplicated records in the DataFrame.\n"
     ]
    }
   ],
   "source": [
    "# Inspect the duplicates in the DataFrame\n",
    "print(bd.duplicates)"
   ]
  },
  {
   "cell_type": "code",
   "execution_count": 41,
   "metadata": {},
   "outputs": [
    {
     "name": "stdout",
     "output_type": "stream",
     "text": [
      "There are a total of 387768 missing values in the DataFrame.\n",
      "\n",
      "ISBN                       0\n",
      "Book-Title                 0\n",
      "Book-Author                0\n",
      "Year-Of-Publication        0\n",
      "Publisher                  2\n",
      "Image-URL-L                1\n",
      "authors                38433\n",
      "published_date         37236\n",
      "description            57520\n",
      "isbn_10                37193\n",
      "isbn_13                59050\n",
      "page_count             37970\n",
      "categories             45993\n",
      "maturity_rating        37185\n",
      "language               37185\n",
      "join_isbn_10               0\n",
      "dtype: int64\n"
     ]
    }
   ],
   "source": [
    "# Inspect the missing values in the DataFrame\n",
    "print(bd.missing)"
   ]
  },
  {
   "cell_type": "markdown",
   "metadata": {},
   "source": [
    "* The resulting dataset **books_data** contains 2 unique dtypes:\n",
    "\n",
    "  * **object**\n",
    "  * **float**"
   ]
  },
  {
   "cell_type": "markdown",
   "metadata": {},
   "source": [
    "### 3.2 data cleaning\n",
    "Is the process of identifying and correcting or removing incorrect, incomplete, or improperly formatted data in a dataset.\n",
    "This involves handling missing values, fixing incorrect data, removing duplicates, normalizing data and handling outliers."
   ]
  },
  {
   "cell_type": "markdown",
   "metadata": {},
   "source": [
    "#### 3.2.1 In **ratings**:\n",
    "\n",
    "we check to see that all entries in the book-rating are integers "
   ]
  },
  {
   "cell_type": "code",
   "execution_count": 42,
   "metadata": {},
   "outputs": [],
   "source": [
    "# function to check if all entries in the column are integers\n",
    "\n",
    "def check_int(df, column_name):\n",
    "    \n",
    "    if df[column_name].apply(lambda x: isinstance(x, int)).all():\n",
    "    \n",
    "    \n",
    "      print(\"All entries in the column are integers.\")\n",
    "    \n",
    "    else:\n",
    "        \n",
    "        print(\"Not all entries in the column are integers.\")"
   ]
  },
  {
   "cell_type": "code",
   "execution_count": 43,
   "metadata": {},
   "outputs": [
    {
     "name": "stdout",
     "output_type": "stream",
     "text": [
      "All entries in the column are integers.\n"
     ]
    }
   ],
   "source": [
    "# if entries in book-rating column are integers\n",
    "\n",
    "check_int(ratings, 'Book-Rating')"
   ]
  },
  {
   "cell_type": "code",
   "execution_count": 44,
   "metadata": {},
   "outputs": [
    {
     "name": "stdout",
     "output_type": "stream",
     "text": [
      "All entries in the column are integers.\n"
     ]
    }
   ],
   "source": [
    "# if entries in user-id column are integers\n",
    "\n",
    "check_int(ratings, 'User-ID')"
   ]
  },
  {
   "cell_type": "code",
   "execution_count": 45,
   "metadata": {},
   "outputs": [
    {
     "name": "stdout",
     "output_type": "stream",
     "text": [
      "There are non-alphanumeric characters in the ISBN column.\n"
     ]
    }
   ],
   "source": [
    "# checking whether any of the values in the ISBN column of the ratings dataframe contain any characters \n",
    "# that are not alphabetical or numerical.\n",
    "\n",
    "import  re \n",
    "\n",
    "\n",
    "# Define a regular expression to match non-alphanumeric characters\n",
    "reg = \"[^A-Za-z0-9]\"\n",
    "\n",
    "# Initialize a flag variable\n",
    "flag = 0\n",
    "\n",
    "# Loop through each value in the ISBN column\n",
    "for x in ratings['ISBN']:\n",
    "  # Check if the value contains any non-alphanumeric characters\n",
    "  if re.search(reg, x):\n",
    "    # If any are found, set the flag variable to 1\n",
    "    flag = 1\n",
    "    break\n",
    "\n",
    "# Check the value of the flag variable\n",
    "if flag == 1:\n",
    "    print(\"There are non-alphanumeric characters in the ISBN column.\")\n",
    "else:\n",
    "    print(\"There are no non-alphanumeric characters in the ISBN column.\")    "
   ]
  },
  {
   "cell_type": "markdown",
   "metadata": {},
   "source": [
    "#### 3.2.2 In **users**:\n",
    "\n",
    "The location column has city, state and country separated by commas. We segregate these into 3 different columns so that we can analyse on the basis of the country of different users\n"
   ]
  },
  {
   "cell_type": "code",
   "execution_count": 46,
   "metadata": {},
=======
>>>>>>> d0f8729cab551846110b5d564cd8c1227553e163
   "outputs": [
    {
     "name": "stdout",
     "output_type": "stream",
     "text": [
      "4659\n",
      "16044\n"
     ]
    }
   ],
   "source": [
    "#splitting a string into a list\n",
    "list_ = users.Location.str.split(', ')\n",
<<<<<<< HEAD
    "#empty lists to add values\n",
    "city = []\n",
    "state = []\n",
    "country = []\n",
    "count_no_state = 0\n",
=======
    "\n",
    "#empty lists to add values  \n",
    "city = []\n",
    "state = []\n",
    "country = []\n",
    "count_no_state = 0    \n",
>>>>>>> d0f8729cab551846110b5d564cd8c1227553e163
    "count_no_country = 0\n",
    "#generating a for loop to add values to the empty lists\n",
    "for i in range(0,len(list_)):\n",
    "    #removing invalid entries in city\n",
<<<<<<< HEAD
    "    if list_[i][0] == ' ' or list_[i][0] == '' or list_[i][0]=='n/a' or list_[i][0] == ',':\n",
    "        city.append('other')\n",
    "    else:\n",
    "        city.append(list_[i][0].lower())\n",
=======
    "    if list_[i][0] == ' ' or list_[i][0] == '' or list_[i][0]=='n/a' or list_[i][0] == ',':  \n",
    "        city.append('other')\n",
    "    else:\n",
    "        city.append(list_[i][0].lower())\n",
    "\n",
>>>>>>> d0f8729cab551846110b5d564cd8c1227553e163
    "    if(len(list_[i])<2):\n",
    "        state.append('other')\n",
    "        country.append('other')\n",
    "        count_no_state += 1\n",
    "        count_no_country += 1\n",
    "    else:\n",
    "        #removing invalid entries in state\n",
<<<<<<< HEAD
    "        if list_[i][1] == ' ' or list_[i][1] == '' or list_[i][1]=='n/a' or list_[i][1] == ',':\n",
    "            state.append('other')\n",
    "            count_no_state += 1\n",
    "        else:\n",
    "            state.append(list_[i][1].lower())\n",
=======
    "        if list_[i][1] == ' ' or list_[i][1] == '' or list_[i][1]=='n/a' or list_[i][1] == ',':   \n",
    "            state.append('other')\n",
    "            count_no_state += 1            \n",
    "        else:\n",
    "            state.append(list_[i][1].lower())\n",
    "        \n",
>>>>>>> d0f8729cab551846110b5d564cd8c1227553e163
    "        if(len(list_[i])<3):\n",
    "            country.append('other')\n",
    "            count_no_country += 1\n",
    "        else:\n",
    "            #removing invalid entries in country\n",
    "            if list_[i][2] == ''or list_[i][1] == ',' or list_[i][2] == ' ' or list_[i][2] == 'n/a':\n",
    "                country.append('other')\n",
    "                count_no_country += 1\n",
    "            else:\n",
    "                country.append(list_[i][2].lower())\n",
<<<<<<< HEAD
    "#dropping the location column from users\n",
    "users = users.drop('Location',axis=1)\n",
    "#handling cases where city/state from the lists is already given\n",
    "temp = []\n",
    "for ent in city:\n",
    "    c = ent.split('/')\n",
    "    temp.append(c[0])\n",
=======
    "        \n",
    "#dropping the location column from users             \n",
    "users = users.drop('Location',axis=1)\n",
    "\n",
    "#handling cases where city/state from the lists is already given\n",
    "temp = []\n",
    "for ent in city:\n",
    "    c = ent.split('/')            \n",
    "    temp.append(c[0])\n",
    "    \n",
>>>>>>> d0f8729cab551846110b5d564cd8c1227553e163
    "#creating a dataframe for city, state and country\n",
    "df_city = pd.DataFrame(temp,columns=['City'])\n",
    "df_state = pd.DataFrame(state,columns=['State'])\n",
    "df_country = pd.DataFrame(country,columns=['Country'])\n",
<<<<<<< HEAD
    "#adding the new dataframes to the original users dataframe\n",
    "users = pd.concat([users, df_city], axis=1)\n",
    "users = pd.concat([users, df_state], axis=1)\n",
    "users = pd.concat([users, df_country], axis=1)\n",
    "#printing the number of countries that do not have values\n",
    "print(count_no_country)\n",
    "#printing the states which didnt have any values\n",
    "print(count_no_state)"
=======
    "\n",
    "#adding the new dataframes to the original users dataframe \n",
    "users = pd.concat([users, df_city], axis=1)\n",
    "users = pd.concat([users, df_state], axis=1)\n",
    "users = pd.concat([users, df_country], axis=1)\n",
    "\n",
    "#printing the number of countries that do not have values \n",
    "print(count_no_country)\n",
    "\n",
    "#printing the states which didnt have any values\n",
    "print(count_no_state)     "
>>>>>>> d0f8729cab551846110b5d564cd8c1227553e163
   ]
  },
  {
   "cell_type": "code",
<<<<<<< HEAD
   "execution_count": 47,
=======
   "execution_count": 36,
   "metadata": {},
   "outputs": [],
   "source": [
    "## Drop duplicate rows\n",
    "users.drop_duplicates(keep='last', inplace=True)\n",
    "users.reset_index(drop=True, inplace=True)"
   ]
  },
  {
   "cell_type": "code",
   "execution_count": 37,
   "metadata": {},
   "outputs": [
    {
     "name": "stdout",
     "output_type": "stream",
     "text": [
      "<class 'pandas.core.frame.DataFrame'>\n",
      "RangeIndex: 278858 entries, 0 to 278857\n",
      "Data columns (total 5 columns):\n",
      " #   Column   Non-Null Count   Dtype  \n",
      "---  ------   --------------   -----  \n",
      " 0   User-ID  278858 non-null  int64  \n",
      " 1   Age      168096 non-null  float64\n",
      " 2   City     278858 non-null  object \n",
      " 3   State    278858 non-null  object \n",
      " 4   Country  278858 non-null  object \n",
      "dtypes: float64(1), int64(1), object(3)\n",
      "memory usage: 10.6+ MB\n"
     ]
    }
   ],
   "source": [
    "#confirming that the new dataframes have been added to users\n",
    "users.info()"
   ]
  },
  {
   "cell_type": "code",
   "execution_count": 38,
>>>>>>> d0f8729cab551846110b5d564cd8c1227553e163
   "metadata": {},
   "outputs": [
    {
     "data": {
      "text/html": [
       "<div>\n",
       "<style scoped>\n",
       "    .dataframe tbody tr th:only-of-type {\n",
       "        vertical-align: middle;\n",
       "    }\n",
       "\n",
       "    .dataframe tbody tr th {\n",
       "        vertical-align: top;\n",
       "    }\n",
       "\n",
       "    .dataframe thead th {\n",
       "        text-align: right;\n",
       "    }\n",
       "</style>\n",
       "<table border=\"1\" class=\"dataframe\">\n",
       "  <thead>\n",
       "    <tr style=\"text-align: right;\">\n",
       "      <th></th>\n",
       "      <th>User-ID</th>\n",
       "      <th>Age</th>\n",
       "      <th>City</th>\n",
       "      <th>State</th>\n",
       "      <th>Country</th>\n",
       "    </tr>\n",
       "  </thead>\n",
       "  <tbody>\n",
       "    <tr>\n",
       "      <th>0</th>\n",
       "      <td>1</td>\n",
       "      <td>NaN</td>\n",
       "      <td>nyc</td>\n",
       "      <td>new york</td>\n",
       "      <td>usa</td>\n",
       "    </tr>\n",
       "    <tr>\n",
       "      <th>1</th>\n",
       "      <td>2</td>\n",
       "      <td>18.0</td>\n",
       "      <td>stockton</td>\n",
       "      <td>california</td>\n",
       "      <td>usa</td>\n",
       "    </tr>\n",
       "    <tr>\n",
       "      <th>2</th>\n",
       "      <td>3</td>\n",
       "      <td>NaN</td>\n",
       "      <td>moscow</td>\n",
       "      <td>yukon territory</td>\n",
       "      <td>russia</td>\n",
       "    </tr>\n",
       "    <tr>\n",
       "      <th>3</th>\n",
       "      <td>4</td>\n",
       "      <td>17.0</td>\n",
       "      <td>porto</td>\n",
       "      <td>v.n.gaia</td>\n",
       "      <td>portugal</td>\n",
       "    </tr>\n",
       "    <tr>\n",
       "      <th>4</th>\n",
       "      <td>5</td>\n",
       "      <td>NaN</td>\n",
       "      <td>farnborough</td>\n",
       "      <td>hants</td>\n",
       "      <td>united kingdom</td>\n",
       "    </tr>\n",
       "  </tbody>\n",
       "</table>\n",
       "</div>"
      ],
      "text/plain": [
       "   User-ID   Age         City            State         Country\n",
       "0        1   NaN          nyc         new york             usa\n",
       "1        2  18.0     stockton       california             usa\n",
       "2        3   NaN       moscow  yukon territory          russia\n",
       "3        4  17.0        porto         v.n.gaia        portugal\n",
       "4        5   NaN  farnborough            hants  united kingdom"
      ]
     },
<<<<<<< HEAD
     "execution_count": 47,
=======
     "execution_count": 38,
>>>>>>> d0f8729cab551846110b5d564cd8c1227553e163
     "metadata": {},
     "output_type": "execute_result"
    }
   ],
   "source": [
<<<<<<< HEAD
    "# preview users\n",
    "\n",
=======
>>>>>>> d0f8729cab551846110b5d564cd8c1227553e163
    "users.head()"
   ]
  },
  {
<<<<<<< HEAD
   "cell_type": "code",
   "execution_count": 48,
   "metadata": {},
   "outputs": [
    {
     "name": "stdout",
     "output_type": "stream",
     "text": [
      "[nan, 0.0, 1.0, 2.0, 3.0, 4.0, 5.0, 6.0, 7.0, 8.0, 9.0, 10.0, 11.0, 12.0, 13.0, 14.0, 15.0, 16.0, 17.0, 18.0, 19.0, 20.0, 21.0, 22.0, 23.0, 24.0, 25.0, 26.0, 27.0, 28.0, 29.0, 30.0, 31.0, 32.0, 33.0, 34.0, 35.0, 36.0, 37.0, 38.0, 39.0, 40.0, 41.0, 42.0, 43.0, 44.0, 45.0, 46.0, 47.0, 48.0, 49.0, 50.0, 51.0, 52.0, 53.0, 54.0, 55.0, 56.0, 57.0, 58.0, 59.0, 60.0, 61.0, 62.0, 63.0, 64.0, 65.0, 66.0, 67.0, 68.0, 69.0, 70.0, 71.0, 72.0, 73.0, 74.0, 75.0, 76.0, 77.0, 78.0, 79.0, 80.0, 81.0, 82.0, 83.0, 84.0, 85.0, 86.0, 87.0, 88.0, 89.0, 90.0, 91.0, 92.0, 93.0, 94.0, 95.0, 96.0, 97.0, 98.0, 99.0, 100.0, 101.0, 102.0, 103.0, 104.0, 105.0, 106.0, 107.0, 108.0, 109.0, 110.0, 111.0, 113.0, 114.0, 115.0, 116.0, 118.0, 119.0, 123.0, 124.0, 127.0, 128.0, 132.0, 133.0, 136.0, 137.0, 138.0, 140.0, 141.0, 143.0, 146.0, 147.0, 148.0, 151.0, 152.0, 156.0, 157.0, 159.0, 162.0, 168.0, 172.0, 175.0, 183.0, 186.0, 189.0, 199.0, 200.0, 201.0, 204.0, 207.0, 208.0, 209.0, 210.0, 212.0, 219.0, 220.0, 223.0, 226.0, 228.0, 229.0, 230.0, 231.0, 237.0, 239.0, 244.0]\n"
     ]
    }
   ],
   "source": [
    "# unique values in age \n",
    "print(sorted(users['Age'].unique()))"
=======
   "cell_type": "markdown",
   "metadata": {},
   "source": [
    "### Dealing with missing values in the Age column"
>>>>>>> d0f8729cab551846110b5d564cd8c1227553e163
   ]
  },
  {
   "cell_type": "code",
<<<<<<< HEAD
   "execution_count": 49,
=======
   "execution_count": 39,
>>>>>>> d0f8729cab551846110b5d564cd8c1227553e163
   "metadata": {},
   "outputs": [
    {
     "data": {
<<<<<<< HEAD
      "image/png": "iVBORw0KGgoAAAANSUhEUgAAAY4AAAEWCAYAAABxMXBSAAAAOXRFWHRTb2Z0d2FyZQBNYXRwbG90bGliIHZlcnNpb24zLjMuMSwgaHR0cHM6Ly9tYXRwbG90bGliLm9yZy/d3fzzAAAACXBIWXMAAAsTAAALEwEAmpwYAAAwNElEQVR4nO3deZxcdZ3v/9e7q5d00p10lk7SWUhYshC2gAERGBcQBRSDdxiFUUCuDnIVr171zjDizA9HvTL81LnDDMOmjIAjCOJoZKKICCjKkgAhJCSBTkhIJ5100um90/vn/nFOh7JS3V2drlNVXfV5Ph716KpzvufU51sF9cl3Od8jM8M555xLVVG2A3DOOTe+eOJwzjk3Kp44nHPOjYonDuecc6PiicM559yoeOJwzjk3Kp44XMZJul3S36XpXEdJapcUC18/KelT6Th3eL5fSroqXecbxft+Q9J+SXsy/d7OjUR+HYdLJ0nbgVlAH9APvArcC9xpZgNHcK5PmdlvRnHMk8APzex7o3mv8NgbgePM7OOjPTadJM0HXgMWmFlDNmNxLhlvcbgoXGxmlcAC4Cbgb4Dvp/tNJBWn+5w5YgHQmM2kkcefrUsDTxwuMmbWYmargI8CV0k6EUDSDyR9I3w+Q9IjkpolHZD0e0lFku4DjgJ+EXZF/bWkhZJM0iclvQn8Nm5b/A/dsZKel9Qi6eeSpoXv9W5JdfExStou6b2SLgC+Anw0fL+Xw/2Hur7CuL4qaYekBkn3SpoS7huM4ypJb4bdTDcM9dlImhIevy8831fD878XeAyYE8bxgyTHfkLS0wnbTNJx4fOLJL0qqU3SLklfjiv3QUnrws/7j5JOTvgs/kbSeqBDUnH4eld4ri2SzhuiPh+Q9JKkVkk7w9Zb/P4rw3o2Svq7wc897nO9XtLWcP+Dcd/ZBEk/DLc3S1ojadZQn6vLDE8cLnJm9jxQB/xZkt1fCvdVE3RxfSU4xK4A3iRovVSY2c1xx7wLOB54/xBveSXw34E5BF1mt6QQ46+A/wP8OHy/U5IU+0T4eA9wDFAB/GtCmXOAJcB5wN9LOn6It/wXYEp4nneFMV8ddstdCOwO4/jESLEn8X3g02Gr70TgtwCSTgPuBj4NTAfuAFZJKos79nLgA0AVcCxwHXB6eK73A9uHeM+OsA5V4fH/Q9Il4fsuA/4N+BhQE9Z7btyx/xO4JPwc5gBNwK3hvqvC8vPDmK8FDo7is3AR8MThMmU3MC3J9l6CH5MFZtZrZr+3kQfebjSzDjMb6gfkPjPbYGYdwN8BHxkcPB+jjwHfNbNtZtYO/C1wWUJr52tmdtDMXgZeBg5LQGEsHwX+1szazGw78B3gijTECMFnukzSZDNrMrMXw+1/BdxhZs+ZWb+Z3QN0A2fGHXuLme0MP9t+oCw8V4mZbTezrcne0MyeNLNXzGzAzNYD9xMkAoBLgV+Y2dNm1gP8PRD/HX8auMHM6sysG7gRuDT8XHsJEsZxYcwvmFnrmD8hNyaeOFymzAUOJNn+/wO1wK8lbZN0fQrn2jmK/TuAEmBGSlEOb054vvhzFxO0lAbFz4LqJGiVJJoBlCY519wkZY/EnwMXATskPSXpHeH2BcCXwi6fZknNBP+SnxN37KHPzsxqgS8Q/JA3SHpAUnzZQyS9XdITYddbC0HLYPAzn5Nw3k6gMe7wBcB/xsW0iSBpzQLuAx4FHpC0W9LNkkpG/Ym4tPLE4SIn6XSCH8WnE/eF/+L+kpkdA1wMfDGuH32olsdILZL5cc+PIvhX636C7pSJcXHFCLrIUj3vboIfufhz9wF7Rzgu0f4wpsRz7Urx+MR6zI7faWZrzGwlMBP4GfBguGsn8E0zq4p7TDSz++MPTzjXj8zsnDBWA/5xiJh+BKwC5pvZFOB2QOG+emBeXLzlBK2IQTuBCxPimmBmu8JW6NfMbBlwFvBBgi4xl0WeOFxkJE2W9EHgAYIpsq8kKfNBScdJEtBK8C/N/nD3XoIxgNH6uKRlkiYC/wD8xMz6Caa4TggHckuArxJ0xQzaCyyUNNT/F/cD/0vS0ZIqeGtMpG80wYWxPAh8U1KlpAXAF4EfpniKl4ETJC2XNIGgRQCApFJJH5M0xcx6eeszBbgLuDZsHUjSpPCzqEz2JpKWSDo3HAPpIhhb6E9WFqgEDphZl6QzgL+M2/cT4GJJZ0kqBb7GW0kFgiTzzfBzQFK1pJXh8/dIOilM8q0ECXeoGFyGeOJwUfiFpDaCf0neAHwXuHqIsouA3wDtwDPAv5nZk+G+bwFfDbswvjzE8cncB/yAoNtoAsHgK2bWAnwG+B7Bv+47CAbmBz0U/m2U9CKHuzs89++ANwh+TD83irjifS58/20ELbEfhecfkZm9RpAQfwO8zuEtuSuA7ZJaCbqMPh4et5ZgnONfCQagawkG+4dSRjCdej/BZzmTYPJCMp8B/iH83v+et1o5mNnGsL4PELQ+2oAGgvEVgH8maK38Ojz+WeDt4b7ZBImnlaAL6ylST7AuIn4BoHMuo8LWWjOwyMzeyHI47gh4i8M5FzlJF0uaKGkS8G3gFYae2utynCcO51wmrCSYXLCboHvyshSmXbsc5V1VzjnnRsVbHM4550alIBYymzFjhi1cuDDbYTjn3Ljywgsv7Dez6sTtBZE4Fi5cyNq1a7MdhnPOjSuSdiTb7l1VzjnnRsUTh3POuVHxxOGcc25UPHE455wbFU8czjnnRsUTh3POuVHxxOGcc25UPHE455wbFU8c48TP1+3itK8/Rn3LULfZds65zPDEMQ709Q/w3cde40BHD//629psh+OcK3CeOMaBR9bXs6Oxk6WzK/nxmp3sPNCZ7ZCccwXME8c4cPtTW1kyq5J/v/p0iorEHb/bmu2QnHMFzBNHjuvu62fznjYuOHE2NVPKee/xM3l0414GBvw+Ks657PDEkeP2tnQDMLeqHID3Hj+LfW3dvLKrJZthOecKmCeOHLc7nEU1J0wc71kykyLBbzbtzWZYzrkC5okjx+1uHkwcEwCYOqmUFQun8dirnjicc9nhiSPHvZU4yg9tO//4WWze03Zon3POZZInjhy3q7mLaZNKmVASO7TtjKOnAbBuZ3OWonLOFTJPHDmuvuXgoW6qQUtrKimJifV1PkDunMs8Txw5bnfzQeZMKf+TbWXFMZbMrmSDz6xyzmWBJ44cZmbsajr4J+Mbg06aO4VXdrVg5tdzOOcyyxNHDmvt6qOjp/+wriqAk+ZW0XKwl50HfIDcOZdZnjhyWH3L4TOqBp08bwoA63c1ZzIk55zzxJHLBqfb1kw5PHEsnlVJaayIV3yA3DmXYZEmDkkXSNoiqVbS9Un2S9It4f71kk4Lt0+Q9LyklyVtlPS1uGOmSXpM0uvh36lR1iGbdjV3AW8tNxKvtLiIxbMr2Li7NdNhOecKXGSJQ1IMuBW4EFgGXC5pWUKxC4FF4eMa4LZwezdwrpmdAiwHLpB0ZrjveuBxM1sEPB6+zkv7WruQYEZFadL9S2ZN5rW9bRmOyjlX6KJscZwB1JrZNjPrAR4AViaUWQnca4FngSpJNeHr9rBMSfiwuGPuCZ/fA1wSYR2yan9HD1MnllIcS/41LZldQUNbN00dPRmOzDlXyKJMHHOBnXGv68JtKZWRFJO0DmgAHjOz58Iys8ysHiD8OzP9oeeGA+09TJuUvLUBwTgH4K0O51xGRZk4lGRb4kUHQ5Yxs34zWw7MA86QdOKo3ly6RtJaSWv37ds3mkNzxoGOHqZ74nDO5ZgoE0cdMD/u9Txg92jLmFkz8CRwQbhpr6QagPBvQ7I3N7M7zWyFma2orq4+wipk1/6ObqYPMb4BUDNlApVlxby2t33IMs45l25RJo41wCJJR0sqBS4DViWUWQVcGc6uOhNoMbN6SdWSqgAklQPvBTbHHXNV+Pwq4OcR1iGrghZH2ZD7JbF4diVbvMXhnMug4qhObGZ9kq4DHgViwN1mtlHSteH+24HVwEVALdAJXB0eXgPcE87MKgIeNLNHwn03AQ9K+iTwJvAXUdUhm/r6B2ju7B12jAOC7qpfbqjHzJCS9fw551x6RZY4AMxsNUFyiN92e9xzAz6b5Lj1wKlDnLMROC+9keaeA53BTKmhpuIOWjyrgvuf72VfWzczJx++NIlzzqWbXzmeow6EU2ynDdNVBXDCnGDpkRffbIo8JuecA08cOauxfTBxDN/iOPWoKionFPPE5vE5c8w5N/544shRjR2pdVWVxIp456JqntjS4EusO+cywhNHjjrQ3g2M3OIAeM/SmTS0dfu6Vc65jPDEkaMaO3ooElRNHDlxvGtxcJ3KE5uTXtLinHNp5YkjRzWG61TFikaeYltdWcby+VU8sr7eu6ucc5HzxJGjDrT3DHvVeKIrzlzAlr1tPPWaD5I756LliSNHNXZ0pzS+MejiU+Ywe/IE7nhqW4RROeecJ46c1djRw/SK4a/hiFdaXMQnzzmaZ7Y18qoPkjvnIuSJI0c1tg+/Mm4yF58yB4Dn3miMIiTnnAM8ceSk3v4BWg6OvE5VotlTJjCzsszvQ+6ci5Qnjhy0ry24hmNm5ejXnjp53hTW7/LE4ZyLjieOHPRW4kh9jGPQyfOq2LqvnfbuvnSH5ZxzgCeOnNQwmDgmjz5xnDRvCmawwVsdzrmIeOLIQQ1tXcARdlXNDVbL9XEO51xUPHHkoIbWbiRGdQHgoOkVZcytKufluub0B+acc3jiyEkNbd1Mm1hKSezIvp5lcyazZY/fTtY5Fw1PHDloX1s31UcwMD5o3tRydjcf9HWrnHOR8MSRg/a1dY3pNrBzq8rp6OmntctnVjnn0s8TRw5qaOs+oqm4g2qmlAOwu/lgukJyzrlDPHHkmIEBG3NX1ZyqoLXiicM5FwVPHDmmqbOHvgEbU4tjblXY4mjpSldYzjl3iCeOHLOv/ciXGxk0o6KMkpi8xeGci0SkiUPSBZK2SKqVdH2S/ZJ0S7h/vaTTwu3zJT0haZOkjZI+H3fMjZJ2SVoXPi6Ksg6Z1tB65FeNDyoqEjVTyj1xOOciURzViSXFgFuB84E6YI2kVWb2alyxC4FF4ePtwG3h3z7gS2b2oqRK4AVJj8Ud+09m9u2oYs+mhjGsUxWvZsoETxzOuUhE2eI4A6g1s21m1gM8AKxMKLMSuNcCzwJVkmrMrN7MXgQwszZgEzA3wlhzxuByI2MZHIdgnGN3s49xOOfSL8rEMRfYGfe6jsN//EcsI2khcCrwXNzm68KurbslTU325pKukbRW0tp9+8bPfbgbWrupLCtmYunYGoNzqsrZ09pF/4BfBOicS68oE4eSbEv8FRu2jKQK4GHgC2Y2eD/U24BjgeVAPfCdZG9uZnea2QozW1FdXT3K0LOnvuUgNVVHPjA+aE5VOf0DdqgF45xz6RJl4qgD5se9ngfsTrWMpBKCpPEfZvbTwQJmttfM+s1sALiLoEssb+xp6WJ2eAHfWNT4tRzOuYhEmTjWAIskHS2pFLgMWJVQZhVwZTi76kygxczqJQn4PrDJzL4bf4CkmriXHwY2RFeFzKtv6aJmDMuNDBq8lmOXj3M459IssllVZtYn6TrgUSAG3G1mGyVdG+6/HVgNXATUAp3A1eHhZwNXAK9IWhdu+4qZrQZulrScoEtrO/DpqOqQaT19A+xr72b2lLEnjpop3uJwzkUjssQBEP7Qr07YdnvccwM+m+S4p0k+/oGZXZHmMHNGQ1sXZm/96I9F5YQSJk8opt4Th3MuzfzK8RyyJ1wipKZq7GMcEAyQe1eVcy7dPHHkkPrBxJGGFgcEicO7qpxz6eaJI4fUtwQ/8ukY44BgldzdLZ44nHPp5Ykjh9S3dDGpNEZlWXqGnuZUldPc2Utnj9/QyTmXPp44csieli5qqsoJZiOP3aHl1X2cwzmXRp44ckh9S1faxjfA7wTonIuGJ44csqeli9lpuPhvkN8J0DkXBU8cOaKvf4CGtvS2OGZNnkCRPHE459LLE0eOaOzoYcBgZhpbHCWxImZNnuC3kHXOpZUnjhyxL7yB04yKsd2HI5Hf0Mk5l26eOHJEY0cPADMqStN63uDqcU8czrn08cSRI/ZH1OJYMH0iu5oO0ts/kNbzOucKlyeOHLG/PUwcY7xlbKIF0yfRN2DeXeWcSxtPHDlif3s3ZcVFTCqNpfW8C6ZNBGB7Y2daz+ucK1yeOHJEY3sPMyrK0nbV+KCFMyYB8GZjR1rP65wrXJ44csS+9u60d1MBzKwsY0JJkbc4nHNp44kjR+xv72HGpPTOqAKQxMLpk9jhLQ7nXJp44sgRje3daZ9RNWjB9Ine4nDOpY0njhwwMGA0dvQwozL9LQ4IZla92dhJ/4BFcn7nXGHxxJEDmg/20j9gkbY4evoH2NPqS48458bOE0cOGLyGY3pEiWPh9GBm1Y79Ps7hnBs7Txw54NDFf2lebmTQgunBtRzbPHE459Ig0sQh6QJJWyTVSro+yX5JuiXcv17SaeH2+ZKekLRJ0kZJn487ZpqkxyS9Hv6dGmUdMmF/e7BOVXVELY65VeVUlhWzeU9rJOd3zhWWyBKHpBhwK3AhsAy4XNKyhGIXAovCxzXAbeH2PuBLZnY8cCbw2bhjrwceN7NFwOPh63FtcJ2qqLqqJLG0ppJN9W2RnN85V1iibHGcAdSa2TYz6wEeAFYmlFkJ3GuBZ4EqSTVmVm9mLwKYWRuwCZgbd8w94fN7gEsirENG7G/vJlYkqspLInuP42sms7m+lQGfWeWcG6MoE8dcYGfc6zre+vFPuYykhcCpwHPhpllmVg8Q/p2Z7M0lXSNpraS1+/btO9I6ZMSBjh6mTSqlqCi9y43EO75mMh09/exs8us5nHNjk1LikPSwpA9IGk2iSfYrmPjP3WHLSKoAHga+YGaj6qA3szvNbIWZraiurh7NoRnX1NnD1InRtTYgSBwAm+p9nMM5NzapJoLbgL8EXpd0k6SlKRxTB8yPez0P2J1qGUklBEnjP8zsp3Fl9kqqCcvUAA0p1iFnNXX2UjUxmhlVg5bMqqRI8KqPczjnxiilxGFmvzGzjwGnAduBxyT9UdLV4Q98MmuARZKOllQKXAasSiizCrgynF11JtBiZvUKloj9PrDJzL6b5JirwudXAT9PpQ65rKkj+hZHeWmMhTMmeYvDOTdmKXc9SZoOfAL4FPAS8M8EieSxZOXNrA+4DniUYHD7QTPbKOlaSdeGxVYD24Ba4C7gM+H2s4ErgHMlrQsfF4X7bgLOl/Q6cH74elxr6uxlWgQLHCY6vmYyr+72xOGcG5viVApJ+imwFLgPuHhwcBr4saS1Qx1nZqsJkkP8ttvjnhvw2STHPU3y8Q/MrBE4L5W4xwMzo7mzJ/KuKoCT5k7hv9bXHxqMd865I5Fqi+N7ZrbMzL41mDQklQGY2YrIoisA7d199A1Y5F1VAKfMqwLg5brmyN/LOZe/Uk0c30iy7Zl0BlKomjt7ATLT4pg3BQle3tkc+Xs55/LXsF1VkmYTXFdRLulU3uo+mgxMjDi2gtDUGSw3MjUDiaOirJhFMys8cTjnxmSkMY73EwyIzwPiZze1AV+JKKaC0hS2ODLRVQVBd9Xjmxsws7Tf39w5VxiGTRxmdg9wj6Q/N7OHMxRTQWkOWxyZ6KoCOGV+FQ+9UEdd00HmT/NGo3Nu9Ebqqvq4mf0QWCjpi4n7k1xj4UbpQEeQODI1y2n5/CoA1u1s9sThnDsiIw2OTwr/VgCVSR5ujJo6e5FgSoQLHMZbMruS8pIYL+xoysj7Oefyz0hdVXeEf7+WmXAKT3NnD5MnlBCLcIHDeCWxIlYsnMozWxsz8n7OufyT6iKHN0uaLKlE0uOS9kv6eNTBFYKmzt6MDYwPOvOY6WzZ20ZjeOdB55wbjVSv43hfuDrtBwkWJlwM/O/IoiogmbpqPN6Zx0wH4Pk3DmT0fZ1z+SHVxDH4T+KLgPvNzH9x0iQTS6onOnneFMpLYjyzzburnHOjl2ri+IWkzcAK4HFJ1UBXdGEVjqaO3oxc/BfPxzmcc2OR6rLq1wPvAFaYWS/QweG3gXVHIBtdVQDvWlzN6w3t1Da0Z/y9nXPj22ju6Hc88FFJVwKXAu+LJqTC0d3XT0dPP9MmZbarCuBDy+cQKxIPrd05cmHnnIuT6qyq+4BvA+cAp4cPXxV3jDK5wGGimZUTOHfpTB5+sY7e/oGMv79zbvxK6X4cBEliWXj/DJcmmVzgMJmPrpjPY6/u5YnNDbzvhNlZicE5N/6k2lW1AfBfljRr6sjsAoeJ3r2kmurKMh707irn3Cik2uKYAbwq6Xng0FVjZvahSKIqEJle4DBRcayIPz9tHnf9fhsNrV3MnDwhK3E458aXVBPHjVEGUagOLamehcHxQR9ZMY/bn9rKT16s4zPvPi5rcTjnxo9Up+M+BWwHSsLna4AXI4yrIGR7jAPgmOoKzlg4jYfW1uFDWM65VKQ6q+qvgJ8Ad4Sb5gI/iyimgtHU0UN5SYwJJbGsxvGR0+fzxv4O1mz3FXOdcyNLdXD8s8DZQCuAmb0OzIwqqEKRjQUOk7nopNlUlBXz4zU+SO6cG1mqiaPbzHoGX0gqBrxfY4yyddV4oomlxVx8Sg2rX6mnras32+E453JcqonjKUlfAcolnQ88BPxipIMkXSBpi6RaSdcn2S9Jt4T710s6LW7f3ZIaJG1IOOZGSbskrQsfF6VYh5zT1NmT1YHxeB9ZMZ+Dvf2senl3tkNxzuW4VBPH9cA+4BXg08Bq4KvDHSApBtwKXAgsAy6XtCyh2IXAovBxDXBb3L4fABcMcfp/MrPl4WN1inXIOc2dvTnR4oDglrLLaibz/d+/Qf+ANyadc0NLdVbVAMFg+GfM7FIzuyuFq8jPAGrNbFvYzfUAhy+MuBK41wLPAlWSasL3/B2Q18u3Z2NJ9aFI4nPnHse2/R08st5bHc65oQ2bOMKupBsl7Qc2A1sk7ZP09ymcey4QP9paF24bbZlkrgu7tu6WNHWI2K+RtFbS2n379qVwyswaGDBaDmZ+SfXhvP+E2SyeVcG//rbWWx3OuSGN1OL4AsFsqtPNbLqZTQPeDpwt6X+NcGyym2gn/hqlUibRbcCxwHKgHvhOskJmdqeZrTCzFdXV1SOcMvNau3oZsOxew5GoqEh8/rzFvN7Qzo+e25HtcJxzOWqkxHElcLmZvTG4wcy2AR8P9w2nDpgf93oekNgHkkqZP2Fme82sP+w+u4ugS2zcOdARXvyXI4Pjgy46aTbnHDeDm3+1hYZWv1eXc+5wIyWOEjPbn7jRzPbx1u1kh7IGWCTpaEmlwGXAqoQyq4Arwy6xM4EWM6sf7qSDYyChDxMswDjuNGVxSfXhSOLrl5xId/8AN/xsg19N7pw7zEiJo+cI92FmfcB1wKPAJuBBM9so6VpJ14bFVgPbgFqC1sNnBo+XdD/wDLBEUp2kT4a7bpb0iqT1wHuAkbrMclJzDiw3MpSjZ0ziy+9bzGOv7vWLAp1zhxlpkcNTJLUm2S5gxKVUw6myqxO23R733AiuSk927OVDbL9ipPcdDw4tcJgjs6oSfeqcY3hyyz6+9otXec/SmczylXOdc6FhWxxmFjOzyUkelWaWm79440S2l1QfSVGR+NZ/O4muvn7ue8YHyp1zbxnNPcddGjV19hArEpMnpLqyfeYtmD6J9x4/ix89/yZdvf3ZDsc5lyM8cWRJU2cvVeUlSMlmJOeOq89ayIGOHl+KxDl3iCeOLGnp7GVKjo5vxHvHsdNZPKuCHz7r3VXOuYAnjixp7epl8oTcTxyS+OjpR7G+roUte9qyHY5zLgd44siStq4+KnN4fCPeJcvnUFwkHlrrU3Odc544sqZtnLQ4AKZXlHHe8TP5z5d20ds/kO1wnHNZ5okjS8ZTiwPgo6fPp7Gjh/98cVe2Q3HOZZknjiwZb4njPUtmcsr8Kr772Gs+Nde5AueJIwt6+wc42NtP5TjpqoJgkPwrFy5lT2sX//6H7dkOxzmXRZ44sqCtqw9gXLU4AN5+zHTevaSa7/1+G9193upwrlB54siCtq5gnarx1OIY9KlzjqGxo4dHXh52EWPnXB7zxJEF47XFAXD2cdM5bmYFP/jjdl9y3bkC5YkjC1oPtTjGX+KQxFVnLeSVXS28XNeS7XCcc1ngiSMLBlsc4+U6jkQfOnkORYLfbtqb7VCcc1ngiSMLxnvimDKxhFOPmspTr+3LdijOuSzwxJEFbeO4q2rQuxZXs35XC43t3dkOxTmXYZ44smCwxVExzhOHGTxde9gt6Z1zec4TRxa0dfVSXhKjJDZ+P/6T5k5h2qRSntri3VXOFZrx+8s1jo235UaSKSoSZx07nT9ubfRpuc4VGE8cWZAPiQPg9IXT2NPaxa7mg9kOxTmXQZ44sqC1q3dcXjWe6G0LpgLwwo6mLEfinMukSBOHpAskbZFUK+n6JPsl6ZZw/3pJp8Xtu1tSg6QNCcdMk/SYpNfDv1OjrEMUWvOkxbF0diUVZcWs3e6Jw7lCElnikBQDbgUuBJYBl0tallDsQmBR+LgGuC1u3w+AC5Kc+nrgcTNbBDwevh5X2rp6mVw+/lscxbEiTj2qirXe4nCuoETZ4jgDqDWzbWbWAzwArEwosxK41wLPAlWSagDM7HfAgSTnXQncEz6/B7gkiuCj1NbVx+Q8aHFA0F21ZU/roWVUnHP5L8rEMReIv0l1XbhttGUSzTKzeoDw78xkhSRdI2mtpLX79uXWlNG2PBnjAFixYBoDBuvebM52KM65DIkycSjJtsR5m6mUOSJmdqeZrTCzFdXV1ek4ZVr09g/Q1TtAZVl+tDhOmjsFgFfrW7MciXMuU6JMHHXA/LjX84DdR1Am0d7B7qzwb8MY48yo8bykejJTJpYwe/IEXtvTlu1QnHMZEmXiWAMsknS0pFLgMmBVQplVwJXh7KozgZbBbqhhrAKuCp9fBfw8nUFHbTzfxGkoS2ZXstkTh3MFI7LEYWZ9wHXAo8Am4EEz2yjpWknXhsVWA9uAWuAu4DODx0u6H3gGWCKpTtInw103AedLeh04P3w9buTDOlWJlsyupHZfO339A9kOxTmXAZH+epnZaoLkEL/t9rjnBnx2iGMvH2J7I3BeGsPMqPbu/OqqAlgyq5KevgG2N3Zy3MyKbIfjnIuYXzmeYe2DLY48GRyHoMUBsMW7q5wrCJ44MqyjJ/8Sx3EzKygSbNnricO5QuCJI8PycYxjQkmMhTMmsWWPT8l1rhB44siwwTGOfGpxQDDO4TOrnCsMnjgyrKO7jyJBeUks26Gk1bKayexo7Dw03dg5l788cWRYW1cfk8qKkZJdND9+LZszGcBbHc4VAE8cGdbe3Zc3y43EO2FOsPTIxl0tWY7EORc1TxwZ1tHdl1cD44NmTS5j+qRSNu72AXLn8p0njgxr7w66qvKNJJbNmeyLHTpXADxxZFhbV1/ezagatGzOZF7b20ZPny894lw+88SRYR3d+XHb2GROmDOF3n7j9QYfIHcun3niyLD27j4mleZr4ghmVm3wAXLn8ponjgxr78rPwXGAY2ZMYkZFKc9sbcx2KM65CHniyCAzo70nP6fjQjBAftaxM3i6tpFg4WPnXD7yxJFBnT39mJGXs6oGnXPcDPa3d/Pa3vZsh+Kci4gnjgzq6M6/BQ4TnXXcdAD+ULs/y5E456LiiSOD2vJ0gcN486ZOZOH0iZ44nMtjnjgyKB9v4pTM2cfN4NltjXT39Wc7FOdcBDxxZFBHAbQ4AN6zZCYdPf2seaMp26E45yLgiSODBruq8nlwHIJxjtLiIh7fvDfboTjnIuCJI4MGu6ry9crxQRNLiznr2On8dnODT8t1Lg954sigfLzf+FDOXTqTHY2dbNvfke1QnHNpFmnikHSBpC2SaiVdn2S/JN0S7l8v6bSRjpV0o6RdktaFj4uirEM6Dd5vPN+7qiAY5wB4YnNDliNxzqVbZIlDUgy4FbgQWAZcLmlZQrELgUXh4xrgthSP/SczWx4+VkdVh3Rr7+6jJCbKivO/oTd/2kQWz6rgt544nMs7Uf6CnQHUmtk2M+sBHgBWJpRZCdxrgWeBKkk1KR477nR0B0uq59ttY4dy7tJZPP/GAVr9PuTO5ZUoE8dcYGfc67pwWyplRjr2urBr625JU5O9uaRrJK2VtHbfvn1HWoe0au/Kz5s4DeXcpTPpGzCeft0vBnQun0SZOJL9szpxis1QZYY79jbgWGA5UA98J9mbm9mdZrbCzFZUV1enFHDU2rrz9yZOyZx2VBVTykt4fJN3VzmXT6L8FasD5se9ngfsTrFM6VDHmtmhiwMk3QU8kr6Qo9Xc2UPVxJJsh5ExxbEi3rW4mie3NNA/YMSKCqOLzrl8F2WLYw2wSNLRkkqBy4BVCWVWAVeGs6vOBFrMrH64Y8MxkEEfBjZEWIe0auzoYfqksmyHkVHvP2E2jR09PLfN79HhXL6IrMVhZn2SrgMeBWLA3Wa2UdK14f7bgdXARUAt0AlcPdyx4alvlrScoOtqO/DpqOqQbgc6epg2qTTbYWTUuUtnMqk0xqqXd3PWcTOyHY5zLg0i7XAPp8quTth2e9xzAz6b6rHh9ivSHGZG9PUP0NzZW3CJo7w0xvnLZvHLDXv4h5UnUloAU5Gdy3f+f3GGNHUGU1KnVxRW4gD40PI5tBzs5fev58bsNufc2HjiyJADHT0ABdfiADjnuGqmTSrlx2t2jlzYOZfzPHFkSGNHN1CYiaO0uIjLTp/Pbzbtpa6pM9vhOOfGyBNHhhRyiwPg42cuQBL3Pbsj26E458bIE0eGFHrimFNVzvuWzeLHa3YeuqGVc2588sSRIY3tQeKYOrEwEwfANe88hubOXn7wx+3ZDsU5NwaeODKkqbOHKeUllMQK9yM/9aipnLt0Jnf+bpsvfOjcOFa4v2IZFlw1XritjUFfPH8xLQd7ueOprdkOxTl3hDxxZMiB9sK7ajyZE+dO4ZLlc7jzd9vYuq892+E4546AJ44MKcTlRoZywweWMaEkxt/9bIPfk9y5ccgTR4Y0dvQU5FXjyVRXlvHXFyzlj1sb+fm6xAWTnXO5zhNHBgwMGE2d3uKI95dnHMUp86v4xn+9SkunD5Q7N5544siA1q5e+geMaQW2pPpwYkXim5ecyIGOHm761aZsh+OcGwVPHBnQGF7857Oq/tSJc6fwV392DPc/v5Pfbt478gHOuZzgiSMD9rZ0ATCjwlscib74vsUsnV3JX//kFfa3d2c7HOdcCjxxZMC6umYATpgzObuB5KCy4hj/97LltHX18vkHXqJ/wGdZOZfrPHFkwEtvNnP0jElM9a6qpJbOnszXLzmRP9Q28u1fb8l2OM65EUR6B8B8tG5nM09uaQDg8+ctQtKw5c2Ml95s4p2LqzMR3rj1kRXzeenNZm57citHTZvI5Wccle2QnHND8MQxCntbu7j0tj/SF3annDxvCucunTXsMTsPHGR/ew+nHTU1EyGOa/+w8gTqWw7y1Z9toKq8hAtPqsl2SM65JLyrahQefrGOvgHj0S+8k7lV5dz6xNYRr3x+8c0mAE8cKSiJFXHrX57G8vlVfO7+l/jlK/XZDsk5l4QnjhSZGQ+treOMo6exZHYl17zzGF7Y0cRzbxwY9riX3mxiYmmMxbMqMhTp+DaprJgfXH06J8+bwmd+9CK3PTlycnbOZZYnjhSt3dHEG/s7+MiK+QB89PT5VFeW8a1fbh5yJtDu5oP8Yn09KxZOo7iAl1MfrcoJJfzHp87kAyfV8I+/2szldz1LbUNbtsNyzoX81yxFdzy1lcqyYi46aTYAE0pi3HDR8by8s5kfPXf47VDbunr5Hz98gZ6+Af6/i5dlOtxxr7w0xr9cfirf/PCJvLq7lfP/6Xd8+r61PL5pL919/RmLw8z46Yt1/J/Vm9i+vyNj7+tcLot0cFzSBcA/AzHge2Z2U8J+hfsvAjqBT5jZi8MdK2ka8GNgIbAd+IiZNUVZjz/W7uc3mxr46wuWMLH0rY9s5fI5PPTCTm765WZiRUV84OQaWg/28ujGPdz+1FYaO3q4/eNv49hq76Y6EpL42NsXcMEJs/n3P2znh8/t4NGNe6mcUMz7ls3mvONn8o5jpkc2zflARw/XP7yeX7+6Fwm+9/ttfOG9i/ncuceNOJvOuXymqPqPJcWA14DzgTpgDXC5mb0aV+Yi4HMEiePtwD+b2duHO1bSzcABM7tJ0vXAVDP7m+FiWbFiha1du/aI6rG+rpkvP/QyHd39PP6ldzGhJPYn+3c1H+Tz97/E2h1/mrvOWDiNGz5wPKfMrzqi93WH6+kb4A9b9/Nf6+v59cY9tHYF9y6vrixj8awKFs2sZNGsChZMm8SsyWWUl8bo7Tfau/po6+6lvauPrr4ByktiTCqNMamsmEllMSaWFjOhJEZP3wCdPX20HOwNpgY/tZWWzl7+9/uX8KHlc/jW6k38bN1uPnhyDVefvZBjZlQwoSRGWXERRUWjTyRmRk//AD19A/T2G7EiURoroiQmYkXy5OSyTtILZrbisO0RJo53ADea2fvD138LYGbfiitzB/Ckmd0fvt4CvJugNZH02MEyZlYvqSY8fslwsRxp4vjqz17hh8++SXlJjFs/duqQU2/NjCe2NLBtXwclsSL+bNEMjvFWRqR6+wdYt7OZF3c08XpDO6/vbeP1hnY6e9LXjXXCnMl8+y9O4fia4Ip/M+OWx2u59YlaevoH0vY+yUhQnJCMkv2vmrgpiv+fh0pgybYOleuUtHTykwyVLjOVR4eMNYr3ysBb3XHF2/izRUd2HdlQiSPKrqq5wM6413UErYqRyswd4dhZZlYPECaPmcneXNI1wDXhy/Yw4Ryx877xJy9nAPvHcr5xptDqCzBjB+xf/flsh5ExBfkdUwB1fufXDz09kvouSLYxysSRLJcm/nNoqDKpHDssM7sTuHM0x6RK0tpkWThfFVp9ofDqXGj1hcKrczrrG+WsqjpgftzreUDi7d6GKjPcsXvDLirCvw1pjNk559wIokwca4BFko6WVApcBqxKKLMKuFKBM4GWsBtquGNXAVeFz68Cfh5hHZxzziWIrKvKzPokXQc8SjCl9m4z2yjp2nD/7cBqghlVtQTTca8e7tjw1DcBD0r6JPAm8BdR1WEYkXSB5bBCqy8UXp0Lrb5QeHVOW30jm1XlnHMuP/mV484550bFE4dzzrlR8cQxCpIukLRFUm141XpekrRd0iuS1klaG26bJukxSa+Hf8ftOvGS7pbUIGlD3LYh6yfpb8PvfIuk92cn6rEZos43StoVfs/rwpUcBveN6zpLmi/pCUmbJG2U9Plwe15+z8PUN5rv2Mz8kcKDYJB+K3AMUAq8DCzLdlwR1XU7MCNh283A9eHz64F/zHacY6jfO4HTgA0j1Q9YFn7XZcDR4X8DsWzXIU11vhH4cpKy477OQA1wWvi8kmAJo2X5+j0PU99IvmNvcaTuDKDWzLaZWQ/wALAyyzFl0krgnvD5PcAl2QtlbMzsd0DijVSGqt9K4AEz6zazNwhmAJ6RiTjTaYg6D2Xc19nM6i1cMNXM2oBNBCtS5OX3PEx9hzKm+nriSN1Qy6PkIwN+LemFcOkWSFjqBUi61Ms4NlT98v17v07S+rAra7DbJq/qLGkhcCrwHAXwPSfUFyL4jj1xpG7My6CMI2eb2WnAhcBnJb0z2wFlUT5/77cBxwLLgXrgO+H2vKmzpArgYeALZtY6XNEk28ZdnZPUN5Lv2BNH6lJZQiUvmNnu8G8D8J8ETdh8X+plqPrl7fduZnvNrN/MBoC7eKurIi/qLKmE4Ef0P8zsp+HmvP2ek9U3qu/YE0fqUllCZdyTNElS5eBz4H3ABvJ/qZeh6rcKuExSmaSjgUXA81mIL+0Gf0BDHyb4niEP6qxgLfjvA5vM7Ltxu/Lyex6qvpF9x9meDTCeHgTLo7xGMAPhhmzHE1EdjyGYbfEysHGwnsB04HHg9fDvtGzHOoY63k/QbO8l+JfXJ4erH3BD+J1vAS7MdvxprPN9wCvA+vCHpCZf6gycQ9D1sh5YFz4uytfveZj6RvId+5IjzjnnRsW7qpxzzo2KJw7nnHOj4onDOefcqHjicM45NyqeOJxzzo2KJw7nIibpw5JM0tJsx+JcOnjicC56lwNPE1w06ty454nDuQiFawedTXDB3WXhtiJJ/xbeN+ERSaslXRrue5ukp8IFJh9NuPLXuZzgicO5aF0C/MrMXgMOSDoN+G/AQuAk4FPAO+DQWkP/AlxqZm8D7ga+mYWYnRtWcbYDcC7PXQ783/D5A+HrEuAhCxae2yPpiXD/EuBE4LFg6SFiBMuEOJdTPHE4FxFJ04FzgRMlGUEiMIIVh5MeAmw0s3dkKETnjoh3VTkXnUuBe81sgZktNLP5wBvAfuDPw7GOWcC7w/JbgGpJh7quJJ2QjcCdG44nDueiczmHty4eBuYQrFC7AbiD4E5tLRbckvhS4B8lvUywwulZGYvWuRT56rjOZYGkCjNrD7uznie46+KebMflXCp8jMO57HhEUhVQCnzdk4YbT7zF4ZxzblR8jMM559yoeOJwzjk3Kp44nHPOjYonDuecc6PiicM559yo/D/O/bML0A7EHwAAAABJRU5ErkJggg==\n",
=======
      "image/png": "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\n",
>>>>>>> d0f8729cab551846110b5d564cd8c1227553e163
      "text/plain": [
       "<Figure size 432x288 with 1 Axes>"
      ]
     },
     "metadata": {
      "needs_background": "light"
     },
     "output_type": "display_data"
    }
   ],
   "source": [
<<<<<<< HEAD
    "# Create a density plot to show the distribution of ages\n",
    "sns.kdeplot(users['Age'])\n",
    "\n",
    "# Add a title and labels to the x and y axes\n",
    "plt.title('Distribution of users ages')\n",
    "plt.xlabel('Age')\n",
    "plt.ylabel('Density')\n",
    "\n",
    "# Show the plot\n",
=======
    "#checking the Age distribution\n",
    "users.Age.hist(bins=[0, 10, 20, 30, 40, 50, 100])\n",
    "plt.title('Age Distribution\\n')\n",
    "plt.xlabel('Age')\n",
    "plt.ylabel('Count')\n",
>>>>>>> d0f8729cab551846110b5d564cd8c1227553e163
    "plt.show()"
   ]
  },
  {
<<<<<<< HEAD
   "cell_type": "markdown",
   "metadata": {},
   "source": [
    "* For our book recommendation system, users with ages less than 10 and above 80 are not the appropriate target for our system and we assume that they will not be able to access a library or use the recommendation system."
=======
   "cell_type": "code",
   "execution_count": 40,
   "metadata": {},
   "outputs": [],
   "source": [
    "#users.Age.hist(bins=[0, 10, 20, 30, 40, 50, 100])\n",
    "#plt.title('Age Distribution\\n')\n",
    "#plt.xlabel('Age')\n",
    "#plt.ylabel('Count')\n",
    "#plt.show()"
>>>>>>> d0f8729cab551846110b5d564cd8c1227553e163
   ]
  },
  {
   "cell_type": "markdown",
   "metadata": {},
   "source": [
<<<<<<< HEAD
    "* Looking at the distribution plot the age is skewed to the right and has outliers. Replacing the missing age values and values less than 10 and greater than 80 witih the median will be the robust approach since it's not sensitive to extreme values compared to using the mean. "
=======
    "The most active users are in the age bracket between 20 to 30 years."
   ]
  },
  {
   "cell_type": "code",
   "execution_count": 41,
   "metadata": {},
   "outputs": [
    {
     "data": {
      "text/plain": [
       "Text(0.5, 1.0, 'Outliers present in the Age column')"
      ]
     },
     "execution_count": 41,
     "metadata": {},
     "output_type": "execute_result"
    },
    {
     "data": {
      "image/png": "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\n",
      "text/plain": [
       "<Figure size 432x288 with 1 Axes>"
      ]
     },
     "metadata": {
      "needs_background": "light"
     },
     "output_type": "display_data"
    }
   ],
   "source": [
    "#checking for outliers in the age column using a boxplot\n",
    "sns.boxplot(y='Age', data=users)\n",
    "plt.title('Outliers present in the Age column')"
   ]
  },
  {
   "cell_type": "markdown",
   "metadata": {},
   "source": [
    "The boxplot shows that age has positive skewness(Right Tail) hence median can be used to fill null values"
   ]
  },
  {
   "cell_type": "code",
   "execution_count": 42,
   "metadata": {},
   "outputs": [
    {
     "name": "stdout",
     "output_type": "stream",
     "text": [
      "[nan, 0.0, 1.0, 2.0, 3.0, 4.0, 5.0, 6.0, 7.0, 8.0, 9.0, 10.0, 11.0, 12.0, 13.0, 14.0, 15.0, 16.0, 17.0, 18.0, 19.0, 20.0, 21.0, 22.0, 23.0, 24.0, 25.0, 26.0, 27.0, 28.0, 29.0, 30.0, 31.0, 32.0, 33.0, 34.0, 35.0, 36.0, 37.0, 38.0, 39.0, 40.0, 41.0, 42.0, 43.0, 44.0, 45.0, 46.0, 47.0, 48.0, 49.0, 50.0, 51.0, 52.0, 53.0, 54.0, 55.0, 56.0, 57.0, 58.0, 59.0, 60.0, 61.0, 62.0, 63.0, 64.0, 65.0, 66.0, 67.0, 68.0, 69.0, 70.0, 71.0, 72.0, 73.0, 74.0, 75.0, 76.0, 77.0, 78.0, 79.0, 80.0, 81.0, 82.0, 83.0, 84.0, 85.0, 86.0, 87.0, 88.0, 89.0, 90.0, 91.0, 92.0, 93.0, 94.0, 95.0, 96.0, 97.0, 98.0, 99.0, 100.0, 101.0, 102.0, 103.0, 104.0, 105.0, 106.0, 107.0, 108.0, 109.0, 110.0, 111.0, 113.0, 114.0, 115.0, 116.0, 118.0, 119.0, 123.0, 124.0, 127.0, 128.0, 132.0, 133.0, 136.0, 137.0, 138.0, 140.0, 141.0, 143.0, 146.0, 147.0, 148.0, 151.0, 152.0, 156.0, 157.0, 159.0, 162.0, 168.0, 172.0, 175.0, 183.0, 186.0, 189.0, 199.0, 200.0, 201.0, 204.0, 207.0, 208.0, 209.0, 210.0, 212.0, 219.0, 220.0, 223.0, 226.0, 228.0, 229.0, 230.0, 231.0, 237.0, 239.0, 244.0]\n"
     ]
    }
   ],
   "source": [
    "#checking all values present in the Age column\n",
    "print(sorted(list(users['Age'].unique())))"
   ]
  },
  {
   "cell_type": "code",
   "execution_count": 43,
   "metadata": {},
   "outputs": [
    {
     "data": {
      "text/plain": [
       "Text(0.5, 1.0, 'Age Distribution Plot')"
      ]
     },
     "execution_count": 43,
     "metadata": {},
     "output_type": "execute_result"
    },
    {
     "data": {
      "image/png": "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\n",
      "text/plain": [
       "<Figure size 432x288 with 1 Axes>"
      ]
     },
     "metadata": {
      "needs_background": "light"
     },
     "output_type": "display_data"
    }
   ],
   "source": [
    "#plotting a distribution plot to discover the relevant age bracket \n",
    "sns.distplot(users.Age)\n",
    "plt.title('Age Distribution Plot')"
   ]
  },
  {
   "cell_type": "markdown",
   "metadata": {},
   "source": [
    "Evidently, ages below 10 and above 80 do not make sense for book rating"
   ]
  },
  {
   "cell_type": "code",
   "execution_count": 44,
   "metadata": {},
   "outputs": [
    {
     "data": {
      "text/plain": [
       "32.0"
      ]
     },
     "execution_count": 44,
     "metadata": {},
     "output_type": "execute_result"
    }
   ],
   "source": [
    "# grouping ages below 100 and above 10\n",
    "required = users[users['Age'] <= 80]\n",
    "required = required[required['Age'] >= 10]\n",
    "#calculating the median for the required ages\n",
    "median = round(required['Age'].median())   \n",
    "median"
   ]
  },
  {
   "cell_type": "code",
   "execution_count": 45,
   "metadata": {},
   "outputs": [],
   "source": [
    "#outliers with age grater than 80 are substituted with median \n",
    "users.loc[users['Age'] > 80, 'Age'] = median\n",
    "\n",
    "#outliers with age less than 10 years are substitued with median\n",
    "users.loc[users['Age'] < 10, 'Age'] = median \n",
    "\n",
    "#filling null values with median\n",
    "users['Age'] = users['Age'].fillna(median)\n",
    "\n",
    "#changing the datatype to an integer\n",
    "users['Age'] = users['Age'].astype(int)      "
   ]
  },
  {
   "cell_type": "code",
   "execution_count": 46,
   "metadata": {},
   "outputs": [
    {
     "data": {
      "text/plain": [
       "User-ID    0\n",
       "Age        0\n",
       "City       0\n",
       "State      0\n",
       "Country    0\n",
       "dtype: int64"
      ]
     },
     "execution_count": 46,
     "metadata": {},
     "output_type": "execute_result"
    }
   ],
   "source": [
    "#confirming that the missing values have been dealt with\n",
    "users.isna().sum()"
   ]
  },
  {
   "cell_type": "markdown",
   "metadata": {},
   "source": [
    "### Books Dataset"
   ]
  },
  {
   "cell_type": "code",
   "execution_count": 68,
   "metadata": {},
   "outputs": [],
   "source": [
    "#function for plotting a countplot\n",
    "def count_plot (column, dataset, heading):\n",
    "    \"\"\"Visualize the countplots of various dataframes with seaborn barplot\n",
    "    \n",
    "    Args: \n",
    "        data: dataframe of various columns and their count returned from count_plot function\n",
    "        \n",
    "    Returns: \n",
    "        countplot: countplot of columns and their count\n",
    "    \"\"\"\n",
    "    plt.figure(figsize=(15,8));\n",
    "    sns.countplot(y=column, data=dataset, order=pd.value_counts(dataset[column]).iloc[0:15].index);\n",
    "    plt.title(heading);"
   ]
  },
  {
   "cell_type": "code",
   "execution_count": 69,
   "metadata": {},
   "outputs": [
    {
     "data": {
      "image/png": "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\n",
      "text/plain": [
       "<Figure size 1080x576 with 1 Axes>"
      ]
     },
     "metadata": {
      "needs_background": "light"
     },
     "output_type": "display_data"
    }
   ],
   "source": [
    "count_plot('Country', users, 'The count of users per country')"
   ]
  },
  {
   "cell_type": "code",
   "execution_count": 49,
   "metadata": {},
   "outputs": [
    {
     "data": {
      "image/png": "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\n",
      "text/plain": [
       "<Figure size 1080x432 with 1 Axes>"
      ]
     },
     "metadata": {
      "needs_background": "light"
     },
     "output_type": "display_data"
    }
   ],
   "source": [
    "count_plot('Book-Author', books, 'Top 10 recognised Authors')"
>>>>>>> d0f8729cab551846110b5d564cd8c1227553e163
   ]
  },
  {
   "cell_type": "code",
   "execution_count": 50,
   "metadata": {},
   "outputs": [
    {
     "data": {
<<<<<<< HEAD
      "text/plain": [
       "110762"
      ]
     },
     "execution_count": 50,
     "metadata": {},
     "output_type": "execute_result"
    }
   ],
   "source": [
    "# checking for null values\n",
    "users['Age'].isnull().sum()"
=======
      "image/png": "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\n",
      "text/plain": [
       "<Figure size 1080x432 with 1 Axes>"
      ]
     },
     "metadata": {
      "needs_background": "light"
     },
     "output_type": "display_data"
    }
   ],
   "source": [
    "count_plot('Publisher', books, 'Top 10 most recognised Publishers')"
>>>>>>> d0f8729cab551846110b5d564cd8c1227553e163
   ]
  },
  {
   "cell_type": "code",
   "execution_count": 51,
   "metadata": {},
   "outputs": [],
   "source": [
<<<<<<< HEAD
    "# Select rows where the age column is greater than 10 and less than 80\n",
    "users_filtered = users[(users['Age'] > 10) & (users['Age'] < 80)]"
=======
    "books.at[209538 ,'Publisher'] = 'DK Publishing Inc'\n",
    "books.at[209538 ,'Year-Of-Publication'] = 2000\n",
    "books.at[209538 ,'Book-Title'] = 'DK Readers: Creating the X-Men, How It All Began (Level 4: Proficient Readers)'\n",
    "books.at[209538 ,'Book-Author'] = 'Michael Teitelbaum'\n",
    "\n",
    "books.at[221678 ,'Publisher'] = 'DK Publishing Inc'\n",
    "books.at[221678 ,'Year-Of-Publication'] = 2000\n",
    "books.at[209538 ,'Book-Title'] = 'DK Readers: Creating the X-Men, How Comic Books Come to Life (Level 4: Proficient Readers)'\n",
    "books.at[209538 ,'Book-Author'] = 'James Buckley'\n",
    "\n",
    "books.at[220731 ,'Publisher'] = 'Gallimard'\n",
    "books.at[220731 ,'Year-Of-Publication'] = '2003'\n",
    "books.at[209538 ,'Book-Title'] = 'Peuple du ciel - Suivi de Les bergers '\n",
    "books.at[209538 ,'Book-Author'] = 'Jean-Marie Gustave Le ClÃ?Â©zio'"
>>>>>>> d0f8729cab551846110b5d564cd8c1227553e163
   ]
  },
  {
   "cell_type": "code",
   "execution_count": 52,
   "metadata": {},
<<<<<<< HEAD
   "outputs": [
    {
     "data": {
      "text/plain": [
       "32.0"
      ]
     },
     "execution_count": 52,
     "metadata": {},
     "output_type": "execute_result"
    }
   ],
   "source": [
    "median = users_filtered['Age'].median()\n",
    "median"
   ]
  },
  {
   "cell_type": "code",
   "execution_count": 53,
   "metadata": {},
   "outputs": [],
   "source": [
    "# Replace the entries less than 10 or greater than 80 with the median\n",
    "users.loc[(users['Age'] < 10) | (users['Age'] > 80), 'Age'] = median"
=======
   "outputs": [],
   "source": [
    "## Converting year of publication to integers\n",
    "books['Year-Of-Publication'] = books['Year-Of-Publication'].astype(int)"
>>>>>>> d0f8729cab551846110b5d564cd8c1227553e163
   ]
  },
  {
   "cell_type": "code",
   "execution_count": 54,
   "metadata": {},
   "outputs": [],
   "source": [
<<<<<<< HEAD
    "# Replace missing values in the \"age\" column with the median age\n",
    "users['Age'] = users['Age'].fillna(median)"
=======
    "## Replacing Invalid years with max year\n",
    "#count = Counter(books['Year-Of-Publication'])\n",
    "#[k for k, v in count.items() if v == max(count.values())]"
>>>>>>> d0f8729cab551846110b5d564cd8c1227553e163
   ]
  },
  {
   "cell_type": "code",
   "execution_count": 55,
   "metadata": {},
   "outputs": [
    {
<<<<<<< HEAD
     "data": {
      "text/plain": [
       "0"
      ]
     },
     "execution_count": 55,
     "metadata": {},
     "output_type": "execute_result"
    }
   ],
   "source": [
    "# checking for null values\n",
    "users['Age'].isnull().sum()"
   ]
  },
  {
   "cell_type": "markdown",
   "metadata": {},
   "source": [
    "### 3.2.3 **books_data** (merged books and extra_books)"
=======
     "name": "stdout",
     "output_type": "stream",
     "text": [
      "[0, 1376, 1378, 1806, 1897, 1900, 1901, 1902, 1904, 1906, 1908, 1909, 1910, 1911, 1914, 1917, 1919, 1920, 1921, 1922, 1923, 1924, 1925, 1926, 1927, 1928, 1929, 1930, 1931, 1932, 1933, 1934, 1935, 1936, 1937, 1938, 1939, 1940, 1941, 1942, 1943, 1944, 1945, 1946, 1947, 1948, 1949, 1950, 1951, 1952, 1953, 1954, 1955, 1956, 1957, 1958, 1959, 1960, 1961, 1962, 1963, 1964, 1965, 1966, 1967, 1968, 1969, 1970, 1971, 1972, 1973, 1974, 1975, 1976, 1977, 1978, 1979, 1980, 1981, 1982, 1983, 1984, 1985, 1986, 1987, 1988, 1989, 1990, 1991, 1992, 1993, 1994, 1995, 1996, 1997, 1998, 1999, 2000, 2001, 2002, 2003, 2004, 2005, 2006, 2008, 2010, 2011, 2012, 2020, 2021, 2024, 2026, 2030, 2037, 2038, 2050]\n"
     ]
    }
   ],
   "source": [
    "print(sorted(list(books['Year-Of-Publication'].unique())))"
>>>>>>> d0f8729cab551846110b5d564cd8c1227553e163
   ]
  },
  {
   "cell_type": "code",
   "execution_count": 56,
   "metadata": {},
   "outputs": [],
   "source": [
<<<<<<< HEAD
    "# define class for data cleaning\n",
    "class DataCleaning:\n",
    "    def __init__(self, data):\n",
    "        self.data = data\n",
    "        \n",
    "    def drop_null_rows(self):\n",
    "        \"\"\"Drops rows with null values.\"\"\"\n",
    "        self.data = self.data.dropna()\n",
    "        return self.data\n",
    "\n",
    "    def drop_duplicate_rows(self):\n",
    "        \"\"\"Drops duplicate rows.\"\"\"\n",
    "        self.data = self.data.drop_duplicates()\n",
    "        return self.data\n",
    "\n",
    "    def handle_missing_values(self, column, method, value=None):\n",
    "        \"\"\"Handles missing values in a specified column.\n",
    "        \n",
    "        The method parameter take one of the following:\n",
    "        \"drop\": Drops rows with missing values in the specified column.\n",
    "        \"fill\": Fills missing values with the specified value.\n",
    "        \"interpolate\": Interpolates missing values using linear interpolation.\n",
    "        \"\"\"\n",
    "        if method == \"drop\":\n",
    "            self.data = self.data.dropna(subset=[column])\n",
    "        elif method == \"fill\":\n",
    "            self.data[column] = self.data[column].fillna(value)\n",
    "        elif method == \"interpolate\":\n",
    "            self.data[column] = self.data[column].interpolate()\n",
    "        else:\n",
    "            raise ValueError(\"Invalid value for method parameter. Valid values are 'drop', 'fill', and 'interpolate'.\")\n",
    "        return self.data\n",
    "\n",
    "    def convert_column_data_type(self, column, data_type):\n",
    "        \"\"\"Converts the data type of a specified column.\"\"\"\n",
    "        self.data[column] = self.data[column].astype(data_type)\n",
    "        return self.data"
=======
    "#checking for the years of publication that are above 2006 and 0 and replacing with null values\n",
    "books.loc[(books['Year-Of-Publication'] > 2006) | (books['Year-Of-Publication'] == 0),'Year-Of-Publication'] = np.NAN\n",
    "\n",
    "#replacing null values with median value of Year-Of-Publication\n",
    "books['Year-Of-Publication'].fillna(round(books['Year-Of-Publication'].median()), inplace=True)\n",
    "\n",
    "#alternatively replacing with maximum year\n",
    "books.loc[books['Year-Of-Publication'] > 2021, 'Year-Of-Publication'] = 2002\n",
    "books.loc[books['Year-Of-Publication'] == 0, 'Year-Of-Publication'] = 2002"
>>>>>>> d0f8729cab551846110b5d564cd8c1227553e163
   ]
  },
  {
   "cell_type": "code",
   "execution_count": 57,
   "metadata": {},
   "outputs": [],
   "source": [
<<<<<<< HEAD
    "data_cleaning = DataCleaning(books_data)"
=======
    "## Uppercasing all alphabets in ISBN\n",
    "books['ISBN'] = books['ISBN'].str.upper()"
   ]
  },
  {
   "cell_type": "markdown",
   "metadata": {},
   "source": [
    "### Ratings Dataset"
>>>>>>> d0f8729cab551846110b5d564cd8c1227553e163
   ]
  },
  {
   "cell_type": "code",
   "execution_count": 58,
   "metadata": {},
<<<<<<< HEAD
   "outputs": [],
   "source": [
    "# dropping columns that will not be needed for our analysis\n",
    "books_data.drop(columns=['isbn_10', 'isbn_13', 'join_isbn_10'], axis=1, inplace=True)"
=======
   "outputs": [
    {
     "data": {
      "image/png": "iVBORw0KGgoAAAANSUhEUgAAA3UAAAGDCAYAAACMWjkNAAAAOXRFWHRTb2Z0d2FyZQBNYXRwbG90bGliIHZlcnNpb24zLjMuMSwgaHR0cHM6Ly9tYXRwbG90bGliLm9yZy/d3fzzAAAACXBIWXMAAAsTAAALEwEAmpwYAAAhKElEQVR4nO3de7RlZXkn6t8rhUFuCnhDUNHW4yVGQSu0trZGiIkYo3a3MTiSozEXuk9i1O4cuzGcJCadS+fWMbYZSRO1JfGWiBpN2niJCnbsRFIgKgg0aIgSEBCUixgFfM8fa5bZVKpq7yr23nN/u55njDnWXN+ca37vWt8oil9981LdHQAAAMZ0l7kLAAAAYO8JdQAAAAMT6gAAAAYm1AEAAAxMqAMAABiYUAcAADAwoQ6ADaOqfq+qfmbuOnZUVT9dVa9dxePdXFUPntbfUFW/uIrH3pC/IQBrpzynDoC9VVWXJ7lPktuT3JzkvUle3N03r+CzP5TkR7v7SWtZ4wrqOCvJ45PcmqSTXJrkbUl+q7u/thfHemN3rzgAVtUbklzR3f/fnvQ1ffaHsgF+QwDmZaYOgDvre7v74CTHJjkuySvmLWevvLi7D0lyZJKfSnJykvdUVa1mJ1W1ZTWPBwCJUAfAKunuLyR5XxbhLklSVadW1Weq6qaq+nRV/aup/RFJfi/JE6ZTEb88tX/zVMSq+o6quqKqfqqqrqmqq6rqRUuOfURV/WlV3VhVf1NVv1hVfzltq6r6relzN1TVJ6vqUSv4Dl/p7rOSPCvJE5J8z3S8V1bVG6f1A6rqjVV1XVV9eer7PlX1S0n+ZZLXTN/pNdP+XVU/UVWXZjELuL3tIUu6vmdVfWD6nc6uqgdO+x0z7fvNMFhVZ1XVj67kN5ze/1hVXVZV11fVu6vqfku2dVX9u6q6tKq+VFW/s9pBFoC1J9QBsCqq6ugkJyW5bEnzZ7IIOndP8vNJ3lhVR3b3RUn+XZK/6u6Du/seuzjsfafPHpXkR5L8TlUdNm37nSRfmfZ54bRs911Jnpzk/0pyjyTfn+S6lX6X7v5ckm1T7Tt64VTT/ZMcMX2Pr3b3aUn+Vxazfgd394uXfOY5Sf55kkfuossfSPKfk9wzyflJ3rSCGpf9DavqhCS/kuR5WcxC/l2St+6w2zOTfHuSx0z7ffdyfQOwsQh1ANxZf1JVNyX5fJJrkvzc9g3d/bbuvrK7v9Hdf5TFTNXxe3DsW5P8Qnff2t3vyeK6vYdV1X5J/k2Sn+vuW7r700nO2OFzhyR5eBbXj1/U3Vft4fe6Msnhu6jpiCQP6e7bu/vc7r5xmWP9Sndf391f3cX2/9ndH5mu4Tsti9m3++9hvTvzA0le393nTcd+xXTsY5bs81+6+8tTkP1wlsy0AjAGoQ6AO+s50/Vo35FFiLrn9g1V9YKqOn86TfHLSR61dPsKXNfdty15f0uSg5PcK8mWLILkdt9c7+4PJXlNFrN5V1fV6VV16B59q8Xs4PU7af/DLE4zfWtVXVlVv1ZV+y9zrM+vdPt0k5nrk9xv17uv2P2ymJ1beuzrsvhu231hyfr23xeAgQh1AKyK7j47yRuS/EaSTNeF/X6SFyc5Yjo98IIk26/ZujO3X742yW1Jjl7SdoeZre5+dXc/Lsm3ZnEa5stXevBpluxxWZxOeQfTrOHPd/cjk/yLLE5ffMH2zbs45HLf9Zu1V9XBWcwQXpnF6aVJcuCSfe+7B8e9MskDlxz7oCxmGf9+mc8BMBChDoDV9KokT6uqY5MclEXouDZJppucLL1ZydVJjq6qu+5pJ919e5J3JHllVR1YVQ/PPwarVNW3V9U/n2bQvpLkH7J47MJuTcd6SpJ3JTknyXt2ss9Tq+rbplNAb8zidMztx746yYP39PskeUZVPWn6Lf5zko919+e7+9osAtgPVtV+VfXDSf7Zks8t9xu+OcmLqurYqvqWJL88HfvyvagRgA1KqANg1Uwh5A+S/Mx0ndtvJvmrLMLHtyX56JLdP5TkwiRfqKov7kV3L87ihiVfyOKUyLck2f5cuUOzmCX8UhanH16XaQZxF14zXRd4dRbB9O1Jnt7d39jJvvdNcmYWge6iJGcneeO07beTPHe6k+Sr9+C7vDmLaxGvz2KG8AeWbPuxLGYZr8ti1vF/L9m229+wuz+Y5Gem73NVFoHw5D2oC4ABePg4AJtCVf1qkvt29wuX3RkANhEzdQAMqaoeXlWPnp5Jd3wWjzx459x1AcB627L8LgCwIR2SxSmX98viUQq/mcW1cACwT3H6JQAAwMCcfgkAADAwoQ4AAGBgQ1xTd8973rOPOeaYucsAAACYxbnnnvvF7r7XzrYNEeqOOeaYbNu2be4yAAAAZlFVf7erbU6/BAAAGNgQM3UXXXFdHvfyP5i7DAAAYJM699dfMHcJe81MHQAAwMCEOgAAgIEJdQAAAAMT6gAAAAYm1AEAAAxMqAMAABiYUAcAADAwoQ4AAGBgQh0AAMDAZgl1VfX0qrqkqi6rqlPnqAEAAGAzWPdQV1X7JfmdJCcleWSS51fVI9e7DgAAgM1gjpm645Nc1t2f7e6vJ3lrkmfPUAcAAMDw5gh1RyX5/JL3V0xtd1BVp1TVtqradtstN61bcQAAACOZI9TVTtr6nzR0n97dW7t765YDD1mHsgAAAMYzR6i7Isn9l7w/OsmVM9QBAAAwvDlC3d8keWhVPaiq7prk5CTvnqEOAACA4W1Z7w67+7aqenGS9yXZL8nru/vC9a4DAABgM1j3UJck3f2eJO+Zo28AAIDNZJaHjwMAALA6hDoAAICBCXUAAAADE+oAAAAGJtQBAAAMTKgDAAAYmFAHAAAwsFmeU7enHnH0Edn26y+YuwwAAIANx0wdAADAwIQ6AACAgQl1AAAAAxPqAAAABibUAQAADEyoAwAAGNgQjzT4+lUX5nO/8G1zl8EqeMDPfmruEgAAYFMxUwcAADAwoQ4AAGBgQh0AAMDAhDoAAICBCXUAAAADE+oAAAAGJtQBAAAMTKgDAAAY2Cyhrqr+fVVdWFUXVNVbquqAOeoAAAAY3bqHuqo6KslLkmzt7kcl2S/JyetdBwAAwGYw1+mXW5Lcraq2JDkwyZUz1QEAADC0dQ913f33SX4jyeeSXJXkhu5+/3rXAQAAsBnMcfrlYUmeneRBSe6X5KCq+sGd7HdKVW2rqm3Xf+X29S4TAABgCHOcfvmdSf62u6/t7luTvCPJv9hxp+4+vbu3dvfWww/ab92LBAAAGMEcoe5zSR5fVQdWVSU5MclFM9QBAAAwvDmuqftYkjOTnJfkU1MNp693HQAAAJvBljk67e6fS/Jzc/QNAACwmcz1SAMAAABWgVAHAAAwMKEOAABgYEIdAADAwIQ6AACAgQl1AAAAAxPqAAAABibUAQAADGyWh4/vqbse+a15wM9um7sMAACADcdMHQAAwMCEOgAAgIEJdQAAAAMT6gAAAAYm1AEAAAxsiLtfXnzNxXnif3vi3GVsSh/9yY/OXQIAAHAnmKkDAAAYmFAHAAAwMKEOAABgYEIdAADAwIQ6AACAgQl1AAAAAxPqAAAABibUAQAADEyoAwAAGNiahbqqen1VXVNVFyxpO7yqPlBVl06vh61V/wAAAPuCtZype0OSp+/QdmqSD3b3Q5N8cHoPAADAXlqzUNfdH0ly/Q7Nz05yxrR+RpLnrFX/AAAA+4L1vqbuPt19VZJMr/fe1Y5VdUpVbauqbbfefOu6FQgAADCSDXujlO4+vbu3dvfW/Q/ef+5yAAAANqT1DnVXV9WRSTK9XrPO/QMAAGwq6x3q3p3khdP6C5O8a537BwAA2FTW8pEGb0nyV0keVlVXVNWPJPkvSZ5WVZcmedr0HgAAgL20Za0O3N3P38WmE9eqTwAAgH3Nhr1RCgAAAMsT6gAAAAYm1AEAAAxMqAMAABiYUAcAADAwoQ4AAGBgQh0AAMDA1uw5davp4fd+eD76kx+duwwAAIANx0wdAADAwIQ6AACAgQl1AAAAAxPqAAAABibUAQAADEyoAwAAGNgQjzS46ZJLcvaTnzJ3GZvKUz5y9twlAAAAq8BMHQAAwMCEOgAAgIEJdQAAAAMT6gAAAAYm1AEAAAxMqAMAABiYUAcAADAwoQ4AAGBg6x7qquphVXX+kuXGqnrZetcBAACwGWxZ7w67+5IkxyZJVe2X5O+TvHO96wAAANgM5j798sQkn+nuv5u5DgAAgCHNHepOTvKWmWsAAAAY1myhrqrumuRZSd62i+2nVNW2qtp2w623rm9xAAAAg5hzpu6kJOd199U729jdp3f31u7eevf991/n0gAAAMYwZ6h7fpx6CQAAcKfMEuqq6sAkT0vyjjn6BwAA2CzW/ZEGSdLdtyQ5Yo6+AQAANpO5734JAADAnSDUAQAADEyoAwAAGJhQBwAAMDChDgAAYGBCHQAAwMCEOgAAgIEJdQAAAAOb5eHje+qQhz0sT/nI2XOXAQAAsOGYqQMAABiYUAcAADAwoQ4AAGBgQh0AAMDAhDoAAICBDXH3y2uuuCGv+ak/nbuMIbz4N7937hIAAIB1ZKYOAABgYEIdAADAwFZ0+mVVvXonzTck2dbd71rdkgAAAFiplc7UHZDk2CSXTsujkxye5Eeq6lVrUhkAAADLWumNUh6S5ITuvi1Jqup3k7w/ydOSfGqNagMAAGAZK52pOyrJQUveH5Tkft19e5KvrXpVAAAArMhKZ+p+Lcn5VXVWkkry5CS/XFUHJfmLNaoNAACAZawo1HX366rqPUmOzyLU/XR3XzltfvlaFQcAAMDu7ckjDe6S5Nok1yd5SFU9eW1KAgAAYKVW+kiDX03y/UkuTPKNqbmTfGRvOq2qlyb5sSxm/X6/u1+1N8cBAADY1630mrrnJHlYd9/pm6JU1aOyCHTHJ/l6kvdW1f/s7kvv7LEBAAD2NSs9/fKzSfZfpT4fkeSvu/uW6REJZyf5V6t0bAAAgH3KSmfqbsni7pcfzJJHGHT3S/aizwuS/FJVHZHkq0mekWTbjjtV1SlJTkmSww651150AwAAsPmtNNS9e1rutO6+aLpG7wNJbk7yiSS37WS/05OcniQPuO9DezX6BgAA2GxW+kiDM1az0+5+XZLXJUlV/XKSK1bz+AAAAPuK3Ya6qvrj7n5eVX0qi7td3kF3P3pvOq2qe3f3NVX1gCT/OskT9uY4AAAA+7rlZupeOr0+c5X7fft0Td2tSX6iu7+0yscHAADYJ+w21HX3VdPqj3f3f1q6bbou7j/9008tr7v/5d58DgAAgDta6SMNnraTtpNWsxAAAAD23HLX1P0/SX48yYOr6pNLNh2S5KNrWRgAAADLW+6aujcn+fMkv5Lk1CXtN3X39WtWFQAAACuy3DV1NyS5Icnzk8VdK5MckOTgqjq4uz+39iUCAACwKyu6pq6qvreqLk3yt0nOTnJ5FjN4AAAAzGilN0r5xSSPT/J/uvtBSU6Ma+oAAABmt9JQd2t3X5fkLlV1l+7+cJJj164sAAAAVmK5G6Vs9+WqOjjJR5K8qaquSXLb2pV1R/c++u558W9+73p1BwAAMIyVztQ9O8lXk/z7JO9N8pkkz1yrogAAAFiZFYW67v5Kd9/e3bd19xlJ3p/kV9e2NAAAAJaz21BXVY+uqvdX1QVV9YtVdZ+qenuSv0jy6fUpEQAAgF1Zbqbu97N4APm/SXJtkvOSfDbJQ7r7t9a4NgAAAJax3I1SvqW73zCtX1JV/2+SU7v79rUtCwAAgJVYLtQdUFXHJanp/c1JHl1VlSTdfd5aFgcAAMDuVXfvemPVh3fz2e7uE1a/pH/qqCMO6x8/6cT16Go2p73xzLlLAAAANqiqOre7t+5s225n6rr7qWtTEgAAAKthpc+p+6aqOn0tCgEAAGDP7XGoS7LTKT8AAADW396EumtWvQoAAAD2yopCXVUds329u58+tX37GtUEAADACq10pu4dVXXU9jdV9ZQkr1+bkgAAAFiplYa6f5vkT6rqvlX1jCS/neQZa1cWAAAAK7Hcw8eTJN39N1X1kiTvT/IPSZ7W3deuaWUAAAAsa7ehrqr+NMnSp5MfmOSGJK+rqnT3s9ayOAAAAHZvuZm631iLTqvq8iQ3Jbk9yW27ejI6AAAAu7fbUNfdZ29fr6r7JNl+x8tzuvvOPtrgqd39xTt5DAAAgH3aSh9p8Lwk5yT5viTPS/KxqnruWhYGAADA8lZ0o5QkpyX59u2zc1V1ryR/keTMvey3k7y/qjrJf+/u03fcoapOSXJKktz9wLvtZTcAAACb20pD3V12ON3yuqz8cQg788TuvrKq7p3kA1V1cXd/ZOkOU9A7PUmOOuKw3tlBAAAA9nUrDXXvrar3JXnL9P77k7xnbzvt7iun12uq6p1Jjk/ykd1/CgAAgB2t9Dl1L6+qf53kSUkqyend/c696bCqDspi5u+maf27kvzC3hwLAABgX7fSmbok+WiSW7O4Hu6cO9HnfZK8s6q29//m7n7vnTgeAADAPmtFoW66++WvJzkri5m6/1ZVL+/uPb5RSnd/Nslj9vRzAAAA/FNz3f0SAACAVbDSO1iu9t0vAQAAWAWz3P0SAACA1bHud78EAABg9az47pfd/Y4k76iqe2Zx+iUAAAAz2+11cVX1+Ko6q6reUVXHVdUFSS5IcnVVPX19SgQAAGBXlpupe02Sn05y9yQfSnJSd/91VT08i+vrPF8OAABgRsuFui3d/f4kqapf6O6/TpLuvnh6ePi6OPJB/yynvdHTEwAAAHa03GMJvrFk/as7bOtVrgUAAIA9tNxM3WOq6sYs7nh5t2k90/sD1rQyAAAAlrXbUNfd+61XIQAAAOy55U6/BAAAYAMT6gAAAAYm1AEAAAxsuRulbAj/cNVNueiXPjR3Gbv1iNNOmLsEAABgH2SmDgAAYGBCHQAAwMCEOgAAgIEJdQAAAAMT6gAAAAYm1AEAAAxMqAMAABiYUAcAADCwWUJdVd2jqs6sqour6qKqesIcdQAAAIxuy0z9/naS93b3c6vqrkkOnKkOAACAoa17qKuqQ5M8OckPJUl3fz3J19e7DgAAgM1gjtMvH5zk2iT/o6o+XlWvraqDZqgDAABgeHOEui1JHpvkd7v7uCRfSXLqjjtV1SlVta2qtl3/lS+vc4kAAABjmCPUXZHkiu7+2PT+zCxC3h109+ndvbW7tx5+0D3Wsz4AAIBhrHuo6+4vJPl8VT1sajoxyafXuw4AAIDNYK67X/5kkjdNd778bJIXzVQHAADA0GYJdd19fpKtc/QNAACwmczy8HEAAABWh1AHAAAwMKEOAABgYEIdAADAwIQ6AACAgQl1AAAAAxPqAAAABibUAQAADGyWh4/vqQOOPCSPOO2EucsAAADYcMzUAQAADEyoAwAAGJhQBwAAMDChDgAAYGBCHQAAwMCGuPvllVdemVe+8pXL7reSfQAAADYTM3UAAAADE+oAAAAGJtQBAAAMTKgDAAAYmFAHAAAwMKEOAABgYEIdAADAwIQ6AACAgQl1AAAAA5st1FXVflX18ar6s7lqAAAAGN2cM3UvTXLRjP0DAAAMb5ZQV1VHJ/meJK+do38AAIDNYq6Zulcl+Y9JvrGrHarqlKraVlXbbrnllnUrDAAAYCTrHuqq6plJrunuc3e3X3ef3t1bu3vrgQceuE7VAQAAjGWOmbonJnlWVV2e5K1JTqiqN85QBwAAwPDWPdR19yu6++juPibJyUk+1N0/uN51AAAAbAaeUwcAADCwLXN23t1nJTlrzhoAAABGZqYOAABgYEIdAADAwIQ6AACAgQl1AAAAAxPqAAAABibUAQAADEyoAwAAGFh199w1LGvr1q29bdu2ucsAAACYRVWd291bd7bNTB0AAMDAhDoAAICBCXUAAAADE+oAAAAGJtQBAAAMTKgDAAAY2Ja5C1iJL33povzx247f6bbnfd8561wNAADAxmGmDgAAYGBCHQAAwMCEOgAAgIEJdQAAAAMT6gAAAAYm1AEAAAxMqAMAABiYUAcAADCwdQ91VXVAVZ1TVZ+oqgur6ufXuwYAAIDNYssMfX4tyQndfXNV7Z/kL6vqz7v7r2eoBQAAYGjrHuq6u5PcPL3df1p6vesAAADYDGa5pq6q9quq85Nck+QD3f2xOeoAAAAY3Syhrrtv7+5jkxyd5PiqetSO+1TVKVW1raq23XjjbeteIwAAwAhmvftld385yVlJnr6Tbad399bu3nrooXNc+gcAALDxzXH3y3tV1T2m9bsl+c4kF693HQAAAJvBHFNgRyY5o6r2yyJU/nF3/9kMdQAAAAxvjrtffjLJcevdLwAAwGY06zV1AAAA3DlCHQAAwMCEOgAAgIEJdQAAAAMT6gAAAAYm1AEAAAxMqAMAABiYUAcAADCwdX/4+N447LBH5Hnfd87cZQAAAGw4ZuoAAAAGJtQBAAAMTKgDAAAYmFAHAAAwMKEOAABgYEOEuk9/6cY85sz35TFnvm/uUgAAADaUIUIdAAAAOyfUAQAADEyoAwAAGJhQBwAAMDChDgAAYGBCHQAAwMCEOgAAgIEJdQAAAAMT6gAAAAa27qGuqu5fVR+uqouq6sKqeul61wAAALBZbJmhz9uS/FR3n1dVhyQ5t6o+0N2fnqEWAACAoa37TF13X9Xd503rNyW5KMlR610HAADAZjDrNXVVdUyS45J8bCfbTqmqbVW17bYbb1j32gAAAEYwW6irqoOTvD3Jy7r7xh23d/fp3b21u7duOfTu618gAADAAGYJdVW1fxaB7k3d/Y45agAAANgM5rj7ZSV5XZKLuvu/rnf/AAAAm8kcM3VPTPJ/Jzmhqs6flmfMUAcAAMDw1v2RBt39l0lqvfsFAADYjGa9+yUAAAB3jlAHAAAwMKEOAABgYEIdAADAwIQ6AACAgQl1AAAAAxPqAAAABibUAQAADGzdHz6+Nx552KHZ9tzvnrsMAACADcdMHQAAwMCEOgAAgIFVd89dw7Kq6qYkl8xdB3vlnkm+OHcR7DXjNy5jNy5jNzbjNy5jN659Zewe2N332tmGIa6pS3JJd2+duwj2XFVtM3bjMn7jMnbjMnZjM37jMnbjMnZOvwQAABiaUAcAADCwUULd6XMXwF4zdmMzfuMyduMydmMzfuMyduPa58duiBulAAAAsHOjzNQBAACwExs61FXV06vqkqq6rKpOnbuefUlVvb6qrqmqC5a0HV5VH6iqS6fXw5Zse8U0TpdU1XcvaX9cVX1q2vbqqqqp/Vuq6o+m9o9V1TFLPvPCqY9Lq+qF6/SVN42qun9VfbiqLqqqC6vqpVO78RtAVR1QVedU1Sem8fv5qd34DaKq9quqj1fVn03vjd0Aqury6Tc/v6q2TW3GbgBVdY+qOrOqLp7+7nuCsRtDVT1s+jO3fbmxql5m/PZCd2/IJcl+ST6T5MFJ7prkE0keOXdd+8qS5MlJHpvkgiVtv5bk1Gn91CS/Oq0/chqfb0nyoGnc9pu2nZPkCUkqyZ8nOWlq//Ekvzetn5zkj6b1w5N8dno9bFo/bO7fY6QlyZFJHjutH5Lk/0xjZPwGWKbf+uBpff8kH0vyeOM3zpLkPyR5c5I/m94buwGWJJcnuecObcZugCXJGUl+dFq/a5J7GLvxliz+3/8LSR5o/PZ82cgzdccnuay7P9vdX0/y1iTPnrmmfUZ3fyTJ9Ts0PzuL/3Bmen3Okva3dvfXuvtvk1yW5PiqOjLJod39V7340/MHO3xm+7HOTHLi9C8q353kA919fXd/KckHkjx9tb/fZtbdV3X3edP6TUkuSnJUjN8QeuHm6e3+09IxfkOoqqOTfE+S1y5pNnbjMnYbXFUdmsU/RL8uSbr769395Ri7EZ2Y5DPd/XcxfntsI4e6o5J8fsn7K6Y25nOf7r4qWQSHJPee2nc1VkdN6zu23+Ez3X1bkhuSHLGbY7EXplMMjstitsf4DaIWp++dn+SaLP7CMX7jeFWS/5jkG0vajN0YOsn7q+rcqjplajN2G9+Dk1yb5H/U4rTn11bVQTF2Izo5yVumdeO3hzZyqKudtLlV58a0q7Ha3RjuzWfYA1V1cJK3J3lZd9+4u1130mb8ZtTdt3f3sUmOzuJfIB+1m92N3wZRVc9Mck13n7vSj+ykzdjN54nd/dgkJyX5iap68m72NXYbx5YsLhf53e4+LslXsjhdb1eM3QZUVXdN8qwkb1tu1520Gb9s7FB3RZL7L3l/dJIrZ6qFhaun6e1Mr9dM7bsaqyum9R3b7/CZqtqS5O5ZnO5p3FdBVe2fRaB7U3e/Y2o2foOZTiE6K4vTQYzfxvfEJM+qqsuzuGTghKp6Y4zdELr7yun1miTvzOIyEGO38V2R5IrpjIZkcXrdY2PsRnNSkvO6++rpvfHbQxs51P1NkodW1YOm9H5yknfPXNO+7t1JXjitvzDJu5a0nzzdXehBSR6a5Jxpuvymqnr8dO7yC3b4zPZjPTfJh6ZzoN+X5Luq6rDpTkffNbWxQtNv/bokF3X3f12yyfgNoKruVVX3mNbvluQ7k1wc47fhdfcruvvo7j4mi7+zPtTdPxhjt+FV1UFVdcj29Sx+vwti7Da87v5Cks9X1cOmphOTfDrGbjTPzz+eepkYvz23451TNtKS5BlZ3LnvM0lOm7uefWnJ4g/WVUluzeJfMn4ki/OPP5jk0un18CX7nzaN0yWZ7jY0tW/N4i/GzyR5Tf7xgfcHZDHFflkWdyt68JLP/PDUflmSF839W4y2JHlSFqcPfDLJ+dPyDOM3xpLk0Uk+Po3fBUl+dmo3fgMtSb4j/3j3S2O3wZcsrsv6xLRcmOn/OYzdGEuSY5Nsm/67+SdZ3MnQ2A2yJDkwyXVJ7r6kzfjt4bL9ywIAADCgjXz6JQAAAMsQ6gAAAAYm1AEAAAxMqAMAABiYUAcAADAwoQ4AVlFVvayqDpy7DgD2HR5pAACrqKouT7K1u784dy0A7BvM1AGwz6mqF1TVJ6vqE1X1h1X1wKr64NT2wap6wLTfG6rquUs+d/P0+h1VdVZVnVlVF1fVm2rhJUnul+TDVfXheb4dAPuaLXMXAADrqaq+NclpSZ7Y3V+sqsOTnJHkD7r7jKr64SSvTvKcZQ51XJJvTXJlko9Ox3t1Vf2HJE81UwfAejFTB8C+5oQkZ24PXd19fZInJHnztP0PkzxpBcc5p7uv6O5vJDk/yTGrXyoALE+oA2BfU0mWu6B8+/bbMv1dWVWV5K5L9vnakvXb4+wXAGYi1AGwr/lgkudV1RFJMp1++b+TnDxt/4EkfzmtX57kcdP6s5Psv4Lj35TkkNUqFgCW418VAdindPeFVfVLSc6uqtuTfDzJS5K8vqpenuTaJC+adv/9JO+qqnOyCINfWUEXpyf586q6qrufuvrfAADuyCMNAAAABub0SwAAgIEJdQAAAAMT6gAAAAYm1AEAAAxMqAMAABiYUAcAADAwoQ4AAGBgQh0AAMDA/n9BK0R5jGwk/wAAAABJRU5ErkJggg==\n",
      "text/plain": [
       "<Figure size 1080x432 with 1 Axes>"
      ]
     },
     "metadata": {
      "needs_background": "light"
     },
     "output_type": "display_data"
    }
   ],
   "source": [
    "#checking the distribution of ratings\n",
    "count_plot('Book-Rating', ratings, 'Ratings Distribution')"
   ]
  },
  {
   "cell_type": "markdown",
   "metadata": {},
   "source": [
    "The ratings are unevenly distributed since majority of the ratings are 0. The ratings are either explicit, expressed on a scale of 1-10 with higher values denoting higher appreciation, or implicit, expressed by 0. Hence the need to segragate implicit and explict ratings datasets"
>>>>>>> d0f8729cab551846110b5d564cd8c1227553e163
   ]
  },
  {
   "cell_type": "code",
   "execution_count": 59,
   "metadata": {},
<<<<<<< HEAD
=======
   "outputs": [],
   "source": [
    "#segregating implicit and explict ratings datasets\n",
    "ratings_explicit = ratings[ratings['Book-Rating'] != 0]\n",
    "ratings_implicit = ratings[ratings['Book-Rating'] == 0]"
   ]
  },
  {
   "cell_type": "code",
   "execution_count": 60,
   "metadata": {},
   "outputs": [
    {
     "data": {
      "image/png": "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\n",
      "text/plain": [
       "<Figure size 1080x432 with 1 Axes>"
      ]
     },
     "metadata": {
      "needs_background": "light"
     },
     "output_type": "display_data"
    }
   ],
   "source": [
    "#plotting the explicit ratings\n",
    "count_plot('Book-Rating', ratings_explicit, 'Explicit Ratings')"
   ]
  },
  {
   "cell_type": "markdown",
   "metadata": {},
   "source": [
    "It can be observed that higher ratings are most common amongst users and rating 8 has been rated the highest number of times."
   ]
  },
  {
   "cell_type": "code",
   "execution_count": 61,
   "metadata": {},
>>>>>>> d0f8729cab551846110b5d564cd8c1227553e163
   "outputs": [
    {
     "data": {
      "text/html": [
       "<div>\n",
       "<style scoped>\n",
       "    .dataframe tbody tr th:only-of-type {\n",
       "        vertical-align: middle;\n",
       "    }\n",
       "\n",
       "    .dataframe tbody tr th {\n",
       "        vertical-align: top;\n",
       "    }\n",
       "\n",
       "    .dataframe thead th {\n",
       "        text-align: right;\n",
       "    }\n",
       "</style>\n",
       "<table border=\"1\" class=\"dataframe\">\n",
       "  <thead>\n",
       "    <tr style=\"text-align: right;\">\n",
       "      <th></th>\n",
<<<<<<< HEAD
       "      <th>ISBN</th>\n",
       "      <th>Book-Title</th>\n",
       "      <th>Book-Author</th>\n",
       "      <th>Year-Of-Publication</th>\n",
       "      <th>Publisher</th>\n",
       "      <th>Image-URL-L</th>\n",
       "      <th>authors</th>\n",
       "      <th>published_date</th>\n",
       "      <th>description</th>\n",
       "      <th>page_count</th>\n",
       "      <th>categories</th>\n",
       "      <th>maturity_rating</th>\n",
       "      <th>language</th>\n",
=======
       "      <th>Book-Rating</th>\n",
       "    </tr>\n",
       "    <tr>\n",
       "      <th>ISBN</th>\n",
       "      <th></th>\n",
>>>>>>> d0f8729cab551846110b5d564cd8c1227553e163
       "    </tr>\n",
       "  </thead>\n",
       "  <tbody>\n",
       "    <tr>\n",
<<<<<<< HEAD
       "      <th>0</th>\n",
       "      <td>0195153448</td>\n",
       "      <td>Classical Mythology</td>\n",
       "      <td>Mark P. O. Morford</td>\n",
       "      <td>2002</td>\n",
       "      <td>Oxford University Press</td>\n",
       "      <td>http://images.amazon.com/images/P/0195153448.01.LZZZZZZZ.jpg</td>\n",
       "      <td>['Mark P. O. Morford', 'Robert J. Lenardon']</td>\n",
       "      <td>2003</td>\n",
       "      <td>Provides an introduction to classical myths placing the addressed topics within their historical context, discussion of archaeological evidence as support for mythical events, and how these themes have been portrayed in literature, art, music, and film.</td>\n",
       "      <td>808.0</td>\n",
       "      <td>['Social Science']</td>\n",
       "      <td>NOT_MATURE</td>\n",
       "      <td>en</td>\n",
       "    </tr>\n",
       "    <tr>\n",
       "      <th>2</th>\n",
       "      <td>0060973129</td>\n",
       "      <td>Decision in Normandy</td>\n",
       "      <td>Carlo D'Este</td>\n",
       "      <td>1991</td>\n",
       "      <td>HarperPerennial</td>\n",
       "      <td>http://images.amazon.com/images/P/0060973129.01.LZZZZZZZ.jpg</td>\n",
       "      <td>[\"Carlo D'Este\"]</td>\n",
       "      <td>1991</td>\n",
       "      <td>Here, for the first time in paperback, is an outstanding military history that offers a dramatic new perspective on the Allied campaign that began with the invasion of the D-Day beaches of Normandy. Nationa advertising in Military History.</td>\n",
       "      <td>582.0</td>\n",
       "      <td>['1940-1949']</td>\n",
       "      <td>NOT_MATURE</td>\n",
       "      <td>en</td>\n",
       "    </tr>\n",
       "    <tr>\n",
       "      <th>3</th>\n",
       "      <td>0374157065</td>\n",
       "      <td>Flu: The Story of the Great Influenza Pandemic of 1918 and the Search for the Virus That Caused It</td>\n",
       "      <td>Gina Bari Kolata</td>\n",
       "      <td>1999</td>\n",
       "      <td>Farrar Straus Giroux</td>\n",
       "      <td>http://images.amazon.com/images/P/0374157065.01.LZZZZZZZ.jpg</td>\n",
       "      <td>['Gina Bari Kolata']</td>\n",
       "      <td>1999</td>\n",
       "      <td>Describes the great flu epidemic of 1918, an outbreak that killed some forty million people worldwide, and discusses the efforts of scientists and public health officials to understand and prevent another lethal pandemic</td>\n",
       "      <td>367.0</td>\n",
       "      <td>['Medical']</td>\n",
       "      <td>NOT_MATURE</td>\n",
       "      <td>en</td>\n",
       "    </tr>\n",
       "    <tr>\n",
       "      <th>4</th>\n",
       "      <td>0393045218</td>\n",
       "      <td>The Mummies of Urumchi</td>\n",
       "      <td>E. J. W. Barber</td>\n",
       "      <td>1999</td>\n",
       "      <td>W. W. Norton &amp;amp; Company</td>\n",
       "      <td>http://images.amazon.com/images/P/0393045218.01.LZZZZZZZ.jpg</td>\n",
       "      <td>['E. J. W. Barber']</td>\n",
       "      <td>1999</td>\n",
       "      <td>A look at the incredibly well-preserved ancient mummies found in Western China describes their clothing and appearance, attempts to reconstruct their culture, and speculates about how Caucasians could have found their way to the feet of the Himalayan mountains.</td>\n",
       "      <td>240.0</td>\n",
       "      <td>['Design']</td>\n",
       "      <td>NOT_MATURE</td>\n",
       "      <td>en</td>\n",
       "    </tr>\n",
       "    <tr>\n",
       "      <th>5</th>\n",
       "      <td>0399135782</td>\n",
       "      <td>The Kitchen God's Wife</td>\n",
       "      <td>Amy Tan</td>\n",
       "      <td>1991</td>\n",
       "      <td>Putnam Pub Group</td>\n",
       "      <td>http://images.amazon.com/images/P/0399135782.01.LZZZZZZZ.jpg</td>\n",
       "      <td>['Amy Tan']</td>\n",
       "      <td>1991</td>\n",
       "      <td>A Chinese immigrant who is convinced she is dying threatens to celebrate the Chinese New Year by unburdening herself of everybody's hidden truths, thus prompting a series of comic misunderstandings</td>\n",
       "      <td>428.0</td>\n",
       "      <td>['Fiction']</td>\n",
       "      <td>NOT_MATURE</td>\n",
       "      <td>en</td>\n",
=======
       "      <th>0316666343</th>\n",
       "      <td>707</td>\n",
       "    </tr>\n",
       "    <tr>\n",
       "      <th>0971880107</th>\n",
       "      <td>581</td>\n",
       "    </tr>\n",
       "    <tr>\n",
       "      <th>0385504209</th>\n",
       "      <td>487</td>\n",
       "    </tr>\n",
       "    <tr>\n",
       "      <th>0312195516</th>\n",
       "      <td>383</td>\n",
       "    </tr>\n",
       "    <tr>\n",
       "      <th>0679781587</th>\n",
       "      <td>333</td>\n",
>>>>>>> d0f8729cab551846110b5d564cd8c1227553e163
       "    </tr>\n",
       "  </tbody>\n",
       "</table>\n",
       "</div>"
      ],
      "text/plain": [
<<<<<<< HEAD
       "         ISBN  \\\n",
       "0  0195153448   \n",
       "2  0060973129   \n",
       "3  0374157065   \n",
       "4  0393045218   \n",
       "5  0399135782   \n",
       "\n",
       "                                                                                           Book-Title  \\\n",
       "0                                                                                 Classical Mythology   \n",
       "2                                                                                Decision in Normandy   \n",
       "3  Flu: The Story of the Great Influenza Pandemic of 1918 and the Search for the Virus That Caused It   \n",
       "4                                                                              The Mummies of Urumchi   \n",
       "5                                                                              The Kitchen God's Wife   \n",
       "\n",
       "          Book-Author Year-Of-Publication                   Publisher  \\\n",
       "0  Mark P. O. Morford                2002     Oxford University Press   \n",
       "2        Carlo D'Este                1991             HarperPerennial   \n",
       "3    Gina Bari Kolata                1999        Farrar Straus Giroux   \n",
       "4     E. J. W. Barber                1999  W. W. Norton &amp; Company   \n",
       "5             Amy Tan                1991            Putnam Pub Group   \n",
       "\n",
       "                                                    Image-URL-L  \\\n",
       "0  http://images.amazon.com/images/P/0195153448.01.LZZZZZZZ.jpg   \n",
       "2  http://images.amazon.com/images/P/0060973129.01.LZZZZZZZ.jpg   \n",
       "3  http://images.amazon.com/images/P/0374157065.01.LZZZZZZZ.jpg   \n",
       "4  http://images.amazon.com/images/P/0393045218.01.LZZZZZZZ.jpg   \n",
       "5  http://images.amazon.com/images/P/0399135782.01.LZZZZZZZ.jpg   \n",
       "\n",
       "                                        authors published_date  \\\n",
       "0  ['Mark P. O. Morford', 'Robert J. Lenardon']           2003   \n",
       "2                              [\"Carlo D'Este\"]           1991   \n",
       "3                          ['Gina Bari Kolata']           1999   \n",
       "4                           ['E. J. W. Barber']           1999   \n",
       "5                                   ['Amy Tan']           1991   \n",
       "\n",
       "                                                                                                                                                                                                                                                             description  \\\n",
       "0          Provides an introduction to classical myths placing the addressed topics within their historical context, discussion of archaeological evidence as support for mythical events, and how these themes have been portrayed in literature, art, music, and film.   \n",
       "2                        Here, for the first time in paperback, is an outstanding military history that offers a dramatic new perspective on the Allied campaign that began with the invasion of the D-Day beaches of Normandy. Nationa advertising in Military History.   \n",
       "3                                           Describes the great flu epidemic of 1918, an outbreak that killed some forty million people worldwide, and discusses the efforts of scientists and public health officials to understand and prevent another lethal pandemic   \n",
       "4  A look at the incredibly well-preserved ancient mummies found in Western China describes their clothing and appearance, attempts to reconstruct their culture, and speculates about how Caucasians could have found their way to the feet of the Himalayan mountains.   \n",
       "5                                                                  A Chinese immigrant who is convinced she is dying threatens to celebrate the Chinese New Year by unburdening herself of everybody's hidden truths, thus prompting a series of comic misunderstandings   \n",
       "\n",
       "   page_count          categories maturity_rating language  \n",
       "0       808.0  ['Social Science']      NOT_MATURE       en  \n",
       "2       582.0       ['1940-1949']      NOT_MATURE       en  \n",
       "3       367.0         ['Medical']      NOT_MATURE       en  \n",
       "4       240.0          ['Design']      NOT_MATURE       en  \n",
       "5       428.0         ['Fiction']      NOT_MATURE       en  "
      ]
     },
     "execution_count": 59,
     "metadata": {},
     "output_type": "execute_result"
    }
   ],
   "source": [
    "# Drop rows with null values in the \"description\" column\n",
    "\n",
    "books_data = data_cleaning.handle_missing_values(column=\"description\", method=\"drop\")\n",
    "books_data.head()"
   ]
  },
  {
   "cell_type": "markdown",
   "metadata": {},
   "source": [
    "* we drop all entries with no description, because it is a crutial feature that will be used in our recommendation system."
   ]
  },
  {
   "cell_type": "code",
   "execution_count": 60,
   "metadata": {},
   "outputs": [
    {
     "data": {
      "text/plain": [
       "ISBN                      0\n",
       "Book-Title                0\n",
       "Book-Author               0\n",
       "Year-Of-Publication       0\n",
       "Publisher                 1\n",
       "Image-URL-L               1\n",
       "authors                 885\n",
       "published_date           13\n",
       "description               0\n",
       "page_count              323\n",
       "categories             2552\n",
       "maturity_rating           0\n",
       "language                  0\n",
       "dtype: int64"
      ]
     },
     "execution_count": 60,
     "metadata": {},
     "output_type": "execute_result"
    }
   ],
   "source": [
    "# Inspect the missing values in the DataFrame\n",
    "books_data.isna().sum()"
   ]
  },
  {
   "cell_type": "code",
   "execution_count": 61,
   "metadata": {},
   "outputs": [
    {
     "data": {
      "text/plain": [
       "array([2002, 1991, 1999, 2000, 1996, 1988, 2004, 1998, 1994, 2001, 1997,\n",
       "       2003, 1993, 1983, 1979, 1995, 1982, 1992, 1986, 1978, 1987, 1981,\n",
       "       1990, 1989, 1961, 1958, 1984, 1977, 1985, 1980, 1975, 1965, 1941,\n",
       "       0, 1970, 1976, 1962, 1971, 1960, 1974, 1920, 1973, 1972, 1959,\n",
       "       1953, 1951, 1964, 1968, 1969, 1954, 1950, 1967, 2005, 1957, 1956,\n",
       "       1940, 1937, 1963, 1966, 1955, 1952, 1946, 1930, 1925, 1948, 1947,\n",
       "       1945, 1942, 1939, 2030, 1949, 1932, 1929, 1923, 1927, 1936, 1931,\n",
       "       1938, 1914, 1910, 1943, 1933, 1911, 1902, 2038, 2010, 1901, 1921,\n",
       "       '2002', '1993', '1991', '2001', '1999', '1990', '0', '1995',\n",
       "       '1987', '1978', '1985', '1969', '1994', '1989', '1992', '2004',\n",
       "       '2000', '1979', '1976', '2003', '1975', '1997', '1996', '1973',\n",
       "       '1998', '1984', '1983', '1971', '2006', '1980', '1988', '1977',\n",
       "       '1981', '1974', '1968', '1982', '1961', '1986', '1970', '1960',\n",
       "       '1967', '1966', '1964', '1955', '1951', '1965', '1959', '1972',\n",
       "       '1954', '1956', '1962', '1952', '1957', '2005', '1930', '1963',\n",
       "       '1950', '1944', 'DK Publishing Inc', '1940', '1942', '1953'],\n",
       "      dtype=object)"
=======
       "            Book-Rating\n",
       "ISBN                   \n",
       "0316666343          707\n",
       "0971880107          581\n",
       "0385504209          487\n",
       "0312195516          383\n",
       "0679781587          333"
>>>>>>> d0f8729cab551846110b5d564cd8c1227553e163
      ]
     },
     "execution_count": 61,
     "metadata": {},
     "output_type": "execute_result"
    }
   ],
   "source": [
<<<<<<< HEAD
    "#unique year of publication\n",
    "books_data['Year-Of-Publication'].unique()"
=======
    "#finding the top 5 books that are rated most \n",
    "rating_count = pd.DataFrame(ratings_explicit.groupby('ISBN')['Book-Rating'].count())\n",
    "rating_count.sort_values('Book-Rating', ascending=False).head()"
>>>>>>> d0f8729cab551846110b5d564cd8c1227553e163
   ]
  },
  {
   "cell_type": "code",
   "execution_count": 62,
   "metadata": {},
   "outputs": [
    {
     "data": {
      "text/html": [
       "<div>\n",
       "<style scoped>\n",
       "    .dataframe tbody tr th:only-of-type {\n",
       "        vertical-align: middle;\n",
       "    }\n",
       "\n",
       "    .dataframe tbody tr th {\n",
       "        vertical-align: top;\n",
       "    }\n",
       "\n",
       "    .dataframe thead th {\n",
       "        text-align: right;\n",
       "    }\n",
       "</style>\n",
       "<table border=\"1\" class=\"dataframe\">\n",
       "  <thead>\n",
       "    <tr style=\"text-align: right;\">\n",
       "      <th></th>\n",
       "      <th>ISBN</th>\n",
       "      <th>Book-Title</th>\n",
       "      <th>Book-Author</th>\n",
       "      <th>Year-Of-Publication</th>\n",
       "      <th>Publisher</th>\n",
<<<<<<< HEAD
       "      <th>Image-URL-L</th>\n",
       "      <th>authors</th>\n",
       "      <th>published_date</th>\n",
       "      <th>description</th>\n",
       "      <th>page_count</th>\n",
       "      <th>categories</th>\n",
       "      <th>maturity_rating</th>\n",
       "      <th>language</th>\n",
=======
       "      <th>Image-URL-S</th>\n",
       "      <th>Image-URL-M</th>\n",
       "      <th>Image-URL-L</th>\n",
>>>>>>> d0f8729cab551846110b5d564cd8c1227553e163
       "    </tr>\n",
       "  </thead>\n",
       "  <tbody>\n",
       "    <tr>\n",
<<<<<<< HEAD
       "      <th>177764</th>\n",
       "      <td>078946697X</td>\n",
       "      <td>DK Readers: Creating the X-Men, How It All Began (Level 4: Proficient Readers)\\\";Michael Teitelbaum\"</td>\n",
       "      <td>2000</td>\n",
       "      <td>DK Publishing Inc</td>\n",
       "      <td>http://images.amazon.com/images/P/078946697X.01.THUMBZZZ.jpg</td>\n",
       "      <td>NaN</td>\n",
       "      <td>['Michael Teitelbaum']</td>\n",
       "      <td>2000</td>\n",
       "      <td>Provides information on such original characters from the X-men comic strip as Professor X, Iceman, Angel, Magneto, and Beast.</td>\n",
       "      <td>48.0</td>\n",
       "      <td>['Juvenile Fiction']</td>\n",
       "      <td>NOT_MATURE</td>\n",
       "      <td>en</td>\n",
=======
       "      <th>0</th>\n",
       "      <td>0316666343</td>\n",
       "      <td>The Lovely Bones: A Novel</td>\n",
       "      <td>Alice Sebold</td>\n",
       "      <td>2002.0</td>\n",
       "      <td>Little, Brown</td>\n",
       "      <td>http://images.amazon.com/images/P/0316666343.01.THUMBZZZ.jpg</td>\n",
       "      <td>http://images.amazon.com/images/P/0316666343.01.MZZZZZZZ.jpg</td>\n",
       "      <td>http://images.amazon.com/images/P/0316666343.01.LZZZZZZZ.jpg</td>\n",
       "    </tr>\n",
       "    <tr>\n",
       "      <th>1</th>\n",
       "      <td>0971880107</td>\n",
       "      <td>Wild Animus</td>\n",
       "      <td>Rich Shapero</td>\n",
       "      <td>2004.0</td>\n",
       "      <td>Too Far</td>\n",
       "      <td>http://images.amazon.com/images/P/0971880107.01.THUMBZZZ.jpg</td>\n",
       "      <td>http://images.amazon.com/images/P/0971880107.01.MZZZZZZZ.jpg</td>\n",
       "      <td>http://images.amazon.com/images/P/0971880107.01.LZZZZZZZ.jpg</td>\n",
       "    </tr>\n",
       "    <tr>\n",
       "      <th>2</th>\n",
       "      <td>0385504209</td>\n",
       "      <td>The Da Vinci Code</td>\n",
       "      <td>Dan Brown</td>\n",
       "      <td>2003.0</td>\n",
       "      <td>Doubleday</td>\n",
       "      <td>http://images.amazon.com/images/P/0385504209.01.THUMBZZZ.jpg</td>\n",
       "      <td>http://images.amazon.com/images/P/0385504209.01.MZZZZZZZ.jpg</td>\n",
       "      <td>http://images.amazon.com/images/P/0385504209.01.LZZZZZZZ.jpg</td>\n",
       "    </tr>\n",
       "    <tr>\n",
       "      <th>3</th>\n",
       "      <td>0312195516</td>\n",
       "      <td>The Red Tent (Bestselling Backlist)</td>\n",
       "      <td>Anita Diamant</td>\n",
       "      <td>1998.0</td>\n",
       "      <td>Picador USA</td>\n",
       "      <td>http://images.amazon.com/images/P/0312195516.01.THUMBZZZ.jpg</td>\n",
       "      <td>http://images.amazon.com/images/P/0312195516.01.MZZZZZZZ.jpg</td>\n",
       "      <td>http://images.amazon.com/images/P/0312195516.01.LZZZZZZZ.jpg</td>\n",
       "    </tr>\n",
       "    <tr>\n",
       "      <th>4</th>\n",
       "      <td>0060928336</td>\n",
       "      <td>Divine Secrets of the Ya-Ya Sisterhood: A Novel</td>\n",
       "      <td>Rebecca Wells</td>\n",
       "      <td>1997.0</td>\n",
       "      <td>Perennial</td>\n",
       "      <td>http://images.amazon.com/images/P/0060928336.01.THUMBZZZ.jpg</td>\n",
       "      <td>http://images.amazon.com/images/P/0060928336.01.MZZZZZZZ.jpg</td>\n",
       "      <td>http://images.amazon.com/images/P/0060928336.01.LZZZZZZZ.jpg</td>\n",
>>>>>>> d0f8729cab551846110b5d564cd8c1227553e163
       "    </tr>\n",
       "  </tbody>\n",
       "</table>\n",
       "</div>"
      ],
      "text/plain": [
<<<<<<< HEAD
       "              ISBN  \\\n",
       "177764  078946697X   \n",
       "\n",
       "                                                                                                  Book-Title  \\\n",
       "177764  DK Readers: Creating the X-Men, How It All Began (Level 4: Proficient Readers)\\\";Michael Teitelbaum\"   \n",
       "\n",
       "       Book-Author Year-Of-Publication  \\\n",
       "177764        2000   DK Publishing Inc   \n",
       "\n",
       "                                                           Publisher  \\\n",
       "177764  http://images.amazon.com/images/P/078946697X.01.THUMBZZZ.jpg   \n",
       "\n",
       "       Image-URL-L                 authors published_date  \\\n",
       "177764         NaN  ['Michael Teitelbaum']           2000   \n",
       "\n",
       "                                                                                                                           description  \\\n",
       "177764  Provides information on such original characters from the X-men comic strip as Professor X, Iceman, Angel, Magneto, and Beast.   \n",
       "\n",
       "        page_count            categories maturity_rating language  \n",
       "177764        48.0  ['Juvenile Fiction']      NOT_MATURE       en  "
=======
       "         ISBN                                       Book-Title    Book-Author  \\\n",
       "0  0316666343                        The Lovely Bones: A Novel   Alice Sebold   \n",
       "1  0971880107                                      Wild Animus   Rich Shapero   \n",
       "2  0385504209                                The Da Vinci Code      Dan Brown   \n",
       "3  0312195516              The Red Tent (Bestselling Backlist)  Anita Diamant   \n",
       "4  0060928336  Divine Secrets of the Ya-Ya Sisterhood: A Novel  Rebecca Wells   \n",
       "\n",
       "   Year-Of-Publication      Publisher  \\\n",
       "0               2002.0  Little, Brown   \n",
       "1               2004.0        Too Far   \n",
       "2               2003.0      Doubleday   \n",
       "3               1998.0    Picador USA   \n",
       "4               1997.0      Perennial   \n",
       "\n",
       "                                                    Image-URL-S  \\\n",
       "0  http://images.amazon.com/images/P/0316666343.01.THUMBZZZ.jpg   \n",
       "1  http://images.amazon.com/images/P/0971880107.01.THUMBZZZ.jpg   \n",
       "2  http://images.amazon.com/images/P/0385504209.01.THUMBZZZ.jpg   \n",
       "3  http://images.amazon.com/images/P/0312195516.01.THUMBZZZ.jpg   \n",
       "4  http://images.amazon.com/images/P/0060928336.01.THUMBZZZ.jpg   \n",
       "\n",
       "                                                    Image-URL-M  \\\n",
       "0  http://images.amazon.com/images/P/0316666343.01.MZZZZZZZ.jpg   \n",
       "1  http://images.amazon.com/images/P/0971880107.01.MZZZZZZZ.jpg   \n",
       "2  http://images.amazon.com/images/P/0385504209.01.MZZZZZZZ.jpg   \n",
       "3  http://images.amazon.com/images/P/0312195516.01.MZZZZZZZ.jpg   \n",
       "4  http://images.amazon.com/images/P/0060928336.01.MZZZZZZZ.jpg   \n",
       "\n",
       "                                                    Image-URL-L  \n",
       "0  http://images.amazon.com/images/P/0316666343.01.LZZZZZZZ.jpg  \n",
       "1  http://images.amazon.com/images/P/0971880107.01.LZZZZZZZ.jpg  \n",
       "2  http://images.amazon.com/images/P/0385504209.01.LZZZZZZZ.jpg  \n",
       "3  http://images.amazon.com/images/P/0312195516.01.LZZZZZZZ.jpg  \n",
       "4  http://images.amazon.com/images/P/0060928336.01.LZZZZZZZ.jpg  "
>>>>>>> d0f8729cab551846110b5d564cd8c1227553e163
      ]
     },
     "execution_count": 62,
     "metadata": {},
     "output_type": "execute_result"
    }
   ],
   "source": [
<<<<<<< HEAD
    "#inspecting the row having year of publication as author \n",
    "books_data.loc[books_data['Year-Of-Publication'] == 'DK Publishing Inc',:]"
=======
    "#discovering which book is displayed by the above ISBN numbers\n",
    "most_rated_books = pd.DataFrame(['0316666343', '0971880107', '0385504209', '0312195516', '0060928336'], index=np.arange(5), columns = ['ISBN'])\n",
    "most_rated_books_summary = pd.merge(most_rated_books, books, on='ISBN')\n",
    "most_rated_books_summary"
>>>>>>> d0f8729cab551846110b5d564cd8c1227553e163
   ]
  },
  {
   "cell_type": "code",
   "execution_count": 63,
   "metadata": {},
   "outputs": [],
   "source": [
<<<<<<< HEAD
    "#correcting the book author and year of publication\n",
    "books_data.loc[177764, 'Publisher'] = 'DK Publishing Inc'\n",
    "books_data.loc[177764, 'Year-Of-Publication'] = 2000\n",
    "books_data.loc[177764, 'Book-Title'] = 'DK Readers: Creating the X-Men, How Comic Books Come to Life (Level 4: Proficient Readers)'\n",
    "books_data.loc[177764, 'Book-Author'] = 'James Buckley'"
=======
    "# Create column Rating average \n",
    "ratings_explicit['Avg_Rating']=ratings_explicit.groupby('ISBN')['Book-Rating'].transform('mean')\n",
    "# Create column Rating sum\n",
    "ratings_explicit['Total_No_Of_Users_Rated']=ratings_explicit.groupby('ISBN')['Book-Rating'].transform('count')"
>>>>>>> d0f8729cab551846110b5d564cd8c1227553e163
   ]
  },
  {
   "cell_type": "code",
   "execution_count": 64,
   "metadata": {},
   "outputs": [
    {
     "data": {
<<<<<<< HEAD
      "text/plain": [
       "array([2002, 1991, 1999, 2000, 1996, 1988, 2004, 1998, 1994, 2001, 1997,\n",
       "       2003, 1993, 1983, 1979, 1995, 1982, 1992, 1986, 1978, 1987, 1981,\n",
       "       1990, 1989, 1961, 1958, 1984, 1977, 1985, 1980, 1975, 1965, 1941,\n",
       "       0, 1970, 1976, 1962, 1971, 1960, 1974, 1920, 1973, 1972, 1959,\n",
       "       1953, 1951, 1964, 1968, 1969, 1954, 1950, 1967, 2005, 1957, 1956,\n",
       "       1940, 1937, 1963, 1966, 1955, 1952, 1946, 1930, 1925, 1948, 1947,\n",
       "       1945, 1942, 1939, 2030, 1949, 1932, 1929, 1923, 1927, 1936, 1931,\n",
       "       1938, 1914, 1910, 1943, 1933, 1911, 1902, 2038, 2010, 1901, 1921,\n",
       "       '2002', '1993', '1991', '2001', '1999', '1990', '0', '1995',\n",
       "       '1987', '1978', '1985', '1969', '1994', '1989', '1992', '2004',\n",
       "       '2000', '1979', '1976', '2003', '1975', '1997', '1996', '1973',\n",
       "       '1998', '1984', '1983', '1971', '2006', '1980', '1988', '1977',\n",
       "       '1981', '1974', '1968', '1982', '1961', '1986', '1970', '1960',\n",
       "       '1967', '1966', '1964', '1955', '1951', '1965', '1959', '1972',\n",
       "       '1954', '1956', '1962', '1952', '1957', '2005', '1930', '1963',\n",
       "       '1950', '1944', '1940', '1942', '1953'], dtype=object)"
=======
      "text/html": [
       "<div>\n",
       "<style scoped>\n",
       "    .dataframe tbody tr th:only-of-type {\n",
       "        vertical-align: middle;\n",
       "    }\n",
       "\n",
       "    .dataframe tbody tr th {\n",
       "        vertical-align: top;\n",
       "    }\n",
       "\n",
       "    .dataframe thead th {\n",
       "        text-align: right;\n",
       "    }\n",
       "</style>\n",
       "<table border=\"1\" class=\"dataframe\">\n",
       "  <thead>\n",
       "    <tr style=\"text-align: right;\">\n",
       "      <th></th>\n",
       "      <th>User-ID</th>\n",
       "      <th>ISBN</th>\n",
       "      <th>Book-Rating</th>\n",
       "      <th>Avg_Rating</th>\n",
       "      <th>Total_No_Of_Users_Rated</th>\n",
       "    </tr>\n",
       "  </thead>\n",
       "  <tbody>\n",
       "    <tr>\n",
       "      <th>1</th>\n",
       "      <td>276726</td>\n",
       "      <td>0155061224</td>\n",
       "      <td>5</td>\n",
       "      <td>5.00</td>\n",
       "      <td>1</td>\n",
       "    </tr>\n",
       "    <tr>\n",
       "      <th>3</th>\n",
       "      <td>276729</td>\n",
       "      <td>052165615X</td>\n",
       "      <td>3</td>\n",
       "      <td>3.00</td>\n",
       "      <td>1</td>\n",
       "    </tr>\n",
       "    <tr>\n",
       "      <th>4</th>\n",
       "      <td>276729</td>\n",
       "      <td>0521795028</td>\n",
       "      <td>6</td>\n",
       "      <td>6.00</td>\n",
       "      <td>1</td>\n",
       "    </tr>\n",
       "    <tr>\n",
       "      <th>6</th>\n",
       "      <td>276736</td>\n",
       "      <td>3257224281</td>\n",
       "      <td>8</td>\n",
       "      <td>6.75</td>\n",
       "      <td>4</td>\n",
       "    </tr>\n",
       "    <tr>\n",
       "      <th>7</th>\n",
       "      <td>276737</td>\n",
       "      <td>0600570967</td>\n",
       "      <td>6</td>\n",
       "      <td>6.00</td>\n",
       "      <td>1</td>\n",
       "    </tr>\n",
       "  </tbody>\n",
       "</table>\n",
       "</div>"
      ],
      "text/plain": [
       "   User-ID        ISBN  Book-Rating  Avg_Rating  Total_No_Of_Users_Rated\n",
       "1   276726  0155061224            5        5.00                        1\n",
       "3   276729  052165615X            3        3.00                        1\n",
       "4   276729  0521795028            6        6.00                        1\n",
       "6   276736  3257224281            8        6.75                        4\n",
       "7   276737  0600570967            6        6.00                        1"
>>>>>>> d0f8729cab551846110b5d564cd8c1227553e163
      ]
     },
     "execution_count": 64,
     "metadata": {},
     "output_type": "execute_result"
    }
   ],
   "source": [
<<<<<<< HEAD
    "# preview\n",
    "books_data['Year-Of-Publication'].unique()"
=======
    "ratings_explicit.head()"
>>>>>>> d0f8729cab551846110b5d564cd8c1227553e163
   ]
  },
  {
   "cell_type": "code",
<<<<<<< HEAD
   "execution_count": 65,
   "metadata": {},
   "outputs": [
    {
     "data": {
      "text/plain": [
       "(125109, 13)"
      ]
     },
     "execution_count": 65,
     "metadata": {},
     "output_type": "execute_result"
    }
   ],
   "source": [
    "books_data.shape"
   ]
  },
  {
   "cell_type": "markdown",
   "metadata": {},
   "source": [
    "* from above we see that the data type of the year of publication are not consistently integers. "
   ]
  },
  {
   "cell_type": "code",
   "execution_count": 66,
   "metadata": {},
   "outputs": [
    {
     "data": {
      "text/plain": [
       "array([2002, 1991, 1999, 2000, 1996, 1988, 2004, 1998, 1994, 2001, 1997,\n",
       "       2003, 1993, 1983, 1979, 1995, 1982, 1992, 1986, 1978, 1987, 1981,\n",
       "       1990, 1989, 1961, 1958, 1984, 1977, 1985, 1980, 1975, 1965, 1941,\n",
       "          0, 1970, 1976, 1962, 1971, 1960, 1974, 1920, 1973, 1972, 1959,\n",
       "       1953, 1951, 1964, 1968, 1969, 1954, 1950, 1967, 2005, 1957, 1956,\n",
       "       1940, 1937, 1963, 1966, 1955, 1952, 1946, 1930, 1925, 1948, 1947,\n",
       "       1945, 1942, 1939, 2030, 1949, 1932, 1929, 1923, 1927, 1936, 1931,\n",
       "       1938, 1914, 1910, 1943, 1933, 1911, 1902, 2038, 2010, 1901, 1921,\n",
       "       2006, 1944])"
      ]
     },
     "execution_count": 66,
     "metadata": {},
     "output_type": "execute_result"
    }
   ],
   "source": [
    "# converting Year-Of-Publication to integers\n",
    "books_data = data_cleaning.convert_column_data_type('Year-Of-Publication', int)\n",
    "books_data['Year-Of-Publication'].unique()"
   ]
  },
  {
   "cell_type": "code",
   "execution_count": 67,
   "metadata": {},
   "outputs": [
    {
     "data": {
      "text/html": [
       "<div>\n",
       "<style scoped>\n",
       "    .dataframe tbody tr th:only-of-type {\n",
       "        vertical-align: middle;\n",
       "    }\n",
       "\n",
       "    .dataframe tbody tr th {\n",
       "        vertical-align: top;\n",
       "    }\n",
       "\n",
       "    .dataframe thead th {\n",
       "        text-align: right;\n",
       "    }\n",
       "</style>\n",
       "<table border=\"1\" class=\"dataframe\">\n",
       "  <thead>\n",
       "    <tr style=\"text-align: right;\">\n",
       "      <th></th>\n",
       "      <th>ISBN</th>\n",
       "      <th>Book-Title</th>\n",
       "      <th>Book-Author</th>\n",
       "      <th>Year-Of-Publication</th>\n",
       "      <th>Publisher</th>\n",
       "      <th>Image-URL-L</th>\n",
       "      <th>authors</th>\n",
       "      <th>published_date</th>\n",
       "      <th>description</th>\n",
       "      <th>page_count</th>\n",
       "      <th>categories</th>\n",
       "      <th>maturity_rating</th>\n",
       "      <th>language</th>\n",
       "    </tr>\n",
       "  </thead>\n",
       "  <tbody>\n",
       "    <tr>\n",
       "      <th>502</th>\n",
       "      <td>8845229041</td>\n",
       "      <td>Biblioteca Universale Rizzoli: Sulla Sponda Del Fiume Piedra</td>\n",
       "      <td>P Coelho</td>\n",
       "      <td>0</td>\n",
       "      <td>Fabbri - RCS Libri</td>\n",
       "      <td>http://images.amazon.com/images/P/8845229041.01.LZZZZZZZ.jpg</td>\n",
       "      <td>['Paulo Coelho']</td>\n",
       "      <td>1996</td>\n",
       "      <td>Pilar ritrova a Madrid l'amico dell'infanzia. Questi ha girato il mondo ed ÃÂ¨ poi entrato in seminario, dove si dice abbia fatto miracoli. Pilar ÃÂ¨ una donna passionale, ma delusa dalla vita. Con l'amico d'infanzia compie un viaggio di sei giorni durante il quale la donna ritrova se stessa attraverso una riflessione mistico-iniziatica. I due si recano a Lourdes dove cementeranno il loro amore alla luce di una fede che esalta i valori della missione nel mondo.</td>\n",
       "      <td>216.0</td>\n",
       "      <td>['Fiction']</td>\n",
       "      <td>NOT_MATURE</td>\n",
       "      <td>it</td>\n",
       "    </tr>\n",
       "    <tr>\n",
       "      <th>606</th>\n",
       "      <td>0590021117</td>\n",
       "      <td>Little House On the Prairie</td>\n",
       "      <td>Laura Ingall Wilder</td>\n",
       "      <td>0</td>\n",
       "      <td>Scholastic Inc</td>\n",
       "      <td>http://images.amazon.com/images/P/0590021117.01.LZZZZZZZ.jpg</td>\n",
       "      <td>['Laura Ingalls Wilder']</td>\n",
       "      <td>1953</td>\n",
       "      <td>A family travels from the big woods of Wisconsin, to a new home on the praire, where they build a house, meet neighboring Indians, build a well, and fight a praire fire.</td>\n",
       "      <td>221.0</td>\n",
       "      <td>['Families']</td>\n",
       "      <td>NOT_MATURE</td>\n",
       "      <td>en</td>\n",
       "    </tr>\n",
       "    <tr>\n",
       "      <th>688</th>\n",
       "      <td>2070362388</td>\n",
       "      <td>Ravage</td>\n",
       "      <td>Rene Barjavel</td>\n",
       "      <td>0</td>\n",
       "      <td>Gallimard French</td>\n",
       "      <td>http://images.amazon.com/images/P/2070362388.01.LZZZZZZZ.jpg</td>\n",
       "      <td>['RenÃÂ© Barjavel']</td>\n",
       "      <td>1972</td>\n",
       "      <td>De l'autre cÃÂ´tÃÂ© de la Seine une coulÃÂ©e de quintessence enflammÃÂ©e atteint, dans les sous-sols de la caserne de Chaillot, ancien TrocadÃÂ©ro, le dÃÂ©pÃÂ´t de munitions et le laboratoire de recherches des poudres. Une formidable explosion entrouvre la colline. Des pans de murs, des colonnes, des rochers, des tonnes de dÃÂ©bris montent au-dessus du fleuve, retombent sur la foule agenouillÃÂ©e qui rÃÂ¢le son adoration et sa peur fendent les crÃÂ¢nes, arrachent les membres, brisent les os. Un ÃÂ©norme bloc de terre et de ciment aplatit d'un seul coup la moitiÃÂ© des fidÃÂ¨les de la paroisse du Gros-Caillou. En haut de la Tour, un jet de flammes arrache l'ostensoir des mains du prÃÂªtre ÃÂ©pouvantÃÂ©.</td>\n",
       "      <td>313.0</td>\n",
       "      <td>['Fiction']</td>\n",
       "      <td>NOT_MATURE</td>\n",
       "      <td>fr</td>\n",
       "    </tr>\n",
       "    <tr>\n",
       "      <th>692</th>\n",
       "      <td>2266033689</td>\n",
       "      <td>Le Diable Au Corps</td>\n",
       "      <td>Raymond Radiguet</td>\n",
       "      <td>0</td>\n",
       "      <td>Presses Pocket French</td>\n",
       "      <td>http://images.amazon.com/images/P/2266033689.01.LZZZZZZZ.jpg</td>\n",
       "      <td>['Raymond Radiguet']</td>\n",
       "      <td>1990</td>\n",
       "      <td>Pendant la premiÃÂ¨re guerre mondiale, FranÃÂ§ois, un lycÃÂ©en, fait la connaissance de Marthe, une jeune femme de dix-huit ans. Celle-ci est fiancÃÂ©e ÃÂ  Jacques, un soldat qui se bat sur le front. Au mÃÂ©pris des commÃÂ©rages, FranÃÂ§ois et Marthe vont devenir amants. Mais FranÃÂ§ois n'est-il pas trop jeune pour s'engager dans une telle liaison ?</td>\n",
       "      <td>206.0</td>\n",
       "      <td>NaN</td>\n",
       "      <td>NOT_MATURE</td>\n",
       "      <td>fr</td>\n",
       "    </tr>\n",
       "    <tr>\n",
       "      <th>757</th>\n",
       "      <td>0718144538</td>\n",
       "      <td>Shattered Uk</td>\n",
       "      <td>Dick Francis</td>\n",
       "      <td>0</td>\n",
       "      <td>Michael Joseph Ltd</td>\n",
       "      <td>http://images.amazon.com/images/P/0718144538.01.LZZZZZZZ.jpg</td>\n",
       "      <td>['Dick Francis']</td>\n",
       "      <td>2000</td>\n",
       "      <td>Gerard Logan finds that when his jockey friend dies following a fall at the Cheltenham races, he is involved in a desperate search for a stolen video tape which embroils him in more life-threatening hazards than does his work as a widely-acclaimed glass-blower.</td>\n",
       "      <td>271.0</td>\n",
       "      <td>['Detective and mystery stories']</td>\n",
       "      <td>NOT_MATURE</td>\n",
       "      <td>en</td>\n",
       "    </tr>\n",
       "    <tr>\n",
       "      <th>...</th>\n",
       "      <td>...</td>\n",
       "      <td>...</td>\n",
       "      <td>...</td>\n",
       "      <td>...</td>\n",
       "      <td>...</td>\n",
       "      <td>...</td>\n",
       "      <td>...</td>\n",
       "      <td>...</td>\n",
       "      <td>...</td>\n",
       "      <td>...</td>\n",
       "      <td>...</td>\n",
       "      <td>...</td>\n",
       "      <td>...</td>\n",
       "    </tr>\n",
       "    <tr>\n",
       "      <th>181740</th>\n",
       "      <td>076070712X</td>\n",
       "      <td>Encyclopedia of the Worlds Religions</td>\n",
       "      <td>R D Zaehner</td>\n",
       "      <td>0</td>\n",
       "      <td>Barnes Noble Books</td>\n",
       "      <td>http://images.amazon.com/images/P/076070712X.01.LZZZZZZZ.jpg</td>\n",
       "      <td>['Robert Charles Zaehner']</td>\n",
       "      <td>1997</td>\n",
       "      <td>Covers many world religions such as Judaism, Christianity, Islam, Zoroastrianism, Hinduism, Jainism, Buddhism, Shinto, Confucianism, Taoism, Sikhism, Dialectical meterialism, etc.</td>\n",
       "      <td>472.0</td>\n",
       "      <td>['Religions']</td>\n",
       "      <td>NOT_MATURE</td>\n",
       "      <td>en</td>\n",
       "    </tr>\n",
       "    <tr>\n",
       "      <th>182263</th>\n",
       "      <td>225303956x</td>\n",
       "      <td>Adieu Volodia</td>\n",
       "      <td>Simone Signoret</td>\n",
       "      <td>0</td>\n",
       "      <td>Livre De Poche French</td>\n",
       "      <td>http://images.amazon.com/images/P/225303956X.01.LZZZZZZZ.jpg</td>\n",
       "      <td>['Simone Signoret']</td>\n",
       "      <td>1985</td>\n",
       "      <td>Au 58, rue de la Mare, dans le XXe arrondissement de Paris, vivent les Guttman et les Roginski. Fuyant l'horreur des pogroms, les deux couples sont venus, l'un d'Ukraine en 1919, l'autre de Pologne en 1921 et ont eu chacun un enfant : Maurice et Elsa. Ils sont travailleurs, chaleureux. Ils veulent oublier, s'intÃ©grer et leur naturalisation les fait pleurer de joie. La vie est belle ! TrÃ¨s vite, pourtant, la montÃ©e sournoise de l'antisÃ©mitisme fait planer une \" drÃ´le \" de peur et crÃ©e des problÃ¨mes de travail. Les annÃ©es passent cependant avec des joies et des peines, mais l'histoire est en marche vers le cauchemar. Adieu Volodia. Une large fresque de la France de 1925 Ã  1945, avec ses faits divers, ses assassinats politiques, son Front populaire... Un merveilleux roman avec de nombreux personnages inoubliables, rempli d'anecdotes cocasses, d'humour, de peintures justes, d'Ã©motions, de violences et de peurs, d'amour et de tendresse.</td>\n",
       "      <td>604.0</td>\n",
       "      <td>['French language materials']</td>\n",
       "      <td>NOT_MATURE</td>\n",
       "      <td>fr</td>\n",
       "    </tr>\n",
       "    <tr>\n",
       "      <th>182271</th>\n",
       "      <td>2253016055</td>\n",
       "      <td>Ainsi Soit-elle</td>\n",
       "      <td>B Groult</td>\n",
       "      <td>0</td>\n",
       "      <td>Livre de Poche</td>\n",
       "      <td>http://images.amazon.com/images/P/2253016055.01.LZZZZZZZ.jpg</td>\n",
       "      <td>['BenoÃ®te Groult']</td>\n",
       "      <td>1975</td>\n",
       "      <td>On a longtemps pris la parole de l'homme pour la vÃ©ritÃ© universelle et la plus haute expression de l'intelligence, comme l'organe viril constituait la plus noble expression de la sexualitÃ©. Il faut que les femmes crient aujourd'hui.- Et que les autres femmes - et les hommes - aient envie d'entendre ce cri. Qui n'est pas un cri de haine, Ã  peine un cri de colÃ¨re, car alors il devrait se retourner contre elles-mÃªmes. Mais un cri de vie. Il faut enfin guÃ©rir d'Ãªtre femme. Non pas d'Ãªtre nÃ©e femme mais d'avoir Ã©tÃ© Ã©levÃ©e femme dans un univers d'hommes, d'avoir vÃ©cu chaque Ã©tape et chaque acte de notre vie avec les yeux des hommes et les critÃ¨res des hommes. Et ce n'est pas en continuant Ã  Ã©couter ce qu'ils disent, eux, en notre nom ou pour notre bien, que nous pourrons guÃ©rir. B. G.</td>\n",
       "      <td>219.0</td>\n",
       "      <td>['Fiction']</td>\n",
       "      <td>NOT_MATURE</td>\n",
       "      <td>fr</td>\n",
       "    </tr>\n",
       "    <tr>\n",
       "      <th>182275</th>\n",
       "      <td>225303956X</td>\n",
       "      <td>Adieu Volodia</td>\n",
       "      <td>Simone Signoret</td>\n",
       "      <td>0</td>\n",
       "      <td>Livre De Poche French</td>\n",
       "      <td>http://images.amazon.com/images/P/225303956X.01.LZZZZZZZ.jpg</td>\n",
       "      <td>['Simone Signoret']</td>\n",
       "      <td>1985</td>\n",
       "      <td>Au 58, rue de la Mare, dans le XXe arrondissement de Paris, vivent les Guttman et les Roginski. Fuyant l'horreur des pogroms, les deux couples sont venus, l'un d'Ukraine en 1919, l'autre de Pologne en 1921 et ont eu chacun un enfant : Maurice et Elsa. Ils sont travailleurs, chaleureux. Ils veulent oublier, s'intÃ©grer et leur naturalisation les fait pleurer de joie. La vie est belle ! TrÃ¨s vite, pourtant, la montÃ©e sournoise de l'antisÃ©mitisme fait planer une \" drÃ´le \" de peur et crÃ©e des problÃ¨mes de travail. Les annÃ©es passent cependant avec des joies et des peines, mais l'histoire est en marche vers le cauchemar. Adieu Volodia. Une large fresque de la France de 1925 Ã  1945, avec ses faits divers, ses assassinats politiques, son Front populaire... Un merveilleux roman avec de nombreux personnages inoubliables, rempli d'anecdotes cocasses, d'humour, de peintures justes, d'Ã©motions, de violences et de peurs, d'amour et de tendresse.</td>\n",
       "      <td>604.0</td>\n",
       "      <td>['French language materials']</td>\n",
       "      <td>NOT_MATURE</td>\n",
       "      <td>fr</td>\n",
       "    </tr>\n",
       "    <tr>\n",
       "      <th>182543</th>\n",
       "      <td>3518367412</td>\n",
       "      <td>Tod In Rom</td>\n",
       "      <td>Koeppen</td>\n",
       "      <td>0</td>\n",
       "      <td>Distribooks Int'l+inc</td>\n",
       "      <td>http://images.amazon.com/images/P/3518367412.01.LZZZZZZZ.jpg</td>\n",
       "      <td>['Wolfgang Koeppen']</td>\n",
       "      <td>1975</td>\n",
       "      <td>Der Tod in Rom, aus der Distanz eines ironischen Geistes und zugleich mit der ganzen Kraft des Moralisten geschrieben, ist die Geschichte einer Handvoll Menschen, die nach dein Krieg in Rom zusammentreffen: Opfer, TÃ¤ter, Vorbereiter und Nachgeborene des Schreckens. Wolfgang Koeppen beschreibt in diesem Zeitroman die verborgenen Krankheiten der deutschen Seele: ein Werk voll beklemmender, faszinierender und befreiender Lebenseinsichten.</td>\n",
       "      <td>186.0</td>\n",
       "      <td>['Fascism']</td>\n",
       "      <td>NOT_MATURE</td>\n",
       "      <td>de</td>\n",
       "    </tr>\n",
       "  </tbody>\n",
       "</table>\n",
       "<p>1438 rows × 13 columns</p>\n",
       "</div>"
      ],
      "text/plain": [
       "              ISBN  \\\n",
       "502     8845229041   \n",
       "606     0590021117   \n",
       "688     2070362388   \n",
       "692     2266033689   \n",
       "757     0718144538   \n",
       "...            ...   \n",
       "181740  076070712X   \n",
       "182263  225303956x   \n",
       "182271  2253016055   \n",
       "182275  225303956X   \n",
       "182543  3518367412   \n",
       "\n",
       "                                                          Book-Title  \\\n",
       "502     Biblioteca Universale Rizzoli: Sulla Sponda Del Fiume Piedra   \n",
       "606                                      Little House On the Prairie   \n",
       "688                                                           Ravage   \n",
       "692                                               Le Diable Au Corps   \n",
       "757                                                     Shattered Uk   \n",
       "...                                                              ...   \n",
       "181740                          Encyclopedia of the Worlds Religions   \n",
       "182263                                                 Adieu Volodia   \n",
       "182271                                               Ainsi Soit-elle   \n",
       "182275                                                 Adieu Volodia   \n",
       "182543                                                    Tod In Rom   \n",
       "\n",
       "                Book-Author  Year-Of-Publication              Publisher  \\\n",
       "502                P Coelho                    0     Fabbri - RCS Libri   \n",
       "606     Laura Ingall Wilder                    0         Scholastic Inc   \n",
       "688           Rene Barjavel                    0       Gallimard French   \n",
       "692        Raymond Radiguet                    0  Presses Pocket French   \n",
       "757            Dick Francis                    0     Michael Joseph Ltd   \n",
       "...                     ...                  ...                    ...   \n",
       "181740          R D Zaehner                    0     Barnes Noble Books   \n",
       "182263      Simone Signoret                    0  Livre De Poche French   \n",
       "182271             B Groult                    0         Livre de Poche   \n",
       "182275      Simone Signoret                    0  Livre De Poche French   \n",
       "182543              Koeppen                    0  Distribooks Int'l+inc   \n",
       "\n",
       "                                                         Image-URL-L  \\\n",
       "502     http://images.amazon.com/images/P/8845229041.01.LZZZZZZZ.jpg   \n",
       "606     http://images.amazon.com/images/P/0590021117.01.LZZZZZZZ.jpg   \n",
       "688     http://images.amazon.com/images/P/2070362388.01.LZZZZZZZ.jpg   \n",
       "692     http://images.amazon.com/images/P/2266033689.01.LZZZZZZZ.jpg   \n",
       "757     http://images.amazon.com/images/P/0718144538.01.LZZZZZZZ.jpg   \n",
       "...                                                              ...   \n",
       "181740  http://images.amazon.com/images/P/076070712X.01.LZZZZZZZ.jpg   \n",
       "182263  http://images.amazon.com/images/P/225303956X.01.LZZZZZZZ.jpg   \n",
       "182271  http://images.amazon.com/images/P/2253016055.01.LZZZZZZZ.jpg   \n",
       "182275  http://images.amazon.com/images/P/225303956X.01.LZZZZZZZ.jpg   \n",
       "182543  http://images.amazon.com/images/P/3518367412.01.LZZZZZZZ.jpg   \n",
       "\n",
       "                           authors published_date  \\\n",
       "502               ['Paulo Coelho']           1996   \n",
       "606       ['Laura Ingalls Wilder']           1953   \n",
       "688           ['RenÃÂ© Barjavel']           1972   \n",
       "692           ['Raymond Radiguet']           1990   \n",
       "757               ['Dick Francis']           2000   \n",
       "...                            ...            ...   \n",
       "181740  ['Robert Charles Zaehner']           1997   \n",
       "182263         ['Simone Signoret']           1985   \n",
       "182271         ['BenoÃ®te Groult']           1975   \n",
       "182275         ['Simone Signoret']           1985   \n",
       "182543        ['Wolfgang Koeppen']           1975   \n",
       "\n",
       "                                                                                                                                                                                                                                                                                                                                                                                                                                                                                                                                                                                                                                                                                                                                                                                                                                                                                                                                                                                        description  \\\n",
       "502                                                                                                                                                                                                                                                                                                                                                                                                                                                                                                             Pilar ritrova a Madrid l'amico dell'infanzia. Questi ha girato il mondo ed ÃÂ¨ poi entrato in seminario, dove si dice abbia fatto miracoli. Pilar ÃÂ¨ una donna passionale, ma delusa dalla vita. Con l'amico d'infanzia compie un viaggio di sei giorni durante il quale la donna ritrova se stessa attraverso una riflessione mistico-iniziatica. I due si recano a Lourdes dove cementeranno il loro amore alla luce di una fede che esalta i valori della missione nel mondo.   \n",
       "606                                                                                                                                                                                                                                                                                                                                                                                                                                                                                                                                                                                                                                                                                                                                                                                                                       A family travels from the big woods of Wisconsin, to a new home on the praire, where they build a house, meet neighboring Indians, build a well, and fight a praire fire.   \n",
       "688                                                                                                                                                                                                                                        De l'autre cÃÂ´tÃÂ© de la Seine une coulÃÂ©e de quintessence enflammÃÂ©e atteint, dans les sous-sols de la caserne de Chaillot, ancien TrocadÃÂ©ro, le dÃÂ©pÃÂ´t de munitions et le laboratoire de recherches des poudres. Une formidable explosion entrouvre la colline. Des pans de murs, des colonnes, des rochers, des tonnes de dÃÂ©bris montent au-dessus du fleuve, retombent sur la foule agenouillÃÂ©e qui rÃÂ¢le son adoration et sa peur fendent les crÃÂ¢nes, arrachent les membres, brisent les os. Un ÃÂ©norme bloc de terre et de ciment aplatit d'un seul coup la moitiÃÂ© des fidÃÂ¨les de la paroisse du Gros-Caillou. En haut de la Tour, un jet de flammes arrache l'ostensoir des mains du prÃÂªtre ÃÂ©pouvantÃÂ©.   \n",
       "692                                                                                                                                                                                                                                                                                                                                                                                                                                                                                                                                                                                                                        Pendant la premiÃÂ¨re guerre mondiale, FranÃÂ§ois, un lycÃÂ©en, fait la connaissance de Marthe, une jeune femme de dix-huit ans. Celle-ci est fiancÃÂ©e ÃÂ  Jacques, un soldat qui se bat sur le front. Au mÃÂ©pris des commÃÂ©rages, FranÃÂ§ois et Marthe vont devenir amants. Mais FranÃÂ§ois n'est-il pas trop jeune pour s'engager dans une telle liaison ?   \n",
       "757                                                                                                                                                                                                                                                                                                                                                                                                                                                                                                                                                                                                                                                                                                                           Gerard Logan finds that when his jockey friend dies following a fall at the Cheltenham races, he is involved in a desperate search for a stolen video tape which embroils him in more life-threatening hazards than does his work as a widely-acclaimed glass-blower.   \n",
       "...                                                                                                                                                                                                                                                                                                                                                                                                                                                                                                                                                                                                                                                                                                                                                                                                                                                                                                                                                                                             ...   \n",
       "181740                                                                                                                                                                                                                                                                                                                                                                                                                                                                                                                                                                                                                                                                                                                                                                                                          Covers many world religions such as Judaism, Christianity, Islam, Zoroastrianism, Hinduism, Jainism, Buddhism, Shinto, Confucianism, Taoism, Sikhism, Dialectical meterialism, etc.   \n",
       "182263  Au 58, rue de la Mare, dans le XXe arrondissement de Paris, vivent les Guttman et les Roginski. Fuyant l'horreur des pogroms, les deux couples sont venus, l'un d'Ukraine en 1919, l'autre de Pologne en 1921 et ont eu chacun un enfant : Maurice et Elsa. Ils sont travailleurs, chaleureux. Ils veulent oublier, s'intÃ©grer et leur naturalisation les fait pleurer de joie. La vie est belle ! TrÃ¨s vite, pourtant, la montÃ©e sournoise de l'antisÃ©mitisme fait planer une \" drÃ´le \" de peur et crÃ©e des problÃ¨mes de travail. Les annÃ©es passent cependant avec des joies et des peines, mais l'histoire est en marche vers le cauchemar. Adieu Volodia. Une large fresque de la France de 1925 Ã  1945, avec ses faits divers, ses assassinats politiques, son Front populaire... Un merveilleux roman avec de nombreux personnages inoubliables, rempli d'anecdotes cocasses, d'humour, de peintures justes, d'Ã©motions, de violences et de peurs, d'amour et de tendresse.   \n",
       "182271                                                                                                                                                    On a longtemps pris la parole de l'homme pour la vÃ©ritÃ© universelle et la plus haute expression de l'intelligence, comme l'organe viril constituait la plus noble expression de la sexualitÃ©. Il faut que les femmes crient aujourd'hui.- Et que les autres femmes - et les hommes - aient envie d'entendre ce cri. Qui n'est pas un cri de haine, Ã  peine un cri de colÃ¨re, car alors il devrait se retourner contre elles-mÃªmes. Mais un cri de vie. Il faut enfin guÃ©rir d'Ãªtre femme. Non pas d'Ãªtre nÃ©e femme mais d'avoir Ã©tÃ© Ã©levÃ©e femme dans un univers d'hommes, d'avoir vÃ©cu chaque Ã©tape et chaque acte de notre vie avec les yeux des hommes et les critÃ¨res des hommes. Et ce n'est pas en continuant Ã  Ã©couter ce qu'ils disent, eux, en notre nom ou pour notre bien, que nous pourrons guÃ©rir. B. G.   \n",
       "182275  Au 58, rue de la Mare, dans le XXe arrondissement de Paris, vivent les Guttman et les Roginski. Fuyant l'horreur des pogroms, les deux couples sont venus, l'un d'Ukraine en 1919, l'autre de Pologne en 1921 et ont eu chacun un enfant : Maurice et Elsa. Ils sont travailleurs, chaleureux. Ils veulent oublier, s'intÃ©grer et leur naturalisation les fait pleurer de joie. La vie est belle ! TrÃ¨s vite, pourtant, la montÃ©e sournoise de l'antisÃ©mitisme fait planer une \" drÃ´le \" de peur et crÃ©e des problÃ¨mes de travail. Les annÃ©es passent cependant avec des joies et des peines, mais l'histoire est en marche vers le cauchemar. Adieu Volodia. Une large fresque de la France de 1925 Ã  1945, avec ses faits divers, ses assassinats politiques, son Front populaire... Un merveilleux roman avec de nombreux personnages inoubliables, rempli d'anecdotes cocasses, d'humour, de peintures justes, d'Ã©motions, de violences et de peurs, d'amour et de tendresse.   \n",
       "182543                                                                                                                                                                                                                                                                                                                                                                                                                                                                                                                                     Der Tod in Rom, aus der Distanz eines ironischen Geistes und zugleich mit der ganzen Kraft des Moralisten geschrieben, ist die Geschichte einer Handvoll Menschen, die nach dein Krieg in Rom zusammentreffen: Opfer, TÃ¤ter, Vorbereiter und Nachgeborene des Schreckens. Wolfgang Koeppen beschreibt in diesem Zeitroman die verborgenen Krankheiten der deutschen Seele: ein Werk voll beklemmender, faszinierender und befreiender Lebenseinsichten.   \n",
       "\n",
       "        page_count                         categories maturity_rating language  \n",
       "502          216.0                        ['Fiction']      NOT_MATURE       it  \n",
       "606          221.0                       ['Families']      NOT_MATURE       en  \n",
       "688          313.0                        ['Fiction']      NOT_MATURE       fr  \n",
       "692          206.0                                NaN      NOT_MATURE       fr  \n",
       "757          271.0  ['Detective and mystery stories']      NOT_MATURE       en  \n",
       "...            ...                                ...             ...      ...  \n",
       "181740       472.0                      ['Religions']      NOT_MATURE       en  \n",
       "182263       604.0      ['French language materials']      NOT_MATURE       fr  \n",
       "182271       219.0                        ['Fiction']      NOT_MATURE       fr  \n",
       "182275       604.0      ['French language materials']      NOT_MATURE       fr  \n",
       "182543       186.0                        ['Fascism']      NOT_MATURE       de  \n",
       "\n",
       "[1438 rows x 13 columns]"
      ]
     },
     "execution_count": 67,
     "metadata": {},
     "output_type": "execute_result"
    }
   ],
   "source": [
    "# checking on rows with year of publication as 0\n",
    "books_data.loc[books_data['Year-Of-Publication'] == 0]\n"
   ]
  },
  {
   "cell_type": "markdown",
   "metadata": {},
   "source": [
    "* we have a total of 1438 rows that lack the Year-Of-Publication, but looking at the published date we can obtain the Year-Of-Publication."
   ]
  },
  {
   "cell_type": "code",
   "execution_count": 68,
   "metadata": {},
   "outputs": [],
   "source": [
    "#def replace_year_of_publication(data):\n",
    "    # Extract the year from the \"published-date\" column and convert it to an integer\n",
    "    #data[\"published-year\"] = pd.to_datetime(data[\"published_date\"]).dt.year.astype(int)\n",
    "    \n",
    "    # Replace values where the \"Year-Of-Publication\" is 0 with the corresponding value in the \"published-data\" column\n",
    "    #data[\"Year-Of-Publication\"] = data[\"Year-Of-Publication\"].mask(data[\"Year-Of-Publication\"] == 0, data[\"published-year\"])\n",
    "\n",
    "# Replace the values where the \"Year-Of-Publication\" is 0\n",
    "#replace_year_of_publication(books_data)\n"
=======
   "execution_count": null,
   "metadata": {},
   "outputs": [],
   "source": [
    "#Merged_Dataset=users.copy()\n",
    "#Merged_Dataset=pd.merge(Merged_Dataset,ratings_explicit,on='User-ID')\n",
    "#Merged_Dataset=pd.merge(Merged_Dataset,books,on='ISBN')"
>>>>>>> d0f8729cab551846110b5d564cd8c1227553e163
   ]
  },
  {
   "cell_type": "code",
<<<<<<< HEAD
   "execution_count": 69,
   "metadata": {},
   "outputs": [
    {
     "data": {
      "text/plain": [
       "array([2002, 1991, 1999, 2000, 1996, 1988, 2004, 1998, 1994, 2001, 1997,\n",
       "       2003, 1993, 1983, 1979, 1995, 1982, 1992, 1986, 1978, 1987, 1981,\n",
       "       1990, 1989, 1961, 1958, 1984, 1977, 1985, 1980, 1975, 1965, 1941,\n",
       "          0, 1970, 1976, 1962, 1971, 1960, 1974, 1920, 1973, 1972, 1959,\n",
       "       1953, 1951, 1964, 1968, 1969, 1954, 1950, 1967, 2005, 1957, 1956,\n",
       "       1940, 1937, 1963, 1966, 1955, 1952, 1946, 1930, 1925, 1948, 1947,\n",
       "       1945, 1942, 1939, 2030, 1949, 1932, 1929, 1923, 1927, 1936, 1931,\n",
       "       1938, 1914, 1910, 1943, 1933, 1911, 1902, 2038, 2010, 1901, 1921,\n",
       "       2006, 1944])"
      ]
     },
     "execution_count": 69,
     "metadata": {},
     "output_type": "execute_result"
    }
   ],
   "source": [
    "books_data['Year-Of-Publication'].unique()"
   ]
  },
  {
   "cell_type": "code",
   "execution_count": 70,
   "metadata": {},
   "outputs": [
    {
     "data": {
      "text/html": [
       "<div>\n",
       "<style scoped>\n",
       "    .dataframe tbody tr th:only-of-type {\n",
       "        vertical-align: middle;\n",
       "    }\n",
       "\n",
       "    .dataframe tbody tr th {\n",
       "        vertical-align: top;\n",
       "    }\n",
       "\n",
       "    .dataframe thead th {\n",
       "        text-align: right;\n",
       "    }\n",
       "</style>\n",
       "<table border=\"1\" class=\"dataframe\">\n",
       "  <thead>\n",
       "    <tr style=\"text-align: right;\">\n",
       "      <th></th>\n",
       "      <th>ISBN</th>\n",
       "      <th>Book-Title</th>\n",
       "      <th>Book-Author</th>\n",
       "      <th>Year-Of-Publication</th>\n",
       "      <th>Publisher</th>\n",
       "      <th>Image-URL-L</th>\n",
       "      <th>authors</th>\n",
       "      <th>published_date</th>\n",
       "      <th>description</th>\n",
       "      <th>page_count</th>\n",
       "      <th>categories</th>\n",
       "      <th>maturity_rating</th>\n",
       "      <th>language</th>\n",
       "    </tr>\n",
       "  </thead>\n",
       "  <tbody>\n",
       "    <tr>\n",
       "      <th>120762</th>\n",
       "      <td>1931696993</td>\n",
       "      <td>Finders Keepers</td>\n",
       "      <td>Linnea Sinclair</td>\n",
       "      <td>2001</td>\n",
       "      <td>NaN</td>\n",
       "      <td>http://images.amazon.com/images/P/1931696993.01.LZZZZZZZ.jpg</td>\n",
       "      <td>['Linnea Sinclair']</td>\n",
       "      <td>2001-10</td>\n",
       "      <td>Be careful what you wish for. You might get it... Her ship's in shambles, her boyfriend's dumped her and she's frankly out of funds. Captain Trilby Elliot hopes her luck has changed when a high-tech fightercraft crash lands at her repair site. Finders keepers. She can sell the ship as salvage, pocket the profits. Except for one small problem: the pilot, Rhis, is still alive and intent on commandeering her ship. And another much larger problem: someone very powerful and very important wants Trilby Elliot dead.</td>\n",
       "      <td>354.0</td>\n",
       "      <td>['Fiction']</td>\n",
       "      <td>NOT_MATURE</td>\n",
       "      <td>en</td>\n",
       "    </tr>\n",
       "  </tbody>\n",
       "</table>\n",
       "</div>"
      ],
      "text/plain": [
       "              ISBN       Book-Title      Book-Author  Year-Of-Publication  \\\n",
       "120762  1931696993  Finders Keepers  Linnea Sinclair                 2001   \n",
       "\n",
       "       Publisher  \\\n",
       "120762       NaN   \n",
       "\n",
       "                                                         Image-URL-L  \\\n",
       "120762  http://images.amazon.com/images/P/1931696993.01.LZZZZZZZ.jpg   \n",
       "\n",
       "                    authors published_date  \\\n",
       "120762  ['Linnea Sinclair']        2001-10   \n",
       "\n",
       "                                                                                                                                                                                                                                                                                                                                                                                                                                                                                                                               description  \\\n",
       "120762  Be careful what you wish for. You might get it... Her ship's in shambles, her boyfriend's dumped her and she's frankly out of funds. Captain Trilby Elliot hopes her luck has changed when a high-tech fightercraft crash lands at her repair site. Finders keepers. She can sell the ship as salvage, pocket the profits. Except for one small problem: the pilot, Rhis, is still alive and intent on commandeering her ship. And another much larger problem: someone very powerful and very important wants Trilby Elliot dead.   \n",
       "\n",
       "        page_count   categories maturity_rating language  \n",
       "120762       354.0  ['Fiction']      NOT_MATURE       en  "
      ]
     },
     "execution_count": 70,
     "metadata": {},
     "output_type": "execute_result"
    }
   ],
   "source": [
    "# Checking for missing values in publisher column\n",
    "\n",
    "books_data.loc[books_data['Publisher'].isnull(),:]"
   ]
  },
  {
   "cell_type": "markdown",
   "metadata": {},
   "source": [
    "* Publisher column has one entry with NaN. To deal with this we do a websearch using the isbn number and book title to obtain the publisher."
   ]
  },
  {
   "cell_type": "code",
   "execution_count": 71,
   "metadata": {},
   "outputs": [],
   "source": [
    "# inputting the correct publisher on the row with NaN\n",
    "\n",
    "books_data.loc[120762, 'Publisher'] = 'Novelbooks Incorporated'"
=======
   "execution_count": null,
   "metadata": {},
   "outputs": [],
   "source": [
    "#Merged_Dataset.head()"
>>>>>>> d0f8729cab551846110b5d564cd8c1227553e163
   ]
  },
  {
   "cell_type": "code",
<<<<<<< HEAD
   "execution_count": 72,
   "metadata": {},
   "outputs": [
    {
     "name": "stdout",
     "output_type": "stream",
     "text": [
      "<class 'pandas.core.frame.DataFrame'>\n",
      "Int64Index: 125109 entries, 0 to 182628\n",
      "Data columns (total 13 columns):\n",
      " #   Column               Non-Null Count   Dtype  \n",
      "---  ------               --------------   -----  \n",
      " 0   ISBN                 125109 non-null  object \n",
      " 1   Book-Title           125109 non-null  object \n",
      " 2   Book-Author          125109 non-null  object \n",
      " 3   Year-Of-Publication  125109 non-null  int32  \n",
      " 4   Publisher            125109 non-null  object \n",
      " 5   Image-URL-L          125108 non-null  object \n",
      " 6   authors              124224 non-null  object \n",
      " 7   published_date       125096 non-null  object \n",
      " 8   description          125109 non-null  object \n",
      " 9   page_count           124786 non-null  float64\n",
      " 10  categories           122557 non-null  object \n",
      " 11  maturity_rating      125109 non-null  object \n",
      " 12  language             125109 non-null  object \n",
      "dtypes: float64(1), int32(1), object(11)\n",
      "memory usage: 17.9+ MB\n"
     ]
    }
   ],
   "source": [
    "books_data.info()"
   ]
  },
  {
   "cell_type": "code",
   "execution_count": 73,
   "metadata": {},
   "outputs": [
    {
     "data": {
      "text/html": [
       "<div>\n",
       "<style scoped>\n",
       "    .dataframe tbody tr th:only-of-type {\n",
       "        vertical-align: middle;\n",
       "    }\n",
       "\n",
       "    .dataframe tbody tr th {\n",
       "        vertical-align: top;\n",
       "    }\n",
       "\n",
       "    .dataframe thead th {\n",
       "        text-align: right;\n",
       "    }\n",
       "</style>\n",
       "<table border=\"1\" class=\"dataframe\">\n",
       "  <thead>\n",
       "    <tr style=\"text-align: right;\">\n",
       "      <th></th>\n",
       "      <th>ISBN</th>\n",
       "      <th>Book-Title</th>\n",
       "      <th>Book-Author</th>\n",
       "      <th>Year-Of-Publication</th>\n",
       "      <th>Publisher</th>\n",
       "      <th>Image-URL-L</th>\n",
       "      <th>authors</th>\n",
       "      <th>published_date</th>\n",
       "      <th>description</th>\n",
       "      <th>page_count</th>\n",
       "      <th>categories</th>\n",
       "      <th>maturity_rating</th>\n",
       "      <th>language</th>\n",
       "    </tr>\n",
       "  </thead>\n",
       "  <tbody>\n",
       "    <tr>\n",
       "      <th>0</th>\n",
       "      <td>0195153448</td>\n",
       "      <td>Classical Mythology</td>\n",
       "      <td>Mark P. O. Morford</td>\n",
       "      <td>2002</td>\n",
       "      <td>Oxford University Press</td>\n",
       "      <td>http://images.amazon.com/images/P/0195153448.01.LZZZZZZZ.jpg</td>\n",
       "      <td>Mark P. O. Morford', 'Robert J. Lenardon</td>\n",
       "      <td>2003</td>\n",
       "      <td>Provides an introduction to classical myths placing the addressed topics within their historical context, discussion of archaeological evidence as support for mythical events, and how these themes have been portrayed in literature, art, music, and film.</td>\n",
       "      <td>808.0</td>\n",
       "      <td>['Social Science']</td>\n",
       "      <td>NOT_MATURE</td>\n",
       "      <td>en</td>\n",
       "    </tr>\n",
       "    <tr>\n",
       "      <th>2</th>\n",
       "      <td>0060973129</td>\n",
       "      <td>Decision in Normandy</td>\n",
       "      <td>Carlo D'Este</td>\n",
       "      <td>1991</td>\n",
       "      <td>HarperPerennial</td>\n",
       "      <td>http://images.amazon.com/images/P/0060973129.01.LZZZZZZZ.jpg</td>\n",
       "      <td>\"Carlo D'Este\"</td>\n",
       "      <td>1991</td>\n",
       "      <td>Here, for the first time in paperback, is an outstanding military history that offers a dramatic new perspective on the Allied campaign that began with the invasion of the D-Day beaches of Normandy. Nationa advertising in Military History.</td>\n",
       "      <td>582.0</td>\n",
       "      <td>['1940-1949']</td>\n",
       "      <td>NOT_MATURE</td>\n",
       "      <td>en</td>\n",
       "    </tr>\n",
       "    <tr>\n",
       "      <th>3</th>\n",
       "      <td>0374157065</td>\n",
       "      <td>Flu: The Story of the Great Influenza Pandemic of 1918 and the Search for the Virus That Caused It</td>\n",
       "      <td>Gina Bari Kolata</td>\n",
       "      <td>1999</td>\n",
       "      <td>Farrar Straus Giroux</td>\n",
       "      <td>http://images.amazon.com/images/P/0374157065.01.LZZZZZZZ.jpg</td>\n",
       "      <td>Gina Bari Kolata</td>\n",
       "      <td>1999</td>\n",
       "      <td>Describes the great flu epidemic of 1918, an outbreak that killed some forty million people worldwide, and discusses the efforts of scientists and public health officials to understand and prevent another lethal pandemic</td>\n",
       "      <td>367.0</td>\n",
       "      <td>['Medical']</td>\n",
       "      <td>NOT_MATURE</td>\n",
       "      <td>en</td>\n",
       "    </tr>\n",
       "    <tr>\n",
       "      <th>4</th>\n",
       "      <td>0393045218</td>\n",
       "      <td>The Mummies of Urumchi</td>\n",
       "      <td>E. J. W. Barber</td>\n",
       "      <td>1999</td>\n",
       "      <td>W. W. Norton &amp;amp; Company</td>\n",
       "      <td>http://images.amazon.com/images/P/0393045218.01.LZZZZZZZ.jpg</td>\n",
       "      <td>E. J. W. Barber</td>\n",
       "      <td>1999</td>\n",
       "      <td>A look at the incredibly well-preserved ancient mummies found in Western China describes their clothing and appearance, attempts to reconstruct their culture, and speculates about how Caucasians could have found their way to the feet of the Himalayan mountains.</td>\n",
       "      <td>240.0</td>\n",
       "      <td>['Design']</td>\n",
       "      <td>NOT_MATURE</td>\n",
       "      <td>en</td>\n",
       "    </tr>\n",
       "    <tr>\n",
       "      <th>5</th>\n",
       "      <td>0399135782</td>\n",
       "      <td>The Kitchen God's Wife</td>\n",
       "      <td>Amy Tan</td>\n",
       "      <td>1991</td>\n",
       "      <td>Putnam Pub Group</td>\n",
       "      <td>http://images.amazon.com/images/P/0399135782.01.LZZZZZZZ.jpg</td>\n",
       "      <td>Amy Tan</td>\n",
       "      <td>1991</td>\n",
       "      <td>A Chinese immigrant who is convinced she is dying threatens to celebrate the Chinese New Year by unburdening herself of everybody's hidden truths, thus prompting a series of comic misunderstandings</td>\n",
       "      <td>428.0</td>\n",
       "      <td>['Fiction']</td>\n",
       "      <td>NOT_MATURE</td>\n",
       "      <td>en</td>\n",
       "    </tr>\n",
       "  </tbody>\n",
       "</table>\n",
       "</div>"
      ],
      "text/plain": [
       "         ISBN  \\\n",
       "0  0195153448   \n",
       "2  0060973129   \n",
       "3  0374157065   \n",
       "4  0393045218   \n",
       "5  0399135782   \n",
       "\n",
       "                                                                                           Book-Title  \\\n",
       "0                                                                                 Classical Mythology   \n",
       "2                                                                                Decision in Normandy   \n",
       "3  Flu: The Story of the Great Influenza Pandemic of 1918 and the Search for the Virus That Caused It   \n",
       "4                                                                              The Mummies of Urumchi   \n",
       "5                                                                              The Kitchen God's Wife   \n",
       "\n",
       "          Book-Author  Year-Of-Publication                   Publisher  \\\n",
       "0  Mark P. O. Morford                 2002     Oxford University Press   \n",
       "2        Carlo D'Este                 1991             HarperPerennial   \n",
       "3    Gina Bari Kolata                 1999        Farrar Straus Giroux   \n",
       "4     E. J. W. Barber                 1999  W. W. Norton &amp; Company   \n",
       "5             Amy Tan                 1991            Putnam Pub Group   \n",
       "\n",
       "                                                    Image-URL-L  \\\n",
       "0  http://images.amazon.com/images/P/0195153448.01.LZZZZZZZ.jpg   \n",
       "2  http://images.amazon.com/images/P/0060973129.01.LZZZZZZZ.jpg   \n",
       "3  http://images.amazon.com/images/P/0374157065.01.LZZZZZZZ.jpg   \n",
       "4  http://images.amazon.com/images/P/0393045218.01.LZZZZZZZ.jpg   \n",
       "5  http://images.amazon.com/images/P/0399135782.01.LZZZZZZZ.jpg   \n",
       "\n",
       "                                    authors published_date  \\\n",
       "0  Mark P. O. Morford', 'Robert J. Lenardon           2003   \n",
       "2                            \"Carlo D'Este\"           1991   \n",
       "3                          Gina Bari Kolata           1999   \n",
       "4                           E. J. W. Barber           1999   \n",
       "5                                   Amy Tan           1991   \n",
       "\n",
       "                                                                                                                                                                                                                                                             description  \\\n",
       "0          Provides an introduction to classical myths placing the addressed topics within their historical context, discussion of archaeological evidence as support for mythical events, and how these themes have been portrayed in literature, art, music, and film.   \n",
       "2                        Here, for the first time in paperback, is an outstanding military history that offers a dramatic new perspective on the Allied campaign that began with the invasion of the D-Day beaches of Normandy. Nationa advertising in Military History.   \n",
       "3                                           Describes the great flu epidemic of 1918, an outbreak that killed some forty million people worldwide, and discusses the efforts of scientists and public health officials to understand and prevent another lethal pandemic   \n",
       "4  A look at the incredibly well-preserved ancient mummies found in Western China describes their clothing and appearance, attempts to reconstruct their culture, and speculates about how Caucasians could have found their way to the feet of the Himalayan mountains.   \n",
       "5                                                                  A Chinese immigrant who is convinced she is dying threatens to celebrate the Chinese New Year by unburdening herself of everybody's hidden truths, thus prompting a series of comic misunderstandings   \n",
       "\n",
       "   page_count          categories maturity_rating language  \n",
       "0       808.0  ['Social Science']      NOT_MATURE       en  \n",
       "2       582.0       ['1940-1949']      NOT_MATURE       en  \n",
       "3       367.0         ['Medical']      NOT_MATURE       en  \n",
       "4       240.0          ['Design']      NOT_MATURE       en  \n",
       "5       428.0         ['Fiction']      NOT_MATURE       en  "
      ]
     },
     "execution_count": 73,
     "metadata": {},
     "output_type": "execute_result"
    }
   ],
   "source": [
    "# In the authors column we have the authors names in a list\n",
    "# Remove the brackets and quotation marks from the 'authors' column\n",
    "books_data['authors'] = books_data['authors'].str.strip('[]')\n",
    "books_data['authors'] = books_data['authors'].str.strip(\"''\")\n",
    "\n",
    "# preview data set\n",
    "books_data.head()"
   ]
  },
  {
   "cell_type": "code",
   "execution_count": 74,
   "metadata": {},
   "outputs": [
    {
     "data": {
      "text/plain": [
       "885"
      ]
     },
     "execution_count": 74,
     "metadata": {},
     "output_type": "execute_result"
    }
   ],
   "source": [
    "# checking for missing data in authors\n",
    "books_data['authors'].isna().sum()"
   ]
  },
  {
   "cell_type": "markdown",
   "metadata": {},
   "source": [
    "* we use the book_author column to replace the 885 missing values in the aurthors column"
   ]
  },
  {
   "cell_type": "code",
   "execution_count": 75,
   "metadata": {},
   "outputs": [],
   "source": [
    "# fuction to handle missing data in authors column\n",
    "def replace_missing_values(df):\n",
    "    # Create a boolean mask indicating which rows in the \"authors\" column have missing values\n",
    "    mask = df['authors'].isnull()\n",
    "    \n",
    "    # Get the index values for the rows where the value in the \"authors\" column is missing\n",
    "    indexes = df.loc[mask, 'authors'].index\n",
    "    \n",
    "    # Use the index values to select the corresponding values in the \"book_authors\" column\n",
    "    # and assign these values to the \"authors\" column for the rows where the value is missing\n",
    "    df.loc[indexes, 'authors'] = df.loc[indexes, 'Book-Author']"
   ]
  },
  {
   "cell_type": "code",
   "execution_count": 76,
   "metadata": {},
   "outputs": [],
   "source": [
    "# replacing missing authors with corresponding book-author\n",
    "replace_missing_values(books_data)"
   ]
  },
  {
   "cell_type": "code",
   "execution_count": 77,
   "metadata": {},
   "outputs": [
    {
     "data": {
      "text/plain": [
       "0"
      ]
     },
     "execution_count": 77,
     "metadata": {},
     "output_type": "execute_result"
    }
   ],
   "source": [
    "# rechecking for missing values in authors\n",
    "books_data['authors'].isna().sum()"
   ]
  },
  {
   "cell_type": "code",
   "execution_count": 78,
   "metadata": {},
   "outputs": [],
   "source": [
    "# drop book-author column\n",
    "books_data.drop('Book-Author', axis=1, inplace=True)"
   ]
  },
  {
   "cell_type": "markdown",
   "metadata": {},
   "source": [
    "* The category column has the categories in list. correct this by removing the brackets and quotations"
   ]
  },
  {
   "cell_type": "code",
   "execution_count": 79,
   "metadata": {},
   "outputs": [
    {
     "data": {
      "text/html": [
       "<div>\n",
       "<style scoped>\n",
       "    .dataframe tbody tr th:only-of-type {\n",
       "        vertical-align: middle;\n",
       "    }\n",
       "\n",
       "    .dataframe tbody tr th {\n",
       "        vertical-align: top;\n",
       "    }\n",
       "\n",
       "    .dataframe thead th {\n",
       "        text-align: right;\n",
       "    }\n",
       "</style>\n",
       "<table border=\"1\" class=\"dataframe\">\n",
       "  <thead>\n",
       "    <tr style=\"text-align: right;\">\n",
       "      <th></th>\n",
       "      <th>ISBN</th>\n",
       "      <th>Book-Title</th>\n",
       "      <th>Year-Of-Publication</th>\n",
       "      <th>Publisher</th>\n",
       "      <th>Image-URL-L</th>\n",
       "      <th>authors</th>\n",
       "      <th>published_date</th>\n",
       "      <th>description</th>\n",
       "      <th>page_count</th>\n",
       "      <th>categories</th>\n",
       "      <th>maturity_rating</th>\n",
       "      <th>language</th>\n",
       "    </tr>\n",
       "  </thead>\n",
       "  <tbody>\n",
       "    <tr>\n",
       "      <th>0</th>\n",
       "      <td>0195153448</td>\n",
       "      <td>Classical Mythology</td>\n",
       "      <td>2002</td>\n",
       "      <td>Oxford University Press</td>\n",
       "      <td>http://images.amazon.com/images/P/0195153448.01.LZZZZZZZ.jpg</td>\n",
       "      <td>Mark P. O. Morford', 'Robert J. Lenardon</td>\n",
       "      <td>2003</td>\n",
       "      <td>Provides an introduction to classical myths placing the addressed topics within their historical context, discussion of archaeological evidence as support for mythical events, and how these themes have been portrayed in literature, art, music, and film.</td>\n",
       "      <td>808.0</td>\n",
       "      <td>Social Science</td>\n",
       "      <td>NOT_MATURE</td>\n",
       "      <td>en</td>\n",
       "    </tr>\n",
       "    <tr>\n",
       "      <th>2</th>\n",
       "      <td>0060973129</td>\n",
       "      <td>Decision in Normandy</td>\n",
       "      <td>1991</td>\n",
       "      <td>HarperPerennial</td>\n",
       "      <td>http://images.amazon.com/images/P/0060973129.01.LZZZZZZZ.jpg</td>\n",
       "      <td>\"Carlo D'Este\"</td>\n",
       "      <td>1991</td>\n",
       "      <td>Here, for the first time in paperback, is an outstanding military history that offers a dramatic new perspective on the Allied campaign that began with the invasion of the D-Day beaches of Normandy. Nationa advertising in Military History.</td>\n",
       "      <td>582.0</td>\n",
       "      <td>1940-1949</td>\n",
       "      <td>NOT_MATURE</td>\n",
       "      <td>en</td>\n",
       "    </tr>\n",
       "    <tr>\n",
       "      <th>3</th>\n",
       "      <td>0374157065</td>\n",
       "      <td>Flu: The Story of the Great Influenza Pandemic of 1918 and the Search for the Virus That Caused It</td>\n",
       "      <td>1999</td>\n",
       "      <td>Farrar Straus Giroux</td>\n",
       "      <td>http://images.amazon.com/images/P/0374157065.01.LZZZZZZZ.jpg</td>\n",
       "      <td>Gina Bari Kolata</td>\n",
       "      <td>1999</td>\n",
       "      <td>Describes the great flu epidemic of 1918, an outbreak that killed some forty million people worldwide, and discusses the efforts of scientists and public health officials to understand and prevent another lethal pandemic</td>\n",
       "      <td>367.0</td>\n",
       "      <td>Medical</td>\n",
       "      <td>NOT_MATURE</td>\n",
       "      <td>en</td>\n",
       "    </tr>\n",
       "    <tr>\n",
       "      <th>4</th>\n",
       "      <td>0393045218</td>\n",
       "      <td>The Mummies of Urumchi</td>\n",
       "      <td>1999</td>\n",
       "      <td>W. W. Norton &amp;amp; Company</td>\n",
       "      <td>http://images.amazon.com/images/P/0393045218.01.LZZZZZZZ.jpg</td>\n",
       "      <td>E. J. W. Barber</td>\n",
       "      <td>1999</td>\n",
       "      <td>A look at the incredibly well-preserved ancient mummies found in Western China describes their clothing and appearance, attempts to reconstruct their culture, and speculates about how Caucasians could have found their way to the feet of the Himalayan mountains.</td>\n",
       "      <td>240.0</td>\n",
       "      <td>Design</td>\n",
       "      <td>NOT_MATURE</td>\n",
       "      <td>en</td>\n",
       "    </tr>\n",
       "    <tr>\n",
       "      <th>5</th>\n",
       "      <td>0399135782</td>\n",
       "      <td>The Kitchen God's Wife</td>\n",
       "      <td>1991</td>\n",
       "      <td>Putnam Pub Group</td>\n",
       "      <td>http://images.amazon.com/images/P/0399135782.01.LZZZZZZZ.jpg</td>\n",
       "      <td>Amy Tan</td>\n",
       "      <td>1991</td>\n",
       "      <td>A Chinese immigrant who is convinced she is dying threatens to celebrate the Chinese New Year by unburdening herself of everybody's hidden truths, thus prompting a series of comic misunderstandings</td>\n",
       "      <td>428.0</td>\n",
       "      <td>Fiction</td>\n",
       "      <td>NOT_MATURE</td>\n",
       "      <td>en</td>\n",
       "    </tr>\n",
       "  </tbody>\n",
       "</table>\n",
       "</div>"
      ],
      "text/plain": [
       "         ISBN  \\\n",
       "0  0195153448   \n",
       "2  0060973129   \n",
       "3  0374157065   \n",
       "4  0393045218   \n",
       "5  0399135782   \n",
       "\n",
       "                                                                                           Book-Title  \\\n",
       "0                                                                                 Classical Mythology   \n",
       "2                                                                                Decision in Normandy   \n",
       "3  Flu: The Story of the Great Influenza Pandemic of 1918 and the Search for the Virus That Caused It   \n",
       "4                                                                              The Mummies of Urumchi   \n",
       "5                                                                              The Kitchen God's Wife   \n",
       "\n",
       "   Year-Of-Publication                   Publisher  \\\n",
       "0                 2002     Oxford University Press   \n",
       "2                 1991             HarperPerennial   \n",
       "3                 1999        Farrar Straus Giroux   \n",
       "4                 1999  W. W. Norton &amp; Company   \n",
       "5                 1991            Putnam Pub Group   \n",
       "\n",
       "                                                    Image-URL-L  \\\n",
       "0  http://images.amazon.com/images/P/0195153448.01.LZZZZZZZ.jpg   \n",
       "2  http://images.amazon.com/images/P/0060973129.01.LZZZZZZZ.jpg   \n",
       "3  http://images.amazon.com/images/P/0374157065.01.LZZZZZZZ.jpg   \n",
       "4  http://images.amazon.com/images/P/0393045218.01.LZZZZZZZ.jpg   \n",
       "5  http://images.amazon.com/images/P/0399135782.01.LZZZZZZZ.jpg   \n",
       "\n",
       "                                    authors published_date  \\\n",
       "0  Mark P. O. Morford', 'Robert J. Lenardon           2003   \n",
       "2                            \"Carlo D'Este\"           1991   \n",
       "3                          Gina Bari Kolata           1999   \n",
       "4                           E. J. W. Barber           1999   \n",
       "5                                   Amy Tan           1991   \n",
       "\n",
       "                                                                                                                                                                                                                                                             description  \\\n",
       "0          Provides an introduction to classical myths placing the addressed topics within their historical context, discussion of archaeological evidence as support for mythical events, and how these themes have been portrayed in literature, art, music, and film.   \n",
       "2                        Here, for the first time in paperback, is an outstanding military history that offers a dramatic new perspective on the Allied campaign that began with the invasion of the D-Day beaches of Normandy. Nationa advertising in Military History.   \n",
       "3                                           Describes the great flu epidemic of 1918, an outbreak that killed some forty million people worldwide, and discusses the efforts of scientists and public health officials to understand and prevent another lethal pandemic   \n",
       "4  A look at the incredibly well-preserved ancient mummies found in Western China describes their clothing and appearance, attempts to reconstruct their culture, and speculates about how Caucasians could have found their way to the feet of the Himalayan mountains.   \n",
       "5                                                                  A Chinese immigrant who is convinced she is dying threatens to celebrate the Chinese New Year by unburdening herself of everybody's hidden truths, thus prompting a series of comic misunderstandings   \n",
       "\n",
       "   page_count      categories maturity_rating language  \n",
       "0       808.0  Social Science      NOT_MATURE       en  \n",
       "2       582.0       1940-1949      NOT_MATURE       en  \n",
       "3       367.0         Medical      NOT_MATURE       en  \n",
       "4       240.0          Design      NOT_MATURE       en  \n",
       "5       428.0         Fiction      NOT_MATURE       en  "
      ]
     },
     "execution_count": 79,
     "metadata": {},
     "output_type": "execute_result"
    }
   ],
   "source": [
    "# In the categories column we have the categories names in a list\n",
    "# Remove the brackets and quotation marks from the 'categories' column\n",
    "books_data['categories'] = books_data['categories'].str.strip('[]')\n",
    "books_data['categories'] = books_data['categories'].str.strip(\"''\")\n",
    "\n",
    "# preview data set\n",
    "books_data.head()"
   ]
  },
  {
   "cell_type": "markdown",
   "metadata": {},
   "source": [
    "* we have page_count as float, convert it to an integer\n",
    "* replace missing values with a placeholder, -1"
   ]
  },
  {
   "cell_type": "code",
   "execution_count": 80,
   "metadata": {},
   "outputs": [
    {
     "data": {
      "text/html": [
       "<div>\n",
       "<style scoped>\n",
       "    .dataframe tbody tr th:only-of-type {\n",
       "        vertical-align: middle;\n",
       "    }\n",
       "\n",
       "    .dataframe tbody tr th {\n",
       "        vertical-align: top;\n",
       "    }\n",
       "\n",
       "    .dataframe thead th {\n",
       "        text-align: right;\n",
       "    }\n",
       "</style>\n",
       "<table border=\"1\" class=\"dataframe\">\n",
       "  <thead>\n",
       "    <tr style=\"text-align: right;\">\n",
       "      <th></th>\n",
       "      <th>ISBN</th>\n",
       "      <th>Book-Title</th>\n",
       "      <th>Year-Of-Publication</th>\n",
       "      <th>Publisher</th>\n",
       "      <th>Image-URL-L</th>\n",
       "      <th>authors</th>\n",
       "      <th>published_date</th>\n",
       "      <th>description</th>\n",
       "      <th>page_count</th>\n",
       "      <th>categories</th>\n",
       "      <th>maturity_rating</th>\n",
       "      <th>language</th>\n",
       "    </tr>\n",
       "  </thead>\n",
       "  <tbody>\n",
       "    <tr>\n",
       "      <th>0</th>\n",
       "      <td>0195153448</td>\n",
       "      <td>Classical Mythology</td>\n",
       "      <td>2002</td>\n",
       "      <td>Oxford University Press</td>\n",
       "      <td>http://images.amazon.com/images/P/0195153448.01.LZZZZZZZ.jpg</td>\n",
       "      <td>Mark P. O. Morford', 'Robert J. Lenardon</td>\n",
       "      <td>2003</td>\n",
       "      <td>Provides an introduction to classical myths placing the addressed topics within their historical context, discussion of archaeological evidence as support for mythical events, and how these themes have been portrayed in literature, art, music, and film.</td>\n",
       "      <td>808</td>\n",
       "      <td>Social Science</td>\n",
       "      <td>NOT_MATURE</td>\n",
       "      <td>en</td>\n",
       "    </tr>\n",
       "    <tr>\n",
       "      <th>2</th>\n",
       "      <td>0060973129</td>\n",
       "      <td>Decision in Normandy</td>\n",
       "      <td>1991</td>\n",
       "      <td>HarperPerennial</td>\n",
       "      <td>http://images.amazon.com/images/P/0060973129.01.LZZZZZZZ.jpg</td>\n",
       "      <td>\"Carlo D'Este\"</td>\n",
       "      <td>1991</td>\n",
       "      <td>Here, for the first time in paperback, is an outstanding military history that offers a dramatic new perspective on the Allied campaign that began with the invasion of the D-Day beaches of Normandy. Nationa advertising in Military History.</td>\n",
       "      <td>582</td>\n",
       "      <td>1940-1949</td>\n",
       "      <td>NOT_MATURE</td>\n",
       "      <td>en</td>\n",
       "    </tr>\n",
       "    <tr>\n",
       "      <th>3</th>\n",
       "      <td>0374157065</td>\n",
       "      <td>Flu: The Story of the Great Influenza Pandemic of 1918 and the Search for the Virus That Caused It</td>\n",
       "      <td>1999</td>\n",
       "      <td>Farrar Straus Giroux</td>\n",
       "      <td>http://images.amazon.com/images/P/0374157065.01.LZZZZZZZ.jpg</td>\n",
       "      <td>Gina Bari Kolata</td>\n",
       "      <td>1999</td>\n",
       "      <td>Describes the great flu epidemic of 1918, an outbreak that killed some forty million people worldwide, and discusses the efforts of scientists and public health officials to understand and prevent another lethal pandemic</td>\n",
       "      <td>367</td>\n",
       "      <td>Medical</td>\n",
       "      <td>NOT_MATURE</td>\n",
       "      <td>en</td>\n",
       "    </tr>\n",
       "    <tr>\n",
       "      <th>4</th>\n",
       "      <td>0393045218</td>\n",
       "      <td>The Mummies of Urumchi</td>\n",
       "      <td>1999</td>\n",
       "      <td>W. W. Norton &amp;amp; Company</td>\n",
       "      <td>http://images.amazon.com/images/P/0393045218.01.LZZZZZZZ.jpg</td>\n",
       "      <td>E. J. W. Barber</td>\n",
       "      <td>1999</td>\n",
       "      <td>A look at the incredibly well-preserved ancient mummies found in Western China describes their clothing and appearance, attempts to reconstruct their culture, and speculates about how Caucasians could have found their way to the feet of the Himalayan mountains.</td>\n",
       "      <td>240</td>\n",
       "      <td>Design</td>\n",
       "      <td>NOT_MATURE</td>\n",
       "      <td>en</td>\n",
       "    </tr>\n",
       "    <tr>\n",
       "      <th>5</th>\n",
       "      <td>0399135782</td>\n",
       "      <td>The Kitchen God's Wife</td>\n",
       "      <td>1991</td>\n",
       "      <td>Putnam Pub Group</td>\n",
       "      <td>http://images.amazon.com/images/P/0399135782.01.LZZZZZZZ.jpg</td>\n",
       "      <td>Amy Tan</td>\n",
       "      <td>1991</td>\n",
       "      <td>A Chinese immigrant who is convinced she is dying threatens to celebrate the Chinese New Year by unburdening herself of everybody's hidden truths, thus prompting a series of comic misunderstandings</td>\n",
       "      <td>428</td>\n",
       "      <td>Fiction</td>\n",
       "      <td>NOT_MATURE</td>\n",
       "      <td>en</td>\n",
       "    </tr>\n",
       "  </tbody>\n",
       "</table>\n",
       "</div>"
      ],
      "text/plain": [
       "         ISBN  \\\n",
       "0  0195153448   \n",
       "2  0060973129   \n",
       "3  0374157065   \n",
       "4  0393045218   \n",
       "5  0399135782   \n",
       "\n",
       "                                                                                           Book-Title  \\\n",
       "0                                                                                 Classical Mythology   \n",
       "2                                                                                Decision in Normandy   \n",
       "3  Flu: The Story of the Great Influenza Pandemic of 1918 and the Search for the Virus That Caused It   \n",
       "4                                                                              The Mummies of Urumchi   \n",
       "5                                                                              The Kitchen God's Wife   \n",
       "\n",
       "   Year-Of-Publication                   Publisher  \\\n",
       "0                 2002     Oxford University Press   \n",
       "2                 1991             HarperPerennial   \n",
       "3                 1999        Farrar Straus Giroux   \n",
       "4                 1999  W. W. Norton &amp; Company   \n",
       "5                 1991            Putnam Pub Group   \n",
       "\n",
       "                                                    Image-URL-L  \\\n",
       "0  http://images.amazon.com/images/P/0195153448.01.LZZZZZZZ.jpg   \n",
       "2  http://images.amazon.com/images/P/0060973129.01.LZZZZZZZ.jpg   \n",
       "3  http://images.amazon.com/images/P/0374157065.01.LZZZZZZZ.jpg   \n",
       "4  http://images.amazon.com/images/P/0393045218.01.LZZZZZZZ.jpg   \n",
       "5  http://images.amazon.com/images/P/0399135782.01.LZZZZZZZ.jpg   \n",
       "\n",
       "                                    authors published_date  \\\n",
       "0  Mark P. O. Morford', 'Robert J. Lenardon           2003   \n",
       "2                            \"Carlo D'Este\"           1991   \n",
       "3                          Gina Bari Kolata           1999   \n",
       "4                           E. J. W. Barber           1999   \n",
       "5                                   Amy Tan           1991   \n",
       "\n",
       "                                                                                                                                                                                                                                                             description  \\\n",
       "0          Provides an introduction to classical myths placing the addressed topics within their historical context, discussion of archaeological evidence as support for mythical events, and how these themes have been portrayed in literature, art, music, and film.   \n",
       "2                        Here, for the first time in paperback, is an outstanding military history that offers a dramatic new perspective on the Allied campaign that began with the invasion of the D-Day beaches of Normandy. Nationa advertising in Military History.   \n",
       "3                                           Describes the great flu epidemic of 1918, an outbreak that killed some forty million people worldwide, and discusses the efforts of scientists and public health officials to understand and prevent another lethal pandemic   \n",
       "4  A look at the incredibly well-preserved ancient mummies found in Western China describes their clothing and appearance, attempts to reconstruct their culture, and speculates about how Caucasians could have found their way to the feet of the Himalayan mountains.   \n",
       "5                                                                  A Chinese immigrant who is convinced she is dying threatens to celebrate the Chinese New Year by unburdening herself of everybody's hidden truths, thus prompting a series of comic misunderstandings   \n",
       "\n",
       "   page_count      categories maturity_rating language  \n",
       "0         808  Social Science      NOT_MATURE       en  \n",
       "2         582       1940-1949      NOT_MATURE       en  \n",
       "3         367         Medical      NOT_MATURE       en  \n",
       "4         240          Design      NOT_MATURE       en  \n",
       "5         428         Fiction      NOT_MATURE       en  "
      ]
     },
     "execution_count": 80,
     "metadata": {},
     "output_type": "execute_result"
    }
   ],
   "source": [
    "# Convert the 'page_count' to numeric data type\n",
    "books_data['page_count'] = pd.to_numeric(books_data['page_count'], errors='coerce')\n",
    "\n",
    "# Replace any NaN values with a placeholder value\n",
    "books_data['page_count'].fillna(-1, inplace=True)\n",
    "\n",
    "# Convert the 'float_column' to integer data type\n",
    "books_data['page_count'] = books_data['page_count'].round().astype(int)\n",
    "\n",
    "# preview data set\n",
    "books_data.head()"
   ]
  },
  {
   "cell_type": "code",
   "execution_count": 81,
   "metadata": {
    "scrolled": false
   },
   "outputs": [
    {
     "data": {
      "text/html": [
       "<div>\n",
       "<style scoped>\n",
       "    .dataframe tbody tr th:only-of-type {\n",
       "        vertical-align: middle;\n",
       "    }\n",
       "\n",
       "    .dataframe tbody tr th {\n",
       "        vertical-align: top;\n",
       "    }\n",
       "\n",
       "    .dataframe thead th {\n",
       "        text-align: right;\n",
       "    }\n",
       "</style>\n",
       "<table border=\"1\" class=\"dataframe\">\n",
       "  <thead>\n",
       "    <tr style=\"text-align: right;\">\n",
       "      <th></th>\n",
       "      <th>ISBN</th>\n",
       "      <th>Book-Title</th>\n",
       "      <th>Year-Of-Publication</th>\n",
       "      <th>Publisher</th>\n",
       "      <th>Image-URL-L</th>\n",
       "      <th>authors</th>\n",
       "      <th>published_date</th>\n",
       "      <th>description</th>\n",
       "      <th>page_count</th>\n",
       "      <th>categories</th>\n",
       "      <th>maturity_rating</th>\n",
       "      <th>language</th>\n",
       "    </tr>\n",
       "  </thead>\n",
       "  <tbody>\n",
       "    <tr>\n",
       "      <th>41</th>\n",
       "      <td>055321215X</td>\n",
       "      <td>Pride and Prejudice</td>\n",
       "      <td>1983</td>\n",
       "      <td>Bantam</td>\n",
       "      <td>http://images.amazon.com/images/P/055321215X.01.LZZZZZZZ.jpg</td>\n",
       "      <td>Jane Austen</td>\n",
       "      <td>1983-12-01</td>\n",
       "      <td>\"It is a truth universally acknowledged, that a single man in possession of a good fortune must be in want of a wife.\" So begins Pride and Prejudice, Jane Austen's perfect comedy of manners--one of the most popular novels of all time--that features splendidly civilized sparring between the proud Mr. Darcy and the prejudiced Elizabeth Bennet as they play out their spirited courtship in a series of eighteenth-century drawing-room intrigues. \"Pride and Prejudice seems as vital today as ever,\" writes Anna Quindlen in her introduction to this Modern Library edition. \"It is a pure joy to read.\" Eudora Welty agrees: \"The gaiety is unextinguished, the irony has kept its bite, the reasoning is still sweet, the sparkle undiminished. [It is] irresistible and as nearly flawless as any fiction could be.\" This volume is the companion to the BBC television series, a lavish production aired on the Arts and Entertainment Network.</td>\n",
       "      <td>-1</td>\n",
       "      <td>NaN</td>\n",
       "      <td>NOT_MATURE</td>\n",
       "      <td>en</td>\n",
       "    </tr>\n",
       "    <tr>\n",
       "      <th>279</th>\n",
       "      <td>0394586239</td>\n",
       "      <td>Possession: A Romance</td>\n",
       "      <td>1990</td>\n",
       "      <td>Random House Inc</td>\n",
       "      <td>http://images.amazon.com/images/P/0394586239.01.LZZZZZZZ.jpg</td>\n",
       "      <td>Antonia Susan Byatt</td>\n",
       "      <td>2004</td>\n",
       "      <td>In 1986 two young English scholars stumble upon a remarkable discovery: a hitherto unsuspected relationship between the Browningesque 19th century poet Randolph Henry Ash, and his contemporary Christabel LaMotte. Their research reveals uncanny parallels with their own lives and culminates in the exhumation of a poet's corpse.</td>\n",
       "      <td>-1</td>\n",
       "      <td>Biographers</td>\n",
       "      <td>NOT_MATURE</td>\n",
       "      <td>en</td>\n",
       "    </tr>\n",
       "    <tr>\n",
       "      <th>2502</th>\n",
       "      <td>0671705997</td>\n",
       "      <td>Easy to Kill</td>\n",
       "      <td>1991</td>\n",
       "      <td>Pocket Books</td>\n",
       "      <td>http://images.amazon.com/images/P/0671705997.01.LZZZZZZZ.jpg</td>\n",
       "      <td>Agatha Christie</td>\n",
       "      <td>1990-12</td>\n",
       "      <td>An elderly lady suspected of murder in the sleepy village of Wychwood dies--another victim of an unseen hand. Since too many accidents and unexplained deaths have occurred, even for a town with a history of witchcraft, policeman Luke Fitzwilliam vows to discover the reason--and finds a very cunning killer.</td>\n",
       "      <td>-1</td>\n",
       "      <td>NaN</td>\n",
       "      <td>NOT_MATURE</td>\n",
       "      <td>en</td>\n",
       "    </tr>\n",
       "    <tr>\n",
       "      <th>2693</th>\n",
       "      <td>0671743562</td>\n",
       "      <td>Dreams of the Raven (Star Trek, No 34)</td>\n",
       "      <td>1991</td>\n",
       "      <td>Star Trek</td>\n",
       "      <td>http://images.amazon.com/images/P/0671743562.01.LZZZZZZZ.jpg</td>\n",
       "      <td>Carmen Carter</td>\n",
       "      <td>1991-09-01</td>\n",
       "      <td>Captain Kirk and the crew of the Enterprise struggle against an unknown deadly enemy after a mysterious attack cripples the starship and leaves Dr. McCoy without a memory</td>\n",
       "      <td>-1</td>\n",
       "      <td>Fiction</td>\n",
       "      <td>NOT_MATURE</td>\n",
       "      <td>en</td>\n",
       "    </tr>\n",
       "    <tr>\n",
       "      <th>4654</th>\n",
       "      <td>0425043231</td>\n",
       "      <td>Man in a High Castle</td>\n",
       "      <td>1979</td>\n",
       "      <td>Berkley Publishing Group</td>\n",
       "      <td>http://images.amazon.com/images/P/0425043231.01.LZZZZZZZ.jpg</td>\n",
       "      <td>Philip K. Dick</td>\n",
       "      <td>1979-05-15</td>\n",
       "      <td>It's America in 1962. Slavery is legal once again. the few Jews who still survive hide under assumed names. In San Francisco the I Ching is as common as the Yellow Pages. All because some 20 years earlier the United States lost a war--and is now occupied jointly by Nazi Germany and Japan. This harrowing, Hugo Award-winning novel is the work that established Philip K. Dick as an innovator in science fiction while breaking the barrier between science fiction and the serious novel of ideas. In it Dick offers a haunting vision of history as a nightmare from which it may just be possible to awake.</td>\n",
       "      <td>-1</td>\n",
       "      <td>NaN</td>\n",
       "      <td>NOT_MATURE</td>\n",
       "      <td>en</td>\n",
       "    </tr>\n",
       "    <tr>\n",
       "      <th>...</th>\n",
       "      <td>...</td>\n",
       "      <td>...</td>\n",
       "      <td>...</td>\n",
       "      <td>...</td>\n",
       "      <td>...</td>\n",
       "      <td>...</td>\n",
       "      <td>...</td>\n",
       "      <td>...</td>\n",
       "      <td>...</td>\n",
       "      <td>...</td>\n",
       "      <td>...</td>\n",
       "      <td>...</td>\n",
       "    </tr>\n",
       "    <tr>\n",
       "      <th>180426</th>\n",
       "      <td>0671479849</td>\n",
       "      <td>The Carpetbaggers</td>\n",
       "      <td>1983</td>\n",
       "      <td>Pocket</td>\n",
       "      <td>http://images.amazon.com/images/P/0671479849.01.LZZZZZZZ.jpg</td>\n",
       "      <td>Harold Robbins</td>\n",
       "      <td>1983-08-02</td>\n",
       "      <td>This legendary masterpiece--the most successful of Robbins's many books--tells a story of money and power, sex and death, and is available once again in an exciting new package. Reissue.</td>\n",
       "      <td>-1</td>\n",
       "      <td>NaN</td>\n",
       "      <td>NOT_MATURE</td>\n",
       "      <td>en</td>\n",
       "    </tr>\n",
       "    <tr>\n",
       "      <th>180689</th>\n",
       "      <td>0449215776</td>\n",
       "      <td>This Rough Magic</td>\n",
       "      <td>1989</td>\n",
       "      <td>Fawcett Books</td>\n",
       "      <td>http://images.amazon.com/images/P/0449215776.01.LZZZZZZZ.jpg</td>\n",
       "      <td>Mary Stewart</td>\n",
       "      <td>1987-11-01</td>\n",
       "      <td>Lucy becomes entangled in a mystery when her desire to meet John Gale the actor is hindered by his son</td>\n",
       "      <td>-1</td>\n",
       "      <td>Fiction</td>\n",
       "      <td>NOT_MATURE</td>\n",
       "      <td>en</td>\n",
       "    </tr>\n",
       "    <tr>\n",
       "      <th>180754</th>\n",
       "      <td>1840151005</td>\n",
       "      <td>\\Titanic\\\" Survivor: The Memoirs of Violet Jessop, Stewardess\"</td>\n",
       "      <td>1999</td>\n",
       "      <td>Sutton Publishing Ltd</td>\n",
       "      <td>http://images.amazon.com/images/P/1840151005.01.LZZZZZZZ.jpg</td>\n",
       "      <td>Violet Jessop', 'John Maxtone-Graham</td>\n",
       "      <td>1999-03</td>\n",
       "      <td>This is a unique eye-witness account of the most written about disaster of the 20th century. Joining the Royal Mail Line in 1908, Violet Jessop spent her entire career at sea, travelling on more than 200 voyages. She was a stewardess for the first-class passengers on the Titanic when it sank on its maiden voyage in April 1912 after hitting an iceberg. Her description of the sinking is chilling as she sees to the needs of the passengers before finding a warm coat for herself. Four years later, she was a wartime nurse aboard the hospital ship Britannic when it struck a mine and sank to the bottom of the Aegean.</td>\n",
       "      <td>-1</td>\n",
       "      <td>NaN</td>\n",
       "      <td>NOT_MATURE</td>\n",
       "      <td>en</td>\n",
       "    </tr>\n",
       "    <tr>\n",
       "      <th>181148</th>\n",
       "      <td>0439227003</td>\n",
       "      <td>Captain Underpants Boxed Set (Four Books and a Whoopee Cushion)</td>\n",
       "      <td>2000</td>\n",
       "      <td>Blue Sky Press (AZ)</td>\n",
       "      <td>http://images.amazon.com/images/P/0439227003.01.LZZZZZZZ.jpg</td>\n",
       "      <td>Dav Pilkey</td>\n",
       "      <td>2000-11-01</td>\n",
       "      <td>This boxed set showcases the first four books of this best-selling chapter book series about the Waistband Warrior, and includes a special Captain Underpants Whoopee Cushion. All of the characters from the first four books are featured in Pilkey's new art for the case. Illustrations. Consumable.</td>\n",
       "      <td>-1</td>\n",
       "      <td>Juvenile Fiction</td>\n",
       "      <td>NOT_MATURE</td>\n",
       "      <td>en</td>\n",
       "    </tr>\n",
       "    <tr>\n",
       "      <th>182395</th>\n",
       "      <td>034530635X</td>\n",
       "      <td>Elvis, What Happened?</td>\n",
       "      <td>1988</td>\n",
       "      <td>Ballantine Books</td>\n",
       "      <td>http://images.amazon.com/images/P/034530635X.01.LZZZZZZZ.jpg</td>\n",
       "      <td>Steve Dunleavy</td>\n",
       "      <td>1982-02-01</td>\n",
       "      <td>A devoted son. A generous friend. A model Army recruit. A gifted entertainer. A beloved hero to millions. This is the Elvis Presly the world knew -- and cherished. Brooding. Violent. Obsessed with death. Strung out. Sexually driven. This is the other side of Elvis -- according to the three men who lived with him through it all -- a man who: * Chamed a beautiful young fan into joining him on a drug binge for two that nearly killed her * Took a group of friends on a 3 A.M. visit to a mortuary to look at corpses and talk about embalming * Hurled a pool cue at a party guest who interrupts his game, injuring her breast * Talked with his bodyguard about a \"hit\" on the man he felt stole his wife Steve Dunleavy has woven together the experiences of three Presley bodyguards who were there partying with him, womanizing with him, worrying with him -- tasting the pleasure and the pains of life with the most fabulous star in showbiz history!</td>\n",
       "      <td>-1</td>\n",
       "      <td>Music</td>\n",
       "      <td>NOT_MATURE</td>\n",
       "      <td>en</td>\n",
       "    </tr>\n",
       "  </tbody>\n",
       "</table>\n",
       "<p>323 rows × 12 columns</p>\n",
       "</div>"
      ],
      "text/plain": [
       "              ISBN  \\\n",
       "41      055321215X   \n",
       "279     0394586239   \n",
       "2502    0671705997   \n",
       "2693    0671743562   \n",
       "4654    0425043231   \n",
       "...            ...   \n",
       "180426  0671479849   \n",
       "180689  0449215776   \n",
       "180754  1840151005   \n",
       "181148  0439227003   \n",
       "182395  034530635X   \n",
       "\n",
       "                                                             Book-Title  \\\n",
       "41                                                  Pride and Prejudice   \n",
       "279                                               Possession: A Romance   \n",
       "2502                                                       Easy to Kill   \n",
       "2693                             Dreams of the Raven (Star Trek, No 34)   \n",
       "4654                                               Man in a High Castle   \n",
       "...                                                                 ...   \n",
       "180426                                                The Carpetbaggers   \n",
       "180689                                                 This Rough Magic   \n",
       "180754   \\Titanic\\\" Survivor: The Memoirs of Violet Jessop, Stewardess\"   \n",
       "181148  Captain Underpants Boxed Set (Four Books and a Whoopee Cushion)   \n",
       "182395                                            Elvis, What Happened?   \n",
       "\n",
       "        Year-Of-Publication                 Publisher  \\\n",
       "41                     1983                    Bantam   \n",
       "279                    1990          Random House Inc   \n",
       "2502                   1991              Pocket Books   \n",
       "2693                   1991                 Star Trek   \n",
       "4654                   1979  Berkley Publishing Group   \n",
       "...                     ...                       ...   \n",
       "180426                 1983                    Pocket   \n",
       "180689                 1989             Fawcett Books   \n",
       "180754                 1999     Sutton Publishing Ltd   \n",
       "181148                 2000       Blue Sky Press (AZ)   \n",
       "182395                 1988          Ballantine Books   \n",
       "\n",
       "                                                         Image-URL-L  \\\n",
       "41      http://images.amazon.com/images/P/055321215X.01.LZZZZZZZ.jpg   \n",
       "279     http://images.amazon.com/images/P/0394586239.01.LZZZZZZZ.jpg   \n",
       "2502    http://images.amazon.com/images/P/0671705997.01.LZZZZZZZ.jpg   \n",
       "2693    http://images.amazon.com/images/P/0671743562.01.LZZZZZZZ.jpg   \n",
       "4654    http://images.amazon.com/images/P/0425043231.01.LZZZZZZZ.jpg   \n",
       "...                                                              ...   \n",
       "180426  http://images.amazon.com/images/P/0671479849.01.LZZZZZZZ.jpg   \n",
       "180689  http://images.amazon.com/images/P/0449215776.01.LZZZZZZZ.jpg   \n",
       "180754  http://images.amazon.com/images/P/1840151005.01.LZZZZZZZ.jpg   \n",
       "181148  http://images.amazon.com/images/P/0439227003.01.LZZZZZZZ.jpg   \n",
       "182395  http://images.amazon.com/images/P/034530635X.01.LZZZZZZZ.jpg   \n",
       "\n",
       "                                     authors published_date  \\\n",
       "41                               Jane Austen     1983-12-01   \n",
       "279                      Antonia Susan Byatt           2004   \n",
       "2502                         Agatha Christie        1990-12   \n",
       "2693                           Carmen Carter     1991-09-01   \n",
       "4654                          Philip K. Dick     1979-05-15   \n",
       "...                                      ...            ...   \n",
       "180426                        Harold Robbins     1983-08-02   \n",
       "180689                          Mary Stewart     1987-11-01   \n",
       "180754  Violet Jessop', 'John Maxtone-Graham        1999-03   \n",
       "181148                            Dav Pilkey     2000-11-01   \n",
       "182395                        Steve Dunleavy     1982-02-01   \n",
       "\n",
       "                                                                                                                                                                                                                                                                                                                                                                                                                                                                                                                                                                                                                                                                                                                                                                                                                                                                                                                                                                           description  \\\n",
       "41                      \"It is a truth universally acknowledged, that a single man in possession of a good fortune must be in want of a wife.\" So begins Pride and Prejudice, Jane Austen's perfect comedy of manners--one of the most popular novels of all time--that features splendidly civilized sparring between the proud Mr. Darcy and the prejudiced Elizabeth Bennet as they play out their spirited courtship in a series of eighteenth-century drawing-room intrigues. \"Pride and Prejudice seems as vital today as ever,\" writes Anna Quindlen in her introduction to this Modern Library edition. \"It is a pure joy to read.\" Eudora Welty agrees: \"The gaiety is unextinguished, the irony has kept its bite, the reasoning is still sweet, the sparkle undiminished. [It is] irresistible and as nearly flawless as any fiction could be.\" This volume is the companion to the BBC television series, a lavish production aired on the Arts and Entertainment Network.   \n",
       "279                                                                                                                                                                                                                                                                                                                                                                                                                                                                                                                                                                                                                                            In 1986 two young English scholars stumble upon a remarkable discovery: a hitherto unsuspected relationship between the Browningesque 19th century poet Randolph Henry Ash, and his contemporary Christabel LaMotte. Their research reveals uncanny parallels with their own lives and culminates in the exhumation of a poet's corpse.   \n",
       "2502                                                                                                                                                                                                                                                                                                                                                                                                                                                                                                                                                                                                                                                               An elderly lady suspected of murder in the sleepy village of Wychwood dies--another victim of an unseen hand. Since too many accidents and unexplained deaths have occurred, even for a town with a history of witchcraft, policeman Luke Fitzwilliam vows to discover the reason--and finds a very cunning killer.   \n",
       "2693                                                                                                                                                                                                                                                                                                                                                                                                                                                                                                                                                                                                                                                                                                                                                                                                        Captain Kirk and the crew of the Enterprise struggle against an unknown deadly enemy after a mysterious attack cripples the starship and leaves Dr. McCoy without a memory   \n",
       "4654                                                                                                                                                                                                                                                                                                                                                           It's America in 1962. Slavery is legal once again. the few Jews who still survive hide under assumed names. In San Francisco the I Ching is as common as the Yellow Pages. All because some 20 years earlier the United States lost a war--and is now occupied jointly by Nazi Germany and Japan. This harrowing, Hugo Award-winning novel is the work that established Philip K. Dick as an innovator in science fiction while breaking the barrier between science fiction and the serious novel of ideas. In it Dick offers a haunting vision of history as a nightmare from which it may just be possible to awake.   \n",
       "...                                                                                                                                                                                                                                                                                                                                                                                                                                                                                                                                                                                                                                                                                                                                                                                                                                                                                                                                                                                ...   \n",
       "180426                                                                                                                                                                                                                                                                                                                                                                                                                                                                                                                                                                                                                                                                                                                                                                                      This legendary masterpiece--the most successful of Robbins's many books--tells a story of money and power, sex and death, and is available once again in an exciting new package. Reissue.   \n",
       "180689                                                                                                                                                                                                                                                                                                                                                                                                                                                                                                                                                                                                                                                                                                                                                                                                                                                                          Lucy becomes entangled in a mystery when her desire to meet John Gale the actor is hindered by his son   \n",
       "180754                                                                                                                                                                                                                                                                                                                                        This is a unique eye-witness account of the most written about disaster of the 20th century. Joining the Royal Mail Line in 1908, Violet Jessop spent her entire career at sea, travelling on more than 200 voyages. She was a stewardess for the first-class passengers on the Titanic when it sank on its maiden voyage in April 1912 after hitting an iceberg. Her description of the sinking is chilling as she sees to the needs of the passengers before finding a warm coat for herself. Four years later, she was a wartime nurse aboard the hospital ship Britannic when it struck a mine and sank to the bottom of the Aegean.   \n",
       "181148                                                                                                                                                                                                                                                                                                                                                                                                                                                                                                                                                                                                                                                                        This boxed set showcases the first four books of this best-selling chapter book series about the Waistband Warrior, and includes a special Captain Underpants Whoopee Cushion. All of the characters from the first four books are featured in Pilkey's new art for the case. Illustrations. Consumable.   \n",
       "182395  A devoted son. A generous friend. A model Army recruit. A gifted entertainer. A beloved hero to millions. This is the Elvis Presly the world knew -- and cherished. Brooding. Violent. Obsessed with death. Strung out. Sexually driven. This is the other side of Elvis -- according to the three men who lived with him through it all -- a man who: * Chamed a beautiful young fan into joining him on a drug binge for two that nearly killed her * Took a group of friends on a 3 A.M. visit to a mortuary to look at corpses and talk about embalming * Hurled a pool cue at a party guest who interrupts his game, injuring her breast * Talked with his bodyguard about a \"hit\" on the man he felt stole his wife Steve Dunleavy has woven together the experiences of three Presley bodyguards who were there partying with him, womanizing with him, worrying with him -- tasting the pleasure and the pains of life with the most fabulous star in showbiz history!   \n",
       "\n",
       "        page_count        categories maturity_rating language  \n",
       "41              -1               NaN      NOT_MATURE       en  \n",
       "279             -1       Biographers      NOT_MATURE       en  \n",
       "2502            -1               NaN      NOT_MATURE       en  \n",
       "2693            -1           Fiction      NOT_MATURE       en  \n",
       "4654            -1               NaN      NOT_MATURE       en  \n",
       "...            ...               ...             ...      ...  \n",
       "180426          -1               NaN      NOT_MATURE       en  \n",
       "180689          -1           Fiction      NOT_MATURE       en  \n",
       "180754          -1               NaN      NOT_MATURE       en  \n",
       "181148          -1  Juvenile Fiction      NOT_MATURE       en  \n",
       "182395          -1             Music      NOT_MATURE       en  \n",
       "\n",
       "[323 rows x 12 columns]"
      ]
     },
     "execution_count": 81,
     "metadata": {},
     "output_type": "execute_result"
    }
   ],
   "source": [
    "#inspecting page_count entries with missing data with the placeholder -1\n",
    "books_data.loc[books_data['page_count'] == -1,:]"
   ]
  },
  {
   "cell_type": "markdown",
   "metadata": {},
   "source": [
    "* There are 323 missing values in page_count."
   ]
  },
  {
   "cell_type": "code",
   "execution_count": 82,
   "metadata": {},
   "outputs": [
    {
     "data": {
      "text/plain": [
       "ISBN                      0\n",
       "Book-Title                0\n",
       "Year-Of-Publication       0\n",
       "Publisher                 0\n",
       "Image-URL-L               1\n",
       "authors                   0\n",
       "published_date           13\n",
       "description               0\n",
       "page_count                0\n",
       "categories             2552\n",
       "maturity_rating           0\n",
       "language                  0\n",
       "dtype: int64"
      ]
     },
     "execution_count": 82,
     "metadata": {},
     "output_type": "execute_result"
    }
   ],
   "source": [
    "books_data.isna().sum()"
   ]
  },
  {
   "cell_type": "code",
   "execution_count": 83,
   "metadata": {},
   "outputs": [],
   "source": [
    "# function to convert column names to lower case\n",
    "def lowercase_column_names(df):\n",
    "    # Get a list of the column names, and convert each one to lower case\n",
    "    lowercase_columns = [x.lower() for x in df.columns]\n",
    "    \n",
    "    # Replace the existing column names with the lower case version\n",
    "    df.columns = lowercase_columns"
   ]
  },
  {
   "cell_type": "code",
   "execution_count": 84,
   "metadata": {},
   "outputs": [],
   "source": [
    "# Convert the column names to lower case\n",
    "lowercase_column_names(books_data)\n"
   ]
  },
  {
   "cell_type": "code",
   "execution_count": 85,
   "metadata": {},
   "outputs": [
    {
     "data": {
      "text/html": [
       "<div>\n",
       "<style scoped>\n",
       "    .dataframe tbody tr th:only-of-type {\n",
       "        vertical-align: middle;\n",
       "    }\n",
       "\n",
       "    .dataframe tbody tr th {\n",
       "        vertical-align: top;\n",
       "    }\n",
       "\n",
       "    .dataframe thead th {\n",
       "        text-align: right;\n",
       "    }\n",
       "</style>\n",
       "<table border=\"1\" class=\"dataframe\">\n",
       "  <thead>\n",
       "    <tr style=\"text-align: right;\">\n",
       "      <th></th>\n",
       "      <th>isbn</th>\n",
       "      <th>book-title</th>\n",
       "      <th>year-of-publication</th>\n",
       "      <th>publisher</th>\n",
       "      <th>image-url-l</th>\n",
       "      <th>authors</th>\n",
       "      <th>published_date</th>\n",
       "      <th>description</th>\n",
       "      <th>page_count</th>\n",
       "      <th>categories</th>\n",
       "      <th>maturity_rating</th>\n",
       "      <th>language</th>\n",
       "    </tr>\n",
       "  </thead>\n",
       "  <tbody>\n",
       "    <tr>\n",
       "      <th>0</th>\n",
       "      <td>0195153448</td>\n",
       "      <td>Classical Mythology</td>\n",
       "      <td>2002</td>\n",
       "      <td>Oxford University Press</td>\n",
       "      <td>http://images.amazon.com/images/P/0195153448.01.LZZZZZZZ.jpg</td>\n",
       "      <td>Mark P. O. Morford', 'Robert J. Lenardon</td>\n",
       "      <td>2003</td>\n",
       "      <td>Provides an introduction to classical myths placing the addressed topics within their historical context, discussion of archaeological evidence as support for mythical events, and how these themes have been portrayed in literature, art, music, and film.</td>\n",
       "      <td>808</td>\n",
       "      <td>Social Science</td>\n",
       "      <td>NOT_MATURE</td>\n",
       "      <td>en</td>\n",
       "    </tr>\n",
       "    <tr>\n",
       "      <th>2</th>\n",
       "      <td>0060973129</td>\n",
       "      <td>Decision in Normandy</td>\n",
       "      <td>1991</td>\n",
       "      <td>HarperPerennial</td>\n",
       "      <td>http://images.amazon.com/images/P/0060973129.01.LZZZZZZZ.jpg</td>\n",
       "      <td>\"Carlo D'Este\"</td>\n",
       "      <td>1991</td>\n",
       "      <td>Here, for the first time in paperback, is an outstanding military history that offers a dramatic new perspective on the Allied campaign that began with the invasion of the D-Day beaches of Normandy. Nationa advertising in Military History.</td>\n",
       "      <td>582</td>\n",
       "      <td>1940-1949</td>\n",
       "      <td>NOT_MATURE</td>\n",
       "      <td>en</td>\n",
       "    </tr>\n",
       "    <tr>\n",
       "      <th>3</th>\n",
       "      <td>0374157065</td>\n",
       "      <td>Flu: The Story of the Great Influenza Pandemic of 1918 and the Search for the Virus That Caused It</td>\n",
       "      <td>1999</td>\n",
       "      <td>Farrar Straus Giroux</td>\n",
       "      <td>http://images.amazon.com/images/P/0374157065.01.LZZZZZZZ.jpg</td>\n",
       "      <td>Gina Bari Kolata</td>\n",
       "      <td>1999</td>\n",
       "      <td>Describes the great flu epidemic of 1918, an outbreak that killed some forty million people worldwide, and discusses the efforts of scientists and public health officials to understand and prevent another lethal pandemic</td>\n",
       "      <td>367</td>\n",
       "      <td>Medical</td>\n",
       "      <td>NOT_MATURE</td>\n",
       "      <td>en</td>\n",
       "    </tr>\n",
       "    <tr>\n",
       "      <th>4</th>\n",
       "      <td>0393045218</td>\n",
       "      <td>The Mummies of Urumchi</td>\n",
       "      <td>1999</td>\n",
       "      <td>W. W. Norton &amp;amp; Company</td>\n",
       "      <td>http://images.amazon.com/images/P/0393045218.01.LZZZZZZZ.jpg</td>\n",
       "      <td>E. J. W. Barber</td>\n",
       "      <td>1999</td>\n",
       "      <td>A look at the incredibly well-preserved ancient mummies found in Western China describes their clothing and appearance, attempts to reconstruct their culture, and speculates about how Caucasians could have found their way to the feet of the Himalayan mountains.</td>\n",
       "      <td>240</td>\n",
       "      <td>Design</td>\n",
       "      <td>NOT_MATURE</td>\n",
       "      <td>en</td>\n",
       "    </tr>\n",
       "    <tr>\n",
       "      <th>5</th>\n",
       "      <td>0399135782</td>\n",
       "      <td>The Kitchen God's Wife</td>\n",
       "      <td>1991</td>\n",
       "      <td>Putnam Pub Group</td>\n",
       "      <td>http://images.amazon.com/images/P/0399135782.01.LZZZZZZZ.jpg</td>\n",
       "      <td>Amy Tan</td>\n",
       "      <td>1991</td>\n",
       "      <td>A Chinese immigrant who is convinced she is dying threatens to celebrate the Chinese New Year by unburdening herself of everybody's hidden truths, thus prompting a series of comic misunderstandings</td>\n",
       "      <td>428</td>\n",
       "      <td>Fiction</td>\n",
       "      <td>NOT_MATURE</td>\n",
       "      <td>en</td>\n",
       "    </tr>\n",
       "  </tbody>\n",
       "</table>\n",
       "</div>"
      ],
      "text/plain": [
       "         isbn  \\\n",
       "0  0195153448   \n",
       "2  0060973129   \n",
       "3  0374157065   \n",
       "4  0393045218   \n",
       "5  0399135782   \n",
       "\n",
       "                                                                                           book-title  \\\n",
       "0                                                                                 Classical Mythology   \n",
       "2                                                                                Decision in Normandy   \n",
       "3  Flu: The Story of the Great Influenza Pandemic of 1918 and the Search for the Virus That Caused It   \n",
       "4                                                                              The Mummies of Urumchi   \n",
       "5                                                                              The Kitchen God's Wife   \n",
       "\n",
       "   year-of-publication                   publisher  \\\n",
       "0                 2002     Oxford University Press   \n",
       "2                 1991             HarperPerennial   \n",
       "3                 1999        Farrar Straus Giroux   \n",
       "4                 1999  W. W. Norton &amp; Company   \n",
       "5                 1991            Putnam Pub Group   \n",
       "\n",
       "                                                    image-url-l  \\\n",
       "0  http://images.amazon.com/images/P/0195153448.01.LZZZZZZZ.jpg   \n",
       "2  http://images.amazon.com/images/P/0060973129.01.LZZZZZZZ.jpg   \n",
       "3  http://images.amazon.com/images/P/0374157065.01.LZZZZZZZ.jpg   \n",
       "4  http://images.amazon.com/images/P/0393045218.01.LZZZZZZZ.jpg   \n",
       "5  http://images.amazon.com/images/P/0399135782.01.LZZZZZZZ.jpg   \n",
       "\n",
       "                                    authors published_date  \\\n",
       "0  Mark P. O. Morford', 'Robert J. Lenardon           2003   \n",
       "2                            \"Carlo D'Este\"           1991   \n",
       "3                          Gina Bari Kolata           1999   \n",
       "4                           E. J. W. Barber           1999   \n",
       "5                                   Amy Tan           1991   \n",
       "\n",
       "                                                                                                                                                                                                                                                             description  \\\n",
       "0          Provides an introduction to classical myths placing the addressed topics within their historical context, discussion of archaeological evidence as support for mythical events, and how these themes have been portrayed in literature, art, music, and film.   \n",
       "2                        Here, for the first time in paperback, is an outstanding military history that offers a dramatic new perspective on the Allied campaign that began with the invasion of the D-Day beaches of Normandy. Nationa advertising in Military History.   \n",
       "3                                           Describes the great flu epidemic of 1918, an outbreak that killed some forty million people worldwide, and discusses the efforts of scientists and public health officials to understand and prevent another lethal pandemic   \n",
       "4  A look at the incredibly well-preserved ancient mummies found in Western China describes their clothing and appearance, attempts to reconstruct their culture, and speculates about how Caucasians could have found their way to the feet of the Himalayan mountains.   \n",
       "5                                                                  A Chinese immigrant who is convinced she is dying threatens to celebrate the Chinese New Year by unburdening herself of everybody's hidden truths, thus prompting a series of comic misunderstandings   \n",
       "\n",
       "   page_count      categories maturity_rating language  \n",
       "0         808  Social Science      NOT_MATURE       en  \n",
       "2         582       1940-1949      NOT_MATURE       en  \n",
       "3         367         Medical      NOT_MATURE       en  \n",
       "4         240          Design      NOT_MATURE       en  \n",
       "5         428         Fiction      NOT_MATURE       en  "
      ]
     },
     "execution_count": 85,
     "metadata": {},
     "output_type": "execute_result"
    }
   ],
   "source": [
    "books_data.head()"
=======
   "execution_count": null,
   "metadata": {},
   "outputs": [],
   "source": [
    "#mr = DescribeData(Merged_Dataset)\n",
    "#print(mr.missing)"
>>>>>>> d0f8729cab551846110b5d564cd8c1227553e163
   ]
  },
  {
   "cell_type": "code",
   "execution_count": null,
   "metadata": {},
   "outputs": [],
   "source": []
  }
 ],
 "metadata": {
  "kernelspec": {
   "display_name": "Python 3",
   "language": "python",
   "name": "python3"
  },
  "language_info": {
   "codemirror_mode": {
    "name": "ipython",
    "version": 3
   },
   "file_extension": ".py",
   "mimetype": "text/x-python",
   "name": "python",
   "nbconvert_exporter": "python",
   "pygments_lexer": "ipython3",
   "version": "3.8.5"
  },
  "vscode": {
   "interpreter": {
    "hash": "eb9a1cfcb3fcd794ed604d243aad9cded6da2afc9012065f3a897ba0af729602"
   }
  }
 },
 "nbformat": 4,
 "nbformat_minor": 2
}
